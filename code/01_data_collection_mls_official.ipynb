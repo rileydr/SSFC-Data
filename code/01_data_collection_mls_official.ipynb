{
 "cells": [
  {
   "cell_type": "markdown",
   "metadata": {},
   "source": [
    "<span style=\"font-family:Trebuchet MS; font-size:2em;\">Capstone | NB1: Data Collection | Scraping Official Team Sites</span>\n",
    "\n",
    "Riley Robertson | DSIR Capstone Project | MLS Analytics: Predicting Game Outcomes"
   ]
  },
  {
   "cell_type": "markdown",
   "metadata": {},
   "source": [
    "---"
   ]
  },
  {
   "cell_type": "markdown",
   "metadata": {},
   "source": [
    "Before hunting down detailed statistics, I wanted to make sure I had solid basic data for each team in the league by scraping from their official sites.   \n",
    "If I wind up with mistakes in this foundational data, at least I know that they were mistakes made by the team or the league itself, rather than being a result of my misplaced trust of an inaccurate third party."
   ]
  },
  {
   "cell_type": "markdown",
   "metadata": {},
   "source": [
    "## Imports"
   ]
  },
  {
   "cell_type": "markdown",
   "metadata": {},
   "source": [
    "I brought in the `requests` and `BeautifulSoup` libraries for scraping the data and then `Pandas` for storing and saving it."
   ]
  },
  {
   "cell_type": "code",
   "execution_count": 2,
   "metadata": {
    "ExecuteTime": {
     "end_time": "2021-05-30T07:34:13.981758Z",
     "start_time": "2021-05-30T07:34:13.144780Z"
    }
   },
   "outputs": [],
   "source": [
    "import requests\n",
    "from bs4 import BeautifulSoup\n",
    "import pandas as pd"
   ]
  },
  {
   "cell_type": "markdown",
   "metadata": {},
   "source": [
    "# Scraping"
   ]
  },
  {
   "cell_type": "markdown",
   "metadata": {},
   "source": [
    "## Strategy"
   ]
  },
  {
   "cell_type": "markdown",
   "metadata": {},
   "source": [
    "To make sure I had working code for collecting the basic info I needed, I started by scraping for a single team and a single season. Once I was confident with my process, I could then expand that to include all seasons for that same team. From there, I'd be able to write a function to look at all teams in the league and collect every season's worth of available data.\n",
    "\n",
    "**Steps**\n",
    "1. One Team, One Season\n",
    "2. One Team, All Seasons\n",
    "3. All Teams, All Seasons"
   ]
  },
  {
   "cell_type": "markdown",
   "metadata": {},
   "source": [
    "## One Team | One Season"
   ]
  },
  {
   "cell_type": "code",
   "execution_count": 3,
   "metadata": {
    "ExecuteTime": {
     "end_time": "2021-05-30T07:34:16.911884Z",
     "start_time": "2021-05-30T07:34:15.968376Z"
    },
    "scrolled": false
   },
   "outputs": [
    {
     "data": {
      "text/html": [
       "<div>\n",
       "<style scoped>\n",
       "    .dataframe tbody tr th:only-of-type {\n",
       "        vertical-align: middle;\n",
       "    }\n",
       "\n",
       "    .dataframe tbody tr th {\n",
       "        vertical-align: top;\n",
       "    }\n",
       "\n",
       "    .dataframe thead th {\n",
       "        text-align: right;\n",
       "    }\n",
       "</style>\n",
       "<table border=\"1\" class=\"dataframe\">\n",
       "  <thead>\n",
       "    <tr style=\"text-align: right;\">\n",
       "      <th></th>\n",
       "      <th>competition</th>\n",
       "      <th>opponent</th>\n",
       "      <th>result</th>\n",
       "      <th>score</th>\n",
       "      <th>type</th>\n",
       "      <th>location</th>\n",
       "      <th>year</th>\n",
       "      <th>weekday</th>\n",
       "      <th>month</th>\n",
       "      <th>day</th>\n",
       "      <th>time</th>\n",
       "      <th>match_id</th>\n",
       "    </tr>\n",
       "  </thead>\n",
       "  <tbody>\n",
       "    <tr>\n",
       "      <th>0</th>\n",
       "      <td>Preseason</td>\n",
       "      <td>Houston Dynamo FC</td>\n",
       "      <td>loss</td>\n",
       "      <td>3-2</td>\n",
       "      <td>H</td>\n",
       "      <td>Kino Sports Complex</td>\n",
       "      <td>2019</td>\n",
       "      <td>Saturday</td>\n",
       "      <td>February</td>\n",
       "      <td>9</td>\n",
       "      <td>5:00PM PT</td>\n",
       "      <td>NaN</td>\n",
       "    </tr>\n",
       "    <tr>\n",
       "      <th>1</th>\n",
       "      <td>Preseason</td>\n",
       "      <td>Portland Timbers</td>\n",
       "      <td>2-1</td>\n",
       "      <td>2-1</td>\n",
       "      <td>A</td>\n",
       "      <td>Kino Sports Complex</td>\n",
       "      <td>2019</td>\n",
       "      <td>Wednesday</td>\n",
       "      <td>February</td>\n",
       "      <td>13</td>\n",
       "      <td>6:00PM PT</td>\n",
       "      <td>NaN</td>\n",
       "    </tr>\n",
       "    <tr>\n",
       "      <th>2</th>\n",
       "      <td>Preseason</td>\n",
       "      <td>FC Dallas</td>\n",
       "      <td>loss</td>\n",
       "      <td>2-1</td>\n",
       "      <td>H</td>\n",
       "      <td>Kino Sports Complex</td>\n",
       "      <td>2019</td>\n",
       "      <td>Saturday</td>\n",
       "      <td>February</td>\n",
       "      <td>16</td>\n",
       "      <td>9:00AM PT</td>\n",
       "      <td>NaN</td>\n",
       "    </tr>\n",
       "    <tr>\n",
       "      <th>3</th>\n",
       "      <td>Preseason</td>\n",
       "      <td>Club Nacional de Football</td>\n",
       "      <td>2-0</td>\n",
       "      <td>2-0</td>\n",
       "      <td>H</td>\n",
       "      <td>Lumen Field, Seattle, Wa</td>\n",
       "      <td>2019</td>\n",
       "      <td>Wednesday</td>\n",
       "      <td>February</td>\n",
       "      <td>20</td>\n",
       "      <td>7:30PM PT</td>\n",
       "      <td>NaN</td>\n",
       "    </tr>\n",
       "    <tr>\n",
       "      <th>4</th>\n",
       "      <td>Preseason</td>\n",
       "      <td>San Jose Earthquakes</td>\n",
       "      <td>2-2</td>\n",
       "      <td>2-2</td>\n",
       "      <td>A</td>\n",
       "      <td>Paypal Park</td>\n",
       "      <td>2019</td>\n",
       "      <td>Saturday</td>\n",
       "      <td>February</td>\n",
       "      <td>23</td>\n",
       "      <td>12:45PM PT</td>\n",
       "      <td>NaN</td>\n",
       "    </tr>\n",
       "  </tbody>\n",
       "</table>\n",
       "</div>"
      ],
      "text/plain": [
       "  competition                   opponent result score type  \\\n",
       "0   Preseason          Houston Dynamo FC   loss   3-2    H   \n",
       "1   Preseason           Portland Timbers    2-1   2-1    A   \n",
       "2   Preseason                  FC Dallas   loss   2-1    H   \n",
       "3   Preseason  Club Nacional de Football    2-0   2-0    H   \n",
       "4   Preseason       San Jose Earthquakes    2-2   2-2    A   \n",
       "\n",
       "                   location  year    weekday     month day        time  \\\n",
       "0       Kino Sports Complex  2019   Saturday  February   9   5:00PM PT   \n",
       "1       Kino Sports Complex  2019  Wednesday  February  13   6:00PM PT   \n",
       "2       Kino Sports Complex  2019   Saturday  February  16   9:00AM PT   \n",
       "3  Lumen Field, Seattle, Wa  2019  Wednesday  February  20   7:30PM PT   \n",
       "4               Paypal Park  2019   Saturday  February  23  12:45PM PT   \n",
       "\n",
       "  match_id  \n",
       "0      NaN  \n",
       "1      NaN  \n",
       "2      NaN  \n",
       "3      NaN  \n",
       "4      NaN  "
      ]
     },
     "execution_count": 3,
     "metadata": {},
     "output_type": "execute_result"
    }
   ],
   "source": [
    "url = 'https://www.soundersfc.com/schedule?month=all&year=2019'\n",
    "res = requests.get(url)\n",
    "soup = BeautifulSoup(res.content, 'lxml')\n",
    "\n",
    "ssfc_matches = []\n",
    "site_code = soup.find_all('article',{'class':'match_item'})\n",
    "match_id = 201901\n",
    "\n",
    "for article in site_code:  \n",
    "    match = {}    \n",
    "    match['competition'] = article.find('span',{'class':'match_competition'}).text\n",
    "    if match['competition'] == 'MLS':\n",
    "        match['match_id'] = f'{match_id}'\n",
    "        match_id += 1\n",
    "    match['opponent'] = article.find('img').attrs['title']\n",
    "    try:\n",
    "        match['result'] = article.find('span',{'class':'match_result'}).text.split(' ')[0].lower()\n",
    "    except:\n",
    "        match['result'] = ''\n",
    "    try:\n",
    "        match['score'] = article.find('span',{'class':'match_result'}).text.split(' ')[-1]\n",
    "    except:    \n",
    "        match['score'] = ''\n",
    "    match['type'] = article.find('span',{'class':'match_home_away'}).text\n",
    "    match['location'] = article.find('div',{'class':'match_info match_location_short'}).text.title()\n",
    "#     match['date'] = article.find('div',{'class':'match_date'}).text\n",
    "    match['year'] = article.find('div',{'class':'match_date'}).text.split(' ')[3]\n",
    "    match['weekday'] = article.find('div',{'class':'match_date'}).text.split(' ')[0][:-1]\n",
    "    match['month'] = article.find('div',{'class':'match_date'}).text.split(' ')[1]\n",
    "    match['day'] = article.find('div',{'class':'match_date'}).text.split(' ')[2][:-1]\n",
    "    try:\n",
    "        match['time'] = article.find('span',{'class':'match_time'}).text\n",
    "    except:\n",
    "        match['time'] = ''\n",
    "        \n",
    "        \n",
    "    ssfc_matches.append(match)\n",
    "    \n",
    "    \n",
    "ssfc_2019 = pd.DataFrame(ssfc_matches)\n",
    "ssfc_2019.head()"
   ]
  },
  {
   "cell_type": "markdown",
   "metadata": {},
   "source": [
    "---"
   ]
  },
  {
   "cell_type": "markdown",
   "metadata": {},
   "source": [
    "## One Team | All Seasons"
   ]
  },
  {
   "cell_type": "code",
   "execution_count": 3,
   "metadata": {
    "ExecuteTime": {
     "end_time": "2021-05-24T10:21:25.032021Z",
     "start_time": "2021-05-24T10:21:03.892615Z"
    }
   },
   "outputs": [
    {
     "data": {
      "text/html": [
       "<div>\n",
       "<style scoped>\n",
       "    .dataframe tbody tr th:only-of-type {\n",
       "        vertical-align: middle;\n",
       "    }\n",
       "\n",
       "    .dataframe tbody tr th {\n",
       "        vertical-align: top;\n",
       "    }\n",
       "\n",
       "    .dataframe thead th {\n",
       "        text-align: right;\n",
       "    }\n",
       "</style>\n",
       "<table border=\"1\" class=\"dataframe\">\n",
       "  <thead>\n",
       "    <tr style=\"text-align: right;\">\n",
       "      <th></th>\n",
       "      <th>competition</th>\n",
       "      <th>opponent</th>\n",
       "      <th>result</th>\n",
       "      <th>score</th>\n",
       "      <th>type</th>\n",
       "      <th>location</th>\n",
       "      <th>year</th>\n",
       "      <th>weekday</th>\n",
       "      <th>month</th>\n",
       "      <th>day</th>\n",
       "      <th>time</th>\n",
       "      <th>match_id</th>\n",
       "    </tr>\n",
       "  </thead>\n",
       "  <tbody>\n",
       "    <tr>\n",
       "      <th>0</th>\n",
       "      <td>Preseason</td>\n",
       "      <td>LA Galaxy</td>\n",
       "      <td>win</td>\n",
       "      <td>3-1</td>\n",
       "      <td>A</td>\n",
       "      <td>Carson, Ca</td>\n",
       "      <td>2009</td>\n",
       "      <td>Monday</td>\n",
       "      <td>February</td>\n",
       "      <td>9</td>\n",
       "      <td>TBD</td>\n",
       "      <td>NaN</td>\n",
       "    </tr>\n",
       "    <tr>\n",
       "      <th>1</th>\n",
       "      <td>Preseason</td>\n",
       "      <td>Shandong Luneng Taishan FC</td>\n",
       "      <td>win</td>\n",
       "      <td>2-0</td>\n",
       "      <td>A</td>\n",
       "      <td>Oxnard, Ca</td>\n",
       "      <td>2009</td>\n",
       "      <td>Tuesday</td>\n",
       "      <td>February</td>\n",
       "      <td>10</td>\n",
       "      <td>TBD</td>\n",
       "      <td>NaN</td>\n",
       "    </tr>\n",
       "    <tr>\n",
       "      <th>2</th>\n",
       "      <td>Preseason</td>\n",
       "      <td>San Jose Earthquakes</td>\n",
       "      <td>loss</td>\n",
       "      <td>3-2</td>\n",
       "      <td>A</td>\n",
       "      <td>San Luis Obispo, Ca</td>\n",
       "      <td>2009</td>\n",
       "      <td>Friday</td>\n",
       "      <td>February</td>\n",
       "      <td>13</td>\n",
       "      <td>TBD</td>\n",
       "      <td>NaN</td>\n",
       "    </tr>\n",
       "    <tr>\n",
       "      <th>3</th>\n",
       "      <td>Preseason</td>\n",
       "      <td>Vancouver Whitecaps FC</td>\n",
       "      <td>win</td>\n",
       "      <td>4-0</td>\n",
       "      <td>H</td>\n",
       "      <td>Seattle, Wa</td>\n",
       "      <td>2009</td>\n",
       "      <td>Sunday</td>\n",
       "      <td>February</td>\n",
       "      <td>22</td>\n",
       "      <td>TBD</td>\n",
       "      <td>NaN</td>\n",
       "    </tr>\n",
       "    <tr>\n",
       "      <th>4</th>\n",
       "      <td>Preseason</td>\n",
       "      <td>Estudiantes de La Plata</td>\n",
       "      <td>win</td>\n",
       "      <td>3-1</td>\n",
       "      <td>A</td>\n",
       "      <td>Argentina</td>\n",
       "      <td>2009</td>\n",
       "      <td>Friday</td>\n",
       "      <td>February</td>\n",
       "      <td>27</td>\n",
       "      <td>TBD</td>\n",
       "      <td>NaN</td>\n",
       "    </tr>\n",
       "    <tr>\n",
       "      <th>...</th>\n",
       "      <td>...</td>\n",
       "      <td>...</td>\n",
       "      <td>...</td>\n",
       "      <td>...</td>\n",
       "      <td>...</td>\n",
       "      <td>...</td>\n",
       "      <td>...</td>\n",
       "      <td>...</td>\n",
       "      <td>...</td>\n",
       "      <td>...</td>\n",
       "      <td>...</td>\n",
       "      <td>...</td>\n",
       "    </tr>\n",
       "    <tr>\n",
       "      <th>574</th>\n",
       "      <td>MLS</td>\n",
       "      <td>San Jose Earthquakes</td>\n",
       "      <td>win</td>\n",
       "      <td>4-1</td>\n",
       "      <td>H</td>\n",
       "      <td>Lumen Field</td>\n",
       "      <td>2020</td>\n",
       "      <td>Sunday</td>\n",
       "      <td>November</td>\n",
       "      <td>8</td>\n",
       "      <td>3:30PM PT</td>\n",
       "      <td>202022</td>\n",
       "    </tr>\n",
       "    <tr>\n",
       "      <th>575</th>\n",
       "      <td>MLS Playoffs</td>\n",
       "      <td>Los Angeles Football Club</td>\n",
       "      <td>win</td>\n",
       "      <td>3-1</td>\n",
       "      <td>H</td>\n",
       "      <td>Lumen Field</td>\n",
       "      <td>2020</td>\n",
       "      <td>Tuesday</td>\n",
       "      <td>November</td>\n",
       "      <td>24</td>\n",
       "      <td>7:30PM PT</td>\n",
       "      <td>NaN</td>\n",
       "    </tr>\n",
       "    <tr>\n",
       "      <th>576</th>\n",
       "      <td>MLS Playoffs</td>\n",
       "      <td>FC Dallas</td>\n",
       "      <td>win</td>\n",
       "      <td>1-0</td>\n",
       "      <td>H</td>\n",
       "      <td>Lumen Field</td>\n",
       "      <td>2020</td>\n",
       "      <td>Tuesday</td>\n",
       "      <td>December</td>\n",
       "      <td>1</td>\n",
       "      <td>6:30PM PT</td>\n",
       "      <td>NaN</td>\n",
       "    </tr>\n",
       "    <tr>\n",
       "      <th>577</th>\n",
       "      <td>MLS Playoffs</td>\n",
       "      <td>Minnesota United FC</td>\n",
       "      <td>win</td>\n",
       "      <td>3-2</td>\n",
       "      <td>H</td>\n",
       "      <td>Lumen Field</td>\n",
       "      <td>2020</td>\n",
       "      <td>Monday</td>\n",
       "      <td>December</td>\n",
       "      <td>7</td>\n",
       "      <td>6:30PM PT</td>\n",
       "      <td>NaN</td>\n",
       "    </tr>\n",
       "    <tr>\n",
       "      <th>578</th>\n",
       "      <td>Cup</td>\n",
       "      <td>Columbus Crew</td>\n",
       "      <td>loss</td>\n",
       "      <td>3-0</td>\n",
       "      <td>A</td>\n",
       "      <td>Historic Crew Stadium</td>\n",
       "      <td>2020</td>\n",
       "      <td>Saturday</td>\n",
       "      <td>December</td>\n",
       "      <td>12</td>\n",
       "      <td>5:30PM PT</td>\n",
       "      <td>NaN</td>\n",
       "    </tr>\n",
       "  </tbody>\n",
       "</table>\n",
       "<p>579 rows × 12 columns</p>\n",
       "</div>"
      ],
      "text/plain": [
       "      competition                    opponent result score type  \\\n",
       "0       Preseason                   LA Galaxy    win   3-1    A   \n",
       "1       Preseason  Shandong Luneng Taishan FC    win   2-0    A   \n",
       "2       Preseason        San Jose Earthquakes   loss   3-2    A   \n",
       "3       Preseason      Vancouver Whitecaps FC    win   4-0    H   \n",
       "4       Preseason     Estudiantes de La Plata    win   3-1    A   \n",
       "..            ...                         ...    ...   ...  ...   \n",
       "574           MLS        San Jose Earthquakes    win   4-1    H   \n",
       "575  MLS Playoffs   Los Angeles Football Club    win   3-1    H   \n",
       "576  MLS Playoffs                   FC Dallas    win   1-0    H   \n",
       "577  MLS Playoffs         Minnesota United FC    win   3-2    H   \n",
       "578           Cup               Columbus Crew   loss   3-0    A   \n",
       "\n",
       "                  location  year   weekday     month day       time match_id  \n",
       "0               Carson, Ca  2009    Monday  February   9        TBD      NaN  \n",
       "1               Oxnard, Ca  2009   Tuesday  February  10        TBD      NaN  \n",
       "2      San Luis Obispo, Ca  2009    Friday  February  13        TBD      NaN  \n",
       "3              Seattle, Wa  2009    Sunday  February  22        TBD      NaN  \n",
       "4                Argentina  2009    Friday  February  27        TBD      NaN  \n",
       "..                     ...   ...       ...       ...  ..        ...      ...  \n",
       "574            Lumen Field  2020    Sunday  November   8  3:30PM PT   202022  \n",
       "575            Lumen Field  2020   Tuesday  November  24  7:30PM PT      NaN  \n",
       "576            Lumen Field  2020   Tuesday  December   1  6:30PM PT      NaN  \n",
       "577            Lumen Field  2020    Monday  December   7  6:30PM PT      NaN  \n",
       "578  Historic Crew Stadium  2020  Saturday  December  12  5:30PM PT      NaN  \n",
       "\n",
       "[579 rows x 12 columns]"
      ]
     },
     "execution_count": 3,
     "metadata": {},
     "output_type": "execute_result"
    }
   ],
   "source": [
    "import pandas as pd\n",
    "import requests\n",
    "import time\n",
    "from bs4 import BeautifulSoup\n",
    "\n",
    "column_names = ['competition', 'opponent', 'result', 'score', 'type', \n",
    "                'location', 'year', 'weekday', 'month', 'day', 'time']\n",
    "\n",
    "ssfc_match_hist = pd.DataFrame(columns=column_names)\n",
    "\n",
    "\n",
    "for year in range(2009,2021):\n",
    "    url = f'https://www.soundersfc.com/schedule?month=all&year={year}'\n",
    "    res = requests.get(url)\n",
    "    time.sleep(1)\n",
    "    soup = BeautifulSoup(res.content, 'lxml')\n",
    "    match_items = soup.find_all('article',{'class':'match_item'})\n",
    "    season = []\n",
    "    match_id = year*100\n",
    "    \n",
    "    for article in match_items:  \n",
    "        match = {}\n",
    "        match['competition'] = article.find('span',{'class':'match_competition'}).text\n",
    "        if match['competition'] == 'MLS':\n",
    "            match['match_id'] = f'{match_id}'\n",
    "            match_id += 1\n",
    "        match['opponent'] = article.find('img').attrs['title']\n",
    "        try:\n",
    "            match['result'] = article.find('span',{'class':'match_result'}).text.split(' ')[0].lower()\n",
    "        except:\n",
    "            match['result'] = ''\n",
    "        try:\n",
    "            match['score'] = article.find('span',{'class':'match_result'}).text.split(' ')[-1]\n",
    "        except:    \n",
    "            match['score'] = ''\n",
    "        match['type'] = article.find('span',{'class':'match_home_away'}).text\n",
    "        match['location'] = article.find('div',{'class':'match_info match_location_short'}).text.title()\n",
    "    #     match['date'] = article.find('div',{'class':'match_date'}).text\n",
    "        match['year'] = article.find('div',{'class':'match_date'}).text.split(' ')[3]\n",
    "        match['weekday'] = article.find('div',{'class':'match_date'}).text.split(' ')[0][:-1]\n",
    "        match['month'] = article.find('div',{'class':'match_date'}).text.split(' ')[1]\n",
    "        match['day'] = article.find('div',{'class':'match_date'}).text.split(' ')[2][:-1]\n",
    "        try:\n",
    "            match['time'] = article.find('span',{'class':'match_time'}).text\n",
    "        except:\n",
    "            match['time'] = ''\n",
    "        season.append(match)\n",
    "    season = pd.DataFrame(season)\n",
    "    \n",
    "    ssfc_match_hist = ssfc_match_hist.append(season, ignore_index=True)\n",
    "ssfc_match_hist"
   ]
  },
  {
   "cell_type": "code",
   "execution_count": 4,
   "metadata": {
    "ExecuteTime": {
     "end_time": "2021-05-24T10:21:25.037193Z",
     "start_time": "2021-05-24T10:21:25.034067Z"
    },
    "scrolled": true
   },
   "outputs": [],
   "source": [
    "# ssfc_match_hist[:50]"
   ]
  },
  {
   "cell_type": "code",
   "execution_count": 5,
   "metadata": {
    "ExecuteTime": {
     "end_time": "2021-05-24T10:21:25.045567Z",
     "start_time": "2021-05-24T10:21:25.041528Z"
    }
   },
   "outputs": [
    {
     "data": {
      "text/plain": [
       "(579, 12)"
      ]
     },
     "execution_count": 5,
     "metadata": {},
     "output_type": "execute_result"
    }
   ],
   "source": [
    "ssfc_match_hist.shape"
   ]
  },
  {
   "cell_type": "code",
   "execution_count": 6,
   "metadata": {
    "ExecuteTime": {
     "end_time": "2021-05-24T10:21:25.054331Z",
     "start_time": "2021-05-24T10:21:25.048928Z"
    },
    "scrolled": true
   },
   "outputs": [
    {
     "data": {
      "text/plain": [
       "MLS             390\n",
       "Preseason        77\n",
       "CCL              38\n",
       "MLS Playoffs     36\n",
       "USOC             32\n",
       "Cup               4\n",
       "US_KO             1\n",
       "ACC               1\n",
       "Name: competition, dtype: int64"
      ]
     },
     "execution_count": 6,
     "metadata": {},
     "output_type": "execute_result"
    }
   ],
   "source": [
    "ssfc_match_hist['competition'].value_counts()"
   ]
  },
  {
   "cell_type": "code",
   "execution_count": 7,
   "metadata": {
    "ExecuteTime": {
     "end_time": "2021-05-24T10:21:25.077062Z",
     "start_time": "2021-05-24T10:21:25.057492Z"
    }
   },
   "outputs": [],
   "source": [
    "ssfc_match_hist.to_csv('../data/output_scraping/ssfc_match_hist.csv')"
   ]
  },
  {
   "cell_type": "markdown",
   "metadata": {
    "heading_collapsed": true
   },
   "source": [
    "## Function"
   ]
  },
  {
   "cell_type": "code",
   "execution_count": 8,
   "metadata": {
    "ExecuteTime": {
     "end_time": "2021-05-24T10:21:25.088323Z",
     "start_time": "2021-05-24T10:21:25.078747Z"
    },
    "hidden": true
   },
   "outputs": [],
   "source": [
    "def get_team_hist(team_domain, team_code, start_year, end_year, filepathname):\n",
    "\n",
    "    import pandas as pd\n",
    "    import requests\n",
    "    import time\n",
    "    from bs4 import BeautifulSoup\n",
    "    \n",
    "    column_names = ['competition', 'opponent', 'result', 'score', 'type', \n",
    "                    'location', 'year', 'weekday', 'month', 'day', 'time']\n",
    "    team_match_hist = pd.DataFrame(columns=column_names)\n",
    "        \n",
    "    for year in range(start_year, end_year + 1):\n",
    "        url = f'https://www.{team_domain}/schedule?month=all&year={year}'\n",
    "        res = requests.get(url)\n",
    "        time.sleep(.5)\n",
    "        soup = BeautifulSoup(res.content, 'lxml')\n",
    "        match_items = soup.find_all('article',{'class':'match_item'})\n",
    "        match_id = year*100+1\n",
    "        season = []\n",
    "\n",
    "        for article in match_items:  \n",
    "            match = {}\n",
    "            match['competition'] = article.find('span',{'class':'match_competition'}).text\n",
    "            if match['competition'] == 'MLS':\n",
    "                match['match_id'] = f'{team_code}{match_id}'\n",
    "                match_id += 1\n",
    "            match['opponent'] = article.find('img').attrs['title']\n",
    "            try:\n",
    "                match['result'] = article.find('span',{'class':'match_result'}).text.split(' ')[0].lower()\n",
    "            except:\n",
    "                match['result'] = ''\n",
    "            try:\n",
    "                match['score'] = article.find('span',{'class':'match_result'}).text.split(' ')[-1]\n",
    "            except:    \n",
    "                match['score'] = ''\n",
    "            match['type'] = article.find('span',{'class':'match_home_away'}).text\n",
    "            match['location'] = article.find('div',{'class':'match_info match_location_short'}).text.title()\n",
    "            match['year'] = article.find('div',{'class':'match_date'}).text.split(' ')[3]\n",
    "            match['weekday'] = article.find('div',{'class':'match_date'}).text.split(' ')[0][:-1]\n",
    "            match['month'] = article.find('div',{'class':'match_date'}).text.split(' ')[1]\n",
    "            match['day'] = article.find('div',{'class':'match_date'}).text.split(' ')[2][:-1]\n",
    "            try:\n",
    "                match['time'] = article.find('span',{'class':'match_time'}).text\n",
    "            except:\n",
    "                match['time'] = ''   \n",
    "            season.append(match)\n",
    "\n",
    "        season = pd.DataFrame(season)\n",
    "        team_match_hist = team_match_hist.append(season, ignore_index=True)\n",
    "        \n",
    "    team_match_hist.to_csv(f'{filepathname}')"
   ]
  },
  {
   "cell_type": "markdown",
   "metadata": {
    "hidden": true
   },
   "source": [
    "Before using the function on all teams, I tested it on the Sounders to see if I would get the same result as I did with the code above."
   ]
  },
  {
   "cell_type": "code",
   "execution_count": 9,
   "metadata": {
    "ExecuteTime": {
     "end_time": "2021-05-24T10:21:33.223055Z",
     "start_time": "2021-05-24T10:21:25.090229Z"
    },
    "hidden": true
   },
   "outputs": [],
   "source": [
    "get_team_hist('soundersfc.com', 'sea', 2009, 2020, '../data/output_scraping/test/function_test_ssfc.csv')"
   ]
  },
  {
   "cell_type": "code",
   "execution_count": 10,
   "metadata": {
    "ExecuteTime": {
     "end_time": "2021-05-24T10:21:33.245353Z",
     "start_time": "2021-05-24T10:21:33.224561Z"
    },
    "hidden": true
   },
   "outputs": [
    {
     "data": {
      "text/html": [
       "<div>\n",
       "<style scoped>\n",
       "    .dataframe tbody tr th:only-of-type {\n",
       "        vertical-align: middle;\n",
       "    }\n",
       "\n",
       "    .dataframe tbody tr th {\n",
       "        vertical-align: top;\n",
       "    }\n",
       "\n",
       "    .dataframe thead th {\n",
       "        text-align: right;\n",
       "    }\n",
       "</style>\n",
       "<table border=\"1\" class=\"dataframe\">\n",
       "  <thead>\n",
       "    <tr style=\"text-align: right;\">\n",
       "      <th></th>\n",
       "      <th>Unnamed: 0</th>\n",
       "      <th>competition</th>\n",
       "      <th>opponent</th>\n",
       "      <th>result</th>\n",
       "      <th>score</th>\n",
       "      <th>type</th>\n",
       "      <th>location</th>\n",
       "      <th>year</th>\n",
       "      <th>weekday</th>\n",
       "      <th>month</th>\n",
       "      <th>day</th>\n",
       "      <th>time</th>\n",
       "      <th>match_id</th>\n",
       "    </tr>\n",
       "  </thead>\n",
       "  <tbody>\n",
       "    <tr>\n",
       "      <th>0</th>\n",
       "      <td>0</td>\n",
       "      <td>Preseason</td>\n",
       "      <td>LA Galaxy</td>\n",
       "      <td>win</td>\n",
       "      <td>3-1</td>\n",
       "      <td>A</td>\n",
       "      <td>Carson, Ca</td>\n",
       "      <td>2009</td>\n",
       "      <td>Monday</td>\n",
       "      <td>February</td>\n",
       "      <td>9</td>\n",
       "      <td>TBD</td>\n",
       "      <td>NaN</td>\n",
       "    </tr>\n",
       "    <tr>\n",
       "      <th>1</th>\n",
       "      <td>1</td>\n",
       "      <td>Preseason</td>\n",
       "      <td>Shandong Luneng Taishan FC</td>\n",
       "      <td>win</td>\n",
       "      <td>2-0</td>\n",
       "      <td>A</td>\n",
       "      <td>Oxnard, Ca</td>\n",
       "      <td>2009</td>\n",
       "      <td>Tuesday</td>\n",
       "      <td>February</td>\n",
       "      <td>10</td>\n",
       "      <td>TBD</td>\n",
       "      <td>NaN</td>\n",
       "    </tr>\n",
       "    <tr>\n",
       "      <th>2</th>\n",
       "      <td>2</td>\n",
       "      <td>Preseason</td>\n",
       "      <td>San Jose Earthquakes</td>\n",
       "      <td>loss</td>\n",
       "      <td>3-2</td>\n",
       "      <td>A</td>\n",
       "      <td>San Luis Obispo, Ca</td>\n",
       "      <td>2009</td>\n",
       "      <td>Friday</td>\n",
       "      <td>February</td>\n",
       "      <td>13</td>\n",
       "      <td>TBD</td>\n",
       "      <td>NaN</td>\n",
       "    </tr>\n",
       "    <tr>\n",
       "      <th>3</th>\n",
       "      <td>3</td>\n",
       "      <td>Preseason</td>\n",
       "      <td>Vancouver Whitecaps FC</td>\n",
       "      <td>win</td>\n",
       "      <td>4-0</td>\n",
       "      <td>H</td>\n",
       "      <td>Seattle, Wa</td>\n",
       "      <td>2009</td>\n",
       "      <td>Sunday</td>\n",
       "      <td>February</td>\n",
       "      <td>22</td>\n",
       "      <td>TBD</td>\n",
       "      <td>NaN</td>\n",
       "    </tr>\n",
       "    <tr>\n",
       "      <th>4</th>\n",
       "      <td>4</td>\n",
       "      <td>Preseason</td>\n",
       "      <td>Estudiantes de La Plata</td>\n",
       "      <td>win</td>\n",
       "      <td>3-1</td>\n",
       "      <td>A</td>\n",
       "      <td>Argentina</td>\n",
       "      <td>2009</td>\n",
       "      <td>Friday</td>\n",
       "      <td>February</td>\n",
       "      <td>27</td>\n",
       "      <td>TBD</td>\n",
       "      <td>NaN</td>\n",
       "    </tr>\n",
       "    <tr>\n",
       "      <th>...</th>\n",
       "      <td>...</td>\n",
       "      <td>...</td>\n",
       "      <td>...</td>\n",
       "      <td>...</td>\n",
       "      <td>...</td>\n",
       "      <td>...</td>\n",
       "      <td>...</td>\n",
       "      <td>...</td>\n",
       "      <td>...</td>\n",
       "      <td>...</td>\n",
       "      <td>...</td>\n",
       "      <td>...</td>\n",
       "      <td>...</td>\n",
       "    </tr>\n",
       "    <tr>\n",
       "      <th>574</th>\n",
       "      <td>574</td>\n",
       "      <td>MLS</td>\n",
       "      <td>San Jose Earthquakes</td>\n",
       "      <td>win</td>\n",
       "      <td>4-1</td>\n",
       "      <td>H</td>\n",
       "      <td>Lumen Field</td>\n",
       "      <td>2020</td>\n",
       "      <td>Sunday</td>\n",
       "      <td>November</td>\n",
       "      <td>8</td>\n",
       "      <td>3:30PM PT</td>\n",
       "      <td>sea202023</td>\n",
       "    </tr>\n",
       "    <tr>\n",
       "      <th>575</th>\n",
       "      <td>575</td>\n",
       "      <td>MLS Playoffs</td>\n",
       "      <td>Los Angeles Football Club</td>\n",
       "      <td>win</td>\n",
       "      <td>3-1</td>\n",
       "      <td>H</td>\n",
       "      <td>Lumen Field</td>\n",
       "      <td>2020</td>\n",
       "      <td>Tuesday</td>\n",
       "      <td>November</td>\n",
       "      <td>24</td>\n",
       "      <td>7:30PM PT</td>\n",
       "      <td>NaN</td>\n",
       "    </tr>\n",
       "    <tr>\n",
       "      <th>576</th>\n",
       "      <td>576</td>\n",
       "      <td>MLS Playoffs</td>\n",
       "      <td>FC Dallas</td>\n",
       "      <td>win</td>\n",
       "      <td>1-0</td>\n",
       "      <td>H</td>\n",
       "      <td>Lumen Field</td>\n",
       "      <td>2020</td>\n",
       "      <td>Tuesday</td>\n",
       "      <td>December</td>\n",
       "      <td>1</td>\n",
       "      <td>6:30PM PT</td>\n",
       "      <td>NaN</td>\n",
       "    </tr>\n",
       "    <tr>\n",
       "      <th>577</th>\n",
       "      <td>577</td>\n",
       "      <td>MLS Playoffs</td>\n",
       "      <td>Minnesota United FC</td>\n",
       "      <td>win</td>\n",
       "      <td>3-2</td>\n",
       "      <td>H</td>\n",
       "      <td>Lumen Field</td>\n",
       "      <td>2020</td>\n",
       "      <td>Monday</td>\n",
       "      <td>December</td>\n",
       "      <td>7</td>\n",
       "      <td>6:30PM PT</td>\n",
       "      <td>NaN</td>\n",
       "    </tr>\n",
       "    <tr>\n",
       "      <th>578</th>\n",
       "      <td>578</td>\n",
       "      <td>Cup</td>\n",
       "      <td>Columbus Crew</td>\n",
       "      <td>loss</td>\n",
       "      <td>3-0</td>\n",
       "      <td>A</td>\n",
       "      <td>Historic Crew Stadium</td>\n",
       "      <td>2020</td>\n",
       "      <td>Saturday</td>\n",
       "      <td>December</td>\n",
       "      <td>12</td>\n",
       "      <td>5:30PM PT</td>\n",
       "      <td>NaN</td>\n",
       "    </tr>\n",
       "  </tbody>\n",
       "</table>\n",
       "<p>579 rows × 13 columns</p>\n",
       "</div>"
      ],
      "text/plain": [
       "     Unnamed: 0   competition                    opponent result score type  \\\n",
       "0             0     Preseason                   LA Galaxy    win   3-1    A   \n",
       "1             1     Preseason  Shandong Luneng Taishan FC    win   2-0    A   \n",
       "2             2     Preseason        San Jose Earthquakes   loss   3-2    A   \n",
       "3             3     Preseason      Vancouver Whitecaps FC    win   4-0    H   \n",
       "4             4     Preseason     Estudiantes de La Plata    win   3-1    A   \n",
       "..          ...           ...                         ...    ...   ...  ...   \n",
       "574         574           MLS        San Jose Earthquakes    win   4-1    H   \n",
       "575         575  MLS Playoffs   Los Angeles Football Club    win   3-1    H   \n",
       "576         576  MLS Playoffs                   FC Dallas    win   1-0    H   \n",
       "577         577  MLS Playoffs         Minnesota United FC    win   3-2    H   \n",
       "578         578           Cup               Columbus Crew   loss   3-0    A   \n",
       "\n",
       "                  location  year   weekday     month  day       time  \\\n",
       "0               Carson, Ca  2009    Monday  February    9        TBD   \n",
       "1               Oxnard, Ca  2009   Tuesday  February   10        TBD   \n",
       "2      San Luis Obispo, Ca  2009    Friday  February   13        TBD   \n",
       "3              Seattle, Wa  2009    Sunday  February   22        TBD   \n",
       "4                Argentina  2009    Friday  February   27        TBD   \n",
       "..                     ...   ...       ...       ...  ...        ...   \n",
       "574            Lumen Field  2020    Sunday  November    8  3:30PM PT   \n",
       "575            Lumen Field  2020   Tuesday  November   24  7:30PM PT   \n",
       "576            Lumen Field  2020   Tuesday  December    1  6:30PM PT   \n",
       "577            Lumen Field  2020    Monday  December    7  6:30PM PT   \n",
       "578  Historic Crew Stadium  2020  Saturday  December   12  5:30PM PT   \n",
       "\n",
       "      match_id  \n",
       "0          NaN  \n",
       "1          NaN  \n",
       "2          NaN  \n",
       "3          NaN  \n",
       "4          NaN  \n",
       "..         ...  \n",
       "574  sea202023  \n",
       "575        NaN  \n",
       "576        NaN  \n",
       "577        NaN  \n",
       "578        NaN  \n",
       "\n",
       "[579 rows x 13 columns]"
      ]
     },
     "execution_count": 10,
     "metadata": {},
     "output_type": "execute_result"
    }
   ],
   "source": [
    "test_team_hist = pd.read_csv('../data/output_scraping/test/function_test_ssfc.csv')\n",
    "test_team_hist"
   ]
  },
  {
   "cell_type": "code",
   "execution_count": 11,
   "metadata": {
    "ExecuteTime": {
     "end_time": "2021-05-24T10:21:33.253670Z",
     "start_time": "2021-05-24T10:21:33.247097Z"
    },
    "hidden": true
   },
   "outputs": [
    {
     "data": {
      "text/plain": [
       "(579, 12)"
      ]
     },
     "execution_count": 11,
     "metadata": {},
     "output_type": "execute_result"
    }
   ],
   "source": [
    "test_team_hist.drop(columns='Unnamed: 0').shape"
   ]
  },
  {
   "cell_type": "code",
   "execution_count": 12,
   "metadata": {
    "ExecuteTime": {
     "end_time": "2021-05-24T10:21:33.261562Z",
     "start_time": "2021-05-24T10:21:33.255953Z"
    },
    "hidden": true
   },
   "outputs": [
    {
     "data": {
      "text/plain": [
       "MLS             390\n",
       "Preseason        77\n",
       "CCL              38\n",
       "MLS Playoffs     36\n",
       "USOC             32\n",
       "Cup               4\n",
       "US_KO             1\n",
       "ACC               1\n",
       "Name: competition, dtype: int64"
      ]
     },
     "execution_count": 12,
     "metadata": {},
     "output_type": "execute_result"
    }
   ],
   "source": [
    "test_team_hist['competition'].value_counts()"
   ]
  },
  {
   "cell_type": "markdown",
   "metadata": {
    "hidden": true
   },
   "source": [
    "The test appears to have been successful. The shape and competition value counts are identical."
   ]
  },
  {
   "cell_type": "markdown",
   "metadata": {
    "hidden": true
   },
   "source": [
    "---"
   ]
  },
  {
   "cell_type": "markdown",
   "metadata": {
    "heading_collapsed": true
   },
   "source": [
    "## All Teams | All Seasons"
   ]
  },
  {
   "cell_type": "markdown",
   "metadata": {
    "hidden": true
   },
   "source": [
    "From https://www.mlssoccer.com/clubs and https://en.wikipedia.org/wiki/Major_League_Soccer, I collected each team's basic information including name, location, year joined, and site info so that I could loop through a list of teams and use the function on each.\n",
    "\n",
    "Unfortunately, not all teams had the same schedule page structure, so the code I wrote to collect historical match data from the Sounders' site wouldn't work for a handful of teams in the league. I created a column (`site_type`), to record which sites these were. Site Type A matches the Sounders' site and Site Type B does not. \n",
    "\n",
    "The B sites have dynamic pages that use scripting (I think javascript) to show different seasons' data without changing the URL. With that being the case, I can't simply adjust URL parameters to get data from different seasons and will have to deal with those separately."
   ]
  },
  {
   "cell_type": "code",
   "execution_count": 13,
   "metadata": {
    "ExecuteTime": {
     "end_time": "2021-05-24T10:21:33.270115Z",
     "start_time": "2021-05-24T10:21:33.263120Z"
    },
    "hidden": true,
    "scrolled": true
   },
   "outputs": [],
   "source": [
    "site_info = pd.read_csv('../data/manual_site_data/mls_site_info.csv')\n",
    "static_site_info = site_info[site_info['site_type'] == 'A'].copy()\n",
    "dynamic_site_info = site_info[site_info['site_type'] == 'B'].copy()"
   ]
  },
  {
   "cell_type": "markdown",
   "metadata": {
    "hidden": true
   },
   "source": [
    "### Teams with Static Match History Pages"
   ]
  },
  {
   "cell_type": "code",
   "execution_count": 14,
   "metadata": {
    "ExecuteTime": {
     "end_time": "2021-05-24T10:21:33.281059Z",
     "start_time": "2021-05-24T10:21:33.275863Z"
    },
    "hidden": true
   },
   "outputs": [
    {
     "data": {
      "text/plain": [
       "(22, 12)"
      ]
     },
     "execution_count": 14,
     "metadata": {},
     "output_type": "execute_result"
    }
   ],
   "source": [
    "static_site_info.shape"
   ]
  },
  {
   "cell_type": "code",
   "execution_count": 15,
   "metadata": {
    "ExecuteTime": {
     "end_time": "2021-05-24T10:21:33.295949Z",
     "start_time": "2021-05-24T10:21:33.283284Z"
    },
    "hidden": true
   },
   "outputs": [
    {
     "data": {
      "text/html": [
       "<div>\n",
       "<style scoped>\n",
       "    .dataframe tbody tr th:only-of-type {\n",
       "        vertical-align: middle;\n",
       "    }\n",
       "\n",
       "    .dataframe tbody tr th {\n",
       "        vertical-align: top;\n",
       "    }\n",
       "\n",
       "    .dataframe thead th {\n",
       "        text-align: right;\n",
       "    }\n",
       "</style>\n",
       "<table border=\"1\" class=\"dataframe\">\n",
       "  <thead>\n",
       "    <tr style=\"text-align: right;\">\n",
       "      <th></th>\n",
       "      <th>team</th>\n",
       "      <th>team_code</th>\n",
       "      <th>joined</th>\n",
       "      <th>city</th>\n",
       "      <th>state</th>\n",
       "      <th>url_base</th>\n",
       "      <th>url_domain</th>\n",
       "      <th>url_schedule</th>\n",
       "      <th>url_team</th>\n",
       "      <th>url_tld</th>\n",
       "      <th>site_type</th>\n",
       "      <th>conf</th>\n",
       "    </tr>\n",
       "  </thead>\n",
       "  <tbody>\n",
       "    <tr>\n",
       "      <th>0</th>\n",
       "      <td>Atlanta United</td>\n",
       "      <td>atl</td>\n",
       "      <td>2017</td>\n",
       "      <td>Atlanta</td>\n",
       "      <td>Georgia</td>\n",
       "      <td>https://www.atlutd.com</td>\n",
       "      <td>atlutd.com</td>\n",
       "      <td>https://www.atlutd.com/schedule</td>\n",
       "      <td>atlutd</td>\n",
       "      <td>.com</td>\n",
       "      <td>A</td>\n",
       "      <td>East</td>\n",
       "    </tr>\n",
       "    <tr>\n",
       "      <th>1</th>\n",
       "      <td>CF Montreal</td>\n",
       "      <td>mtl</td>\n",
       "      <td>2012</td>\n",
       "      <td>Montreal</td>\n",
       "      <td>Quebec</td>\n",
       "      <td>https://www.cfmontreal.com</td>\n",
       "      <td>cfmontreal.com</td>\n",
       "      <td>https://www.cfmontreal.com/schedule</td>\n",
       "      <td>cfmontreal</td>\n",
       "      <td>.com</td>\n",
       "      <td>A</td>\n",
       "      <td>East</td>\n",
       "    </tr>\n",
       "    <tr>\n",
       "      <th>2</th>\n",
       "      <td>Chicago Fire FC</td>\n",
       "      <td>chi</td>\n",
       "      <td>1998</td>\n",
       "      <td>Chicago</td>\n",
       "      <td>Illinois</td>\n",
       "      <td>https://www.chicagofirefc.com</td>\n",
       "      <td>chicagofirefc.com</td>\n",
       "      <td>https://www.chicagofirefc.com/schedule</td>\n",
       "      <td>chicagofirefc</td>\n",
       "      <td>.com</td>\n",
       "      <td>A</td>\n",
       "      <td>East</td>\n",
       "    </tr>\n",
       "    <tr>\n",
       "      <th>3</th>\n",
       "      <td>Columbus Crew</td>\n",
       "      <td>col</td>\n",
       "      <td>1996</td>\n",
       "      <td>Columbus</td>\n",
       "      <td>Ohio</td>\n",
       "      <td>https://www.columbuscrew.com</td>\n",
       "      <td>columbuscrew.com</td>\n",
       "      <td>https://www.columbuscrew.com/schedule</td>\n",
       "      <td>columbuscrew</td>\n",
       "      <td>.com</td>\n",
       "      <td>A</td>\n",
       "      <td>East</td>\n",
       "    </tr>\n",
       "    <tr>\n",
       "      <th>4</th>\n",
       "      <td>D.C. United</td>\n",
       "      <td>dcu</td>\n",
       "      <td>1996</td>\n",
       "      <td>Washington</td>\n",
       "      <td>D.C.</td>\n",
       "      <td>https://www.dcunited.com</td>\n",
       "      <td>dcunited.com</td>\n",
       "      <td>https://www.dcunited.com/schedule</td>\n",
       "      <td>dcunited</td>\n",
       "      <td>.com</td>\n",
       "      <td>A</td>\n",
       "      <td>East</td>\n",
       "    </tr>\n",
       "  </tbody>\n",
       "</table>\n",
       "</div>"
      ],
      "text/plain": [
       "              team team_code  joined        city     state  \\\n",
       "0   Atlanta United       atl    2017     Atlanta   Georgia   \n",
       "1      CF Montreal       mtl    2012    Montreal    Quebec   \n",
       "2  Chicago Fire FC       chi    1998     Chicago  Illinois   \n",
       "3    Columbus Crew       col    1996    Columbus      Ohio   \n",
       "4      D.C. United       dcu    1996  Washington      D.C.   \n",
       "\n",
       "                        url_base         url_domain  \\\n",
       "0         https://www.atlutd.com         atlutd.com   \n",
       "1     https://www.cfmontreal.com     cfmontreal.com   \n",
       "2  https://www.chicagofirefc.com  chicagofirefc.com   \n",
       "3   https://www.columbuscrew.com   columbuscrew.com   \n",
       "4       https://www.dcunited.com       dcunited.com   \n",
       "\n",
       "                             url_schedule       url_team url_tld site_type  \\\n",
       "0         https://www.atlutd.com/schedule         atlutd    .com         A   \n",
       "1     https://www.cfmontreal.com/schedule     cfmontreal    .com         A   \n",
       "2  https://www.chicagofirefc.com/schedule  chicagofirefc    .com         A   \n",
       "3   https://www.columbuscrew.com/schedule   columbuscrew    .com         A   \n",
       "4       https://www.dcunited.com/schedule       dcunited    .com         A   \n",
       "\n",
       "   conf  \n",
       "0  East  \n",
       "1  East  \n",
       "2  East  \n",
       "3  East  \n",
       "4  East  "
      ]
     },
     "execution_count": 15,
     "metadata": {},
     "output_type": "execute_result"
    }
   ],
   "source": [
    "static_site_info.head()"
   ]
  },
  {
   "cell_type": "markdown",
   "metadata": {
    "hidden": true
   },
   "source": [
    "Now that I had the data I needed, I could begin a loop using my function from above to create a csv of all match data for each team."
   ]
  },
  {
   "cell_type": "code",
   "execution_count": 16,
   "metadata": {
    "ExecuteTime": {
     "end_time": "2021-05-24T10:28:19.362392Z",
     "start_time": "2021-05-24T10:21:33.297674Z"
    },
    "hidden": true
   },
   "outputs": [],
   "source": [
    "for index, team in static_site_info.iterrows():\n",
    "    code = team['team_code']\n",
    "    get_team_hist(team['url_domain'], \n",
    "                  code, \n",
    "                  team['joined'], \n",
    "                  2020, \n",
    "                  f'../data/output_scraping/may23-scrape1/{code}-match_hist.csv')\n",
    "    time.sleep(1)"
   ]
  },
  {
   "cell_type": "markdown",
   "metadata": {
    "hidden": true
   },
   "source": [
    "It worked!! It looks like I'm going to need to do some serious QC, but I have a .csv file for each of the 22 teams whose sites are more easily scrape-able."
   ]
  },
  {
   "cell_type": "markdown",
   "metadata": {
    "hidden": true
   },
   "source": [
    "I'm going to read them back in and combine them into one DataFrame to look at them all together."
   ]
  },
  {
   "cell_type": "code",
   "execution_count": 85,
   "metadata": {
    "ExecuteTime": {
     "end_time": "2021-05-24T11:02:47.935025Z",
     "start_time": "2021-05-24T11:02:47.735127Z"
    },
    "hidden": true,
    "scrolled": false
   },
   "outputs": [],
   "source": [
    "mls_matches_columns = ['competition', 'opponent', 'result', 'score', 'type', 'location', 'year',\n",
    "                       'weekday', 'month', 'day', 'time', 'match_id', 'team_code']\n",
    "\n",
    "mls_matches = pd.DataFrame(columns=mls_matches_columns)\n",
    "mls_matches\n",
    "\n",
    "for index, team in static_site_info.iterrows():\n",
    "    code = team['team_code']\n",
    "    if code == 'afc':\n",
    "        continue\n",
    "    match_hist = pd.read_csv(f'../data/output_scraping/may23-scrape1/{code}-match_hist.csv')\n",
    "    match_hist = match_hist.drop(columns=['Unnamed: 0'])   \n",
    "    match_hist['team_code'] = code\n",
    "    mls_matches = mls_matches.append(match_hist)\n",
    "    \n",
    "mls_matches    \n",
    "mls_matches.reset_index(inplace=True)\n",
    "mls_matches.to_csv('../data/output_scraping/may23-scrape1/mls-match_history.csv')"
   ]
  },
  {
   "cell_type": "markdown",
   "metadata": {},
   "source": [
    "# Initial Exploration"
   ]
  },
  {
   "cell_type": "markdown",
   "metadata": {
    "heading_collapsed": true
   },
   "source": [
    "### Unique Scores (All Competitions)"
   ]
  },
  {
   "cell_type": "code",
   "execution_count": 92,
   "metadata": {
    "ExecuteTime": {
     "end_time": "2021-05-24T11:03:26.277489Z",
     "start_time": "2021-05-24T11:03:26.270092Z"
    },
    "hidden": true
   },
   "outputs": [
    {
     "data": {
      "text/plain": [
       "2-1          2089\n",
       "1-0          1893\n",
       "2-0          1293\n",
       "1-1          1094\n",
       "3-1           810\n",
       "             ... \n",
       "1(5)-(6)1       1\n",
       "5-5             1\n",
       "2(3)-(1)2       1\n",
       "2(3)-(5)1       1\n",
       "9-2             1\n",
       "Name: score, Length: 71, dtype: int64"
      ]
     },
     "execution_count": 92,
     "metadata": {},
     "output_type": "execute_result"
    }
   ],
   "source": [
    "allscores = mls_matches['score'].value_counts().copy()\n",
    "allscores"
   ]
  },
  {
   "cell_type": "code",
   "execution_count": 93,
   "metadata": {
    "ExecuteTime": {
     "end_time": "2021-05-24T11:03:33.189024Z",
     "start_time": "2021-05-24T11:03:33.182163Z"
    },
    "hidden": true
   },
   "outputs": [
    {
     "data": {
      "text/html": [
       "<div>\n",
       "<style scoped>\n",
       "    .dataframe tbody tr th:only-of-type {\n",
       "        vertical-align: middle;\n",
       "    }\n",
       "\n",
       "    .dataframe tbody tr th {\n",
       "        vertical-align: top;\n",
       "    }\n",
       "\n",
       "    .dataframe thead th {\n",
       "        text-align: right;\n",
       "    }\n",
       "</style>\n",
       "<table border=\"1\" class=\"dataframe\">\n",
       "  <thead>\n",
       "    <tr style=\"text-align: right;\">\n",
       "      <th></th>\n",
       "      <th>count</th>\n",
       "    </tr>\n",
       "  </thead>\n",
       "  <tbody>\n",
       "    <tr>\n",
       "      <th>2-1</th>\n",
       "      <td>2089</td>\n",
       "    </tr>\n",
       "    <tr>\n",
       "      <th>1-0</th>\n",
       "      <td>1893</td>\n",
       "    </tr>\n",
       "    <tr>\n",
       "      <th>2-0</th>\n",
       "      <td>1293</td>\n",
       "    </tr>\n",
       "    <tr>\n",
       "      <th>1-1</th>\n",
       "      <td>1094</td>\n",
       "    </tr>\n",
       "    <tr>\n",
       "      <th>3-1</th>\n",
       "      <td>810</td>\n",
       "    </tr>\n",
       "    <tr>\n",
       "      <th>...</th>\n",
       "      <td>...</td>\n",
       "    </tr>\n",
       "    <tr>\n",
       "      <th>1(5)-(6)1</th>\n",
       "      <td>1</td>\n",
       "    </tr>\n",
       "    <tr>\n",
       "      <th>5-5</th>\n",
       "      <td>1</td>\n",
       "    </tr>\n",
       "    <tr>\n",
       "      <th>2(3)-(1)2</th>\n",
       "      <td>1</td>\n",
       "    </tr>\n",
       "    <tr>\n",
       "      <th>2(3)-(5)1</th>\n",
       "      <td>1</td>\n",
       "    </tr>\n",
       "    <tr>\n",
       "      <th>9-2</th>\n",
       "      <td>1</td>\n",
       "    </tr>\n",
       "  </tbody>\n",
       "</table>\n",
       "<p>71 rows × 1 columns</p>\n",
       "</div>"
      ],
      "text/plain": [
       "           count\n",
       "2-1         2089\n",
       "1-0         1893\n",
       "2-0         1293\n",
       "1-1         1094\n",
       "3-1          810\n",
       "...          ...\n",
       "1(5)-(6)1      1\n",
       "5-5            1\n",
       "2(3)-(1)2      1\n",
       "2(3)-(5)1      1\n",
       "9-2            1\n",
       "\n",
       "[71 rows x 1 columns]"
      ]
     },
     "execution_count": 93,
     "metadata": {},
     "output_type": "execute_result"
    }
   ],
   "source": [
    "allscores = pd.DataFrame(allscores).rename(axis=1, mapper={'score':'count'})\n",
    "allscores"
   ]
  },
  {
   "cell_type": "code",
   "execution_count": 94,
   "metadata": {
    "ExecuteTime": {
     "end_time": "2021-05-24T11:03:38.577376Z",
     "start_time": "2021-05-24T11:03:38.574489Z"
    },
    "hidden": true
   },
   "outputs": [],
   "source": [
    "allscores.reset_index(inplace=True)"
   ]
  },
  {
   "cell_type": "code",
   "execution_count": 95,
   "metadata": {
    "ExecuteTime": {
     "end_time": "2021-05-24T11:03:40.895535Z",
     "start_time": "2021-05-24T11:03:40.887032Z"
    },
    "hidden": true,
    "scrolled": false
   },
   "outputs": [
    {
     "data": {
      "text/html": [
       "<div>\n",
       "<style scoped>\n",
       "    .dataframe tbody tr th:only-of-type {\n",
       "        vertical-align: middle;\n",
       "    }\n",
       "\n",
       "    .dataframe tbody tr th {\n",
       "        vertical-align: top;\n",
       "    }\n",
       "\n",
       "    .dataframe thead th {\n",
       "        text-align: right;\n",
       "    }\n",
       "</style>\n",
       "<table border=\"1\" class=\"dataframe\">\n",
       "  <thead>\n",
       "    <tr style=\"text-align: right;\">\n",
       "      <th></th>\n",
       "      <th>score</th>\n",
       "      <th>count</th>\n",
       "    </tr>\n",
       "  </thead>\n",
       "  <tbody>\n",
       "    <tr>\n",
       "      <th>0</th>\n",
       "      <td>2-1</td>\n",
       "      <td>2089</td>\n",
       "    </tr>\n",
       "    <tr>\n",
       "      <th>1</th>\n",
       "      <td>1-0</td>\n",
       "      <td>1893</td>\n",
       "    </tr>\n",
       "    <tr>\n",
       "      <th>2</th>\n",
       "      <td>2-0</td>\n",
       "      <td>1293</td>\n",
       "    </tr>\n",
       "    <tr>\n",
       "      <th>3</th>\n",
       "      <td>1-1</td>\n",
       "      <td>1094</td>\n",
       "    </tr>\n",
       "    <tr>\n",
       "      <th>4</th>\n",
       "      <td>3-1</td>\n",
       "      <td>810</td>\n",
       "    </tr>\n",
       "    <tr>\n",
       "      <th>...</th>\n",
       "      <td>...</td>\n",
       "      <td>...</td>\n",
       "    </tr>\n",
       "    <tr>\n",
       "      <th>66</th>\n",
       "      <td>1(5)-(6)1</td>\n",
       "      <td>1</td>\n",
       "    </tr>\n",
       "    <tr>\n",
       "      <th>67</th>\n",
       "      <td>5-5</td>\n",
       "      <td>1</td>\n",
       "    </tr>\n",
       "    <tr>\n",
       "      <th>68</th>\n",
       "      <td>2(3)-(1)2</td>\n",
       "      <td>1</td>\n",
       "    </tr>\n",
       "    <tr>\n",
       "      <th>69</th>\n",
       "      <td>2(3)-(5)1</td>\n",
       "      <td>1</td>\n",
       "    </tr>\n",
       "    <tr>\n",
       "      <th>70</th>\n",
       "      <td>9-2</td>\n",
       "      <td>1</td>\n",
       "    </tr>\n",
       "  </tbody>\n",
       "</table>\n",
       "<p>71 rows × 2 columns</p>\n",
       "</div>"
      ],
      "text/plain": [
       "        score  count\n",
       "0         2-1   2089\n",
       "1         1-0   1893\n",
       "2         2-0   1293\n",
       "3         1-1   1094\n",
       "4         3-1    810\n",
       "..        ...    ...\n",
       "66  1(5)-(6)1      1\n",
       "67        5-5      1\n",
       "68  2(3)-(1)2      1\n",
       "69  2(3)-(5)1      1\n",
       "70        9-2      1\n",
       "\n",
       "[71 rows x 2 columns]"
      ]
     },
     "execution_count": 95,
     "metadata": {},
     "output_type": "execute_result"
    }
   ],
   "source": [
    "allscores = allscores.rename(axis=1, mapper={'index':'score'})\n",
    "allscores"
   ]
  },
  {
   "cell_type": "code",
   "execution_count": 106,
   "metadata": {
    "ExecuteTime": {
     "end_time": "2021-05-24T11:23:24.882466Z",
     "start_time": "2021-05-24T11:23:24.875051Z"
    },
    "hidden": true
   },
   "outputs": [
    {
     "name": "stdout",
     "output_type": "stream",
     "text": [
      "        score  count\n",
      "0   0(1)-(3)0      3\n",
      "1   0(2)-(4)0      2\n",
      "2   0(3)-(1)0      3\n",
      "3   0(3)-(4)0      2\n",
      "4   0(4)-(5)0      1\n",
      "5   0(5)-(6)0      1\n",
      "6         0-0    660\n",
      "7   1(1)-(3)0      2\n",
      "8   1(1)-(4)1      2\n",
      "9   1(2)-(4)1      3\n",
      "10  1(3)-(1)0      1\n",
      "11  1(3)-(2)1      2\n",
      "12  1(3)-(4)1      3\n",
      "13  1(3)-(5)1      3\n",
      "14  1(4)-(1)1      2\n",
      "15  1(4)-(2)1      3\n",
      "16  1(4)-(3)1      4\n",
      "17  1(5)-(4)1      5\n",
      "18  1(5)-(6)1      1\n",
      "19  1(6)-(5)1      2\n",
      "20  1(6)-(7)1      2\n",
      "21  1(7)-(6)1      1\n",
      "22  1(7)-(8)1      2\n",
      "23        1-0   1893\n",
      "24        1-1   1094\n",
      "25  2(2)-(3)2      2\n",
      "26  2(2)-(4)2      1\n",
      "27  2(3)-(1)2      1\n",
      "28  2(3)-(4)1      1\n",
      "29  2(3)-(4)2      3\n",
      "30  2(3)-(5)1      1\n",
      "31  2(4)-(2)1      3\n",
      "32  2(4)-(3)2      1\n",
      "33  2(4)-(5)2      1\n",
      "34  2(6)-(5)2      3\n",
      "         score  count\n",
      "35   2(7)-(6)2      2\n",
      "36  2(9)-(10)2      1\n",
      "37         2-0   1293\n",
      "38         2-1   2089\n",
      "39         2-2    589\n",
      "40   3(2)-(4)2      2\n",
      "41   3(3)-(4)3      1\n",
      "42   3(4)-(3)3      1\n",
      "43   3(5)-(4)3      1\n",
      "44   3(7)-(6)3      1\n",
      "45         3-0    660\n",
      "46         3-1    810\n",
      "47         3-2    747\n",
      "48         3-3    125\n",
      "49         4-0    278\n",
      "50         4-1    317\n",
      "51         4-2    201\n",
      "52         4-3    138\n",
      "53         4-4     19\n",
      "54         5-0     77\n",
      "55         5-1     96\n",
      "56         5-2     80\n",
      "57         5-3     26\n",
      "58         5-4      8\n",
      "59         5-5      1\n",
      "60         6-0     22\n",
      "61         6-1     29\n",
      "62         6-2     25\n",
      "63         6-3      6\n",
      "64         6-4      6\n",
      "65         7-0      7\n",
      "66         7-1      6\n",
      "67         7-2      2\n",
      "68         7-4      1\n",
      "69         8-1      2\n",
      "70         9-2      1\n"
     ]
    }
   ],
   "source": [
    "print(allscores.sort_values(by='score').reset_index(drop=True)[:35])\n",
    "print(allscores.sort_values(by='score').reset_index(drop=True)[35:])"
   ]
  },
  {
   "cell_type": "markdown",
   "metadata": {
    "heading_collapsed": true
   },
   "source": [
    "### Count of Matches vs Expected Count of Matches"
   ]
  },
  {
   "cell_type": "markdown",
   "metadata": {
    "hidden": true
   },
   "source": []
  },
  {
   "cell_type": "code",
   "execution_count": 19,
   "metadata": {
    "ExecuteTime": {
     "end_time": "2021-05-24T10:29:33.771894Z",
     "start_time": "2021-05-24T10:29:33.599302Z"
    },
    "hidden": true
   },
   "outputs": [
    {
     "data": {
      "text/html": [
       "<div>\n",
       "<style scoped>\n",
       "    .dataframe tbody tr th:only-of-type {\n",
       "        vertical-align: middle;\n",
       "    }\n",
       "\n",
       "    .dataframe tbody tr th {\n",
       "        vertical-align: top;\n",
       "    }\n",
       "\n",
       "    .dataframe thead th {\n",
       "        text-align: right;\n",
       "    }\n",
       "</style>\n",
       "<table border=\"1\" class=\"dataframe\">\n",
       "  <thead>\n",
       "    <tr style=\"text-align: right;\">\n",
       "      <th></th>\n",
       "      <th>team</th>\n",
       "      <th>match_count</th>\n",
       "      <th>seasons</th>\n",
       "      <th>xGP</th>\n",
       "      <th>diff</th>\n",
       "    </tr>\n",
       "  </thead>\n",
       "  <tbody>\n",
       "    <tr>\n",
       "      <th>0</th>\n",
       "      <td>atl</td>\n",
       "      <td>125</td>\n",
       "      <td>4</td>\n",
       "      <td>128</td>\n",
       "      <td>3</td>\n",
       "    </tr>\n",
       "    <tr>\n",
       "      <th>1</th>\n",
       "      <td>mtl</td>\n",
       "      <td>193</td>\n",
       "      <td>9</td>\n",
       "      <td>288</td>\n",
       "      <td>95</td>\n",
       "    </tr>\n",
       "    <tr>\n",
       "      <th>2</th>\n",
       "      <td>chi</td>\n",
       "      <td>720</td>\n",
       "      <td>23</td>\n",
       "      <td>736</td>\n",
       "      <td>16</td>\n",
       "    </tr>\n",
       "    <tr>\n",
       "      <th>3</th>\n",
       "      <td>col</td>\n",
       "      <td>783</td>\n",
       "      <td>25</td>\n",
       "      <td>800</td>\n",
       "      <td>17</td>\n",
       "    </tr>\n",
       "    <tr>\n",
       "      <th>4</th>\n",
       "      <td>dcu</td>\n",
       "      <td>787</td>\n",
       "      <td>25</td>\n",
       "      <td>800</td>\n",
       "      <td>13</td>\n",
       "    </tr>\n",
       "    <tr>\n",
       "      <th>5</th>\n",
       "      <td>cin</td>\n",
       "      <td>57</td>\n",
       "      <td>2</td>\n",
       "      <td>64</td>\n",
       "      <td>7</td>\n",
       "    </tr>\n",
       "    <tr>\n",
       "      <th>6</th>\n",
       "      <td>mia</td>\n",
       "      <td>24</td>\n",
       "      <td>1</td>\n",
       "      <td>32</td>\n",
       "      <td>8</td>\n",
       "    </tr>\n",
       "    <tr>\n",
       "      <th>7</th>\n",
       "      <td>ner</td>\n",
       "      <td>789</td>\n",
       "      <td>25</td>\n",
       "      <td>800</td>\n",
       "      <td>11</td>\n",
       "    </tr>\n",
       "    <tr>\n",
       "      <th>8</th>\n",
       "      <td>nyc</td>\n",
       "      <td>193</td>\n",
       "      <td>6</td>\n",
       "      <td>192</td>\n",
       "      <td>-1</td>\n",
       "    </tr>\n",
       "    <tr>\n",
       "      <th>9</th>\n",
       "      <td>orl</td>\n",
       "      <td>191</td>\n",
       "      <td>6</td>\n",
       "      <td>192</td>\n",
       "      <td>1</td>\n",
       "    </tr>\n",
       "    <tr>\n",
       "      <th>10</th>\n",
       "      <td>tfc</td>\n",
       "      <td>449</td>\n",
       "      <td>14</td>\n",
       "      <td>448</td>\n",
       "      <td>-1</td>\n",
       "    </tr>\n",
       "    <tr>\n",
       "      <th>11</th>\n",
       "      <td>fcd</td>\n",
       "      <td>790</td>\n",
       "      <td>25</td>\n",
       "      <td>800</td>\n",
       "      <td>10</td>\n",
       "    </tr>\n",
       "    <tr>\n",
       "      <th>12</th>\n",
       "      <td>hou</td>\n",
       "      <td>481</td>\n",
       "      <td>15</td>\n",
       "      <td>480</td>\n",
       "      <td>-1</td>\n",
       "    </tr>\n",
       "    <tr>\n",
       "      <th>13</th>\n",
       "      <td>lag</td>\n",
       "      <td>786</td>\n",
       "      <td>25</td>\n",
       "      <td>800</td>\n",
       "      <td>14</td>\n",
       "    </tr>\n",
       "    <tr>\n",
       "      <th>14</th>\n",
       "      <td>min</td>\n",
       "      <td>124</td>\n",
       "      <td>4</td>\n",
       "      <td>128</td>\n",
       "      <td>4</td>\n",
       "    </tr>\n",
       "    <tr>\n",
       "      <th>15</th>\n",
       "      <td>ptx</td>\n",
       "      <td>317</td>\n",
       "      <td>10</td>\n",
       "      <td>320</td>\n",
       "      <td>3</td>\n",
       "    </tr>\n",
       "    <tr>\n",
       "      <th>16</th>\n",
       "      <td>rsl</td>\n",
       "      <td>479</td>\n",
       "      <td>16</td>\n",
       "      <td>512</td>\n",
       "      <td>33</td>\n",
       "    </tr>\n",
       "    <tr>\n",
       "      <th>17</th>\n",
       "      <td>sje</td>\n",
       "      <td>727</td>\n",
       "      <td>25</td>\n",
       "      <td>800</td>\n",
       "      <td>73</td>\n",
       "    </tr>\n",
       "    <tr>\n",
       "      <th>18</th>\n",
       "      <td>sea</td>\n",
       "      <td>390</td>\n",
       "      <td>12</td>\n",
       "      <td>384</td>\n",
       "      <td>-6</td>\n",
       "    </tr>\n",
       "    <tr>\n",
       "      <th>19</th>\n",
       "      <td>skc</td>\n",
       "      <td>787</td>\n",
       "      <td>25</td>\n",
       "      <td>800</td>\n",
       "      <td>13</td>\n",
       "    </tr>\n",
       "    <tr>\n",
       "      <th>20</th>\n",
       "      <td>van</td>\n",
       "      <td>329</td>\n",
       "      <td>10</td>\n",
       "      <td>320</td>\n",
       "      <td>-9</td>\n",
       "    </tr>\n",
       "  </tbody>\n",
       "</table>\n",
       "</div>"
      ],
      "text/plain": [
       "   team  match_count  seasons  xGP  diff\n",
       "0   atl          125        4  128     3\n",
       "1   mtl          193        9  288    95\n",
       "2   chi          720       23  736    16\n",
       "3   col          783       25  800    17\n",
       "4   dcu          787       25  800    13\n",
       "5   cin           57        2   64     7\n",
       "6   mia           24        1   32     8\n",
       "7   ner          789       25  800    11\n",
       "8   nyc          193        6  192    -1\n",
       "9   orl          191        6  192     1\n",
       "10  tfc          449       14  448    -1\n",
       "11  fcd          790       25  800    10\n",
       "12  hou          481       15  480    -1\n",
       "13  lag          786       25  800    14\n",
       "14  min          124        4  128     4\n",
       "15  ptx          317       10  320     3\n",
       "16  rsl          479       16  512    33\n",
       "17  sje          727       25  800    73\n",
       "18  sea          390       12  384    -6\n",
       "19  skc          787       25  800    13\n",
       "20  van          329       10  320    -9"
      ]
     },
     "execution_count": 19,
     "metadata": {},
     "output_type": "execute_result"
    }
   ],
   "source": [
    "mls_matches_columns = ['competition', 'opponent', 'result', 'score', 'type', 'location', \n",
    "                       'year', 'weekday', 'month', 'day', 'time', 'location', 'match_id', 'team_code']\n",
    "\n",
    "mls_matches = pd.DataFrame(columns=mls_matches_columns)\n",
    "mls_matches\n",
    "\n",
    "expected_matches = []\n",
    "\n",
    "for index, team in static_site_info.iterrows():\n",
    "    code = teamteam_code']\n",
    "    if code == 'afc':\n",
    "        continue\n",
    "    match_hist = pd.read_csv(f'../data/output_scraping/may23-scrape1/{code}-match_hist.csv')\n",
    "    match_hist = match_hist.drop(columns=['Unnamed: 0'])   \n",
    "    match_hist['team_code'] = code\n",
    "    match_hist = match_hist.dropna(subset=['match_id'])\n",
    "    \n",
    "    t = {}\n",
    "    t['team'] = code\n",
    "    t['match_count'] = len(match_hist)\n",
    "    t['seasons'] = (2021-int(team['joined']))\n",
    "    t['xGP'] = ((2021-int(team['joined']))*32)\n",
    "    t['diff'] = t['xGP']-t['match_count']\n",
    "    expected_matches.append(t)\n",
    "\n",
    "pd.DataFrame(expected_matches)    "
   ]
  },
  {
   "cell_type": "code",
   "execution_count": null,
   "metadata": {
    "hidden": true
   },
   "outputs": [],
   "source": []
  }
 ],
 "metadata": {
  "kernelspec": {
   "display_name": "Python 3",
   "language": "python",
   "name": "python3"
  },
  "language_info": {
   "codemirror_mode": {
    "name": "ipython",
    "version": 3
   },
   "file_extension": ".py",
   "mimetype": "text/x-python",
   "name": "python",
   "nbconvert_exporter": "python",
   "pygments_lexer": "ipython3",
   "version": "3.8.5"
  },
  "toc": {
   "base_numbering": 1,
   "nav_menu": {},
   "number_sections": false,
   "sideBar": true,
   "skip_h1_title": false,
   "title_cell": "Table of Contents",
   "title_sidebar": "Contents",
   "toc_cell": false,
   "toc_position": {
    "height": "calc(100% - 180px)",
    "left": "10px",
    "top": "150px",
    "width": "274.46875px"
   },
   "toc_section_display": true,
   "toc_window_display": true
  },
  "varInspector": {
   "cols": {
    "lenName": 16,
    "lenType": 16,
    "lenVar": 40
   },
   "kernels_config": {
    "python": {
     "delete_cmd_postfix": "",
     "delete_cmd_prefix": "del ",
     "library": "var_list.py",
     "varRefreshCmd": "print(var_dic_list())"
    },
    "r": {
     "delete_cmd_postfix": ") ",
     "delete_cmd_prefix": "rm(",
     "library": "var_list.r",
     "varRefreshCmd": "cat(var_dic_list()) "
    }
   },
   "types_to_exclude": [
    "module",
    "function",
    "builtin_function_or_method",
    "instance",
    "_Feature"
   ],
   "window_display": false
  }
 },
 "nbformat": 4,
 "nbformat_minor": 4
}

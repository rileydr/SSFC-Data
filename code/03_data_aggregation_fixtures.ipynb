{
 "cells": [
  {
   "cell_type": "markdown",
   "metadata": {},
   "source": [
    "## Aggregating Fixture JSONS\n"
   ]
  },
  {
   "cell_type": "code",
   "execution_count": 1,
   "metadata": {
    "ExecuteTime": {
     "end_time": "2021-05-29T04:41:43.562807Z",
     "start_time": "2021-05-29T04:41:33.864685Z"
    }
   },
   "outputs": [],
   "source": [
    "import json\n",
    "import pandas as pd\n",
    "import utilities.densmore_v3 as dns"
   ]
  },
  {
   "cell_type": "code",
   "execution_count": null,
   "metadata": {},
   "outputs": [],
   "source": [
    "with open('../data/output_api_raw/fixtures/fixtures2019.json') as f:\n",
    "    fixtures_2019 = json.load(f)"
   ]
  },
  {
   "cell_type": "code",
   "execution_count": null,
   "metadata": {},
   "outputs": [],
   "source": [
    "fixture_test = fixtures_2019['response'][0]\n",
    "fixture_test"
   ]
  },
  {
   "cell_type": "markdown",
   "metadata": {},
   "source": [
    "In order to determine how to process these data, I'm going to work with a single match JSON and make decisions about what columns I'm going to keep, how I'll name them, sort them, etc. Once I have that built, I can scale up and run all fixtures through it to create a fixtures Dataframe for each year and then ultimately for all years (2016-2020)."
   ]
  },
  {
   "cell_type": "code",
   "execution_count": null,
   "metadata": {},
   "outputs": [],
   "source": [
    "test = pd.json_normalize(fixture_test)\n",
    "\n",
    "test"
   ]
  },
  {
   "cell_type": "code",
   "execution_count": null,
   "metadata": {
    "scrolled": true
   },
   "outputs": [],
   "source": [
    "fx_columns = test.columns\n",
    "fx_columns"
   ]
  },
  {
   "cell_type": "markdown",
   "metadata": {},
   "source": [
    "#### Translation table"
   ]
  },
  {
   "cell_type": "markdown",
   "metadata": {},
   "source": [
    "<table>\n",
    "     <colgroup>\n",
    "    <col span=\"10\" >\n",
    "    <col>\n",
    "  </colgroup> \n",
    "    \n",
    "<tr> \n",
    "\n",
    "</tr>\n",
    "<tr>\n",
    "    \n",
    "<td>\n",
    "\n",
    "\n",
    "| Name      | Abbreviation |\n",
    "|:----------|:-------------|\n",
    "| fixture   | fx           |\n",
    "| league    | lg           |\n",
    "| teams     | tm           |\n",
    "| goals     | gl           |\n",
    "| score     | sc           |\n",
    "| periods   | per          |\n",
    "| venue     | ven          |\n",
    "| status    | sts          |\n",
    "    \n",
    "    \n",
    "</td>\n",
    "<td>\n",
    "    \n",
    "\n",
    "| Name      | Abbreviation |\n",
    "|:----------|:-------------|    \n",
    "| home      | h            |\n",
    "| away      | a            |\n",
    "| halftime  | ht           |\n",
    "| fulltime  | ft           |\n",
    "| extratime | et           |\n",
    "| penalty   | pen          |\n",
    "| id        | id           |\n",
    "| referee   | ref          |\n",
    "    \n",
    "</td>\n",
    "<td>\n",
    "    \n",
    "    \n",
    "| Name       | Abbreviation |\n",
    "|:-----------|:-------------|\n",
    "| timezone   | tz           |\n",
    "| date       | dt           |\n",
    "| timestamp  | ts           |\n",
    "| first      | fst          |\n",
    "| second     | sec          |\n",
    "| name       | nm           |\n",
    "| city       | city         |\n",
    "| long       | long         |\n",
    "    \n",
    "    \n",
    "</td>\n",
    "<td>\n",
    "    \n",
    "    \n",
    "| Name       | Abbreviation |\n",
    "|:-----------|:-------------|    \n",
    "| short      | shrt         |\n",
    "| elapsed    | elps         |\n",
    "| country    | ctry         |\n",
    "| logo       | logo         |\n",
    "| flag       | flag         |\n",
    "| season     | seas         |\n",
    "| round      | rnd          |\n",
    "| winner     | win          |\n",
    "    \n",
    "    \n",
    "</td></tr> \n",
    "\n",
    "</table>\n",
    "\n",
    "\n",
    "\n",
    "\n",
    "\n",
    "\n",
    "<!---\n",
    "\n",
    "<table>\n",
    "<tr> \n",
    "<th>  </th> <th>  </th>\n",
    "</tr>\n",
    "<tr>\n",
    "    \n",
    "<td>\n",
    "    \n",
    "    \n",
    "|  full                  |     |  tier 1 |     |  tier 2 |     |  end       |\n",
    "|:-----------------------|:---:|:--------|:---:|:--------|:---:|:-----------|\n",
    "| fixture.id             | -> | fixture | -> |         | -> | id         |\n",
    "| fixture.referee        | -> | fixture | -> |         | -> | referee    |\n",
    "| fixture.timezone       | -> | fixture | -> |         | -> | timezone   |\n",
    "| fixture.date           | -> | fixture | -> |         | -> | date       |\n",
    "| fixture.timestamp      | -> | fixture | -> |         | -> | timestamp  |\n",
    "| fixture.periods.first  | -> | fixture | -> | periods | -> | first      |\n",
    "| fixture.periods.second | -> | fixture | -> | periods | -> | second     |\n",
    "| fixture.venue.id       | -> | fixture | -> | venue   | -> | id         |\n",
    "| fixture.venue.name     | -> | fixture | -> | venue   | -> | name       |\n",
    "| fixture.venue.city     | -> | fixture | -> | venue   | -> | city       |\n",
    "| fixture.status.long    | -> | fixture | -> | status  | -> | long       |\n",
    "| fixture.status.short   | -> | fixture | -> | status  | -> | short      |\n",
    "| fixture.status.elapsed | -> | fixture | -> | status  | -> | elapsed    |\n",
    "\n",
    "    \n",
    "|  full           |     |  tier 1 |     |  tier 2 |     |  end     |\n",
    "|:----------------|:---:|:--------|:---:|:--------|:---:|:---------|   \n",
    "| league.id       | -> | league  | -> |         | -> | id       |\n",
    "| league.name     | -> | league  | -> |         | -> | name     |\n",
    "| league.country  | -> | league  | -> |         | -> | country  |\n",
    "| league.logo     | -> | league  | -> |         | -> | logo     |\n",
    "| league.flag     | -> | league  | -> |         | -> | flag     |\n",
    "| league.season   | -> | league  | -> |         | -> | season   |\n",
    "| league.round    | -> | league  | -> |         | -> | round    |\n",
    "    \n",
    "    \n",
    "</td>\n",
    "    \n",
    "<td>\n",
    "    \n",
    "|  full              |     |  tier 1 |     |  tier 2 |     |  end    |\n",
    "|:-------------------|:---:|:--------|:---:|:--------|:---:|:--------|\n",
    "| teams.home.id      | -> | teams   | -> | home    | -> | id      |\n",
    "| teams.home.name    | -> | teams   | -> | home    | -> | name    |\n",
    "| teams.home.logo    | -> | teams   | -> | home    | -> | logo    |\n",
    "| teams.home.winner  | -> | teams   | -> | home    | -> | winner  |\n",
    "| teams.away.id      | -> | teams   | -> | away    | -> | id      |\n",
    "| teams.away.name    | -> | teams   | -> | away    | -> | name    |\n",
    "| teams.away.logo    | -> | teams   | -> | away    | -> | logo    |\n",
    "| teams.away.winner  | -> | teams   | -> | away    | -> | winner  |\n",
    "    \n",
    "\n",
    "|  full       |     |  tier 1 |     |  tier 2 |     |  end  |\n",
    "|:------------|:---:|:--------|:---:|:--------|:---:|:------|\n",
    "| goals.home  | -> | goals   | -> |         | -> | home  |\n",
    "| goals.away  | -> | goals   | -> |         | -> | away  |\n",
    "    \n",
    "    \n",
    "|  full                 |     |  tier 1 |     |  tier 2    |     |  end  |\n",
    "|:----------------------|:---:|:--------|:---:|:-----------|:---:|:------|\n",
    "| score.halftime.home   | -> | score   | -> | halftime   | -> | home  |\n",
    "| score.halftime.away   | -> | score   | -> | halftime   | -> | away  |\n",
    "| score.fulltime.home   | -> | score   | -> | fulltime   | -> | home  |\n",
    "| score.fulltime.away   | -> | score   | -> | fulltime   | -> | away  |\n",
    "| score.extratime.home  | -> | score   | -> | extratime  | -> | home  |\n",
    "| score.extratime.away  | -> | score   | -> | extratime  | -> | away  |\n",
    "| score.penalty.home    | -> | score   | -> | penalty    | -> | home  |\n",
    "| score.penalty.away    | -> | score   | -> | penalty    | -> | away  |\n",
    "\n",
    "</td></tr> \n",
    "\n",
    "</table>\n",
    "\n",
    "-->"
   ]
  },
  {
   "cell_type": "code",
   "execution_count": null,
   "metadata": {},
   "outputs": [],
   "source": [
    "fx_col_names = {\n",
    "'fixture.id': 'fx_id', \n",
    "'fixture.referee': 'fx_ref', \n",
    "'fixture.timezone': 'fx_tz',\n",
    "'fixture.date': 'fx_date',\n",
    "'fixture.timestamp': 'fx_time',\n",
    "'fixture.periods.first': 'fx_per_fst', \n",
    "'fixture.periods.second': 'fx_per_sec',\n",
    "'fixture.venue.id': 'fx_ven_id', \n",
    "'fixture.venue.name': 'fx_ven_name', \n",
    "'fixture.venue.city': 'fx_ven_city',\n",
    "'fixture.status.long': 'fx_sts_long', \n",
    "'fixture.status.short': 'fx_sts_shrt', \n",
    "'fixture.status.elapsed': 'fx_sts_elps',\n",
    "\n",
    "'league.id': 'lg_id', \n",
    "'league.name': 'lg_name', \n",
    "'league.country': 'lg_ctry', \n",
    "'league.logo': 'lg_logo',\n",
    "'league.flag': 'lg_flag', \n",
    "'league.season': 'lg_seas', \n",
    "'league.round': 'lg_rnd',\n",
    "\n",
    "'teams.home.id': 'tm_h_id',\n",
    "'teams.home.name': 'tm_h_name', \n",
    "'teams.home.logo': 'tm_h_logo', \n",
    "'teams.home.winner': 'tm_h_win',\n",
    "'teams.away.id': 'tm_a_id', \n",
    "'teams.away.name': 'tm_a_name', \n",
    "'teams.away.logo': 'tm_a_logo',\n",
    "'teams.away.winner': 'tm_a_win', \n",
    "\n",
    "'goals.home': 'gl_h',\n",
    "'goals.away': 'gl_a',\n",
    "\n",
    "'score.halftime.home': 'sc_ht_h',\n",
    "'score.halftime.away': 'sc_ht_a', \n",
    "'score.fulltime.home': 'sc_ft_h', \n",
    "'score.fulltime.away': 'sc_ft_a',\n",
    "'score.extratime.home': 'sc_et_h', \n",
    "'score.extratime.away': 'sc_et_a', \n",
    "'score.penalty.home': 'sc_pen_h',\n",
    "'score.penalty.away': 'sc_pen_a'\n",
    "}"
   ]
  },
  {
   "cell_type": "code",
   "execution_count": null,
   "metadata": {},
   "outputs": [],
   "source": [
    "import json\n",
    "import pandas as pd\n",
    "\n",
    "all_fixtures = pd.DataFrame()\n",
    "\n",
    "for i in range(2012,2022,1):\n",
    "    \n",
    "    season_json = f'fixtures{i}.json'\n",
    "    with open(f'../data/output_api_raw/{season_json}') as f:\n",
    "        season = json.load(f)    \n",
    "    print(f'Processing {season_json}...')\n",
    "    \n",
    "    # create dataframe to which all other fixtures can be appended\n",
    "    template = pd.json_normalize(season['response'][0]) \n",
    "    renamed = template.rename(mapper = fx_col_names, axis = 1)\n",
    "    fixture_base = pd.DataFrame(columns = renamed.columns)\n",
    "\n",
    "    # process each fixture, renaming column names and appending to base\n",
    "    for fix in season['response']:\n",
    "        new_row = pd.json_normalize(fix)\n",
    "        renamed_row = new_row.rename(mapper = fx_col_names, axis = 1)\n",
    "        fixture_base = fixture_base.append(renamed_row, ignore_index=True)\n",
    "\n",
    "    all_fixtures = all_fixtures.append(fixture_base)\n",
    "\n",
    "    \n",
    "all_fixtures.to_csv('../data/output_aggragated/mls_fixtures_2012_2021.csv', index=False)\n",
    "all_fixtures"
   ]
  },
  {
   "cell_type": "markdown",
   "metadata": {},
   "source": [
    "## Filtering Aggregated Fixture Data"
   ]
  },
  {
   "cell_type": "code",
   "execution_count": null,
   "metadata": {},
   "outputs": [],
   "source": [
    "all_fixtures = pd.read_csv('../data/output_aggragated/mls_fixtures_2012_2021.csv')"
   ]
  },
  {
   "cell_type": "code",
   "execution_count": null,
   "metadata": {},
   "outputs": [],
   "source": [
    "df = all_fixtures[all_fixtures['fx_sts_long'] == 'Match Finished']"
   ]
  },
  {
   "cell_type": "code",
   "execution_count": null,
   "metadata": {},
   "outputs": [],
   "source": [
    "df = df[df['lg_seas'].isin([2015, 2016, 2017, 2018, 2019, 2020])]"
   ]
  },
  {
   "cell_type": "code",
   "execution_count": null,
   "metadata": {},
   "outputs": [],
   "source": [
    "df.to_csv('../data/output_aggragated/mls_fixtures_2015_2020.csv', index=False)"
   ]
  },
  {
   "cell_type": "code",
   "execution_count": null,
   "metadata": {},
   "outputs": [],
   "source": [
    "# df_ssfc = pd.concat([df[df['tm_h_name'] == 'Seattle Sounders'], df[df['tm_a_name'] == 'Seattle Sounders']])"
   ]
  },
  {
   "cell_type": "markdown",
   "metadata": {},
   "source": [
    " "
   ]
  },
  {
   "cell_type": "markdown",
   "metadata": {},
   "source": [
    " "
   ]
  },
  {
   "cell_type": "markdown",
   "metadata": {},
   "source": [
    " "
   ]
  },
  {
   "cell_type": "markdown",
   "metadata": {},
   "source": [
    " "
   ]
  },
  {
   "cell_type": "markdown",
   "metadata": {},
   "source": [
    " "
   ]
  },
  {
   "cell_type": "markdown",
   "metadata": {},
   "source": [
    " "
   ]
  },
  {
   "cell_type": "markdown",
   "metadata": {},
   "source": [
    " "
   ]
  },
  {
   "cell_type": "markdown",
   "metadata": {},
   "source": [
    "## Aggregating Match Statistics"
   ]
  },
  {
   "cell_type": "code",
   "execution_count": null,
   "metadata": {},
   "outputs": [],
   "source": [
    "with open('../data/output_api_raw/fixtures-statistics/fix_adv_stats.json') as f:\n",
    "    stats_adv = json.load(f)"
   ]
  },
  {
   "cell_type": "code",
   "execution_count": null,
   "metadata": {
    "scrolled": false
   },
   "outputs": [],
   "source": [
    "adv_test = stats_adv[0:5]\n",
    "adv_test[0]"
   ]
  },
  {
   "cell_type": "markdown",
   "metadata": {},
   "source": [
    "Unfortunately, the Pandas json_normalize method doesn't work on this one... several lists break up the flattening, so I wrote custom code to extract the data I needed into a single table that I can easily join to the main fixtures data."
   ]
  },
  {
   "cell_type": "code",
   "execution_count": null,
   "metadata": {},
   "outputs": [],
   "source": [
    "pd.json_normalize(adv_test[0])"
   ]
  },
  {
   "cell_type": "code",
   "execution_count": null,
   "metadata": {},
   "outputs": [],
   "source": [
    "pd.json_normalize(adv_test[0]['response'][0])"
   ]
  },
  {
   "cell_type": "markdown",
   "metadata": {},
   "source": [
    " "
   ]
  },
  {
   "cell_type": "markdown",
   "metadata": {},
   "source": [
    " "
   ]
  },
  {
   "cell_type": "markdown",
   "metadata": {},
   "source": [
    " "
   ]
  },
  {
   "cell_type": "code",
   "execution_count": null,
   "metadata": {},
   "outputs": [],
   "source": [
    "import logging\n",
    "logging.basicConfig(level=logging.INFO, filename='./logging/fixture_statistics.log',\n",
    "                    format='%(asctime)s  |  %(levelname)s  |  %(message)s', \n",
    "                    datefmt='%a %b %d | %I:%M:%S %p')"
   ]
  },
  {
   "cell_type": "code",
   "execution_count": null,
   "metadata": {
    "scrolled": false
   },
   "outputs": [],
   "source": [
    "import logging\n",
    "logging.basicConfig(level=logging.INFO, filemode='w', filename='./logging/fixture_statistics.log',\n",
    "                    format='%(asctime)s  |  %(levelname)s  |  %(message)s', \n",
    "                    datefmt='%a %b %d | %I:%M:%S %p')\n",
    "\n",
    "import json\n",
    "import pandas as pd\n",
    "\n",
    "fixtures_df = pd.read_csv('../data/output_aggragated/mls_fixtures_2015_2020.csv')\n",
    "\n",
    "with open('../data/output_api_raw/fixtures-statistics/fix_adv_stats.json') as f:\n",
    "    stats_adv = json.load(f)\n",
    "\n",
    "fixture_adv_stats = []    \n",
    "    \n",
    "for i in range(len(stats_adv)):\n",
    "    \n",
    "    stats = {}\n",
    "    \n",
    "    stats['fx_id'] = int(stats_adv[i]['parameters']['fixture'])\n",
    "    logging.info(f\"Fixture ID set: {stats['fx_id']}\")\n",
    "    \n",
    "    fix_base_info = fixtures_df[fixtures_df['fx_id'] == stats['fx_id']].to_dict(orient='list')\n",
    "\n",
    "    stats['tm_h_id'] = fix_base_info['tm_h_id'][0]\n",
    "    stats['tm_h_name'] = fix_base_info['tm_h_name'][0]\n",
    "    stats['tm_a_id'] = fix_base_info['tm_a_id'][0]\n",
    "    stats['tm_a_name'] = fix_base_info['tm_a_name'][0]\n",
    "    \n",
    "#     logging.info(f\"Home ID set to: {stats['tm_h_id']}\")\n",
    "#     logging.info(f\"Home ID set from: {fix_base_info['tm_h_id'][0]}\")\n",
    "    \n",
    "    for team in stats_adv[i]['response']:\n",
    "        stat_dict = {}\n",
    "        \n",
    "        if team['team']['id'] == stats['tm_h_id']:\n",
    "            for stat in team['statistics']:\n",
    "                s = stat['type']\n",
    "                v = stat['value']\n",
    "                stat_dict[s] = v\n",
    "                \n",
    "            stat_dict = {'h_' + key.lower().replace(' ', '_'): val for key, val in stat_dict.items()}    \n",
    "\n",
    "            \n",
    "        if team['team']['id'] == stats['tm_a_id']:\n",
    "            for stat in team['statistics']:\n",
    "                s = stat['type']\n",
    "                v = stat['value']\n",
    "                stat_dict[s] = v\n",
    "                \n",
    "\n",
    "            stat_dict = {'a_' + key.lower().replace(' ', '_'): val for key, val in stat_dict.items()}\n",
    "                \n",
    "\n",
    "        stats.update(stat_dict) \n",
    "        \n",
    "    fixture_adv_stats.append(stats)\n",
    "\n",
    "adv_stats_df = pd.DataFrame(fixture_adv_stats)\n",
    "adv_stats_df.to_csv('../data/output_aggragated/adv_stats2.csv', index=False)"
   ]
  },
  {
   "cell_type": "code",
   "execution_count": null,
   "metadata": {},
   "outputs": [],
   "source": [
    "##"
   ]
  },
  {
   "cell_type": "code",
   "execution_count": null,
   "metadata": {},
   "outputs": [],
   "source": []
  },
  {
   "cell_type": "code",
   "execution_count": null,
   "metadata": {},
   "outputs": [],
   "source": [
    "away_team_stats"
   ]
  },
  {
   "cell_type": "code",
   "execution_count": null,
   "metadata": {},
   "outputs": [],
   "source": [
    "adv_test[0]['parameters']['fixture'], \\\n",
    "adv_test[0]['response'][0]['statistics'][0]['type'], \\\n",
    "adv_test[0]['response'][0]['statistics'][0]['value']"
   ]
  },
  {
   "cell_type": "code",
   "execution_count": null,
   "metadata": {},
   "outputs": [],
   "source": [
    "for i in range(len(adv_test)):\n",
    "    \n",
    "    fix = {}\n",
    "    \n",
    "    fix['fx_id'] = int(adv_test[i]['parameters']['fixture'])\n",
    "\n",
    "    fix_base_info = fixtures_df[fixtures_df['fx_id'] == fix['fx_id']]\n",
    "    print(fix_base_info)\n",
    "    \n",
    "\n",
    "    fix['tm_h_id'] = fix_base_info['tm_h_id']\n",
    "    fix['tm_h_name'] = fix_base_info['tm_h_name']\n",
    "    fix['tm_a_id'] = fix_base_info['tm_a_id']\n",
    "    fix['tm_a_name'] = fix_base_info['tm_a_name'] \n",
    "\n",
    "    for j in fixture['response']:"
   ]
  },
  {
   "cell_type": "code",
   "execution_count": null,
   "metadata": {},
   "outputs": [],
   "source": [
    "fixtures_df[fixtures_df['fx_id'] == 491110]\n"
   ]
  },
  {
   "cell_type": "code",
   "execution_count": null,
   "metadata": {
    "scrolled": false
   },
   "outputs": [],
   "source": [
    "dict_test = {}\n",
    "\n",
    "adv_test[i]['response']\n",
    "\n",
    "for stat in adv_test[0]['response'][0]['statistics']:\n",
    "    s = stat['type']\n",
    "    v = stat['value']\n",
    "    dict_test[s] = v\n",
    "\n",
    "\n",
    "# pd.DataFrame(dict_test, index=[0]).add_prefix('h_').to_dict(orient='List')\n",
    "\n",
    "dict_test = {'h_' + key.lower().replace(' ', '_'): val for key, val in dict_test.items()}\n",
    "\n",
    "dict_test"
   ]
  },
  {
   "cell_type": "code",
   "execution_count": null,
   "metadata": {},
   "outputs": [],
   "source": [
    "fixtures_df[fixtures_df['fx_id'].isin([491106,491107,491108,491109,491110])][['fx_id', 'tm_h_id', 'tm_a_id']]"
   ]
  },
  {
   "cell_type": "code",
   "execution_count": null,
   "metadata": {},
   "outputs": [],
   "source": [
    "adv_test"
   ]
  },
  {
   "cell_type": "code",
   "execution_count": null,
   "metadata": {},
   "outputs": [],
   "source": [
    "for fixture in adv_test:\n",
    "    \n",
    "    fix = {}\n",
    "    \n",
    "    print(fixture['parameters'])"
   ]
  },
  {
   "cell_type": "markdown",
   "metadata": {},
   "source": [
    " "
   ]
  },
  {
   "cell_type": "code",
   "execution_count": null,
   "metadata": {},
   "outputs": [],
   "source": [
    "all_fixtures[all_fixtures['tm_h_id'] == adv_test['response'][0]['team']['id']]"
   ]
  },
  {
   "cell_type": "code",
   "execution_count": null,
   "metadata": {},
   "outputs": [],
   "source": [
    "all_fixtures[all_fixtures['fx_id'] == fix['fx_id']]"
   ]
  },
  {
   "cell_type": "code",
   "execution_count": null,
   "metadata": {},
   "outputs": [],
   "source": [
    "pd.json_normalize(adv_test['response'][0]['statistics'][0])"
   ]
  },
  {
   "cell_type": "code",
   "execution_count": null,
   "metadata": {},
   "outputs": [],
   "source": [
    "all_fixtures.head()"
   ]
  },
  {
   "cell_type": "code",
   "execution_count": null,
   "metadata": {},
   "outputs": [],
   "source": [
    "# [\n",
    "# {'get': 'fixtures/statistics',\n",
    "#  'parameters': {'fixture': '491106'},\n",
    "#  'errors': [],\n",
    "#  'results': 2,\n",
    "#  'paging': {'current': 1, 'total': 1},\n",
    "#  'response': [{'team': {'id': 1613,\n",
    "#                         'name': 'Columbus Crew',\n",
    "#                         'logo': 'https://media.api-sports.io/football/teams/1613.png'},\n",
    "#                         'statistics': [{'type': 'Shots on Goal', 'value': 1},\n",
    "#                                        {'type': 'Shots off Goal', 'value': 3},\n",
    "#                                        {'type': 'Total Shots', 'value': 9},\n",
    "#                                        {'type': 'Blocked Shots', 'value': 5},\n",
    "#                                        {'type': 'Shots insidebox', 'value': 4},\n",
    "#                                        {'type': 'Shots outsidebox', 'value': 5},\n",
    "#                                        {'type': 'Fouls', 'value': None},\n",
    "#                                        {'type': 'Corner Kicks', 'value': 4},\n",
    "#                                        {'type': 'Offsides', 'value': 3},\n",
    "#                                        {'type': 'Ball Possession', 'value': '61%'},\n",
    "#                                        {'type': 'Yellow Cards', 'value': 1},\n",
    "#                                        {'type': 'Red Cards', 'value': None},\n",
    "#                                        {'type': 'Goalkeeper Saves', 'value': 5},\n",
    "#                                        {'type': 'Total passes', 'value': 490},\n",
    "#                                        {'type': 'Passes accurate', 'value': 416},\n",
    "#                                        {'type': 'Passes %', 'value': '85%'}]},\n",
    "#               {'team': {'id': 1617,\n",
    "#                         'name': 'Portland Timbers',\n",
    "#                         'logo': 'https://media.api-sports.io/football/teams/1617.png'},\n",
    "#                         'statistics': [{'type': 'Shots on Goal', 'value': 8},\n",
    "#                                        {'type': 'Shots off Goal', 'value': 2},\n",
    "#                                        {'type': 'Total Shots', 'value': 12},\n",
    "#                                        {'type': 'Blocked Shots', 'value': 2},\n",
    "#                                        {'type': 'Shots insidebox', 'value': 10},\n",
    "#                                        {'type': 'Shots outsidebox', 'value': 2},\n",
    "#                                        {'type': 'Fouls', 'value': None},\n",
    "#                                        {'type': 'Corner Kicks', 'value': 9},\n",
    "#                                        {'type': 'Offsides', 'value': None},\n",
    "#                                        {'type': 'Ball Possession', 'value': '39%'},\n",
    "#                                        {'type': 'Yellow Cards', 'value': 3},\n",
    "#                                        {'type': 'Red Cards', 'value': None},\n",
    "#                                        {'type': 'Goalkeeper Saves', 'value': None},\n",
    "#                                        {'type': 'Total passes', 'value': 312},\n",
    "#                                        {'type': 'Passes accurate', 'value': 221},\n",
    "#                                        {'type': 'Passes %', 'value': '71%'}]}]}\n",
    "# ]"
   ]
  },
  {
   "cell_type": "code",
   "execution_count": null,
   "metadata": {},
   "outputs": [],
   "source": []
  },
  {
   "cell_type": "code",
   "execution_count": null,
   "metadata": {},
   "outputs": [],
   "source": []
  },
  {
   "cell_type": "code",
   "execution_count": null,
   "metadata": {},
   "outputs": [],
   "source": []
  }
 ],
 "metadata": {
  "kernelspec": {
   "display_name": "Python 3",
   "language": "python",
   "name": "python3"
  },
  "language_info": {
   "codemirror_mode": {
    "name": "ipython",
    "version": 3
   },
   "file_extension": ".py",
   "mimetype": "text/x-python",
   "name": "python",
   "nbconvert_exporter": "python",
   "pygments_lexer": "ipython3",
   "version": "3.8.5"
  },
  "toc": {
   "base_numbering": 1,
   "nav_menu": {},
   "number_sections": false,
   "sideBar": true,
   "skip_h1_title": false,
   "title_cell": "Table of Contents",
   "title_sidebar": "Contents",
   "toc_cell": false,
   "toc_position": {
    "height": "calc(100% - 180px)",
    "left": "10px",
    "top": "150px",
    "width": "251.796875px"
   },
   "toc_section_display": true,
   "toc_window_display": false
  },
  "varInspector": {
   "cols": {
    "lenName": 16,
    "lenType": 16,
    "lenVar": 40
   },
   "kernels_config": {
    "python": {
     "delete_cmd_postfix": "",
     "delete_cmd_prefix": "del ",
     "library": "var_list.py",
     "varRefreshCmd": "print(var_dic_list())"
    },
    "r": {
     "delete_cmd_postfix": ") ",
     "delete_cmd_prefix": "rm(",
     "library": "var_list.r",
     "varRefreshCmd": "cat(var_dic_list()) "
    }
   },
   "oldHeight": 735,
   "position": {
    "height": "45px",
    "left": "1603px",
    "right": "20px",
    "top": "70px",
    "width": "267px"
   },
   "types_to_exclude": [
    "module",
    "function",
    "builtin_function_or_method",
    "instance",
    "_Feature"
   ],
   "varInspector_section_display": "none",
   "window_display": true
  }
 },
 "nbformat": 4,
 "nbformat_minor": 4
}

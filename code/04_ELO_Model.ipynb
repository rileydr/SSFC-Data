{
 "cells": [
  {
   "cell_type": "markdown",
   "metadata": {},
   "source": [
    "# Imports"
   ]
  },
  {
   "cell_type": "code",
   "execution_count": 1,
   "metadata": {
    "ExecuteTime": {
     "end_time": "2021-06-15T05:44:45.522445Z",
     "start_time": "2021-06-15T05:44:42.731876Z"
    }
   },
   "outputs": [],
   "source": [
    "import pandas as pd\n",
    "import time\n",
    "import numpy as np\n",
    "import datetime as dt\n",
    "import seaborn as sns\n",
    "import matplotlib.pyplot as plt\n",
    "\n",
    "import utilities.densmore_v3 as dns"
   ]
  },
  {
   "cell_type": "code",
   "execution_count": 2,
   "metadata": {
    "ExecuteTime": {
     "end_time": "2021-06-15T05:44:45.534595Z",
     "start_time": "2021-06-15T05:44:45.524847Z"
    }
   },
   "outputs": [],
   "source": [
    "df = pd.read_csv('../data/api_football_data/05_merged_data/elo_merged_data_names_short.csv')"
   ]
  },
  {
   "cell_type": "code",
   "execution_count": 3,
   "metadata": {
    "ExecuteTime": {
     "end_time": "2021-06-15T05:44:45.558499Z",
     "start_time": "2021-06-15T05:44:45.536996Z"
    },
    "scrolled": true
   },
   "outputs": [
    {
     "data": {
      "text/html": [
       "<div>\n",
       "<style scoped>\n",
       "    .dataframe tbody tr th:only-of-type {\n",
       "        vertical-align: middle;\n",
       "    }\n",
       "\n",
       "    .dataframe tbody tr th {\n",
       "        vertical-align: top;\n",
       "    }\n",
       "\n",
       "    .dataframe thead th {\n",
       "        text-align: right;\n",
       "    }\n",
       "</style>\n",
       "<table border=\"1\" class=\"dataframe\">\n",
       "  <thead>\n",
       "    <tr style=\"text-align: right;\">\n",
       "      <th></th>\n",
       "      <th>result</th>\n",
       "      <th>game_id</th>\n",
       "      <th>season</th>\n",
       "      <th>game_date</th>\n",
       "      <th>h_name</th>\n",
       "      <th>h_id</th>\n",
       "      <th>h_goals</th>\n",
       "      <th>h_possession</th>\n",
       "      <th>h_pass_acc</th>\n",
       "      <th>a_name</th>\n",
       "      <th>a_id</th>\n",
       "      <th>a_goals</th>\n",
       "      <th>a_possession</th>\n",
       "      <th>a_pass_acc</th>\n",
       "    </tr>\n",
       "  </thead>\n",
       "  <tbody>\n",
       "    <tr>\n",
       "      <th>0</th>\n",
       "      <td>away</td>\n",
       "      <td>148307</td>\n",
       "      <td>2016</td>\n",
       "      <td>2016-03-06</td>\n",
       "      <td>nyrb</td>\n",
       "      <td>1602</td>\n",
       "      <td>0</td>\n",
       "      <td>0.63</td>\n",
       "      <td>0.72</td>\n",
       "      <td>tfc</td>\n",
       "      <td>1601</td>\n",
       "      <td>2</td>\n",
       "      <td>0.37</td>\n",
       "      <td>0.58</td>\n",
       "    </tr>\n",
       "    <tr>\n",
       "      <th>1</th>\n",
       "      <td>away</td>\n",
       "      <td>148308</td>\n",
       "      <td>2016</td>\n",
       "      <td>2016-03-06</td>\n",
       "      <td>chi</td>\n",
       "      <td>1607</td>\n",
       "      <td>3</td>\n",
       "      <td>0.39</td>\n",
       "      <td>0.66</td>\n",
       "      <td>nyc</td>\n",
       "      <td>1604</td>\n",
       "      <td>4</td>\n",
       "      <td>0.61</td>\n",
       "      <td>0.78</td>\n",
       "    </tr>\n",
       "    <tr>\n",
       "      <th>2</th>\n",
       "      <td>draw</td>\n",
       "      <td>148309</td>\n",
       "      <td>2016</td>\n",
       "      <td>2016-03-06</td>\n",
       "      <td>orl</td>\n",
       "      <td>1598</td>\n",
       "      <td>2</td>\n",
       "      <td>0.52</td>\n",
       "      <td>0.80</td>\n",
       "      <td>rsl</td>\n",
       "      <td>1606</td>\n",
       "      <td>2</td>\n",
       "      <td>0.48</td>\n",
       "      <td>0.76</td>\n",
       "    </tr>\n",
       "    <tr>\n",
       "      <th>3</th>\n",
       "      <td>home</td>\n",
       "      <td>148310</td>\n",
       "      <td>2016</td>\n",
       "      <td>2016-03-06</td>\n",
       "      <td>sje</td>\n",
       "      <td>1596</td>\n",
       "      <td>1</td>\n",
       "      <td>0.41</td>\n",
       "      <td>0.71</td>\n",
       "      <td>cor</td>\n",
       "      <td>1610</td>\n",
       "      <td>0</td>\n",
       "      <td>0.59</td>\n",
       "      <td>0.80</td>\n",
       "    </tr>\n",
       "    <tr>\n",
       "      <th>4</th>\n",
       "      <td>draw</td>\n",
       "      <td>148311</td>\n",
       "      <td>2016</td>\n",
       "      <td>2016-03-06</td>\n",
       "      <td>hou</td>\n",
       "      <td>1600</td>\n",
       "      <td>3</td>\n",
       "      <td>0.52</td>\n",
       "      <td>0.75</td>\n",
       "      <td>ner</td>\n",
       "      <td>1609</td>\n",
       "      <td>3</td>\n",
       "      <td>0.48</td>\n",
       "      <td>0.73</td>\n",
       "    </tr>\n",
       "  </tbody>\n",
       "</table>\n",
       "</div>"
      ],
      "text/plain": [
       "  result  game_id  season   game_date h_name  h_id  h_goals  h_possession  \\\n",
       "0   away   148307    2016  2016-03-06   nyrb  1602        0          0.63   \n",
       "1   away   148308    2016  2016-03-06    chi  1607        3          0.39   \n",
       "2   draw   148309    2016  2016-03-06    orl  1598        2          0.52   \n",
       "3   home   148310    2016  2016-03-06    sje  1596        1          0.41   \n",
       "4   draw   148311    2016  2016-03-06    hou  1600        3          0.52   \n",
       "\n",
       "   h_pass_acc a_name  a_id  a_goals  a_possession  a_pass_acc  \n",
       "0        0.72    tfc  1601        2          0.37        0.58  \n",
       "1        0.66    nyc  1604        4          0.61        0.78  \n",
       "2        0.80    rsl  1606        2          0.48        0.76  \n",
       "3        0.71    cor  1610        0          0.59        0.80  \n",
       "4        0.75    ner  1609        3          0.48        0.73  "
      ]
     },
     "execution_count": 3,
     "metadata": {},
     "output_type": "execute_result"
    }
   ],
   "source": [
    "df.head()"
   ]
  },
  {
   "cell_type": "markdown",
   "metadata": {},
   "source": [
    "# SETUP"
   ]
  },
  {
   "cell_type": "markdown",
   "metadata": {},
   "source": [
    "### ELO Model Equation"
   ]
  },
  {
   "cell_type": "markdown",
   "metadata": {},
   "source": [
    "**Where:**  \n",
    "\n",
    "|           Ratings                  | Stats | Coefficients|\n",
    "|:-----------------------------------|:------------------------------|:------------|\n",
    "| $R_{old}$ = Team's previous rating | $GF - GA$ = Goal differential | $K$ = Impact of all terms on team's new rating |\n",
    "| $R_{new}$ = Team's new rating      | $R_{opp} - R_{old}$ = Matchup difficulty | $C$ = Spread of all ratings |\n",
    "| $R_{opp}$ = Opponent's rating      |  |    |\n",
    "|                                    |  |    |"
   ]
  },
  {
   "cell_type": "markdown",
   "metadata": {},
   "source": [
    "**FIRST GAME OF SEASON**\n",
    "$$\\large R_{new} = R_{start} + K \\begin{pmatrix} GF - GA + \\frac{R_{opp} - R_{old}}{C} \\end{pmatrix} $$\n",
    "\n",
    "**SUBSEQUENT GAMES**\n",
    "\n",
    "$$\\large R_{new} = R_{old} + K \\begin{pmatrix} GF - GA + \\frac{R_{opp} - R_{old}}{C} \\end{pmatrix} $$"
   ]
  },
  {
   "cell_type": "markdown",
   "metadata": {},
   "source": [
    "```python\n",
    "    new_h_rating = h_rating + K * (h_goals - a_goals + ((a_rating - h_rating) / C))\n",
    "    new_a_rating = a_rating + K * (a_goals - h_goals + ((h_rating - a_rating) / C))\n",
    "````"
   ]
  },
  {
   "cell_type": "markdown",
   "metadata": {},
   "source": [
    "### Reference Variables"
   ]
  },
  {
   "cell_type": "code",
   "execution_count": 4,
   "metadata": {
    "ExecuteTime": {
     "end_time": "2021-06-15T05:44:45.564628Z",
     "start_time": "2021-06-15T05:44:45.561727Z"
    }
   },
   "outputs": [],
   "source": [
    "teams = ['atl', 'chi', 'cin', 'cor', 'crw', 'dcu', \n",
    "         'fcd', 'hou', 'lafc', 'lag', 'min', 'mtl', \n",
    "         'ner', 'nyc', 'nyrb', 'orl', 'phi', 'por', \n",
    "         'rsl', 'sea', 'sje', 'skc', 'tfc', 'van']\n",
    "\n",
    "years = [2016, 2017, 2018, 2019]"
   ]
  },
  {
   "cell_type": "markdown",
   "metadata": {},
   "source": [
    "### Add Game Numbers by Season"
   ]
  },
  {
   "cell_type": "markdown",
   "metadata": {},
   "source": [
    "#### Splitt Data by Season"
   ]
  },
  {
   "cell_type": "code",
   "execution_count": 5,
   "metadata": {
    "ExecuteTime": {
     "end_time": "2021-06-15T05:44:45.701929Z",
     "start_time": "2021-06-15T05:44:45.566319Z"
    }
   },
   "outputs": [],
   "source": [
    "df_2016 = df[df['season'] == 2016].copy()\n",
    "df_2017 = df[df['season'] == 2017].copy()\n",
    "df_2018 = df[df['season'] == 2018].copy()\n",
    "df_2019 = df[df['season'] == 2019].copy()"
   ]
  },
  {
   "cell_type": "code",
   "execution_count": 6,
   "metadata": {
    "ExecuteTime": {
     "end_time": "2021-06-15T05:44:45.708489Z",
     "start_time": "2021-06-15T05:44:45.705640Z"
    },
    "scrolled": false
   },
   "outputs": [],
   "source": [
    "# df_2016\n",
    "# df_2017\n",
    "# df_2018\n",
    "# df_2019"
   ]
  },
  {
   "cell_type": "markdown",
   "metadata": {},
   "source": [
    "#### Add Game Numbers"
   ]
  },
  {
   "cell_type": "code",
   "execution_count": 7,
   "metadata": {
    "ExecuteTime": {
     "end_time": "2021-06-15T05:44:45.719143Z",
     "start_time": "2021-06-15T05:44:45.712730Z"
    },
    "scrolled": false
   },
   "outputs": [],
   "source": [
    "def add_game_nums(season_df):\n",
    "\n",
    "    game_counts = {team: 1 for team in teams}\n",
    "    game_nums_by_id = [] \n",
    "\n",
    "    for row, data in season_df.iterrows():\n",
    "\n",
    "        for team, game_num in game_counts.items():\n",
    "            if team == data['h_name']: \n",
    "                game_counts[team] += 1\n",
    "                data['h_game_num'] = game_num\n",
    "            elif team == data['a_name']:\n",
    "                game_counts[team] += 1\n",
    "                data['a_game_num'] = game_num\n",
    "            else:\n",
    "                continue\n",
    "\n",
    "        game_nums_by_id.append({'game_id': data['game_id'], \n",
    "                                'h_game_num': data['h_game_num'], \n",
    "                                'a_game_num': data['a_game_num']})\n",
    "\n",
    "    #     print(f\"{data['h_name']}: {data['h_game_num']}\", f\"{data['a_name']}: {data['a_game_num']}\")\n",
    "\n",
    "    game_nums_df = pd.DataFrame(game_nums_by_id, index=range(len(game_nums_by_id)))\n",
    "    \n",
    "    new_df = pd.merge(left=season_df, right=game_nums_df, on='game_id')\n",
    "    \n",
    "    return new_df"
   ]
  },
  {
   "cell_type": "code",
   "execution_count": 8,
   "metadata": {
    "ExecuteTime": {
     "end_time": "2021-06-15T05:44:47.692068Z",
     "start_time": "2021-06-15T05:44:45.722176Z"
    }
   },
   "outputs": [],
   "source": [
    "df_2016 = add_game_nums(df_2016)\n",
    "df_2017 = add_game_nums(df_2017)\n",
    "df_2018 = add_game_nums(df_2018)\n",
    "df_2019 = add_game_nums(df_2019)"
   ]
  },
  {
   "cell_type": "code",
   "execution_count": 9,
   "metadata": {
    "ExecuteTime": {
     "end_time": "2021-06-15T05:44:47.697950Z",
     "start_time": "2021-06-15T05:44:47.693820Z"
    }
   },
   "outputs": [],
   "source": [
    "df_2016.index = df_2016.index + 1\n",
    "df_2017.index = df_2017.index + 1\n",
    "df_2018.index = df_2018.index + 1\n",
    "df_2019.index = df_2019.index + 1"
   ]
  },
  {
   "cell_type": "markdown",
   "metadata": {},
   "source": [
    "#### Re-join Tables"
   ]
  },
  {
   "cell_type": "code",
   "execution_count": 10,
   "metadata": {
    "ExecuteTime": {
     "end_time": "2021-06-15T05:44:47.709409Z",
     "start_time": "2021-06-15T05:44:47.700317Z"
    }
   },
   "outputs": [],
   "source": [
    "df = pd.concat([df_2016, df_2017, df_2018, df_2019], axis=0)"
   ]
  },
  {
   "cell_type": "code",
   "execution_count": 11,
   "metadata": {
    "ExecuteTime": {
     "end_time": "2021-06-15T05:44:47.715829Z",
     "start_time": "2021-06-15T05:44:47.711414Z"
    }
   },
   "outputs": [],
   "source": [
    "df.drop(columns=['h_possession', 'h_pass_acc', 'a_possession', 'a_pass_acc'], inplace=True)"
   ]
  },
  {
   "cell_type": "code",
   "execution_count": 12,
   "metadata": {
    "ExecuteTime": {
     "end_time": "2021-06-15T05:44:47.722774Z",
     "start_time": "2021-06-15T05:44:47.717582Z"
    }
   },
   "outputs": [
    {
     "data": {
      "text/plain": [
       "Index(['result', 'game_id', 'season', 'game_date', 'h_name', 'h_id', 'h_goals',\n",
       "       'a_name', 'a_id', 'a_goals', 'h_game_num', 'a_game_num'],\n",
       "      dtype='object')"
      ]
     },
     "execution_count": 12,
     "metadata": {},
     "output_type": "execute_result"
    }
   ],
   "source": [
    "df.columns"
   ]
  },
  {
   "cell_type": "code",
   "execution_count": 13,
   "metadata": {
    "ExecuteTime": {
     "end_time": "2021-06-15T05:44:47.728530Z",
     "start_time": "2021-06-15T05:44:47.724635Z"
    },
    "scrolled": false
   },
   "outputs": [],
   "source": [
    "df = df[['result', 'game_id', 'season', 'game_date', \n",
    "        'h_name', 'h_id', 'h_goals', 'h_game_num',\n",
    "        'a_name', 'a_id', 'a_goals', 'a_game_num']]"
   ]
  },
  {
   "cell_type": "code",
   "execution_count": 14,
   "metadata": {
    "ExecuteTime": {
     "end_time": "2021-06-15T05:44:47.741420Z",
     "start_time": "2021-06-15T05:44:47.730165Z"
    },
    "scrolled": false
   },
   "outputs": [],
   "source": [
    "df.to_csv('../data/api_football_data/05_merged_data/elo_merged_data_ready.csv')"
   ]
  },
  {
   "cell_type": "markdown",
   "metadata": {},
   "source": [
    "### Setting Up ELO Table"
   ]
  },
  {
   "cell_type": "markdown",
   "metadata": {},
   "source": [
    "#### Method 1 - As dictionary first, then convert to df"
   ]
  },
  {
   "cell_type": "code",
   "execution_count": 15,
   "metadata": {
    "ExecuteTime": {
     "end_time": "2021-06-15T05:44:47.746779Z",
     "start_time": "2021-06-15T05:44:47.744024Z"
    }
   },
   "outputs": [],
   "source": [
    "# elo_dict = {'game_num' : 0, \n",
    "#             'season' : 0, \n",
    "#             'new_false_preds': 0, \n",
    "#             'total_false_preds': 0}\n",
    "\n",
    "# for team in teams:\n",
    "#     elo_dict[team] = [0]\n",
    "\n",
    "# elo_table = pd.DataFrame(elo_dict)\n",
    "\n",
    "# for i in range(1,136):\n",
    "#     elo_table = elo_table.append(pd.Series(name=i, dtype=int)).fillna(0).astype(int)\n",
    "\n",
    "# elo_table.index = elo_table.index + 1"
   ]
  },
  {
   "cell_type": "code",
   "execution_count": 16,
   "metadata": {
    "ExecuteTime": {
     "end_time": "2021-06-15T05:44:47.772957Z",
     "start_time": "2021-06-15T05:44:47.750051Z"
    }
   },
   "outputs": [],
   "source": [
    "# elo_table.head()"
   ]
  },
  {
   "cell_type": "markdown",
   "metadata": {},
   "source": [
    "#### Method 2 (better) - As Dataframe"
   ]
  },
  {
   "cell_type": "code",
   "execution_count": 17,
   "metadata": {
    "ExecuteTime": {
     "end_time": "2021-06-15T05:44:48.116208Z",
     "start_time": "2021-06-15T05:44:47.776709Z"
    }
   },
   "outputs": [],
   "source": [
    "elo_table = pd.DataFrame(columns=['new_false_preds', 'total_false_preds'] + [team for team in teams])\n",
    "for i in range(1,137):\n",
    "    elo_table = elo_table.append(pd.Series(name=i, dtype=int)).fillna(0).astype(int)\n",
    "indeces = list(zip([2016]*34 + [2017]*34 + [2018]*34 + [2019]*34, list(range(1,35)) * 4))\n",
    "elo_table.index = pd.MultiIndex.from_tuples(indeces, names=['year', 'game'])"
   ]
  },
  {
   "cell_type": "code",
   "execution_count": 18,
   "metadata": {
    "ExecuteTime": {
     "end_time": "2021-06-15T05:44:48.146955Z",
     "start_time": "2021-06-15T05:44:48.126097Z"
    }
   },
   "outputs": [
    {
     "data": {
      "text/html": [
       "<div>\n",
       "<style scoped>\n",
       "    .dataframe tbody tr th:only-of-type {\n",
       "        vertical-align: middle;\n",
       "    }\n",
       "\n",
       "    .dataframe tbody tr th {\n",
       "        vertical-align: top;\n",
       "    }\n",
       "\n",
       "    .dataframe thead th {\n",
       "        text-align: right;\n",
       "    }\n",
       "</style>\n",
       "<table border=\"1\" class=\"dataframe\">\n",
       "  <thead>\n",
       "    <tr style=\"text-align: right;\">\n",
       "      <th></th>\n",
       "      <th></th>\n",
       "      <th>new_false_preds</th>\n",
       "      <th>total_false_preds</th>\n",
       "      <th>atl</th>\n",
       "      <th>chi</th>\n",
       "      <th>cin</th>\n",
       "      <th>cor</th>\n",
       "      <th>crw</th>\n",
       "      <th>dcu</th>\n",
       "      <th>fcd</th>\n",
       "      <th>hou</th>\n",
       "      <th>...</th>\n",
       "      <th>nyrb</th>\n",
       "      <th>orl</th>\n",
       "      <th>phi</th>\n",
       "      <th>por</th>\n",
       "      <th>rsl</th>\n",
       "      <th>sea</th>\n",
       "      <th>sje</th>\n",
       "      <th>skc</th>\n",
       "      <th>tfc</th>\n",
       "      <th>van</th>\n",
       "    </tr>\n",
       "    <tr>\n",
       "      <th>year</th>\n",
       "      <th>game</th>\n",
       "      <th></th>\n",
       "      <th></th>\n",
       "      <th></th>\n",
       "      <th></th>\n",
       "      <th></th>\n",
       "      <th></th>\n",
       "      <th></th>\n",
       "      <th></th>\n",
       "      <th></th>\n",
       "      <th></th>\n",
       "      <th></th>\n",
       "      <th></th>\n",
       "      <th></th>\n",
       "      <th></th>\n",
       "      <th></th>\n",
       "      <th></th>\n",
       "      <th></th>\n",
       "      <th></th>\n",
       "      <th></th>\n",
       "      <th></th>\n",
       "      <th></th>\n",
       "    </tr>\n",
       "  </thead>\n",
       "  <tbody>\n",
       "    <tr>\n",
       "      <th rowspan=\"5\" valign=\"top\">2016</th>\n",
       "      <th>1</th>\n",
       "      <td>0</td>\n",
       "      <td>0</td>\n",
       "      <td>0</td>\n",
       "      <td>0</td>\n",
       "      <td>0</td>\n",
       "      <td>0</td>\n",
       "      <td>0</td>\n",
       "      <td>0</td>\n",
       "      <td>0</td>\n",
       "      <td>0</td>\n",
       "      <td>...</td>\n",
       "      <td>0</td>\n",
       "      <td>0</td>\n",
       "      <td>0</td>\n",
       "      <td>0</td>\n",
       "      <td>0</td>\n",
       "      <td>0</td>\n",
       "      <td>0</td>\n",
       "      <td>0</td>\n",
       "      <td>0</td>\n",
       "      <td>0</td>\n",
       "    </tr>\n",
       "    <tr>\n",
       "      <th>2</th>\n",
       "      <td>0</td>\n",
       "      <td>0</td>\n",
       "      <td>0</td>\n",
       "      <td>0</td>\n",
       "      <td>0</td>\n",
       "      <td>0</td>\n",
       "      <td>0</td>\n",
       "      <td>0</td>\n",
       "      <td>0</td>\n",
       "      <td>0</td>\n",
       "      <td>...</td>\n",
       "      <td>0</td>\n",
       "      <td>0</td>\n",
       "      <td>0</td>\n",
       "      <td>0</td>\n",
       "      <td>0</td>\n",
       "      <td>0</td>\n",
       "      <td>0</td>\n",
       "      <td>0</td>\n",
       "      <td>0</td>\n",
       "      <td>0</td>\n",
       "    </tr>\n",
       "    <tr>\n",
       "      <th>3</th>\n",
       "      <td>0</td>\n",
       "      <td>0</td>\n",
       "      <td>0</td>\n",
       "      <td>0</td>\n",
       "      <td>0</td>\n",
       "      <td>0</td>\n",
       "      <td>0</td>\n",
       "      <td>0</td>\n",
       "      <td>0</td>\n",
       "      <td>0</td>\n",
       "      <td>...</td>\n",
       "      <td>0</td>\n",
       "      <td>0</td>\n",
       "      <td>0</td>\n",
       "      <td>0</td>\n",
       "      <td>0</td>\n",
       "      <td>0</td>\n",
       "      <td>0</td>\n",
       "      <td>0</td>\n",
       "      <td>0</td>\n",
       "      <td>0</td>\n",
       "    </tr>\n",
       "    <tr>\n",
       "      <th>4</th>\n",
       "      <td>0</td>\n",
       "      <td>0</td>\n",
       "      <td>0</td>\n",
       "      <td>0</td>\n",
       "      <td>0</td>\n",
       "      <td>0</td>\n",
       "      <td>0</td>\n",
       "      <td>0</td>\n",
       "      <td>0</td>\n",
       "      <td>0</td>\n",
       "      <td>...</td>\n",
       "      <td>0</td>\n",
       "      <td>0</td>\n",
       "      <td>0</td>\n",
       "      <td>0</td>\n",
       "      <td>0</td>\n",
       "      <td>0</td>\n",
       "      <td>0</td>\n",
       "      <td>0</td>\n",
       "      <td>0</td>\n",
       "      <td>0</td>\n",
       "    </tr>\n",
       "    <tr>\n",
       "      <th>5</th>\n",
       "      <td>0</td>\n",
       "      <td>0</td>\n",
       "      <td>0</td>\n",
       "      <td>0</td>\n",
       "      <td>0</td>\n",
       "      <td>0</td>\n",
       "      <td>0</td>\n",
       "      <td>0</td>\n",
       "      <td>0</td>\n",
       "      <td>0</td>\n",
       "      <td>...</td>\n",
       "      <td>0</td>\n",
       "      <td>0</td>\n",
       "      <td>0</td>\n",
       "      <td>0</td>\n",
       "      <td>0</td>\n",
       "      <td>0</td>\n",
       "      <td>0</td>\n",
       "      <td>0</td>\n",
       "      <td>0</td>\n",
       "      <td>0</td>\n",
       "    </tr>\n",
       "  </tbody>\n",
       "</table>\n",
       "<p>5 rows × 26 columns</p>\n",
       "</div>"
      ],
      "text/plain": [
       "           new_false_preds  total_false_preds  atl  chi  cin  cor  crw  dcu  \\\n",
       "year game                                                                     \n",
       "2016 1                   0                  0    0    0    0    0    0    0   \n",
       "     2                   0                  0    0    0    0    0    0    0   \n",
       "     3                   0                  0    0    0    0    0    0    0   \n",
       "     4                   0                  0    0    0    0    0    0    0   \n",
       "     5                   0                  0    0    0    0    0    0    0   \n",
       "\n",
       "           fcd  hou  ...  nyrb  orl  phi  por  rsl  sea  sje  skc  tfc  van  \n",
       "year game            ...                                                     \n",
       "2016 1       0    0  ...     0    0    0    0    0    0    0    0    0    0  \n",
       "     2       0    0  ...     0    0    0    0    0    0    0    0    0    0  \n",
       "     3       0    0  ...     0    0    0    0    0    0    0    0    0    0  \n",
       "     4       0    0  ...     0    0    0    0    0    0    0    0    0    0  \n",
       "     5       0    0  ...     0    0    0    0    0    0    0    0    0    0  \n",
       "\n",
       "[5 rows x 26 columns]"
      ]
     },
     "execution_count": 18,
     "metadata": {},
     "output_type": "execute_result"
    }
   ],
   "source": [
    "elo_table.head()"
   ]
  },
  {
   "cell_type": "markdown",
   "metadata": {},
   "source": [
    "### Rating Update Function"
   ]
  },
  {
   "cell_type": "code",
   "execution_count": 19,
   "metadata": {
    "ExecuteTime": {
     "end_time": "2021-06-15T05:44:48.155257Z",
     "start_time": "2021-06-15T05:44:48.150945Z"
    }
   },
   "outputs": [],
   "source": [
    "def update_ratings(h_rating, h_goals, a_rating, a_goals, K=20, C=200):\n",
    "    \n",
    "    if h_rating > a_rating:\n",
    "        expected_result = 'home'\n",
    "    elif h_rating < a_rating:\n",
    "        expected_result = 'away'\n",
    "    else:\n",
    "        expected_result = np.random.Generator.choice(['home', 'away'])\n",
    "            \n",
    "    if h_goals > a_goals:\n",
    "        actual_result = 'home'\n",
    "    elif h_goals < a_goals:\n",
    "        actual_result = 'away'\n",
    "    else:\n",
    "        actual_result = 'draw'\n",
    "                \n",
    "    new_h_rating = h_rating + K * (h_goals - a_goals + ((a_rating - h_rating) / C))\n",
    "    new_a_rating = a_rating + K * (a_goals - h_goals + ((h_rating - a_rating) / C))\n",
    "    \n",
    "#     new_h_rating = h_rating + K * (h_goals - a_goals + ((a_rating - h_rating) / C) + D * (h_ball_poss + h_pass_acc))\n",
    "#     new_a_rating = a_rating + K * (a_goals - h_goals + ((h_rating - a_rating) / C) + D * (a_ball_poss + a_pass_acc))\n",
    "    \n",
    "    if expected_result != actual_result:\n",
    "        false_pred = 1\n",
    "    else:\n",
    "        false_pred = 0\n",
    "        \n",
    "    return new_h_rating, new_a_rating, false_pred, expected_result, actual_result"
   ]
  },
  {
   "cell_type": "code",
   "execution_count": 20,
   "metadata": {
    "ExecuteTime": {
     "end_time": "2021-06-15T05:44:48.168708Z",
     "start_time": "2021-06-15T05:44:48.157130Z"
    }
   },
   "outputs": [],
   "source": [
    "def create_elo_table(games=df, K=30, C=300):\n",
    "    \n",
    "    log = []\n",
    "    \n",
    "    # establish list of team name abbreviations\n",
    "    teams = ['atl', 'chi', 'cin', 'cor', 'crw', 'dcu', \n",
    "             'fcd', 'hou', 'lafc', 'lag', 'min', 'mtl', \n",
    "             'ner', 'nyc', 'nyrb', 'orl', 'phi', 'por', \n",
    "             'rsl', 'sea', 'sje', 'skc', 'tfc', 'van']\n",
    "\n",
    "    # create elo table with necessary columns\n",
    "    elo_table = pd.DataFrame(columns=['new_false_preds', 'total_false_preds'] + [team for team in teams])\n",
    "\n",
    "    # fill 136 rows with 0s \n",
    "    for i in range(1,137):\n",
    "        elo_table = elo_table.append(pd.Series(name=i, dtype=int)).fillna(0).astype(int) \n",
    "\n",
    "    # set up MultiIndex - will allow me to update specific values precisely\n",
    "    indeces = list(zip([2016]*34 + [2017]*34 + [2018]*34 + [2019]*34, list(range(1,35)) * 4))\n",
    "    elo_table.index = pd.MultiIndex.from_tuples(indeces, names=['year', 'game'])\n",
    "    \n",
    "    # start a running total of false predictions\n",
    "    false_preds_count = 0\n",
    "    \n",
    "    # loop through match data and updating \n",
    "    for row, data in games.iterrows():\n",
    "        # set variables for each game - for easier referencing in code below\n",
    "        h_team, a_team = data['h_name'], data['a_name']\n",
    "        h_game_num, a_game_num = data['h_game_num'], data['a_game_num']\n",
    "        h_goals, a_goals = data['h_goals'], data['a_goals']\n",
    "        season = data['season']       \n",
    "        \n",
    "                        \n",
    "        # collect each team's previous rating\n",
    "        try:\n",
    "            h_prev_rating = elo_table.at[(season, h_game_num-1), h_team]\n",
    "        except:\n",
    "            h_prev_rating = 500\n",
    "        try:    \n",
    "            a_prev_rating = elo_table.at[(season, a_game_num-1), a_team]\n",
    "        except: \n",
    "            a_prev_rating = 500\n",
    "\n",
    "        # running 'update_rating' function and saving results\n",
    "        new_h_rating, new_a_rating, false_pred, expected_result, actual_result = \\\n",
    "        update_rating(h_prev_rating, h_goals, a_prev_rating, a_goals, K, C)\n",
    "\n",
    "        # update running count of total false predictions\n",
    "        false_preds_count += false_pred\n",
    "\n",
    "        # adding results to elo_table if game number is the same for both teams\n",
    "        if h_game_num == a_game_num:\n",
    "            game_num = h_game_num\n",
    "            elo_table.at[(season, game_num), h_team] = new_h_rating\n",
    "            elo_table.at[(season, game_num), a_team] = new_a_rating\n",
    "            elo_table.at[(season, game_num), 'new_false_preds'] += false_pred\n",
    "            elo_table.at[(season, game_num), 'total_false_preds'] = false_preds_count\n",
    "\n",
    "        # adding results to elo_table if game number is different for each team\n",
    "        else:\n",
    "            # home\n",
    "            elo_table.at[(season, h_game_num), h_team] = new_h_rating\n",
    "            elo_table.at[(season, h_game_num), 'new_false_preds'] += false_pred\n",
    "            elo_table.at[(season, h_game_num), 'total_false_preds'] = false_preds_count\n",
    "            # away\n",
    "            elo_table.at[(season, a_game_num), a_team] = new_a_rating\n",
    "            elo_table.at[(season, a_game_num), 'new_false_preds'] += false_pred\n",
    "            elo_table.at[(season, a_game_num), 'total_false_preds'] = false_preds_count\n",
    "        \n",
    "        log.append({'match_id' : data['game_id'],\n",
    "                    'season' : season,\n",
    "                    'home_team' : h_team,\n",
    "                    'home_game_num': h_game_num,\n",
    "                    'away_team' : a_team,\n",
    "                    'away_game_num' : a_game_num,\n",
    "                    'result_expected' : expected_result,\n",
    "                    'result_actual' : actual_result,\n",
    "                    'false_pred' : false_pred})\n",
    "            \n",
    "    return elo_table, pd.DataFrame(log)"
   ]
  },
  {
   "cell_type": "code",
   "execution_count": 21,
   "metadata": {
    "ExecuteTime": {
     "end_time": "2021-06-15T05:44:48.680214Z",
     "start_time": "2021-06-15T05:44:48.170339Z"
    },
    "scrolled": true
   },
   "outputs": [
    {
     "ename": "NameError",
     "evalue": "name 'update_rating' is not defined",
     "output_type": "error",
     "traceback": [
      "\u001b[0;31m---------------------------------------------------------------------------\u001b[0m",
      "\u001b[0;31mNameError\u001b[0m                                 Traceback (most recent call last)",
      "\u001b[0;32m<ipython-input-21-1f359a7399eb>\u001b[0m in \u001b[0;36m<module>\u001b[0;34m\u001b[0m\n\u001b[0;32m----> 1\u001b[0;31m \u001b[0melo_table_filled\u001b[0m\u001b[0;34m,\u001b[0m \u001b[0melo_table_log\u001b[0m \u001b[0;34m=\u001b[0m \u001b[0mcreate_elo_table\u001b[0m\u001b[0;34m(\u001b[0m\u001b[0;34m)\u001b[0m\u001b[0;34m\u001b[0m\u001b[0;34m\u001b[0m\u001b[0m\n\u001b[0m",
      "\u001b[0;32m<ipython-input-20-49b62d30c3b8>\u001b[0m in \u001b[0;36mcreate_elo_table\u001b[0;34m(games, K, C)\u001b[0m\n\u001b[1;32m     44\u001b[0m         \u001b[0;31m# running 'update_rating' function and saving results\u001b[0m\u001b[0;34m\u001b[0m\u001b[0;34m\u001b[0m\u001b[0;34m\u001b[0m\u001b[0m\n\u001b[1;32m     45\u001b[0m         \u001b[0mnew_h_rating\u001b[0m\u001b[0;34m,\u001b[0m \u001b[0mnew_a_rating\u001b[0m\u001b[0;34m,\u001b[0m \u001b[0mfalse_pred\u001b[0m\u001b[0;34m,\u001b[0m \u001b[0mexpected_result\u001b[0m\u001b[0;34m,\u001b[0m \u001b[0mactual_result\u001b[0m \u001b[0;34m=\u001b[0m\u001b[0;31m \u001b[0m\u001b[0;31m\\\u001b[0m\u001b[0;34m\u001b[0m\u001b[0;34m\u001b[0m\u001b[0m\n\u001b[0;32m---> 46\u001b[0;31m         \u001b[0mupdate_rating\u001b[0m\u001b[0;34m(\u001b[0m\u001b[0mh_prev_rating\u001b[0m\u001b[0;34m,\u001b[0m \u001b[0mh_goals\u001b[0m\u001b[0;34m,\u001b[0m \u001b[0ma_prev_rating\u001b[0m\u001b[0;34m,\u001b[0m \u001b[0ma_goals\u001b[0m\u001b[0;34m,\u001b[0m \u001b[0mK\u001b[0m\u001b[0;34m,\u001b[0m \u001b[0mC\u001b[0m\u001b[0;34m)\u001b[0m\u001b[0;34m\u001b[0m\u001b[0;34m\u001b[0m\u001b[0m\n\u001b[0m\u001b[1;32m     47\u001b[0m \u001b[0;34m\u001b[0m\u001b[0m\n\u001b[1;32m     48\u001b[0m         \u001b[0;31m# update running count of total false predictions\u001b[0m\u001b[0;34m\u001b[0m\u001b[0;34m\u001b[0m\u001b[0;34m\u001b[0m\u001b[0m\n",
      "\u001b[0;31mNameError\u001b[0m: name 'update_rating' is not defined"
     ]
    }
   ],
   "source": [
    "elo_table_filled, elo_table_log = create_elo_table()"
   ]
  },
  {
   "cell_type": "code",
   "execution_count": null,
   "metadata": {
    "ExecuteTime": {
     "end_time": "2021-06-15T05:44:48.693105Z",
     "start_time": "2021-06-15T05:44:43.505Z"
    }
   },
   "outputs": [],
   "source": [
    "elo_table_filled.to_csv('../data/api_football_data/05_merged_data/elo_table_filled.csv')\n",
    "elo_table_log.to_csv('../data/api_football_data/05_merged_data/elo_table_log.csv')"
   ]
  },
  {
   "cell_type": "code",
   "execution_count": null,
   "metadata": {
    "ExecuteTime": {
     "end_time": "2021-06-15T05:44:48.694477Z",
     "start_time": "2021-06-15T05:44:43.509Z"
    }
   },
   "outputs": [],
   "source": [
    "elo_table_log['false_pred'].value_counts(normalize=True)"
   ]
  },
  {
   "cell_type": "markdown",
   "metadata": {},
   "source": [
    "#### Code Testing"
   ]
  },
  {
   "cell_type": "code",
   "execution_count": null,
   "metadata": {
    "ExecuteTime": {
     "end_time": "2021-06-15T05:44:48.695834Z",
     "start_time": "2021-06-15T05:44:43.576Z"
    }
   },
   "outputs": [],
   "source": [
    "update_rating(723, 3, 438, 0, K=20, C=200)"
   ]
  },
  {
   "cell_type": "code",
   "execution_count": null,
   "metadata": {
    "ExecuteTime": {
     "end_time": "2021-06-15T05:44:48.696914Z",
     "start_time": "2021-06-15T05:44:43.580Z"
    }
   },
   "outputs": [],
   "source": [
    "update_rating(723, 0, 438, 3, K=20, C=200)"
   ]
  },
  {
   "cell_type": "code",
   "execution_count": null,
   "metadata": {
    "ExecuteTime": {
     "end_time": "2021-06-15T05:44:48.698058Z",
     "start_time": "2021-06-15T05:44:43.583Z"
    }
   },
   "outputs": [],
   "source": [
    "723-754.5, 723-634.5, 438-406.5, 438-526.5"
   ]
  },
  {
   "cell_type": "markdown",
   "metadata": {},
   "source": [
    "## Saved Code"
   ]
  },
  {
   "cell_type": "code",
   "execution_count": null,
   "metadata": {
    "ExecuteTime": {
     "end_time": "2021-06-15T05:44:48.699138Z",
     "start_time": "2021-06-15T05:44:43.649Z"
    }
   },
   "outputs": [],
   "source": [
    "# Realized an easier way to handle first games of the season. Using try/except to set previous ratings.\n",
    "# When doing it for game 1, 1-1 will be 0, which will raise a 'key' error. If an error occurs for one \n",
    "# or both of the teams their previous_rating variable will be set to 500. There shouldnt be errors\n",
    "# otherwise.\n",
    "\n",
    "# saving this code for safety\n",
    "\n",
    "#         # first game - update each team's game 1 using predetermined ratings at the start of each season\n",
    "#         if h_game_num == 1 or a_game_num == 1:\n",
    "#             # running 'update_rating' function and saving results\n",
    "#             new_h_rating, new_a_rating, false_pred, expected_result, actual_result = \\\n",
    "#             update_rating(500, h_goals, 500, a_goals, K, C)\n",
    "            \n",
    "            \n",
    "#             # add results to elo_table if game number is the same for both teams\n",
    "#             if h_game_num == a_game_num:\n",
    "#                 game_num = h_game_num\n",
    "#                 elo_table.at[(season, game_num), h_team] = new_h_rating\n",
    "#                 elo_table.at[(season, game_num), a_team] = new_a_rating\n",
    "#                 elo_table.at[(season, game_num), 'new_false_preds'] += false_pred\n",
    "#                 elo_table.at[(season, game_num), 'total_false_preds'] = false_preds_count\n",
    "                \n",
    "#             # add results to elo_table if game numbers aren't the same (when number of teams is odd)\n",
    "#             else:\n",
    "#                 # home\n",
    "#                 elo_table.at[(season, h_game_num), h_team] = new_h_rating\n",
    "#                 elo_table.at[(season, h_game_num), 'new_false_preds'] += false_pred\n",
    "#                 elo_table.at[(season, h_game_num), 'total_false_preds'] = false_preds_count\n",
    "#                 # away\n",
    "#                 elo_table.at[(season, a_game_num), a_team] = new_a_rating\n",
    "#                 elo_table.at[(season, a_game_num), 'new_false_preds'] += false_pred\n",
    "#                 elo_table.at[(season, a_game_num), 'total_false_preds'] = false_preds_count "
   ]
  },
  {
   "cell_type": "markdown",
   "metadata": {},
   "source": [
    "### ELO Model Equation"
   ]
  },
  {
   "cell_type": "markdown",
   "metadata": {},
   "source": [
    "**Where:**  \n",
    "\n",
    "|  Ratings | Stats | Coefficients|\n",
    "|:---------|:------|:------------|\n",
    "| $R_{start}$ = 500 | $Pass\\%$ = Pass accuracy percentage      | $K$ = Impact of all terms on team's new rating                |\n",
    "| $R_{old}$ = Team's previous rating    | $Pos.\\%$ = Possession percentage         | $C$ = Spread of all ratings                             |\n",
    "| $R_{new}$ = Team's new rating         | $GF - GA$ = Goal differential            | $D$ = Impact of misc stats on rating ($Pass\\%$ and $Pos.\\%$)   |\n",
    "| $R_{opp}$ = Opponent's rating         | $R_{opp} - R_{old}$ = Matchup difficulty |    |"
   ]
  },
  {
   "cell_type": "markdown",
   "metadata": {},
   "source": [
    "**FIRST GAME OF SEASON**\n",
    "$$\\large R_{new} = R_{start} + K \\begin{pmatrix} GF - GA + \\frac{R_{opp} - R_{old}}{C} + D( Pass\\% + Pos.\\%) \\end{pmatrix} $$\n",
    "\n",
    "**SUBSEQUENT GAMES**\n",
    "\n",
    "$$\\large R_{new} = R_{old} + K \\begin{pmatrix} GF - GA + \\frac{R_{opp} - R_{old}}{C} + D( Pass\\% + Pos.\\%) \\end{pmatrix} $$"
   ]
  }
 ],
 "metadata": {
  "kernelspec": {
   "display_name": "Python 3",
   "language": "python",
   "name": "python3"
  },
  "language_info": {
   "codemirror_mode": {
    "name": "ipython",
    "version": 3
   },
   "file_extension": ".py",
   "mimetype": "text/x-python",
   "name": "python",
   "nbconvert_exporter": "python",
   "pygments_lexer": "ipython3",
   "version": "3.8.5"
  },
  "toc": {
   "base_numbering": 1,
   "nav_menu": {},
   "number_sections": false,
   "sideBar": true,
   "skip_h1_title": false,
   "title_cell": "Table of Contents",
   "title_sidebar": "Contents",
   "toc_cell": false,
   "toc_position": {},
   "toc_section_display": true,
   "toc_window_display": false
  },
  "varInspector": {
   "cols": {
    "lenName": 16,
    "lenType": 16,
    "lenVar": 40
   },
   "kernels_config": {
    "python": {
     "delete_cmd_postfix": "",
     "delete_cmd_prefix": "del ",
     "library": "var_list.py",
     "varRefreshCmd": "print(var_dic_list())"
    },
    "r": {
     "delete_cmd_postfix": ") ",
     "delete_cmd_prefix": "rm(",
     "library": "var_list.r",
     "varRefreshCmd": "cat(var_dic_list()) "
    }
   },
   "types_to_exclude": [
    "module",
    "function",
    "builtin_function_or_method",
    "instance",
    "_Feature"
   ],
   "window_display": false
  }
 },
 "nbformat": 4,
 "nbformat_minor": 4
}

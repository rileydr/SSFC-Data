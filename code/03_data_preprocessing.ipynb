{
 "cells": [
  {
   "cell_type": "code",
   "execution_count": 1,
   "metadata": {
    "ExecuteTime": {
     "end_time": "2021-06-13T17:19:25.615003Z",
     "start_time": "2021-06-13T17:19:23.885944Z"
    }
   },
   "outputs": [],
   "source": [
    "import json\n",
    "import pandas as pd\n",
    "import numpy as np\n",
    "import logging\n",
    "import datetime as dt\n",
    "\n",
    "import utilities.densmore_v3 as dns"
   ]
  },
  {
   "cell_type": "code",
   "execution_count": 2,
   "metadata": {
    "ExecuteTime": {
     "end_time": "2021-06-13T17:19:25.622741Z",
     "start_time": "2021-06-13T17:19:25.619524Z"
    }
   },
   "outputs": [],
   "source": [
    "import logging\n",
    "logging.basicConfig(level=logging.INFO, filemode='w', \n",
    "                    filename='../data/api_football_data/03_fixtures_basic_stats/fixtures_basic_stats.log',\n",
    "                    format='%(asctime)s  |  %(levelname)s  |  %(message)s', \n",
    "                    datefmt='%a %b %d | %I:%M:%S %p')"
   ]
  },
  {
   "cell_type": "markdown",
   "metadata": {},
   "source": [
    "## <span style=\"color:steelblue\">Converting Basic Stats JSON to CSV \n",
    "\n",
    "<table width=100%>\n",
    "<tr>\n",
    "<td style=\"text-align:left\" bgcolor=\"lightsteelblue\">\n",
    "</td>    \n",
    "</tr>"
   ]
  },
  {
   "cell_type": "markdown",
   "metadata": {},
   "source": [
    "Unfortunately, the Pandas json_normalize method doesn't work on this one... several lists break up the flattening, so I wrote custom code to extract the data I needed into a single table that I can easily join to the main fixtures data."
   ]
  },
  {
   "cell_type": "markdown",
   "metadata": {},
   "source": [
    " "
   ]
  },
  {
   "cell_type": "code",
   "execution_count": 3,
   "metadata": {
    "ExecuteTime": {
     "end_time": "2021-06-13T17:19:25.750590Z",
     "start_time": "2021-06-13T17:19:25.624350Z"
    }
   },
   "outputs": [],
   "source": [
    "fixtures_df = pd.read_csv('../data/api_football_data/02_aggregated_info/rapi_fixtures_2016_2019.csv')\n",
    "\n",
    "with open('../data/api_football_data/03_fixtures_basic_stats/rapi_fixtures_basic_stats_2016_2019.json') as f:\n",
    "    basic_stats = json.load(f)"
   ]
  },
  {
   "cell_type": "code",
   "execution_count": 4,
   "metadata": {
    "ExecuteTime": {
     "end_time": "2021-06-13T17:19:28.287091Z",
     "start_time": "2021-06-13T17:19:25.752133Z"
    },
    "scrolled": false
   },
   "outputs": [],
   "source": [
    "fixture_basic_stats = []    \n",
    "    \n",
    "for i in range(len(basic_stats)):\n",
    "    \n",
    "    stats = {}\n",
    "    \n",
    "    stats['fx_id'] = int(basic_stats[i]['parameters']['fixture'])\n",
    "    logging.info(f\"Fixture ID set: {stats['fx_id']}\")\n",
    "    \n",
    "    fix_base_info = fixtures_df[fixtures_df['fx_id'] == stats['fx_id']].to_dict(orient='list')\n",
    "\n",
    "    stats['tm_h_id'] = fix_base_info['tm_h_id'][0]\n",
    "    stats['tm_h_name'] = fix_base_info['tm_h_name'][0]\n",
    "    stats['tm_a_id'] = fix_base_info['tm_a_id'][0]\n",
    "    stats['tm_a_name'] = fix_base_info['tm_a_name'][0]\n",
    "    \n",
    "    logging.info(f\"Home ID set to: {stats['tm_h_id']}\")\n",
    "    logging.info(f\"Home ID set from: {fix_base_info['tm_h_id'][0]}\")\n",
    "    \n",
    "    for team in basic_stats[i]['response']:\n",
    "        stat_dict = {}\n",
    "        \n",
    "        if team['team']['id'] == stats['tm_h_id']:\n",
    "            for stat in team['statistics']:\n",
    "                s = stat['type']\n",
    "                v = stat['value']\n",
    "                stat_dict[s] = v\n",
    "                \n",
    "            stat_dict = {'h_' + key.lower().replace(' ', '_'): val for key, val in stat_dict.items()}    \n",
    "\n",
    "            \n",
    "        if team['team']['id'] == stats['tm_a_id']:\n",
    "            for stat in team['statistics']:\n",
    "                s = stat['type']\n",
    "                v = stat['value']\n",
    "                stat_dict[s] = v\n",
    "                \n",
    "\n",
    "            stat_dict = {'a_' + key.lower().replace(' ', '_'): val for key, val in stat_dict.items()}\n",
    "                \n",
    "\n",
    "        stats.update(stat_dict) \n",
    "        \n",
    "    fixture_basic_stats.append(stats)\n",
    "\n",
    "basic_stats_df = pd.DataFrame(fixture_basic_stats)\n",
    "basic_stats_df.to_csv('../data/api_football_data/03_fixtures_basic_stats/rapi_fixtures_basic_stats_2016_2019.csv', index=False)"
   ]
  },
  {
   "cell_type": "markdown",
   "metadata": {},
   "source": [
    " "
   ]
  },
  {
   "cell_type": "markdown",
   "metadata": {},
   "source": [
    "#### **Removing unnecessary columns for ELO Model**"
   ]
  },
  {
   "cell_type": "code",
   "execution_count": 5,
   "metadata": {
    "ExecuteTime": {
     "end_time": "2021-06-13T17:19:28.294097Z",
     "start_time": "2021-06-13T17:19:28.288723Z"
    },
    "scrolled": false
   },
   "outputs": [
    {
     "data": {
      "text/plain": [
       "Index(['fx_id', 'tm_h_id', 'tm_h_name', 'tm_a_id', 'tm_a_name',\n",
       "       'h_shots_on_goal', 'h_shots_off_goal', 'h_total_shots',\n",
       "       'h_blocked_shots', 'h_shots_insidebox', 'h_shots_outsidebox', 'h_fouls',\n",
       "       'h_corner_kicks', 'h_offsides', 'h_ball_possession', 'h_yellow_cards',\n",
       "       'h_red_cards', 'h_goalkeeper_saves', 'h_total_passes',\n",
       "       'h_passes_accurate', 'h_passes_%', 'a_shots_on_goal',\n",
       "       'a_shots_off_goal', 'a_total_shots', 'a_blocked_shots',\n",
       "       'a_shots_insidebox', 'a_shots_outsidebox', 'a_fouls', 'a_corner_kicks',\n",
       "       'a_offsides', 'a_ball_possession', 'a_yellow_cards', 'a_red_cards',\n",
       "       'a_goalkeeper_saves', 'a_total_passes', 'a_passes_accurate',\n",
       "       'a_passes_%'],\n",
       "      dtype='object')"
      ]
     },
     "execution_count": 5,
     "metadata": {},
     "output_type": "execute_result"
    }
   ],
   "source": [
    "basic_stats_df.columns"
   ]
  },
  {
   "cell_type": "code",
   "execution_count": 6,
   "metadata": {
    "ExecuteTime": {
     "end_time": "2021-06-13T17:19:28.302053Z",
     "start_time": "2021-06-13T17:19:28.297934Z"
    }
   },
   "outputs": [],
   "source": [
    "model_stats = basic_stats_df[['fx_id', 'tm_h_id', 'tm_h_name', 'tm_a_id', 'tm_a_name', \n",
    "                              'h_ball_possession', 'h_passes_%', 'a_ball_possession', 'a_passes_%']].copy()"
   ]
  },
  {
   "cell_type": "code",
   "execution_count": 7,
   "metadata": {
    "ExecuteTime": {
     "end_time": "2021-06-13T17:19:28.308174Z",
     "start_time": "2021-06-13T17:19:28.305160Z"
    }
   },
   "outputs": [],
   "source": [
    "model_stats = model_stats.rename(axis=1, mapper={'h_ball_possession':'h_ball_poss', 'a_ball_possession':'a_ball_poss',\n",
    "                                  'h_passes_%':'h_pass_acc', 'a_passes_%':'a_pass_acc'})"
   ]
  },
  {
   "cell_type": "code",
   "execution_count": 8,
   "metadata": {
    "ExecuteTime": {
     "end_time": "2021-06-13T17:19:28.319155Z",
     "start_time": "2021-06-13T17:19:28.310099Z"
    }
   },
   "outputs": [],
   "source": [
    "model_stats.to_csv('../data/api_football_data/04_model_data/model_stats_2016_2019.csv', index=False)"
   ]
  },
  {
   "cell_type": "markdown",
   "metadata": {},
   "source": [
    "### **Combining Basic Stats and Match Info Data**"
   ]
  },
  {
   "cell_type": "markdown",
   "metadata": {},
   "source": [
    "#### **Reading in CSVs**"
   ]
  },
  {
   "cell_type": "code",
   "execution_count": 9,
   "metadata": {
    "ExecuteTime": {
     "end_time": "2021-06-13T17:19:28.401955Z",
     "start_time": "2021-06-13T17:19:28.320797Z"
    },
    "scrolled": true
   },
   "outputs": [
    {
     "data": {
      "text/html": [
       "<div>\n",
       "<style scoped>\n",
       "    .dataframe tbody tr th:only-of-type {\n",
       "        vertical-align: middle;\n",
       "    }\n",
       "\n",
       "    .dataframe tbody tr th {\n",
       "        vertical-align: top;\n",
       "    }\n",
       "\n",
       "    .dataframe thead th {\n",
       "        text-align: right;\n",
       "    }\n",
       "</style>\n",
       "<table border=\"1\" class=\"dataframe\">\n",
       "  <thead>\n",
       "    <tr style=\"text-align: right;\">\n",
       "      <th></th>\n",
       "      <th>fx_id</th>\n",
       "      <th>tm_h_id</th>\n",
       "      <th>tm_h_name</th>\n",
       "      <th>tm_a_id</th>\n",
       "      <th>tm_a_name</th>\n",
       "      <th>h_ball_poss</th>\n",
       "      <th>h_pass_acc</th>\n",
       "      <th>a_ball_poss</th>\n",
       "      <th>a_pass_acc</th>\n",
       "    </tr>\n",
       "  </thead>\n",
       "  <tbody>\n",
       "    <tr>\n",
       "      <th>0</th>\n",
       "      <td>148290</td>\n",
       "      <td>1601</td>\n",
       "      <td>Toronto FC</td>\n",
       "      <td>1595</td>\n",
       "      <td>Seattle Sounders</td>\n",
       "      <td>54%</td>\n",
       "      <td>76%</td>\n",
       "      <td>46%</td>\n",
       "      <td>68%</td>\n",
       "    </tr>\n",
       "    <tr>\n",
       "      <th>1</th>\n",
       "      <td>148291</td>\n",
       "      <td>1614</td>\n",
       "      <td>Montreal Impact</td>\n",
       "      <td>1601</td>\n",
       "      <td>Toronto FC</td>\n",
       "      <td>43%</td>\n",
       "      <td>73%</td>\n",
       "      <td>57%</td>\n",
       "      <td>78%</td>\n",
       "    </tr>\n",
       "    <tr>\n",
       "      <th>2</th>\n",
       "      <td>148292</td>\n",
       "      <td>1601</td>\n",
       "      <td>Toronto FC</td>\n",
       "      <td>1614</td>\n",
       "      <td>Montreal Impact</td>\n",
       "      <td>50%</td>\n",
       "      <td>71%</td>\n",
       "      <td>50%</td>\n",
       "      <td>72%</td>\n",
       "    </tr>\n",
       "    <tr>\n",
       "      <th>3</th>\n",
       "      <td>148293</td>\n",
       "      <td>1595</td>\n",
       "      <td>Seattle Sounders</td>\n",
       "      <td>1610</td>\n",
       "      <td>Colorado Rapids</td>\n",
       "      <td>52%</td>\n",
       "      <td>79%</td>\n",
       "      <td>48%</td>\n",
       "      <td>77%</td>\n",
       "    </tr>\n",
       "    <tr>\n",
       "      <th>4</th>\n",
       "      <td>148294</td>\n",
       "      <td>1610</td>\n",
       "      <td>Colorado Rapids</td>\n",
       "      <td>1595</td>\n",
       "      <td>Seattle Sounders</td>\n",
       "      <td>64%</td>\n",
       "      <td>77%</td>\n",
       "      <td>36%</td>\n",
       "      <td>67%</td>\n",
       "    </tr>\n",
       "    <tr>\n",
       "      <th>...</th>\n",
       "      <td>...</td>\n",
       "      <td>...</td>\n",
       "      <td>...</td>\n",
       "      <td>...</td>\n",
       "      <td>...</td>\n",
       "      <td>...</td>\n",
       "      <td>...</td>\n",
       "      <td>...</td>\n",
       "      <td>...</td>\n",
       "    </tr>\n",
       "    <tr>\n",
       "      <th>1571</th>\n",
       "      <td>250195</td>\n",
       "      <td>1608</td>\n",
       "      <td>Atlanta United FC</td>\n",
       "      <td>1599</td>\n",
       "      <td>Philadelphia Union</td>\n",
       "      <td>53%</td>\n",
       "      <td>85%</td>\n",
       "      <td>47%</td>\n",
       "      <td>84%</td>\n",
       "    </tr>\n",
       "    <tr>\n",
       "      <th>1572</th>\n",
       "      <td>250196</td>\n",
       "      <td>1616</td>\n",
       "      <td>Los Angeles FC</td>\n",
       "      <td>1605</td>\n",
       "      <td>Los Angeles Galaxy</td>\n",
       "      <td>42%</td>\n",
       "      <td>80%</td>\n",
       "      <td>58%</td>\n",
       "      <td>83%</td>\n",
       "    </tr>\n",
       "    <tr>\n",
       "      <th>1573</th>\n",
       "      <td>250197</td>\n",
       "      <td>1616</td>\n",
       "      <td>Los Angeles FC</td>\n",
       "      <td>1595</td>\n",
       "      <td>Seattle Sounders</td>\n",
       "      <td>68%</td>\n",
       "      <td>88%</td>\n",
       "      <td>32%</td>\n",
       "      <td>68%</td>\n",
       "    </tr>\n",
       "    <tr>\n",
       "      <th>1574</th>\n",
       "      <td>250198</td>\n",
       "      <td>1608</td>\n",
       "      <td>Atlanta United FC</td>\n",
       "      <td>1601</td>\n",
       "      <td>Toronto FC</td>\n",
       "      <td>59%</td>\n",
       "      <td>87%</td>\n",
       "      <td>41%</td>\n",
       "      <td>78%</td>\n",
       "    </tr>\n",
       "    <tr>\n",
       "      <th>1575</th>\n",
       "      <td>250199</td>\n",
       "      <td>1595</td>\n",
       "      <td>Seattle Sounders</td>\n",
       "      <td>1601</td>\n",
       "      <td>Toronto FC</td>\n",
       "      <td>35%</td>\n",
       "      <td>71%</td>\n",
       "      <td>65%</td>\n",
       "      <td>84%</td>\n",
       "    </tr>\n",
       "  </tbody>\n",
       "</table>\n",
       "<p>1576 rows × 9 columns</p>\n",
       "</div>"
      ],
      "text/plain": [
       "       fx_id  tm_h_id          tm_h_name  tm_a_id           tm_a_name  \\\n",
       "0     148290     1601         Toronto FC     1595    Seattle Sounders   \n",
       "1     148291     1614    Montreal Impact     1601          Toronto FC   \n",
       "2     148292     1601         Toronto FC     1614     Montreal Impact   \n",
       "3     148293     1595   Seattle Sounders     1610     Colorado Rapids   \n",
       "4     148294     1610    Colorado Rapids     1595    Seattle Sounders   \n",
       "...      ...      ...                ...      ...                 ...   \n",
       "1571  250195     1608  Atlanta United FC     1599  Philadelphia Union   \n",
       "1572  250196     1616     Los Angeles FC     1605  Los Angeles Galaxy   \n",
       "1573  250197     1616     Los Angeles FC     1595    Seattle Sounders   \n",
       "1574  250198     1608  Atlanta United FC     1601          Toronto FC   \n",
       "1575  250199     1595   Seattle Sounders     1601          Toronto FC   \n",
       "\n",
       "     h_ball_poss h_pass_acc a_ball_poss a_pass_acc  \n",
       "0            54%        76%         46%        68%  \n",
       "1            43%        73%         57%        78%  \n",
       "2            50%        71%         50%        72%  \n",
       "3            52%        79%         48%        77%  \n",
       "4            64%        77%         36%        67%  \n",
       "...          ...        ...         ...        ...  \n",
       "1571         53%        85%         47%        84%  \n",
       "1572         42%        80%         58%        83%  \n",
       "1573         68%        88%         32%        68%  \n",
       "1574         59%        87%         41%        78%  \n",
       "1575         35%        71%         65%        84%  \n",
       "\n",
       "[1576 rows x 9 columns]"
      ]
     },
     "execution_count": 9,
     "metadata": {},
     "output_type": "execute_result"
    }
   ],
   "source": [
    "model_stats"
   ]
  },
  {
   "cell_type": "code",
   "execution_count": 10,
   "metadata": {
    "ExecuteTime": {
     "end_time": "2021-06-13T17:19:28.433842Z",
     "start_time": "2021-06-13T17:19:28.403785Z"
    },
    "scrolled": false
   },
   "outputs": [
    {
     "data": {
      "text/html": [
       "<div>\n",
       "<style scoped>\n",
       "    .dataframe tbody tr th:only-of-type {\n",
       "        vertical-align: middle;\n",
       "    }\n",
       "\n",
       "    .dataframe tbody tr th {\n",
       "        vertical-align: top;\n",
       "    }\n",
       "\n",
       "    .dataframe thead th {\n",
       "        text-align: right;\n",
       "    }\n",
       "</style>\n",
       "<table border=\"1\" class=\"dataframe\">\n",
       "  <thead>\n",
       "    <tr style=\"text-align: right;\">\n",
       "      <th></th>\n",
       "      <th>fx_id</th>\n",
       "      <th>fx_ref</th>\n",
       "      <th>fx_tz</th>\n",
       "      <th>fx_date</th>\n",
       "      <th>fx_time</th>\n",
       "      <th>fx_per_fst</th>\n",
       "      <th>fx_per_sec</th>\n",
       "      <th>fx_ven_id</th>\n",
       "      <th>fx_ven_name</th>\n",
       "      <th>fx_ven_city</th>\n",
       "      <th>...</th>\n",
       "      <th>gl_h</th>\n",
       "      <th>gl_a</th>\n",
       "      <th>sc_ht_h</th>\n",
       "      <th>sc_ht_a</th>\n",
       "      <th>sc_ft_h</th>\n",
       "      <th>sc_ft_a</th>\n",
       "      <th>sc_et_h</th>\n",
       "      <th>sc_et_a</th>\n",
       "      <th>sc_pen_h</th>\n",
       "      <th>sc_pen_a</th>\n",
       "    </tr>\n",
       "  </thead>\n",
       "  <tbody>\n",
       "    <tr>\n",
       "      <th>0</th>\n",
       "      <td>148290</td>\n",
       "      <td>Alan Kelly, Ireland</td>\n",
       "      <td>UTC</td>\n",
       "      <td>2016-12-11T01:00:00+00:00</td>\n",
       "      <td>1481418000</td>\n",
       "      <td>1481418000</td>\n",
       "      <td>1481421600</td>\n",
       "      <td>NaN</td>\n",
       "      <td>BMO Field</td>\n",
       "      <td>Toronto</td>\n",
       "      <td>...</td>\n",
       "      <td>0</td>\n",
       "      <td>0</td>\n",
       "      <td>0</td>\n",
       "      <td>0</td>\n",
       "      <td>0</td>\n",
       "      <td>0</td>\n",
       "      <td>0.0</td>\n",
       "      <td>0.0</td>\n",
       "      <td>4.0</td>\n",
       "      <td>5.0</td>\n",
       "    </tr>\n",
       "    <tr>\n",
       "      <th>1</th>\n",
       "      <td>148291</td>\n",
       "      <td>Juan Guzman, USA</td>\n",
       "      <td>UTC</td>\n",
       "      <td>2016-11-23T01:00:00+00:00</td>\n",
       "      <td>1479862800</td>\n",
       "      <td>1479862800</td>\n",
       "      <td>1479866400</td>\n",
       "      <td>NaN</td>\n",
       "      <td>Olympic Stadium</td>\n",
       "      <td>Montreal</td>\n",
       "      <td>...</td>\n",
       "      <td>3</td>\n",
       "      <td>2</td>\n",
       "      <td>2</td>\n",
       "      <td>0</td>\n",
       "      <td>3</td>\n",
       "      <td>2</td>\n",
       "      <td>NaN</td>\n",
       "      <td>NaN</td>\n",
       "      <td>NaN</td>\n",
       "      <td>NaN</td>\n",
       "    </tr>\n",
       "    <tr>\n",
       "      <th>2</th>\n",
       "      <td>148292</td>\n",
       "      <td>Jair Marrufo, USA</td>\n",
       "      <td>UTC</td>\n",
       "      <td>2016-12-01T00:00:00+00:00</td>\n",
       "      <td>1480550400</td>\n",
       "      <td>1480550400</td>\n",
       "      <td>1480554000</td>\n",
       "      <td>NaN</td>\n",
       "      <td>BMO Field</td>\n",
       "      <td>Toronto</td>\n",
       "      <td>...</td>\n",
       "      <td>5</td>\n",
       "      <td>2</td>\n",
       "      <td>2</td>\n",
       "      <td>1</td>\n",
       "      <td>3</td>\n",
       "      <td>2</td>\n",
       "      <td>5.0</td>\n",
       "      <td>2.0</td>\n",
       "      <td>NaN</td>\n",
       "      <td>NaN</td>\n",
       "    </tr>\n",
       "    <tr>\n",
       "      <th>3</th>\n",
       "      <td>148293</td>\n",
       "      <td>Chris Penso, USA</td>\n",
       "      <td>UTC</td>\n",
       "      <td>2016-11-23T03:00:00+00:00</td>\n",
       "      <td>1479870000</td>\n",
       "      <td>1479870000</td>\n",
       "      <td>1479873600</td>\n",
       "      <td>NaN</td>\n",
       "      <td>CenturyLink Field</td>\n",
       "      <td>Seattle</td>\n",
       "      <td>...</td>\n",
       "      <td>2</td>\n",
       "      <td>1</td>\n",
       "      <td>1</td>\n",
       "      <td>1</td>\n",
       "      <td>2</td>\n",
       "      <td>1</td>\n",
       "      <td>NaN</td>\n",
       "      <td>NaN</td>\n",
       "      <td>NaN</td>\n",
       "      <td>NaN</td>\n",
       "    </tr>\n",
       "    <tr>\n",
       "      <th>4</th>\n",
       "      <td>148294</td>\n",
       "      <td>Ricardo Salazar, USA</td>\n",
       "      <td>UTC</td>\n",
       "      <td>2016-11-27T21:00:00+00:00</td>\n",
       "      <td>1480280400</td>\n",
       "      <td>1480280400</td>\n",
       "      <td>1480284000</td>\n",
       "      <td>NaN</td>\n",
       "      <td>Dick's Sporting Goods Park</td>\n",
       "      <td>Commerce City</td>\n",
       "      <td>...</td>\n",
       "      <td>0</td>\n",
       "      <td>1</td>\n",
       "      <td>0</td>\n",
       "      <td>0</td>\n",
       "      <td>0</td>\n",
       "      <td>1</td>\n",
       "      <td>NaN</td>\n",
       "      <td>NaN</td>\n",
       "      <td>NaN</td>\n",
       "      <td>NaN</td>\n",
       "    </tr>\n",
       "    <tr>\n",
       "      <th>...</th>\n",
       "      <td>...</td>\n",
       "      <td>...</td>\n",
       "      <td>...</td>\n",
       "      <td>...</td>\n",
       "      <td>...</td>\n",
       "      <td>...</td>\n",
       "      <td>...</td>\n",
       "      <td>...</td>\n",
       "      <td>...</td>\n",
       "      <td>...</td>\n",
       "      <td>...</td>\n",
       "      <td>...</td>\n",
       "      <td>...</td>\n",
       "      <td>...</td>\n",
       "      <td>...</td>\n",
       "      <td>...</td>\n",
       "      <td>...</td>\n",
       "      <td>...</td>\n",
       "      <td>...</td>\n",
       "      <td>...</td>\n",
       "      <td>...</td>\n",
       "    </tr>\n",
       "    <tr>\n",
       "      <th>1571</th>\n",
       "      <td>250195</td>\n",
       "      <td>Ismail Elfath, USA</td>\n",
       "      <td>UTC</td>\n",
       "      <td>2019-10-25T00:00:00+00:00</td>\n",
       "      <td>1571961600</td>\n",
       "      <td>1571961600</td>\n",
       "      <td>1571965200</td>\n",
       "      <td>NaN</td>\n",
       "      <td>Mercedes-Benz Stadium</td>\n",
       "      <td>Atlanta</td>\n",
       "      <td>...</td>\n",
       "      <td>2</td>\n",
       "      <td>0</td>\n",
       "      <td>1</td>\n",
       "      <td>0</td>\n",
       "      <td>2</td>\n",
       "      <td>0</td>\n",
       "      <td>NaN</td>\n",
       "      <td>NaN</td>\n",
       "      <td>NaN</td>\n",
       "      <td>NaN</td>\n",
       "    </tr>\n",
       "    <tr>\n",
       "      <th>1572</th>\n",
       "      <td>250196</td>\n",
       "      <td>Kevin Stott, USA</td>\n",
       "      <td>UTC</td>\n",
       "      <td>2019-10-25T02:30:00+00:00</td>\n",
       "      <td>1571970600</td>\n",
       "      <td>1571970600</td>\n",
       "      <td>1571974200</td>\n",
       "      <td>NaN</td>\n",
       "      <td>Banc of California Stadium</td>\n",
       "      <td>Los Angeles</td>\n",
       "      <td>...</td>\n",
       "      <td>5</td>\n",
       "      <td>3</td>\n",
       "      <td>2</td>\n",
       "      <td>1</td>\n",
       "      <td>5</td>\n",
       "      <td>3</td>\n",
       "      <td>NaN</td>\n",
       "      <td>NaN</td>\n",
       "      <td>NaN</td>\n",
       "      <td>NaN</td>\n",
       "    </tr>\n",
       "    <tr>\n",
       "      <th>1573</th>\n",
       "      <td>250197</td>\n",
       "      <td>Jair Antonio Maruffo, USA</td>\n",
       "      <td>UTC</td>\n",
       "      <td>2019-10-30T02:00:00+00:00</td>\n",
       "      <td>1572400800</td>\n",
       "      <td>1572400800</td>\n",
       "      <td>1572404400</td>\n",
       "      <td>NaN</td>\n",
       "      <td>Banc of California Stadium</td>\n",
       "      <td>Los Angeles</td>\n",
       "      <td>...</td>\n",
       "      <td>1</td>\n",
       "      <td>3</td>\n",
       "      <td>1</td>\n",
       "      <td>2</td>\n",
       "      <td>1</td>\n",
       "      <td>3</td>\n",
       "      <td>NaN</td>\n",
       "      <td>NaN</td>\n",
       "      <td>NaN</td>\n",
       "      <td>NaN</td>\n",
       "    </tr>\n",
       "    <tr>\n",
       "      <th>1574</th>\n",
       "      <td>250198</td>\n",
       "      <td>Alan Kelly, Ireland</td>\n",
       "      <td>UTC</td>\n",
       "      <td>2019-10-31T00:00:00+00:00</td>\n",
       "      <td>1572480000</td>\n",
       "      <td>1572480000</td>\n",
       "      <td>1572483600</td>\n",
       "      <td>NaN</td>\n",
       "      <td>Mercedes-Benz Stadium</td>\n",
       "      <td>Atlanta</td>\n",
       "      <td>...</td>\n",
       "      <td>1</td>\n",
       "      <td>2</td>\n",
       "      <td>1</td>\n",
       "      <td>1</td>\n",
       "      <td>1</td>\n",
       "      <td>2</td>\n",
       "      <td>NaN</td>\n",
       "      <td>NaN</td>\n",
       "      <td>NaN</td>\n",
       "      <td>NaN</td>\n",
       "    </tr>\n",
       "    <tr>\n",
       "      <th>1575</th>\n",
       "      <td>250199</td>\n",
       "      <td>Allen Chapman, USA</td>\n",
       "      <td>UTC</td>\n",
       "      <td>2019-11-10T20:00:00+00:00</td>\n",
       "      <td>1573416000</td>\n",
       "      <td>1573416000</td>\n",
       "      <td>1573419600</td>\n",
       "      <td>NaN</td>\n",
       "      <td>CenturyLink Field</td>\n",
       "      <td>Seattle</td>\n",
       "      <td>...</td>\n",
       "      <td>3</td>\n",
       "      <td>1</td>\n",
       "      <td>0</td>\n",
       "      <td>0</td>\n",
       "      <td>3</td>\n",
       "      <td>1</td>\n",
       "      <td>NaN</td>\n",
       "      <td>NaN</td>\n",
       "      <td>NaN</td>\n",
       "      <td>NaN</td>\n",
       "    </tr>\n",
       "  </tbody>\n",
       "</table>\n",
       "<p>1576 rows × 38 columns</p>\n",
       "</div>"
      ],
      "text/plain": [
       "       fx_id                     fx_ref fx_tz                    fx_date  \\\n",
       "0     148290        Alan Kelly, Ireland   UTC  2016-12-11T01:00:00+00:00   \n",
       "1     148291           Juan Guzman, USA   UTC  2016-11-23T01:00:00+00:00   \n",
       "2     148292          Jair Marrufo, USA   UTC  2016-12-01T00:00:00+00:00   \n",
       "3     148293           Chris Penso, USA   UTC  2016-11-23T03:00:00+00:00   \n",
       "4     148294       Ricardo Salazar, USA   UTC  2016-11-27T21:00:00+00:00   \n",
       "...      ...                        ...   ...                        ...   \n",
       "1571  250195         Ismail Elfath, USA   UTC  2019-10-25T00:00:00+00:00   \n",
       "1572  250196           Kevin Stott, USA   UTC  2019-10-25T02:30:00+00:00   \n",
       "1573  250197  Jair Antonio Maruffo, USA   UTC  2019-10-30T02:00:00+00:00   \n",
       "1574  250198        Alan Kelly, Ireland   UTC  2019-10-31T00:00:00+00:00   \n",
       "1575  250199         Allen Chapman, USA   UTC  2019-11-10T20:00:00+00:00   \n",
       "\n",
       "         fx_time  fx_per_fst  fx_per_sec  fx_ven_id  \\\n",
       "0     1481418000  1481418000  1481421600        NaN   \n",
       "1     1479862800  1479862800  1479866400        NaN   \n",
       "2     1480550400  1480550400  1480554000        NaN   \n",
       "3     1479870000  1479870000  1479873600        NaN   \n",
       "4     1480280400  1480280400  1480284000        NaN   \n",
       "...          ...         ...         ...        ...   \n",
       "1571  1571961600  1571961600  1571965200        NaN   \n",
       "1572  1571970600  1571970600  1571974200        NaN   \n",
       "1573  1572400800  1572400800  1572404400        NaN   \n",
       "1574  1572480000  1572480000  1572483600        NaN   \n",
       "1575  1573416000  1573416000  1573419600        NaN   \n",
       "\n",
       "                     fx_ven_name    fx_ven_city  ... gl_h gl_a  sc_ht_h  \\\n",
       "0                      BMO Field        Toronto  ...    0    0        0   \n",
       "1                Olympic Stadium       Montreal  ...    3    2        2   \n",
       "2                      BMO Field        Toronto  ...    5    2        2   \n",
       "3              CenturyLink Field        Seattle  ...    2    1        1   \n",
       "4     Dick's Sporting Goods Park  Commerce City  ...    0    1        0   \n",
       "...                          ...            ...  ...  ...  ...      ...   \n",
       "1571       Mercedes-Benz Stadium        Atlanta  ...    2    0        1   \n",
       "1572  Banc of California Stadium    Los Angeles  ...    5    3        2   \n",
       "1573  Banc of California Stadium    Los Angeles  ...    1    3        1   \n",
       "1574       Mercedes-Benz Stadium        Atlanta  ...    1    2        1   \n",
       "1575           CenturyLink Field        Seattle  ...    3    1        0   \n",
       "\n",
       "      sc_ht_a sc_ft_h sc_ft_a sc_et_h sc_et_a  sc_pen_h sc_pen_a  \n",
       "0           0       0       0     0.0     0.0       4.0      5.0  \n",
       "1           0       3       2     NaN     NaN       NaN      NaN  \n",
       "2           1       3       2     5.0     2.0       NaN      NaN  \n",
       "3           1       2       1     NaN     NaN       NaN      NaN  \n",
       "4           0       0       1     NaN     NaN       NaN      NaN  \n",
       "...       ...     ...     ...     ...     ...       ...      ...  \n",
       "1571        0       2       0     NaN     NaN       NaN      NaN  \n",
       "1572        1       5       3     NaN     NaN       NaN      NaN  \n",
       "1573        2       1       3     NaN     NaN       NaN      NaN  \n",
       "1574        1       1       2     NaN     NaN       NaN      NaN  \n",
       "1575        0       3       1     NaN     NaN       NaN      NaN  \n",
       "\n",
       "[1576 rows x 38 columns]"
      ]
     },
     "execution_count": 10,
     "metadata": {},
     "output_type": "execute_result"
    }
   ],
   "source": [
    "fixtures_df"
   ]
  },
  {
   "cell_type": "markdown",
   "metadata": {},
   "source": [
    "#### **Filtering out non-regular-season  Fixtures**"
   ]
  },
  {
   "cell_type": "code",
   "execution_count": 11,
   "metadata": {
    "ExecuteTime": {
     "end_time": "2021-06-13T17:19:28.463270Z",
     "start_time": "2021-06-13T17:19:28.436049Z"
    }
   },
   "outputs": [
    {
     "data": {
      "text/html": [
       "<div>\n",
       "<style scoped>\n",
       "    .dataframe tbody tr th:only-of-type {\n",
       "        vertical-align: middle;\n",
       "    }\n",
       "\n",
       "    .dataframe tbody tr th {\n",
       "        vertical-align: top;\n",
       "    }\n",
       "\n",
       "    .dataframe thead th {\n",
       "        text-align: right;\n",
       "    }\n",
       "</style>\n",
       "<table border=\"1\" class=\"dataframe\">\n",
       "  <thead>\n",
       "    <tr style=\"text-align: right;\">\n",
       "      <th></th>\n",
       "      <th>fx_id</th>\n",
       "      <th>fx_ref</th>\n",
       "      <th>fx_tz</th>\n",
       "      <th>fx_date</th>\n",
       "      <th>fx_time</th>\n",
       "      <th>fx_per_fst</th>\n",
       "      <th>fx_per_sec</th>\n",
       "      <th>fx_ven_id</th>\n",
       "      <th>fx_ven_name</th>\n",
       "      <th>fx_ven_city</th>\n",
       "      <th>...</th>\n",
       "      <th>gl_h</th>\n",
       "      <th>gl_a</th>\n",
       "      <th>sc_ht_h</th>\n",
       "      <th>sc_ht_a</th>\n",
       "      <th>sc_ft_h</th>\n",
       "      <th>sc_ft_a</th>\n",
       "      <th>sc_et_h</th>\n",
       "      <th>sc_et_a</th>\n",
       "      <th>sc_pen_h</th>\n",
       "      <th>sc_pen_a</th>\n",
       "    </tr>\n",
       "  </thead>\n",
       "  <tbody>\n",
       "    <tr>\n",
       "      <th>17</th>\n",
       "      <td>148307</td>\n",
       "      <td>Allen Chapman, USA</td>\n",
       "      <td>UTC</td>\n",
       "      <td>2016-03-06T18:30:00+00:00</td>\n",
       "      <td>1457289000</td>\n",
       "      <td>1457289000</td>\n",
       "      <td>1457292600</td>\n",
       "      <td>NaN</td>\n",
       "      <td>Red Bull Arena</td>\n",
       "      <td>Harrison</td>\n",
       "      <td>...</td>\n",
       "      <td>0</td>\n",
       "      <td>2</td>\n",
       "      <td>0</td>\n",
       "      <td>0</td>\n",
       "      <td>0</td>\n",
       "      <td>2</td>\n",
       "      <td>NaN</td>\n",
       "      <td>NaN</td>\n",
       "      <td>NaN</td>\n",
       "      <td>NaN</td>\n",
       "    </tr>\n",
       "    <tr>\n",
       "      <th>18</th>\n",
       "      <td>148308</td>\n",
       "      <td>Villarrea Armando, USA</td>\n",
       "      <td>UTC</td>\n",
       "      <td>2016-03-06T19:00:00+00:00</td>\n",
       "      <td>1457290800</td>\n",
       "      <td>1457290800</td>\n",
       "      <td>1457294400</td>\n",
       "      <td>NaN</td>\n",
       "      <td>Toyota Park</td>\n",
       "      <td>Bridgeview</td>\n",
       "      <td>...</td>\n",
       "      <td>3</td>\n",
       "      <td>4</td>\n",
       "      <td>1</td>\n",
       "      <td>3</td>\n",
       "      <td>3</td>\n",
       "      <td>4</td>\n",
       "      <td>NaN</td>\n",
       "      <td>NaN</td>\n",
       "      <td>NaN</td>\n",
       "      <td>NaN</td>\n",
       "    </tr>\n",
       "    <tr>\n",
       "      <th>19</th>\n",
       "      <td>148309</td>\n",
       "      <td>Chris Penso, USA</td>\n",
       "      <td>UTC</td>\n",
       "      <td>2016-03-06T19:00:00+00:00</td>\n",
       "      <td>1457290800</td>\n",
       "      <td>1457290800</td>\n",
       "      <td>1457294400</td>\n",
       "      <td>NaN</td>\n",
       "      <td>Orlando Citrus Bowl Stadium</td>\n",
       "      <td>Orlando</td>\n",
       "      <td>...</td>\n",
       "      <td>2</td>\n",
       "      <td>2</td>\n",
       "      <td>0</td>\n",
       "      <td>1</td>\n",
       "      <td>2</td>\n",
       "      <td>2</td>\n",
       "      <td>NaN</td>\n",
       "      <td>NaN</td>\n",
       "      <td>NaN</td>\n",
       "      <td>NaN</td>\n",
       "    </tr>\n",
       "    <tr>\n",
       "      <th>20</th>\n",
       "      <td>148310</td>\n",
       "      <td>Ted Unkel, USA</td>\n",
       "      <td>UTC</td>\n",
       "      <td>2016-03-06T20:00:00+00:00</td>\n",
       "      <td>1457294400</td>\n",
       "      <td>1457294400</td>\n",
       "      <td>1457298000</td>\n",
       "      <td>NaN</td>\n",
       "      <td>Avaya Stadium</td>\n",
       "      <td>San Jose</td>\n",
       "      <td>...</td>\n",
       "      <td>1</td>\n",
       "      <td>0</td>\n",
       "      <td>0</td>\n",
       "      <td>0</td>\n",
       "      <td>1</td>\n",
       "      <td>0</td>\n",
       "      <td>NaN</td>\n",
       "      <td>NaN</td>\n",
       "      <td>NaN</td>\n",
       "      <td>NaN</td>\n",
       "    </tr>\n",
       "    <tr>\n",
       "      <th>21</th>\n",
       "      <td>148311</td>\n",
       "      <td>Jose Carlos Rivero, USA</td>\n",
       "      <td>UTC</td>\n",
       "      <td>2016-03-06T20:00:00+00:00</td>\n",
       "      <td>1457294400</td>\n",
       "      <td>1457294400</td>\n",
       "      <td>1457298000</td>\n",
       "      <td>NaN</td>\n",
       "      <td>BBVA Compass Stadium</td>\n",
       "      <td>Houston</td>\n",
       "      <td>...</td>\n",
       "      <td>3</td>\n",
       "      <td>3</td>\n",
       "      <td>1</td>\n",
       "      <td>1</td>\n",
       "      <td>3</td>\n",
       "      <td>3</td>\n",
       "      <td>NaN</td>\n",
       "      <td>NaN</td>\n",
       "      <td>NaN</td>\n",
       "      <td>NaN</td>\n",
       "    </tr>\n",
       "    <tr>\n",
       "      <th>...</th>\n",
       "      <td>...</td>\n",
       "      <td>...</td>\n",
       "      <td>...</td>\n",
       "      <td>...</td>\n",
       "      <td>...</td>\n",
       "      <td>...</td>\n",
       "      <td>...</td>\n",
       "      <td>...</td>\n",
       "      <td>...</td>\n",
       "      <td>...</td>\n",
       "      <td>...</td>\n",
       "      <td>...</td>\n",
       "      <td>...</td>\n",
       "      <td>...</td>\n",
       "      <td>...</td>\n",
       "      <td>...</td>\n",
       "      <td>...</td>\n",
       "      <td>...</td>\n",
       "      <td>...</td>\n",
       "      <td>...</td>\n",
       "      <td>...</td>\n",
       "    </tr>\n",
       "    <tr>\n",
       "      <th>1558</th>\n",
       "      <td>128571</td>\n",
       "      <td>Drew Fischer, Canada</td>\n",
       "      <td>UTC</td>\n",
       "      <td>2019-10-06T20:00:00+00:00</td>\n",
       "      <td>1570392000</td>\n",
       "      <td>1570392000</td>\n",
       "      <td>1570395600</td>\n",
       "      <td>NaN</td>\n",
       "      <td>Talen Energy Stadium</td>\n",
       "      <td>Chester</td>\n",
       "      <td>...</td>\n",
       "      <td>1</td>\n",
       "      <td>2</td>\n",
       "      <td>0</td>\n",
       "      <td>2</td>\n",
       "      <td>1</td>\n",
       "      <td>2</td>\n",
       "      <td>NaN</td>\n",
       "      <td>NaN</td>\n",
       "      <td>NaN</td>\n",
       "      <td>NaN</td>\n",
       "    </tr>\n",
       "    <tr>\n",
       "      <th>1559</th>\n",
       "      <td>128572</td>\n",
       "      <td>Rubiel Vazquez, USA</td>\n",
       "      <td>UTC</td>\n",
       "      <td>2019-10-06T20:00:00+00:00</td>\n",
       "      <td>1570392000</td>\n",
       "      <td>1570392000</td>\n",
       "      <td>1570395600</td>\n",
       "      <td>NaN</td>\n",
       "      <td>Providence Park</td>\n",
       "      <td>Portland</td>\n",
       "      <td>...</td>\n",
       "      <td>3</td>\n",
       "      <td>1</td>\n",
       "      <td>1</td>\n",
       "      <td>1</td>\n",
       "      <td>3</td>\n",
       "      <td>1</td>\n",
       "      <td>NaN</td>\n",
       "      <td>NaN</td>\n",
       "      <td>NaN</td>\n",
       "      <td>NaN</td>\n",
       "    </tr>\n",
       "    <tr>\n",
       "      <th>1560</th>\n",
       "      <td>128573</td>\n",
       "      <td>Kevin Stott, USA</td>\n",
       "      <td>UTC</td>\n",
       "      <td>2019-10-06T20:00:00+00:00</td>\n",
       "      <td>1570392000</td>\n",
       "      <td>1570392000</td>\n",
       "      <td>1570395600</td>\n",
       "      <td>NaN</td>\n",
       "      <td>CenturyLink Field</td>\n",
       "      <td>Seattle</td>\n",
       "      <td>...</td>\n",
       "      <td>1</td>\n",
       "      <td>0</td>\n",
       "      <td>1</td>\n",
       "      <td>0</td>\n",
       "      <td>1</td>\n",
       "      <td>0</td>\n",
       "      <td>NaN</td>\n",
       "      <td>NaN</td>\n",
       "      <td>NaN</td>\n",
       "      <td>NaN</td>\n",
       "    </tr>\n",
       "    <tr>\n",
       "      <th>1561</th>\n",
       "      <td>128574</td>\n",
       "      <td>Villarrea Armando, USA</td>\n",
       "      <td>UTC</td>\n",
       "      <td>2019-10-06T20:00:00+00:00</td>\n",
       "      <td>1570392000</td>\n",
       "      <td>1570392000</td>\n",
       "      <td>1570395600</td>\n",
       "      <td>NaN</td>\n",
       "      <td>BMO Field</td>\n",
       "      <td>Toronto</td>\n",
       "      <td>...</td>\n",
       "      <td>1</td>\n",
       "      <td>0</td>\n",
       "      <td>0</td>\n",
       "      <td>0</td>\n",
       "      <td>1</td>\n",
       "      <td>0</td>\n",
       "      <td>NaN</td>\n",
       "      <td>NaN</td>\n",
       "      <td>NaN</td>\n",
       "      <td>NaN</td>\n",
       "    </tr>\n",
       "    <tr>\n",
       "      <th>1562</th>\n",
       "      <td>128575</td>\n",
       "      <td>Ted Unkel, USA</td>\n",
       "      <td>UTC</td>\n",
       "      <td>2019-10-06T20:00:00+00:00</td>\n",
       "      <td>1570392000</td>\n",
       "      <td>1570392000</td>\n",
       "      <td>1570395600</td>\n",
       "      <td>NaN</td>\n",
       "      <td>BC Place Stadium</td>\n",
       "      <td>Vancouver</td>\n",
       "      <td>...</td>\n",
       "      <td>0</td>\n",
       "      <td>1</td>\n",
       "      <td>0</td>\n",
       "      <td>1</td>\n",
       "      <td>0</td>\n",
       "      <td>1</td>\n",
       "      <td>NaN</td>\n",
       "      <td>NaN</td>\n",
       "      <td>NaN</td>\n",
       "      <td>NaN</td>\n",
       "    </tr>\n",
       "  </tbody>\n",
       "</table>\n",
       "<p>1512 rows × 38 columns</p>\n",
       "</div>"
      ],
      "text/plain": [
       "       fx_id                   fx_ref fx_tz                    fx_date  \\\n",
       "17    148307       Allen Chapman, USA   UTC  2016-03-06T18:30:00+00:00   \n",
       "18    148308   Villarrea Armando, USA   UTC  2016-03-06T19:00:00+00:00   \n",
       "19    148309         Chris Penso, USA   UTC  2016-03-06T19:00:00+00:00   \n",
       "20    148310           Ted Unkel, USA   UTC  2016-03-06T20:00:00+00:00   \n",
       "21    148311  Jose Carlos Rivero, USA   UTC  2016-03-06T20:00:00+00:00   \n",
       "...      ...                      ...   ...                        ...   \n",
       "1558  128571     Drew Fischer, Canada   UTC  2019-10-06T20:00:00+00:00   \n",
       "1559  128572      Rubiel Vazquez, USA   UTC  2019-10-06T20:00:00+00:00   \n",
       "1560  128573         Kevin Stott, USA   UTC  2019-10-06T20:00:00+00:00   \n",
       "1561  128574   Villarrea Armando, USA   UTC  2019-10-06T20:00:00+00:00   \n",
       "1562  128575           Ted Unkel, USA   UTC  2019-10-06T20:00:00+00:00   \n",
       "\n",
       "         fx_time  fx_per_fst  fx_per_sec  fx_ven_id  \\\n",
       "17    1457289000  1457289000  1457292600        NaN   \n",
       "18    1457290800  1457290800  1457294400        NaN   \n",
       "19    1457290800  1457290800  1457294400        NaN   \n",
       "20    1457294400  1457294400  1457298000        NaN   \n",
       "21    1457294400  1457294400  1457298000        NaN   \n",
       "...          ...         ...         ...        ...   \n",
       "1558  1570392000  1570392000  1570395600        NaN   \n",
       "1559  1570392000  1570392000  1570395600        NaN   \n",
       "1560  1570392000  1570392000  1570395600        NaN   \n",
       "1561  1570392000  1570392000  1570395600        NaN   \n",
       "1562  1570392000  1570392000  1570395600        NaN   \n",
       "\n",
       "                      fx_ven_name fx_ven_city  ... gl_h gl_a  sc_ht_h  \\\n",
       "17                 Red Bull Arena    Harrison  ...    0    2        0   \n",
       "18                    Toyota Park  Bridgeview  ...    3    4        1   \n",
       "19    Orlando Citrus Bowl Stadium     Orlando  ...    2    2        0   \n",
       "20                  Avaya Stadium    San Jose  ...    1    0        0   \n",
       "21           BBVA Compass Stadium     Houston  ...    3    3        1   \n",
       "...                           ...         ...  ...  ...  ...      ...   \n",
       "1558         Talen Energy Stadium     Chester  ...    1    2        0   \n",
       "1559              Providence Park    Portland  ...    3    1        1   \n",
       "1560            CenturyLink Field     Seattle  ...    1    0        1   \n",
       "1561                    BMO Field     Toronto  ...    1    0        0   \n",
       "1562             BC Place Stadium   Vancouver  ...    0    1        0   \n",
       "\n",
       "      sc_ht_a sc_ft_h sc_ft_a sc_et_h sc_et_a  sc_pen_h sc_pen_a  \n",
       "17          0       0       2     NaN     NaN       NaN      NaN  \n",
       "18          3       3       4     NaN     NaN       NaN      NaN  \n",
       "19          1       2       2     NaN     NaN       NaN      NaN  \n",
       "20          0       1       0     NaN     NaN       NaN      NaN  \n",
       "21          1       3       3     NaN     NaN       NaN      NaN  \n",
       "...       ...     ...     ...     ...     ...       ...      ...  \n",
       "1558        2       1       2     NaN     NaN       NaN      NaN  \n",
       "1559        1       3       1     NaN     NaN       NaN      NaN  \n",
       "1560        0       1       0     NaN     NaN       NaN      NaN  \n",
       "1561        0       1       0     NaN     NaN       NaN      NaN  \n",
       "1562        1       0       1     NaN     NaN       NaN      NaN  \n",
       "\n",
       "[1512 rows x 38 columns]"
      ]
     },
     "execution_count": 11,
     "metadata": {},
     "output_type": "execute_result"
    }
   ],
   "source": [
    "fixtures_df = fixtures_df[fixtures_df['lg_rnd'].str.contains('Regular Season')].copy()\n",
    "fixtures_df"
   ]
  },
  {
   "cell_type": "markdown",
   "metadata": {},
   "source": [
    "#### **Filtering out unnecessary columns from `fixtures_df`**"
   ]
  },
  {
   "cell_type": "code",
   "execution_count": 12,
   "metadata": {
    "ExecuteTime": {
     "end_time": "2021-06-13T17:19:28.468533Z",
     "start_time": "2021-06-13T17:19:28.464951Z"
    },
    "scrolled": true
   },
   "outputs": [
    {
     "data": {
      "text/plain": [
       "Index(['fx_id', 'fx_ref', 'fx_tz', 'fx_date', 'fx_time', 'fx_per_fst',\n",
       "       'fx_per_sec', 'fx_ven_id', 'fx_ven_name', 'fx_ven_city', 'fx_sts_long',\n",
       "       'fx_sts_shrt', 'fx_sts_elps', 'lg_id', 'lg_name', 'lg_ctry', 'lg_logo',\n",
       "       'lg_flag', 'lg_seas', 'lg_rnd', 'tm_h_id', 'tm_h_name', 'tm_h_logo',\n",
       "       'tm_h_win', 'tm_a_id', 'tm_a_name', 'tm_a_logo', 'tm_a_win', 'gl_h',\n",
       "       'gl_a', 'sc_ht_h', 'sc_ht_a', 'sc_ft_h', 'sc_ft_a', 'sc_et_h',\n",
       "       'sc_et_a', 'sc_pen_h', 'sc_pen_a'],\n",
       "      dtype='object')"
      ]
     },
     "execution_count": 12,
     "metadata": {},
     "output_type": "execute_result"
    }
   ],
   "source": [
    "fixtures_df.columns"
   ]
  },
  {
   "cell_type": "code",
   "execution_count": 13,
   "metadata": {
    "ExecuteTime": {
     "end_time": "2021-06-13T17:19:28.473808Z",
     "start_time": "2021-06-13T17:19:28.470138Z"
    }
   },
   "outputs": [],
   "source": [
    "fixtures_df = fixtures_df[['fx_id', 'fx_tz', 'fx_date', 'fx_time', \n",
    "                           'fx_ven_name', 'fx_ven_city', \n",
    "                           'fx_sts_elps', 'lg_seas', 'lg_rnd', \n",
    "                           'tm_h_id', 'tm_h_name', 'tm_h_win', \n",
    "                           'tm_a_id', 'tm_a_name', 'tm_a_win', \n",
    "                           'gl_h', 'gl_a']].copy()"
   ]
  },
  {
   "cell_type": "markdown",
   "metadata": {},
   "source": [
    "#### **Game Number Column**"
   ]
  },
  {
   "cell_type": "code",
   "execution_count": 14,
   "metadata": {
    "ExecuteTime": {
     "end_time": "2021-06-13T17:19:28.477264Z",
     "start_time": "2021-06-13T17:19:28.475301Z"
    }
   },
   "outputs": [],
   "source": [
    "# fixtures_df['game_num'] = fixtures_df['lg_rnd'].map(lambda x: int(x[-2:])).copy()"
   ]
  },
  {
   "cell_type": "code",
   "execution_count": 15,
   "metadata": {
    "ExecuteTime": {
     "end_time": "2021-06-13T17:19:28.481420Z",
     "start_time": "2021-06-13T17:19:28.478936Z"
    },
    "scrolled": true
   },
   "outputs": [],
   "source": [
    "# fixtures_df['lg_seas'].value_counts()"
   ]
  },
  {
   "cell_type": "code",
   "execution_count": 16,
   "metadata": {
    "ExecuteTime": {
     "end_time": "2021-06-13T17:19:28.485769Z",
     "start_time": "2021-06-13T17:19:28.483515Z"
    }
   },
   "outputs": [],
   "source": [
    "# fixtures_2016 = fixtures_df[fixtures_df['lg_seas'] == 2016].copy()\n",
    "# fixtures_2017 = fixtures_df[fixtures_df['lg_seas'] == 2017].copy()\n",
    "# fixtures_2018 = fixtures_df[fixtures_df['lg_seas'] == 2018].copy()\n",
    "# fixtures_2019 = fixtures_df[fixtures_df['lg_seas'] == 2019].copy()"
   ]
  },
  {
   "cell_type": "code",
   "execution_count": 17,
   "metadata": {
    "ExecuteTime": {
     "end_time": "2021-06-13T17:19:28.490856Z",
     "start_time": "2021-06-13T17:19:28.487544Z"
    }
   },
   "outputs": [],
   "source": [
    "# len(fixtures_2016), len(fixtures_2017), len(fixtures_2018), len(fixtures_2019)"
   ]
  },
  {
   "cell_type": "code",
   "execution_count": 18,
   "metadata": {
    "ExecuteTime": {
     "end_time": "2021-06-13T17:19:28.495974Z",
     "start_time": "2021-06-13T17:19:28.492620Z"
    },
    "scrolled": false
   },
   "outputs": [],
   "source": [
    "# fixtures_2016['game_num'].value_counts().sort_index()\n",
    "# fixtures_2017['game_num'].value_counts().sort_index()\n",
    "# fixtures_2018['game_num'].value_counts().sort_index()\n",
    "# fixtures_2019['game_num'].value_counts().sort_index()"
   ]
  },
  {
   "cell_type": "markdown",
   "metadata": {},
   "source": [
    "#### **Renaming Time Column and Unpacking it into separate Date and Time Columns**"
   ]
  },
  {
   "cell_type": "code",
   "execution_count": 19,
   "metadata": {
    "ExecuteTime": {
     "end_time": "2021-06-13T17:19:28.500928Z",
     "start_time": "2021-06-13T17:19:28.497760Z"
    }
   },
   "outputs": [],
   "source": [
    "fixtures_df.rename(columns={'fx_time':'fx_utc'}, inplace=True)"
   ]
  },
  {
   "cell_type": "code",
   "execution_count": 20,
   "metadata": {
    "ExecuteTime": {
     "end_time": "2021-06-13T17:19:28.519500Z",
     "start_time": "2021-06-13T17:19:28.502859Z"
    }
   },
   "outputs": [],
   "source": [
    "fixtures_df['fx_date'] = fixtures_df['fx_utc'].map(lambda x: dt.datetime.fromtimestamp(x).strftime('%Y-%m-%d'))\n",
    "fixtures_df['fx_time'] = fixtures_df['fx_utc'].map(lambda x: dt.datetime.fromtimestamp(x).strftime('%H:%M:%S'))"
   ]
  },
  {
   "cell_type": "code",
   "execution_count": 21,
   "metadata": {
    "ExecuteTime": {
     "end_time": "2021-06-13T17:19:28.528780Z",
     "start_time": "2021-06-13T17:19:28.525415Z"
    },
    "scrolled": false
   },
   "outputs": [],
   "source": [
    "fixtures_df.drop(axis=1, columns=['fx_utc'], inplace=True)"
   ]
  },
  {
   "cell_type": "markdown",
   "metadata": {},
   "source": [
    "#### **Creating Results Column based on `tm_h_win` and `tm_a_win`**"
   ]
  },
  {
   "cell_type": "markdown",
   "metadata": {},
   "source": [
    "The target columns: 'tm_h_win' and 'tm_a_win' each have nulls in them whenever the game ends in a draw.  \n",
    "So I'll create a new column (`results`) to use as a target column in classification and drop the other two."
   ]
  },
  {
   "cell_type": "code",
   "execution_count": 22,
   "metadata": {
    "ExecuteTime": {
     "end_time": "2021-06-13T17:19:28.536438Z",
     "start_time": "2021-06-13T17:19:28.532940Z"
    }
   },
   "outputs": [],
   "source": [
    "fixtures_df['result'] = fixtures_df['tm_h_win'].map(lambda x: 'home' if x==True else ( 'away' if x==False else 'draw'))"
   ]
  },
  {
   "cell_type": "code",
   "execution_count": 23,
   "metadata": {
    "ExecuteTime": {
     "end_time": "2021-06-13T17:19:28.543171Z",
     "start_time": "2021-06-13T17:19:28.538066Z"
    }
   },
   "outputs": [
    {
     "data": {
      "text/plain": [
       "home    800\n",
       "draw    372\n",
       "away    340\n",
       "Name: result, dtype: int64"
      ]
     },
     "execution_count": 23,
     "metadata": {},
     "output_type": "execute_result"
    }
   ],
   "source": [
    "fixtures_df['result'].value_counts()"
   ]
  },
  {
   "cell_type": "code",
   "execution_count": 24,
   "metadata": {
    "ExecuteTime": {
     "end_time": "2021-06-13T17:19:28.555184Z",
     "start_time": "2021-06-13T17:19:28.545180Z"
    },
    "scrolled": false
   },
   "outputs": [
    {
     "name": "stdout",
     "output_type": "stream",
     "text": [
      "<class 'pandas.core.frame.DataFrame'>\n",
      "Int64Index: 1512 entries, 17 to 1562\n",
      "Data columns (total 18 columns):\n",
      " #   Column       Non-Null Count  Dtype \n",
      "---  ------       --------------  ----- \n",
      " 0   fx_id        1512 non-null   int64 \n",
      " 1   fx_tz        1512 non-null   object\n",
      " 2   fx_date      1512 non-null   object\n",
      " 3   fx_ven_name  1512 non-null   object\n",
      " 4   fx_ven_city  1482 non-null   object\n",
      " 5   fx_sts_elps  1512 non-null   int64 \n",
      " 6   lg_seas      1512 non-null   int64 \n",
      " 7   lg_rnd       1512 non-null   object\n",
      " 8   tm_h_id      1512 non-null   int64 \n",
      " 9   tm_h_name    1512 non-null   object\n",
      " 10  tm_h_win     1140 non-null   object\n",
      " 11  tm_a_id      1512 non-null   int64 \n",
      " 12  tm_a_name    1512 non-null   object\n",
      " 13  tm_a_win     1140 non-null   object\n",
      " 14  gl_h         1512 non-null   int64 \n",
      " 15  gl_a         1512 non-null   int64 \n",
      " 16  fx_time      1512 non-null   object\n",
      " 17  result       1512 non-null   object\n",
      "dtypes: int64(7), object(11)\n",
      "memory usage: 224.4+ KB\n"
     ]
    }
   ],
   "source": [
    "fixtures_df.info()"
   ]
  },
  {
   "cell_type": "markdown",
   "metadata": {},
   "source": [
    "#### **Removing Unnecessary Columns again**"
   ]
  },
  {
   "cell_type": "code",
   "execution_count": 25,
   "metadata": {
    "ExecuteTime": {
     "end_time": "2021-06-13T17:19:28.560554Z",
     "start_time": "2021-06-13T17:19:28.556798Z"
    },
    "scrolled": true
   },
   "outputs": [
    {
     "data": {
      "text/plain": [
       "Index(['fx_id', 'fx_tz', 'fx_date', 'fx_ven_name', 'fx_ven_city',\n",
       "       'fx_sts_elps', 'lg_seas', 'lg_rnd', 'tm_h_id', 'tm_h_name', 'tm_h_win',\n",
       "       'tm_a_id', 'tm_a_name', 'tm_a_win', 'gl_h', 'gl_a', 'fx_time',\n",
       "       'result'],\n",
       "      dtype='object')"
      ]
     },
     "execution_count": 25,
     "metadata": {},
     "output_type": "execute_result"
    }
   ],
   "source": [
    "fixtures_df.columns"
   ]
  },
  {
   "cell_type": "code",
   "execution_count": 26,
   "metadata": {
    "ExecuteTime": {
     "end_time": "2021-06-13T17:19:28.565899Z",
     "start_time": "2021-06-13T17:19:28.562072Z"
    }
   },
   "outputs": [],
   "source": [
    "fixtures_df = fixtures_df[['fx_id', 'fx_tz', 'fx_date', 'fx_time', 'lg_seas', \n",
    "                           'tm_h_id', 'tm_h_name', 'tm_a_id', 'tm_a_name', \n",
    "                           'gl_h', 'gl_a', 'result']].copy()"
   ]
  },
  {
   "cell_type": "code",
   "execution_count": 27,
   "metadata": {
    "ExecuteTime": {
     "end_time": "2021-06-13T17:19:28.577492Z",
     "start_time": "2021-06-13T17:19:28.567615Z"
    },
    "scrolled": false
   },
   "outputs": [
    {
     "data": {
      "text/html": [
       "<div>\n",
       "<style scoped>\n",
       "    .dataframe tbody tr th:only-of-type {\n",
       "        vertical-align: middle;\n",
       "    }\n",
       "\n",
       "    .dataframe tbody tr th {\n",
       "        vertical-align: top;\n",
       "    }\n",
       "\n",
       "    .dataframe thead th {\n",
       "        text-align: right;\n",
       "    }\n",
       "</style>\n",
       "<table border=\"1\" class=\"dataframe\">\n",
       "  <thead>\n",
       "    <tr style=\"text-align: right;\">\n",
       "      <th></th>\n",
       "      <th>fx_id</th>\n",
       "      <th>fx_tz</th>\n",
       "      <th>fx_date</th>\n",
       "      <th>fx_time</th>\n",
       "      <th>lg_seas</th>\n",
       "      <th>tm_h_id</th>\n",
       "      <th>tm_h_name</th>\n",
       "      <th>tm_a_id</th>\n",
       "      <th>tm_a_name</th>\n",
       "      <th>gl_h</th>\n",
       "      <th>gl_a</th>\n",
       "      <th>result</th>\n",
       "    </tr>\n",
       "  </thead>\n",
       "  <tbody>\n",
       "    <tr>\n",
       "      <th>17</th>\n",
       "      <td>148307</td>\n",
       "      <td>UTC</td>\n",
       "      <td>2016-03-06</td>\n",
       "      <td>10:30:00</td>\n",
       "      <td>2016</td>\n",
       "      <td>1602</td>\n",
       "      <td>New York Red Bulls</td>\n",
       "      <td>1601</td>\n",
       "      <td>Toronto FC</td>\n",
       "      <td>0</td>\n",
       "      <td>2</td>\n",
       "      <td>away</td>\n",
       "    </tr>\n",
       "    <tr>\n",
       "      <th>18</th>\n",
       "      <td>148308</td>\n",
       "      <td>UTC</td>\n",
       "      <td>2016-03-06</td>\n",
       "      <td>11:00:00</td>\n",
       "      <td>2016</td>\n",
       "      <td>1607</td>\n",
       "      <td>Chicago Fire</td>\n",
       "      <td>1604</td>\n",
       "      <td>New York City FC</td>\n",
       "      <td>3</td>\n",
       "      <td>4</td>\n",
       "      <td>away</td>\n",
       "    </tr>\n",
       "    <tr>\n",
       "      <th>19</th>\n",
       "      <td>148309</td>\n",
       "      <td>UTC</td>\n",
       "      <td>2016-03-06</td>\n",
       "      <td>11:00:00</td>\n",
       "      <td>2016</td>\n",
       "      <td>1598</td>\n",
       "      <td>Orlando City SC</td>\n",
       "      <td>1606</td>\n",
       "      <td>Real Salt Lake</td>\n",
       "      <td>2</td>\n",
       "      <td>2</td>\n",
       "      <td>draw</td>\n",
       "    </tr>\n",
       "    <tr>\n",
       "      <th>20</th>\n",
       "      <td>148310</td>\n",
       "      <td>UTC</td>\n",
       "      <td>2016-03-06</td>\n",
       "      <td>12:00:00</td>\n",
       "      <td>2016</td>\n",
       "      <td>1596</td>\n",
       "      <td>San Jose Earthquakes</td>\n",
       "      <td>1610</td>\n",
       "      <td>Colorado Rapids</td>\n",
       "      <td>1</td>\n",
       "      <td>0</td>\n",
       "      <td>home</td>\n",
       "    </tr>\n",
       "    <tr>\n",
       "      <th>21</th>\n",
       "      <td>148311</td>\n",
       "      <td>UTC</td>\n",
       "      <td>2016-03-06</td>\n",
       "      <td>12:00:00</td>\n",
       "      <td>2016</td>\n",
       "      <td>1600</td>\n",
       "      <td>Houston Dynamo</td>\n",
       "      <td>1609</td>\n",
       "      <td>New England Revolution</td>\n",
       "      <td>3</td>\n",
       "      <td>3</td>\n",
       "      <td>draw</td>\n",
       "    </tr>\n",
       "  </tbody>\n",
       "</table>\n",
       "</div>"
      ],
      "text/plain": [
       "     fx_id fx_tz     fx_date   fx_time  lg_seas  tm_h_id  \\\n",
       "17  148307   UTC  2016-03-06  10:30:00     2016     1602   \n",
       "18  148308   UTC  2016-03-06  11:00:00     2016     1607   \n",
       "19  148309   UTC  2016-03-06  11:00:00     2016     1598   \n",
       "20  148310   UTC  2016-03-06  12:00:00     2016     1596   \n",
       "21  148311   UTC  2016-03-06  12:00:00     2016     1600   \n",
       "\n",
       "               tm_h_name  tm_a_id               tm_a_name  gl_h  gl_a result  \n",
       "17    New York Red Bulls     1601              Toronto FC     0     2   away  \n",
       "18          Chicago Fire     1604        New York City FC     3     4   away  \n",
       "19       Orlando City SC     1606          Real Salt Lake     2     2   draw  \n",
       "20  San Jose Earthquakes     1610         Colorado Rapids     1     0   home  \n",
       "21        Houston Dynamo     1609  New England Revolution     3     3   draw  "
      ]
     },
     "execution_count": 27,
     "metadata": {},
     "output_type": "execute_result"
    }
   ],
   "source": [
    "fixtures_df.head()\n",
    "# fixtures_df.info()"
   ]
  },
  {
   "cell_type": "markdown",
   "metadata": {},
   "source": [
    "#### **Merging the two dataframes on the fixture ID column**"
   ]
  },
  {
   "cell_type": "code",
   "execution_count": 28,
   "metadata": {
    "ExecuteTime": {
     "end_time": "2021-06-13T17:19:28.589395Z",
     "start_time": "2021-06-13T17:19:28.579425Z"
    }
   },
   "outputs": [],
   "source": [
    "df = pd.merge(left=fixtures_df, right=model_stats, how='left', on='fx_id')"
   ]
  },
  {
   "cell_type": "code",
   "execution_count": 29,
   "metadata": {
    "ExecuteTime": {
     "end_time": "2021-06-13T17:19:28.595980Z",
     "start_time": "2021-06-13T17:19:28.590994Z"
    },
    "scrolled": true
   },
   "outputs": [
    {
     "data": {
      "text/plain": [
       "Index(['fx_id', 'fx_tz', 'fx_date', 'fx_time', 'lg_seas', 'tm_h_id_x',\n",
       "       'tm_h_name_x', 'tm_a_id_x', 'tm_a_name_x', 'gl_h', 'gl_a', 'result',\n",
       "       'tm_h_id_y', 'tm_h_name_y', 'tm_a_id_y', 'tm_a_name_y', 'h_ball_poss',\n",
       "       'h_pass_acc', 'a_ball_poss', 'a_pass_acc'],\n",
       "      dtype='object')"
      ]
     },
     "execution_count": 29,
     "metadata": {},
     "output_type": "execute_result"
    }
   ],
   "source": [
    "df.columns"
   ]
  },
  {
   "cell_type": "code",
   "execution_count": 30,
   "metadata": {
    "ExecuteTime": {
     "end_time": "2021-06-13T17:19:28.603547Z",
     "start_time": "2021-06-13T17:19:28.598053Z"
    }
   },
   "outputs": [
    {
     "data": {
      "text/plain": [
       "(True, True)"
      ]
     },
     "execution_count": 30,
     "metadata": {},
     "output_type": "execute_result"
    }
   ],
   "source": [
    "df['tm_h_id_x'].equals(df['tm_h_id_y']), df['tm_h_name_x'].equals(df['tm_h_name_y'])"
   ]
  },
  {
   "cell_type": "code",
   "execution_count": 31,
   "metadata": {
    "ExecuteTime": {
     "end_time": "2021-06-13T17:19:28.611100Z",
     "start_time": "2021-06-13T17:19:28.606393Z"
    }
   },
   "outputs": [
    {
     "data": {
      "text/plain": [
       "(True, True)"
      ]
     },
     "execution_count": 31,
     "metadata": {},
     "output_type": "execute_result"
    }
   ],
   "source": [
    "df['tm_a_id_x'].equals(df['tm_a_id_y']), df['tm_a_name_x'].equals(df['tm_a_name_y'])"
   ]
  },
  {
   "cell_type": "markdown",
   "metadata": {},
   "source": [
    "#### **Re-ordering Columns**"
   ]
  },
  {
   "cell_type": "code",
   "execution_count": 32,
   "metadata": {
    "ExecuteTime": {
     "end_time": "2021-06-13T17:19:28.617932Z",
     "start_time": "2021-06-13T17:19:28.612970Z"
    }
   },
   "outputs": [],
   "source": [
    "df = df[['fx_id', 'fx_tz', 'fx_date', 'fx_time', 'lg_seas', \n",
    "         'tm_h_id_x', 'tm_h_name_x', 'tm_a_id_x', 'tm_a_name_x', 'gl_h', 'gl_a', 'result', \n",
    "         'h_ball_poss', 'h_pass_acc', 'a_ball_poss', 'a_pass_acc']]"
   ]
  },
  {
   "cell_type": "code",
   "execution_count": 33,
   "metadata": {
    "ExecuteTime": {
     "end_time": "2021-06-13T17:19:28.633987Z",
     "start_time": "2021-06-13T17:19:28.619886Z"
    }
   },
   "outputs": [
    {
     "data": {
      "text/html": [
       "<div>\n",
       "<style scoped>\n",
       "    .dataframe tbody tr th:only-of-type {\n",
       "        vertical-align: middle;\n",
       "    }\n",
       "\n",
       "    .dataframe tbody tr th {\n",
       "        vertical-align: top;\n",
       "    }\n",
       "\n",
       "    .dataframe thead th {\n",
       "        text-align: right;\n",
       "    }\n",
       "</style>\n",
       "<table border=\"1\" class=\"dataframe\">\n",
       "  <thead>\n",
       "    <tr style=\"text-align: right;\">\n",
       "      <th></th>\n",
       "      <th>fx_id</th>\n",
       "      <th>fx_tz</th>\n",
       "      <th>fx_date</th>\n",
       "      <th>fx_time</th>\n",
       "      <th>lg_seas</th>\n",
       "      <th>tm_h_id_x</th>\n",
       "      <th>tm_h_name_x</th>\n",
       "      <th>tm_a_id_x</th>\n",
       "      <th>tm_a_name_x</th>\n",
       "      <th>gl_h</th>\n",
       "      <th>gl_a</th>\n",
       "      <th>result</th>\n",
       "      <th>h_ball_poss</th>\n",
       "      <th>h_pass_acc</th>\n",
       "      <th>a_ball_poss</th>\n",
       "      <th>a_pass_acc</th>\n",
       "    </tr>\n",
       "  </thead>\n",
       "  <tbody>\n",
       "    <tr>\n",
       "      <th>0</th>\n",
       "      <td>148307</td>\n",
       "      <td>UTC</td>\n",
       "      <td>2016-03-06</td>\n",
       "      <td>10:30:00</td>\n",
       "      <td>2016</td>\n",
       "      <td>1602</td>\n",
       "      <td>New York Red Bulls</td>\n",
       "      <td>1601</td>\n",
       "      <td>Toronto FC</td>\n",
       "      <td>0</td>\n",
       "      <td>2</td>\n",
       "      <td>away</td>\n",
       "      <td>63%</td>\n",
       "      <td>72%</td>\n",
       "      <td>37%</td>\n",
       "      <td>58%</td>\n",
       "    </tr>\n",
       "    <tr>\n",
       "      <th>1</th>\n",
       "      <td>148308</td>\n",
       "      <td>UTC</td>\n",
       "      <td>2016-03-06</td>\n",
       "      <td>11:00:00</td>\n",
       "      <td>2016</td>\n",
       "      <td>1607</td>\n",
       "      <td>Chicago Fire</td>\n",
       "      <td>1604</td>\n",
       "      <td>New York City FC</td>\n",
       "      <td>3</td>\n",
       "      <td>4</td>\n",
       "      <td>away</td>\n",
       "      <td>39%</td>\n",
       "      <td>66%</td>\n",
       "      <td>61%</td>\n",
       "      <td>78%</td>\n",
       "    </tr>\n",
       "    <tr>\n",
       "      <th>2</th>\n",
       "      <td>148309</td>\n",
       "      <td>UTC</td>\n",
       "      <td>2016-03-06</td>\n",
       "      <td>11:00:00</td>\n",
       "      <td>2016</td>\n",
       "      <td>1598</td>\n",
       "      <td>Orlando City SC</td>\n",
       "      <td>1606</td>\n",
       "      <td>Real Salt Lake</td>\n",
       "      <td>2</td>\n",
       "      <td>2</td>\n",
       "      <td>draw</td>\n",
       "      <td>52%</td>\n",
       "      <td>80%</td>\n",
       "      <td>48%</td>\n",
       "      <td>76%</td>\n",
       "    </tr>\n",
       "    <tr>\n",
       "      <th>3</th>\n",
       "      <td>148310</td>\n",
       "      <td>UTC</td>\n",
       "      <td>2016-03-06</td>\n",
       "      <td>12:00:00</td>\n",
       "      <td>2016</td>\n",
       "      <td>1596</td>\n",
       "      <td>San Jose Earthquakes</td>\n",
       "      <td>1610</td>\n",
       "      <td>Colorado Rapids</td>\n",
       "      <td>1</td>\n",
       "      <td>0</td>\n",
       "      <td>home</td>\n",
       "      <td>41%</td>\n",
       "      <td>71%</td>\n",
       "      <td>59%</td>\n",
       "      <td>80%</td>\n",
       "    </tr>\n",
       "    <tr>\n",
       "      <th>4</th>\n",
       "      <td>148311</td>\n",
       "      <td>UTC</td>\n",
       "      <td>2016-03-06</td>\n",
       "      <td>12:00:00</td>\n",
       "      <td>2016</td>\n",
       "      <td>1600</td>\n",
       "      <td>Houston Dynamo</td>\n",
       "      <td>1609</td>\n",
       "      <td>New England Revolution</td>\n",
       "      <td>3</td>\n",
       "      <td>3</td>\n",
       "      <td>draw</td>\n",
       "      <td>52%</td>\n",
       "      <td>75%</td>\n",
       "      <td>48%</td>\n",
       "      <td>73%</td>\n",
       "    </tr>\n",
       "  </tbody>\n",
       "</table>\n",
       "</div>"
      ],
      "text/plain": [
       "    fx_id fx_tz     fx_date   fx_time  lg_seas  tm_h_id_x  \\\n",
       "0  148307   UTC  2016-03-06  10:30:00     2016       1602   \n",
       "1  148308   UTC  2016-03-06  11:00:00     2016       1607   \n",
       "2  148309   UTC  2016-03-06  11:00:00     2016       1598   \n",
       "3  148310   UTC  2016-03-06  12:00:00     2016       1596   \n",
       "4  148311   UTC  2016-03-06  12:00:00     2016       1600   \n",
       "\n",
       "            tm_h_name_x  tm_a_id_x             tm_a_name_x  gl_h  gl_a result  \\\n",
       "0    New York Red Bulls       1601              Toronto FC     0     2   away   \n",
       "1          Chicago Fire       1604        New York City FC     3     4   away   \n",
       "2       Orlando City SC       1606          Real Salt Lake     2     2   draw   \n",
       "3  San Jose Earthquakes       1610         Colorado Rapids     1     0   home   \n",
       "4        Houston Dynamo       1609  New England Revolution     3     3   draw   \n",
       "\n",
       "  h_ball_poss h_pass_acc a_ball_poss a_pass_acc  \n",
       "0         63%        72%         37%        58%  \n",
       "1         39%        66%         61%        78%  \n",
       "2         52%        80%         48%        76%  \n",
       "3         41%        71%         59%        80%  \n",
       "4         52%        75%         48%        73%  "
      ]
     },
     "execution_count": 33,
     "metadata": {},
     "output_type": "execute_result"
    }
   ],
   "source": [
    "df.head()"
   ]
  },
  {
   "cell_type": "code",
   "execution_count": 34,
   "metadata": {
    "ExecuteTime": {
     "end_time": "2021-06-13T17:19:28.730425Z",
     "start_time": "2021-06-13T17:19:28.636436Z"
    },
    "scrolled": false
   },
   "outputs": [
    {
     "name": "stdout",
     "output_type": "stream",
     "text": [
      "<class 'pandas.core.frame.DataFrame'>\n",
      "Int64Index: 1512 entries, 0 to 1511\n",
      "Data columns (total 16 columns):\n",
      " #   Column       Non-Null Count  Dtype \n",
      "---  ------       --------------  ----- \n",
      " 0   fx_id        1512 non-null   int64 \n",
      " 1   fx_tz        1512 non-null   object\n",
      " 2   fx_date      1512 non-null   object\n",
      " 3   fx_time      1512 non-null   object\n",
      " 4   lg_seas      1512 non-null   int64 \n",
      " 5   tm_h_id_x    1512 non-null   int64 \n",
      " 6   tm_h_name_x  1512 non-null   object\n",
      " 7   tm_a_id_x    1512 non-null   int64 \n",
      " 8   tm_a_name_x  1512 non-null   object\n",
      " 9   gl_h         1512 non-null   int64 \n",
      " 10  gl_a         1512 non-null   int64 \n",
      " 11  result       1512 non-null   object\n",
      " 12  h_ball_poss  1508 non-null   object\n",
      " 13  h_pass_acc   1508 non-null   object\n",
      " 14  a_ball_poss  1508 non-null   object\n",
      " 15  a_pass_acc   1501 non-null   object\n",
      "dtypes: int64(6), object(10)\n",
      "memory usage: 200.8+ KB\n"
     ]
    }
   ],
   "source": [
    "df.info()"
   ]
  },
  {
   "cell_type": "code",
   "execution_count": 35,
   "metadata": {
    "ExecuteTime": {
     "end_time": "2021-06-13T17:19:28.735081Z",
     "start_time": "2021-06-13T17:19:28.732411Z"
    }
   },
   "outputs": [],
   "source": [
    "df.rename(columns={'tm_h_id_x':'tm_h_id', \n",
    "                   'tm_a_id_x':'tm_a_id', \n",
    "                   'tm_h_name_x':'tm_h_name', \n",
    "                   'tm_a_name_x':'tm_a_name'}, inplace=True)"
   ]
  },
  {
   "cell_type": "code",
   "execution_count": 36,
   "metadata": {
    "ExecuteTime": {
     "end_time": "2021-06-13T17:19:28.744645Z",
     "start_time": "2021-06-13T17:19:28.736954Z"
    }
   },
   "outputs": [],
   "source": [
    "df['fx_id'] = df['fx_id'].map(lambda x: str(x))\n",
    "df['tm_h_id'] = df['tm_h_id'].map(lambda x: str(x))\n",
    "df['tm_a_id'] = df['tm_a_id'].map(lambda x: str(x))\n",
    "df['tm_a_id'] = df['tm_a_id'].map(lambda x: str(x))"
   ]
  },
  {
   "cell_type": "code",
   "execution_count": 37,
   "metadata": {
    "ExecuteTime": {
     "end_time": "2021-06-13T17:19:28.757911Z",
     "start_time": "2021-06-13T17:19:28.746378Z"
    },
    "scrolled": false
   },
   "outputs": [
    {
     "name": "stdout",
     "output_type": "stream",
     "text": [
      "<class 'pandas.core.frame.DataFrame'>\n",
      "Int64Index: 1512 entries, 0 to 1511\n",
      "Data columns (total 16 columns):\n",
      " #   Column       Non-Null Count  Dtype \n",
      "---  ------       --------------  ----- \n",
      " 0   fx_id        1512 non-null   object\n",
      " 1   fx_tz        1512 non-null   object\n",
      " 2   fx_date      1512 non-null   object\n",
      " 3   fx_time      1512 non-null   object\n",
      " 4   lg_seas      1512 non-null   int64 \n",
      " 5   tm_h_id      1512 non-null   object\n",
      " 6   tm_h_name    1512 non-null   object\n",
      " 7   tm_a_id      1512 non-null   object\n",
      " 8   tm_a_name    1512 non-null   object\n",
      " 9   gl_h         1512 non-null   int64 \n",
      " 10  gl_a         1512 non-null   int64 \n",
      " 11  result       1512 non-null   object\n",
      " 12  h_ball_poss  1508 non-null   object\n",
      " 13  h_pass_acc   1508 non-null   object\n",
      " 14  a_ball_poss  1508 non-null   object\n",
      " 15  a_pass_acc   1501 non-null   object\n",
      "dtypes: int64(3), object(13)\n",
      "memory usage: 200.8+ KB\n"
     ]
    }
   ],
   "source": [
    "df.info()"
   ]
  },
  {
   "cell_type": "code",
   "execution_count": 38,
   "metadata": {
    "ExecuteTime": {
     "end_time": "2021-06-13T17:19:28.763127Z",
     "start_time": "2021-06-13T17:19:28.759608Z"
    }
   },
   "outputs": [],
   "source": [
    "df['h_ball_poss'].fillna(value='50%', inplace=True)\n",
    "df['a_ball_poss'].fillna(value='50%', inplace=True)"
   ]
  },
  {
   "cell_type": "code",
   "execution_count": 39,
   "metadata": {
    "ExecuteTime": {
     "end_time": "2021-06-13T17:19:28.775343Z",
     "start_time": "2021-06-13T17:19:28.764890Z"
    },
    "scrolled": false
   },
   "outputs": [
    {
     "name": "stdout",
     "output_type": "stream",
     "text": [
      "<class 'pandas.core.frame.DataFrame'>\n",
      "Int64Index: 1512 entries, 0 to 1511\n",
      "Data columns (total 16 columns):\n",
      " #   Column       Non-Null Count  Dtype \n",
      "---  ------       --------------  ----- \n",
      " 0   fx_id        1512 non-null   object\n",
      " 1   fx_tz        1512 non-null   object\n",
      " 2   fx_date      1512 non-null   object\n",
      " 3   fx_time      1512 non-null   object\n",
      " 4   lg_seas      1512 non-null   int64 \n",
      " 5   tm_h_id      1512 non-null   object\n",
      " 6   tm_h_name    1512 non-null   object\n",
      " 7   tm_a_id      1512 non-null   object\n",
      " 8   tm_a_name    1512 non-null   object\n",
      " 9   gl_h         1512 non-null   int64 \n",
      " 10  gl_a         1512 non-null   int64 \n",
      " 11  result       1512 non-null   object\n",
      " 12  h_ball_poss  1512 non-null   object\n",
      " 13  h_pass_acc   1508 non-null   object\n",
      " 14  a_ball_poss  1512 non-null   object\n",
      " 15  a_pass_acc   1501 non-null   object\n",
      "dtypes: int64(3), object(13)\n",
      "memory usage: 200.8+ KB\n"
     ]
    }
   ],
   "source": [
    "df.info()"
   ]
  },
  {
   "cell_type": "code",
   "execution_count": 40,
   "metadata": {
    "ExecuteTime": {
     "end_time": "2021-06-13T17:19:28.779191Z",
     "start_time": "2021-06-13T17:19:28.776927Z"
    }
   },
   "outputs": [],
   "source": [
    "# df[df.iloc[:, 15].isnull()]"
   ]
  },
  {
   "cell_type": "markdown",
   "metadata": {},
   "source": [
    "#### **Converting Strings with % Symbol to Floats**"
   ]
  },
  {
   "cell_type": "code",
   "execution_count": 41,
   "metadata": {
    "ExecuteTime": {
     "end_time": "2021-06-13T17:19:28.786660Z",
     "start_time": "2021-06-13T17:19:28.780671Z"
    }
   },
   "outputs": [],
   "source": [
    "df = df.fillna(value=np.nan)"
   ]
  },
  {
   "cell_type": "code",
   "execution_count": 42,
   "metadata": {
    "ExecuteTime": {
     "end_time": "2021-06-13T17:19:28.793983Z",
     "start_time": "2021-06-13T17:19:28.788195Z"
    }
   },
   "outputs": [],
   "source": [
    "df['h_pass_acc'] = df['h_pass_acc'].map(lambda x: float(str(x).strip('%'))/100)\n",
    "df['a_pass_acc'] = df['a_pass_acc'].map(lambda x: float(str(x).strip('%'))/100)"
   ]
  },
  {
   "cell_type": "code",
   "execution_count": 43,
   "metadata": {
    "ExecuteTime": {
     "end_time": "2021-06-13T17:19:28.801441Z",
     "start_time": "2021-06-13T17:19:28.795747Z"
    },
    "scrolled": true
   },
   "outputs": [],
   "source": [
    "df['h_ball_poss'] = df['h_ball_poss'].map(lambda x: float(str(x).strip('%'))/100)\n",
    "df['a_ball_poss'] = df['a_ball_poss'].map(lambda x: float(str(x).strip('%'))/100)"
   ]
  },
  {
   "cell_type": "code",
   "execution_count": 44,
   "metadata": {
    "ExecuteTime": {
     "end_time": "2021-06-13T17:19:28.814109Z",
     "start_time": "2021-06-13T17:19:28.803261Z"
    }
   },
   "outputs": [
    {
     "name": "stdout",
     "output_type": "stream",
     "text": [
      "<class 'pandas.core.frame.DataFrame'>\n",
      "Int64Index: 1512 entries, 0 to 1511\n",
      "Data columns (total 16 columns):\n",
      " #   Column       Non-Null Count  Dtype  \n",
      "---  ------       --------------  -----  \n",
      " 0   fx_id        1512 non-null   object \n",
      " 1   fx_tz        1512 non-null   object \n",
      " 2   fx_date      1512 non-null   object \n",
      " 3   fx_time      1512 non-null   object \n",
      " 4   lg_seas      1512 non-null   int64  \n",
      " 5   tm_h_id      1512 non-null   object \n",
      " 6   tm_h_name    1512 non-null   object \n",
      " 7   tm_a_id      1512 non-null   object \n",
      " 8   tm_a_name    1512 non-null   object \n",
      " 9   gl_h         1512 non-null   int64  \n",
      " 10  gl_a         1512 non-null   int64  \n",
      " 11  result       1512 non-null   object \n",
      " 12  h_ball_poss  1512 non-null   float64\n",
      " 13  h_pass_acc   1508 non-null   float64\n",
      " 14  a_ball_poss  1512 non-null   float64\n",
      " 15  a_pass_acc   1501 non-null   float64\n",
      "dtypes: float64(4), int64(3), object(9)\n",
      "memory usage: 200.8+ KB\n"
     ]
    }
   ],
   "source": [
    "df.info()"
   ]
  },
  {
   "cell_type": "code",
   "execution_count": 45,
   "metadata": {
    "ExecuteTime": {
     "end_time": "2021-06-13T17:19:28.819236Z",
     "start_time": "2021-06-13T17:19:28.815635Z"
    }
   },
   "outputs": [
    {
     "data": {
      "text/plain": [
       "(0.8, 0.78)"
      ]
     },
     "execution_count": 45,
     "metadata": {},
     "output_type": "execute_result"
    }
   ],
   "source": [
    "h_pass_acc_mean = round(df['h_pass_acc'].mean(), 2)\n",
    "a_pass_acc_mean = round(df['a_pass_acc'].mean(), 2)\n",
    "\n",
    "h_pass_acc_mean, a_pass_acc_mean"
   ]
  },
  {
   "cell_type": "code",
   "execution_count": 46,
   "metadata": {
    "ExecuteTime": {
     "end_time": "2021-06-13T17:19:28.823577Z",
     "start_time": "2021-06-13T17:19:28.820781Z"
    }
   },
   "outputs": [],
   "source": [
    "df['h_pass_acc'].fillna(value=h_pass_acc_mean, inplace=True)\n",
    "df['a_pass_acc'].fillna(value=h_pass_acc_mean, inplace=True)"
   ]
  },
  {
   "cell_type": "code",
   "execution_count": 47,
   "metadata": {
    "ExecuteTime": {
     "end_time": "2021-06-13T17:19:28.826944Z",
     "start_time": "2021-06-13T17:19:28.825180Z"
    }
   },
   "outputs": [],
   "source": [
    "# df['h_pass_acc'].value_counts()\n",
    "# df['a_pass_acc'].value_counts()"
   ]
  },
  {
   "cell_type": "code",
   "execution_count": 48,
   "metadata": {
    "ExecuteTime": {
     "end_time": "2021-06-13T17:19:28.830698Z",
     "start_time": "2021-06-13T17:19:28.828564Z"
    }
   },
   "outputs": [],
   "source": [
    "# df['a_pass_acc'].value_counts()"
   ]
  },
  {
   "cell_type": "code",
   "execution_count": 49,
   "metadata": {
    "ExecuteTime": {
     "end_time": "2021-06-13T17:19:28.843747Z",
     "start_time": "2021-06-13T17:19:28.832290Z"
    },
    "scrolled": false
   },
   "outputs": [
    {
     "name": "stdout",
     "output_type": "stream",
     "text": [
      "<class 'pandas.core.frame.DataFrame'>\n",
      "Int64Index: 1512 entries, 0 to 1511\n",
      "Data columns (total 16 columns):\n",
      " #   Column       Non-Null Count  Dtype  \n",
      "---  ------       --------------  -----  \n",
      " 0   fx_id        1512 non-null   object \n",
      " 1   fx_tz        1512 non-null   object \n",
      " 2   fx_date      1512 non-null   object \n",
      " 3   fx_time      1512 non-null   object \n",
      " 4   lg_seas      1512 non-null   int64  \n",
      " 5   tm_h_id      1512 non-null   object \n",
      " 6   tm_h_name    1512 non-null   object \n",
      " 7   tm_a_id      1512 non-null   object \n",
      " 8   tm_a_name    1512 non-null   object \n",
      " 9   gl_h         1512 non-null   int64  \n",
      " 10  gl_a         1512 non-null   int64  \n",
      " 11  result       1512 non-null   object \n",
      " 12  h_ball_poss  1512 non-null   float64\n",
      " 13  h_pass_acc   1512 non-null   float64\n",
      " 14  a_ball_poss  1512 non-null   float64\n",
      " 15  a_pass_acc   1512 non-null   float64\n",
      "dtypes: float64(4), int64(3), object(9)\n",
      "memory usage: 200.8+ KB\n"
     ]
    }
   ],
   "source": [
    "df.info()"
   ]
  },
  {
   "cell_type": "code",
   "execution_count": 50,
   "metadata": {
    "ExecuteTime": {
     "end_time": "2021-06-13T17:19:28.851901Z",
     "start_time": "2021-06-13T17:19:28.846110Z"
    }
   },
   "outputs": [],
   "source": [
    "df = df[['result', 'fx_id', 'lg_seas', 'fx_date', \n",
    "         'tm_h_name', 'tm_h_id', 'gl_h', 'h_ball_poss', 'h_pass_acc',  \n",
    "         'tm_a_name', 'tm_a_id', 'gl_a', 'a_ball_poss', 'a_pass_acc']]"
   ]
  },
  {
   "cell_type": "code",
   "execution_count": 51,
   "metadata": {
    "ExecuteTime": {
     "end_time": "2021-06-13T17:19:28.858406Z",
     "start_time": "2021-06-13T17:19:28.854013Z"
    }
   },
   "outputs": [],
   "source": [
    "df = df.rename(axis=1, mapper={'fx_id':'game_id', \n",
    "                               'lg_seas':'season', \n",
    "                               'fx_date':'game_date', \n",
    "                               'tm_h_name':'h_name', \n",
    "                               'tm_h_id':'h_id', \n",
    "                               'gl_h':'h_goals', \n",
    "                               'h_ball_poss':'h_possession', \n",
    "                               'h_pass_acc':'h_pass_acc',  \n",
    "                               'tm_a_name':'a_name', \n",
    "                               'tm_a_id':'a_id', \n",
    "                               'gl_a':'a_goals', \n",
    "                               'a_ball_poss':'a_possession', \n",
    "                               'a_pass_acc':'a_pass_acc'})"
   ]
  },
  {
   "cell_type": "code",
   "execution_count": 52,
   "metadata": {
    "ExecuteTime": {
     "end_time": "2021-06-13T17:19:28.873559Z",
     "start_time": "2021-06-13T17:19:28.860484Z"
    }
   },
   "outputs": [],
   "source": [
    "df.to_csv('../data/api_football_data/05_merged_data/merged_data_fullnames.csv', index=False)"
   ]
  },
  {
   "cell_type": "code",
   "execution_count": 53,
   "metadata": {
    "ExecuteTime": {
     "end_time": "2021-06-13T17:19:28.878929Z",
     "start_time": "2021-06-13T17:19:28.875465Z"
    }
   },
   "outputs": [],
   "source": [
    "teams_dict = {'Atlanta United FC' : 'atl',\n",
    "              'Montreal Impact' : 'mtl',\n",
    "              'Chicago Fire' : 'chi',\n",
    "              'Columbus Crew' : 'crw',\n",
    "              'DC United' : 'dcu',\n",
    "              'FC Cincinnati' : 'cin',\n",
    "              'New England Revolution' : 'ner',\n",
    "              'New York City FC' : 'nyc',\n",
    "              'New York Red Bulls' : 'nyrb',\n",
    "              'Orlando City SC' : 'orl',\n",
    "              'Philadelphia Union' : 'phi',\n",
    "              'Toronto FC' : 'tfc',\n",
    "              'Colorado Rapids' : 'cor',\n",
    "              'FC Dallas' : 'fcd',\n",
    "              'Houston Dynamo' : 'hou',\n",
    "              'Los Angeles Galaxy' : 'lag',\n",
    "              'Los Angeles FC' : 'lafc',\n",
    "              'Minnesota United FC' : 'min',\n",
    "              'Portland Timbers' : 'por',\n",
    "              'Real Salt Lake' : 'rsl',\n",
    "              'San Jose Earthquakes' : 'sje',\n",
    "              'Seattle Sounders' : 'sea',\n",
    "              'Sporting Kansas City' : 'skc',\n",
    "              'Vancouver Whitecaps' : 'van'}"
   ]
  },
  {
   "cell_type": "code",
   "execution_count": 54,
   "metadata": {
    "ExecuteTime": {
     "end_time": "2021-06-13T17:19:28.891153Z",
     "start_time": "2021-06-13T17:19:28.881266Z"
    }
   },
   "outputs": [],
   "source": [
    "df['h_name'].replace(teams_dict, inplace=True)\n",
    "df['a_name'].replace(teams_dict, inplace=True)"
   ]
  },
  {
   "cell_type": "code",
   "execution_count": 55,
   "metadata": {
    "ExecuteTime": {
     "end_time": "2021-06-13T17:19:28.904976Z",
     "start_time": "2021-06-13T17:19:28.893006Z"
    }
   },
   "outputs": [],
   "source": [
    "df.to_csv('../data/api_football_data/05_merged_data/merged_data_shortnames.csv', index=False)"
   ]
  },
  {
   "cell_type": "code",
   "execution_count": 56,
   "metadata": {
    "ExecuteTime": {
     "end_time": "2021-06-13T17:19:28.910404Z",
     "start_time": "2021-06-13T17:19:28.906790Z"
    }
   },
   "outputs": [
    {
     "data": {
      "text/plain": [
       "Index(['result', 'game_id', 'season', 'game_date', 'h_name', 'h_id', 'h_goals',\n",
       "       'h_possession', 'h_pass_acc', 'a_name', 'a_id', 'a_goals',\n",
       "       'a_possession', 'a_pass_acc'],\n",
       "      dtype='object')"
      ]
     },
     "execution_count": 56,
     "metadata": {},
     "output_type": "execute_result"
    }
   ],
   "source": [
    "df.columns"
   ]
  },
  {
   "cell_type": "code",
   "execution_count": 57,
   "metadata": {
    "ExecuteTime": {
     "end_time": "2021-06-13T17:19:28.919986Z",
     "start_time": "2021-06-13T17:19:28.912188Z"
    },
    "scrolled": true
   },
   "outputs": [
    {
     "data": {
      "text/plain": [
       "h_name  h_id\n",
       "lag     1605    69\n",
       "ner     1609    68\n",
       "nyc     1604    68\n",
       "tfc     1601    68\n",
       "skc     1611    68\n",
       "sje     1596    68\n",
       "sea     1595    68\n",
       "rsl     1606    68\n",
       "por     1617    68\n",
       "phi     1599    68\n",
       "orl     1598    68\n",
       "nyrb    1602    68\n",
       "van     1603    68\n",
       "chi     1607    68\n",
       "mtl     1614    68\n",
       "hou     1600    68\n",
       "dcu     1615    68\n",
       "crw     1613    68\n",
       "cor     1610    68\n",
       "fcd     1597    67\n",
       "min     1612    51\n",
       "atl     1608    51\n",
       "lafc    1616    33\n",
       "cin     2242    17\n",
       "dtype: int64"
      ]
     },
     "execution_count": 57,
     "metadata": {},
     "output_type": "execute_result"
    }
   ],
   "source": [
    "df[['h_name', 'h_id']].value_counts()"
   ]
  },
  {
   "cell_type": "code",
   "execution_count": 58,
   "metadata": {
    "ExecuteTime": {
     "end_time": "2021-06-13T17:19:28.925835Z",
     "start_time": "2021-06-13T17:19:28.921777Z"
    }
   },
   "outputs": [],
   "source": [
    "counts_df = pd.DataFrame(df['h_id'].value_counts())"
   ]
  },
  {
   "cell_type": "code",
   "execution_count": 59,
   "metadata": {
    "ExecuteTime": {
     "end_time": "2021-06-13T17:19:28.940528Z",
     "start_time": "2021-06-13T17:19:28.927751Z"
    }
   },
   "outputs": [],
   "source": [
    "h_counts_df = pd.DataFrame(df[['h_name', 'h_id']].value_counts()).sort_values(by='h_name').reset_index()\n",
    "a_counts_df = pd.DataFrame(df[['a_name', 'a_id']].value_counts()).sort_values(by='a_name').reset_index()"
   ]
  },
  {
   "cell_type": "code",
   "execution_count": 60,
   "metadata": {
    "ExecuteTime": {
     "end_time": "2021-06-13T17:19:28.946152Z",
     "start_time": "2021-06-13T17:19:28.942334Z"
    }
   },
   "outputs": [],
   "source": [
    "h_counts_df = h_counts_df.rename(axis=1, mapper={0:'h_count'})\n",
    "a_counts_df = a_counts_df.rename(axis=1, mapper={0:'a_count'})"
   ]
  },
  {
   "cell_type": "code",
   "execution_count": 61,
   "metadata": {
    "ExecuteTime": {
     "end_time": "2021-06-13T17:19:28.952666Z",
     "start_time": "2021-06-13T17:19:28.948251Z"
    }
   },
   "outputs": [],
   "source": [
    "counts_df = pd.concat([h_counts_df, a_counts_df], axis=1)\n",
    "counts_df['total_count'] = counts_df['h_count'] + counts_df['a_count']"
   ]
  },
  {
   "cell_type": "code",
   "execution_count": 62,
   "metadata": {
    "ExecuteTime": {
     "end_time": "2021-06-13T17:19:28.958628Z",
     "start_time": "2021-06-13T17:19:28.954621Z"
    }
   },
   "outputs": [],
   "source": [
    "counts_df = counts_df.sort_values(by='total_count', ascending=False).reset_index(drop=True)"
   ]
  },
  {
   "cell_type": "code",
   "execution_count": 63,
   "metadata": {
    "ExecuteTime": {
     "end_time": "2021-06-13T17:19:28.971214Z",
     "start_time": "2021-06-13T17:19:28.960520Z"
    }
   },
   "outputs": [
    {
     "data": {
      "text/html": [
       "<div>\n",
       "<style scoped>\n",
       "    .dataframe tbody tr th:only-of-type {\n",
       "        vertical-align: middle;\n",
       "    }\n",
       "\n",
       "    .dataframe tbody tr th {\n",
       "        vertical-align: top;\n",
       "    }\n",
       "\n",
       "    .dataframe thead th {\n",
       "        text-align: right;\n",
       "    }\n",
       "</style>\n",
       "<table border=\"1\" class=\"dataframe\">\n",
       "  <thead>\n",
       "    <tr style=\"text-align: right;\">\n",
       "      <th></th>\n",
       "      <th>h_name</th>\n",
       "      <th>h_id</th>\n",
       "      <th>h_count</th>\n",
       "      <th>a_name</th>\n",
       "      <th>a_id</th>\n",
       "      <th>a_count</th>\n",
       "      <th>total_count</th>\n",
       "    </tr>\n",
       "  </thead>\n",
       "  <tbody>\n",
       "    <tr>\n",
       "      <th>0</th>\n",
       "      <td>ner</td>\n",
       "      <td>1609</td>\n",
       "      <td>68</td>\n",
       "      <td>ner</td>\n",
       "      <td>1609</td>\n",
       "      <td>68</td>\n",
       "      <td>136</td>\n",
       "    </tr>\n",
       "    <tr>\n",
       "      <th>1</th>\n",
       "      <td>chi</td>\n",
       "      <td>1607</td>\n",
       "      <td>68</td>\n",
       "      <td>chi</td>\n",
       "      <td>1607</td>\n",
       "      <td>68</td>\n",
       "      <td>136</td>\n",
       "    </tr>\n",
       "    <tr>\n",
       "      <th>2</th>\n",
       "      <td>tfc</td>\n",
       "      <td>1601</td>\n",
       "      <td>68</td>\n",
       "      <td>tfc</td>\n",
       "      <td>1601</td>\n",
       "      <td>68</td>\n",
       "      <td>136</td>\n",
       "    </tr>\n",
       "    <tr>\n",
       "      <th>3</th>\n",
       "      <td>skc</td>\n",
       "      <td>1611</td>\n",
       "      <td>68</td>\n",
       "      <td>skc</td>\n",
       "      <td>1611</td>\n",
       "      <td>68</td>\n",
       "      <td>136</td>\n",
       "    </tr>\n",
       "    <tr>\n",
       "      <th>4</th>\n",
       "      <td>sje</td>\n",
       "      <td>1596</td>\n",
       "      <td>68</td>\n",
       "      <td>sje</td>\n",
       "      <td>1596</td>\n",
       "      <td>68</td>\n",
       "      <td>136</td>\n",
       "    </tr>\n",
       "    <tr>\n",
       "      <th>5</th>\n",
       "      <td>sea</td>\n",
       "      <td>1595</td>\n",
       "      <td>68</td>\n",
       "      <td>sea</td>\n",
       "      <td>1595</td>\n",
       "      <td>68</td>\n",
       "      <td>136</td>\n",
       "    </tr>\n",
       "    <tr>\n",
       "      <th>6</th>\n",
       "      <td>rsl</td>\n",
       "      <td>1606</td>\n",
       "      <td>68</td>\n",
       "      <td>rsl</td>\n",
       "      <td>1606</td>\n",
       "      <td>68</td>\n",
       "      <td>136</td>\n",
       "    </tr>\n",
       "    <tr>\n",
       "      <th>7</th>\n",
       "      <td>por</td>\n",
       "      <td>1617</td>\n",
       "      <td>68</td>\n",
       "      <td>por</td>\n",
       "      <td>1617</td>\n",
       "      <td>68</td>\n",
       "      <td>136</td>\n",
       "    </tr>\n",
       "    <tr>\n",
       "      <th>8</th>\n",
       "      <td>phi</td>\n",
       "      <td>1599</td>\n",
       "      <td>68</td>\n",
       "      <td>phi</td>\n",
       "      <td>1599</td>\n",
       "      <td>68</td>\n",
       "      <td>136</td>\n",
       "    </tr>\n",
       "    <tr>\n",
       "      <th>9</th>\n",
       "      <td>orl</td>\n",
       "      <td>1598</td>\n",
       "      <td>68</td>\n",
       "      <td>orl</td>\n",
       "      <td>1598</td>\n",
       "      <td>68</td>\n",
       "      <td>136</td>\n",
       "    </tr>\n",
       "    <tr>\n",
       "      <th>10</th>\n",
       "      <td>nyrb</td>\n",
       "      <td>1602</td>\n",
       "      <td>68</td>\n",
       "      <td>nyrb</td>\n",
       "      <td>1602</td>\n",
       "      <td>68</td>\n",
       "      <td>136</td>\n",
       "    </tr>\n",
       "    <tr>\n",
       "      <th>11</th>\n",
       "      <td>nyc</td>\n",
       "      <td>1604</td>\n",
       "      <td>68</td>\n",
       "      <td>nyc</td>\n",
       "      <td>1604</td>\n",
       "      <td>68</td>\n",
       "      <td>136</td>\n",
       "    </tr>\n",
       "    <tr>\n",
       "      <th>12</th>\n",
       "      <td>van</td>\n",
       "      <td>1603</td>\n",
       "      <td>68</td>\n",
       "      <td>van</td>\n",
       "      <td>1603</td>\n",
       "      <td>68</td>\n",
       "      <td>136</td>\n",
       "    </tr>\n",
       "    <tr>\n",
       "      <th>13</th>\n",
       "      <td>mtl</td>\n",
       "      <td>1614</td>\n",
       "      <td>68</td>\n",
       "      <td>mtl</td>\n",
       "      <td>1614</td>\n",
       "      <td>68</td>\n",
       "      <td>136</td>\n",
       "    </tr>\n",
       "    <tr>\n",
       "      <th>14</th>\n",
       "      <td>lag</td>\n",
       "      <td>1605</td>\n",
       "      <td>69</td>\n",
       "      <td>lag</td>\n",
       "      <td>1605</td>\n",
       "      <td>67</td>\n",
       "      <td>136</td>\n",
       "    </tr>\n",
       "    <tr>\n",
       "      <th>15</th>\n",
       "      <td>hou</td>\n",
       "      <td>1600</td>\n",
       "      <td>68</td>\n",
       "      <td>hou</td>\n",
       "      <td>1600</td>\n",
       "      <td>68</td>\n",
       "      <td>136</td>\n",
       "    </tr>\n",
       "    <tr>\n",
       "      <th>16</th>\n",
       "      <td>dcu</td>\n",
       "      <td>1615</td>\n",
       "      <td>68</td>\n",
       "      <td>dcu</td>\n",
       "      <td>1615</td>\n",
       "      <td>68</td>\n",
       "      <td>136</td>\n",
       "    </tr>\n",
       "    <tr>\n",
       "      <th>17</th>\n",
       "      <td>crw</td>\n",
       "      <td>1613</td>\n",
       "      <td>68</td>\n",
       "      <td>crw</td>\n",
       "      <td>1613</td>\n",
       "      <td>68</td>\n",
       "      <td>136</td>\n",
       "    </tr>\n",
       "    <tr>\n",
       "      <th>18</th>\n",
       "      <td>cor</td>\n",
       "      <td>1610</td>\n",
       "      <td>68</td>\n",
       "      <td>cor</td>\n",
       "      <td>1610</td>\n",
       "      <td>68</td>\n",
       "      <td>136</td>\n",
       "    </tr>\n",
       "    <tr>\n",
       "      <th>19</th>\n",
       "      <td>fcd</td>\n",
       "      <td>1597</td>\n",
       "      <td>67</td>\n",
       "      <td>fcd</td>\n",
       "      <td>1597</td>\n",
       "      <td>68</td>\n",
       "      <td>135</td>\n",
       "    </tr>\n",
       "    <tr>\n",
       "      <th>20</th>\n",
       "      <td>min</td>\n",
       "      <td>1612</td>\n",
       "      <td>51</td>\n",
       "      <td>min</td>\n",
       "      <td>1612</td>\n",
       "      <td>51</td>\n",
       "      <td>102</td>\n",
       "    </tr>\n",
       "    <tr>\n",
       "      <th>21</th>\n",
       "      <td>atl</td>\n",
       "      <td>1608</td>\n",
       "      <td>51</td>\n",
       "      <td>atl</td>\n",
       "      <td>1608</td>\n",
       "      <td>51</td>\n",
       "      <td>102</td>\n",
       "    </tr>\n",
       "    <tr>\n",
       "      <th>22</th>\n",
       "      <td>lafc</td>\n",
       "      <td>1616</td>\n",
       "      <td>33</td>\n",
       "      <td>lafc</td>\n",
       "      <td>1616</td>\n",
       "      <td>34</td>\n",
       "      <td>67</td>\n",
       "    </tr>\n",
       "    <tr>\n",
       "      <th>23</th>\n",
       "      <td>cin</td>\n",
       "      <td>2242</td>\n",
       "      <td>17</td>\n",
       "      <td>cin</td>\n",
       "      <td>2242</td>\n",
       "      <td>17</td>\n",
       "      <td>34</td>\n",
       "    </tr>\n",
       "  </tbody>\n",
       "</table>\n",
       "</div>"
      ],
      "text/plain": [
       "   h_name  h_id  h_count a_name  a_id  a_count  total_count\n",
       "0     ner  1609       68    ner  1609       68          136\n",
       "1     chi  1607       68    chi  1607       68          136\n",
       "2     tfc  1601       68    tfc  1601       68          136\n",
       "3     skc  1611       68    skc  1611       68          136\n",
       "4     sje  1596       68    sje  1596       68          136\n",
       "5     sea  1595       68    sea  1595       68          136\n",
       "6     rsl  1606       68    rsl  1606       68          136\n",
       "7     por  1617       68    por  1617       68          136\n",
       "8     phi  1599       68    phi  1599       68          136\n",
       "9     orl  1598       68    orl  1598       68          136\n",
       "10   nyrb  1602       68   nyrb  1602       68          136\n",
       "11    nyc  1604       68    nyc  1604       68          136\n",
       "12    van  1603       68    van  1603       68          136\n",
       "13    mtl  1614       68    mtl  1614       68          136\n",
       "14    lag  1605       69    lag  1605       67          136\n",
       "15    hou  1600       68    hou  1600       68          136\n",
       "16    dcu  1615       68    dcu  1615       68          136\n",
       "17    crw  1613       68    crw  1613       68          136\n",
       "18    cor  1610       68    cor  1610       68          136\n",
       "19    fcd  1597       67    fcd  1597       68          135\n",
       "20    min  1612       51    min  1612       51          102\n",
       "21    atl  1608       51    atl  1608       51          102\n",
       "22   lafc  1616       33   lafc  1616       34           67\n",
       "23    cin  2242       17    cin  2242       17           34"
      ]
     },
     "execution_count": 63,
     "metadata": {},
     "output_type": "execute_result"
    }
   ],
   "source": [
    "counts_df"
   ]
  },
  {
   "cell_type": "code",
   "execution_count": 64,
   "metadata": {
    "ExecuteTime": {
     "end_time": "2021-06-13T17:19:28.976578Z",
     "start_time": "2021-06-13T17:19:28.973108Z"
    }
   },
   "outputs": [],
   "source": [
    "counts_df.to_csv('../data/api_football_data/05_merged_data/game_counts.csv', index=False)"
   ]
  }
 ],
 "metadata": {
  "kernelspec": {
   "display_name": "Python 3",
   "language": "python",
   "name": "python3"
  },
  "language_info": {
   "codemirror_mode": {
    "name": "ipython",
    "version": 3
   },
   "file_extension": ".py",
   "mimetype": "text/x-python",
   "name": "python",
   "nbconvert_exporter": "python",
   "pygments_lexer": "ipython3",
   "version": "3.8.5"
  },
  "toc": {
   "base_numbering": 1,
   "nav_menu": {},
   "number_sections": false,
   "sideBar": true,
   "skip_h1_title": false,
   "title_cell": "Table of Contents",
   "title_sidebar": "Contents",
   "toc_cell": false,
   "toc_position": {
    "height": "calc(100% - 180px)",
    "left": "10px",
    "top": "150px",
    "width": "384.796875px"
   },
   "toc_section_display": true,
   "toc_window_display": true
  },
  "varInspector": {
   "cols": {
    "lenName": 16,
    "lenType": 16,
    "lenVar": 40
   },
   "kernels_config": {
    "python": {
     "delete_cmd_postfix": "",
     "delete_cmd_prefix": "del ",
     "library": "var_list.py",
     "varRefreshCmd": "print(var_dic_list())"
    },
    "r": {
     "delete_cmd_postfix": ") ",
     "delete_cmd_prefix": "rm(",
     "library": "var_list.r",
     "varRefreshCmd": "cat(var_dic_list()) "
    }
   },
   "oldHeight": 735,
   "position": {
    "height": "45px",
    "left": "1603px",
    "right": "20px",
    "top": "70px",
    "width": "267px"
   },
   "types_to_exclude": [
    "module",
    "function",
    "builtin_function_or_method",
    "instance",
    "_Feature"
   ],
   "varInspector_section_display": "none",
   "window_display": true
  }
 },
 "nbformat": 4,
 "nbformat_minor": 4
}

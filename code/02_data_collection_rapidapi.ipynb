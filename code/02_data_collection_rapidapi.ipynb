{
 "cells": [
  {
   "cell_type": "markdown",
   "metadata": {},
   "source": [
    "![](../resources/images/data_source_logos/api_sports/rapid_api_banner2.png)"
   ]
  },
  {
   "cell_type": "markdown",
   "metadata": {},
   "source": [
    "Source: Data in this notebook is collected from [API Sports](https://www.api-football.com) via [RapidAPI](https://rapidapi.com/api-sports/api/api-football)."
   ]
  },
  {
   "cell_type": "markdown",
   "metadata": {},
   "source": [
    "### Imports"
   ]
  },
  {
   "cell_type": "code",
   "execution_count": 27,
   "metadata": {
    "ExecuteTime": {
     "end_time": "2021-06-11T03:22:59.570796Z",
     "start_time": "2021-06-11T03:22:59.568413Z"
    },
    "scrolled": true
   },
   "outputs": [],
   "source": [
    "import requests\n",
    "import json\n",
    "import pandas as pd\n",
    "import time\n",
    "import datetime as dt\n",
    "from datetime import datetime"
   ]
  },
  {
   "cell_type": "code",
   "execution_count": 2,
   "metadata": {
    "ExecuteTime": {
     "end_time": "2021-06-11T03:13:10.300440Z",
     "start_time": "2021-06-11T03:13:10.296886Z"
    },
    "scrolled": true
   },
   "outputs": [],
   "source": [
    "with open('../secrets.json') as f:\n",
    "    secrets = json.load(f)"
   ]
  },
  {
   "cell_type": "markdown",
   "metadata": {},
   "source": [
    "# <span style=\"color:orangered\">API Architecture"
   ]
  },
  {
   "cell_type": "markdown",
   "metadata": {},
   "source": [
    "<img src='../resources/api_football_info/api_architechture.jpg' width=600>\n",
    "<!-- ![](../resources/api_football_info/api_architechture.jpg) -->\n",
    "  \n",
    "[Image Source: API Football Documentation](https://www.api-football.com/documentation-v3#section/Architecture)"
   ]
  },
  {
   "cell_type": "markdown",
   "metadata": {},
   "source": [
    "# <span style=\"color:mediumblue\">LEAGUES ENDPOINT - DATA COVERAGE"
   ]
  },
  {
   "cell_type": "markdown",
   "metadata": {},
   "source": [
    "From a call to the \"leagues\" endpoint filtered by country, I found a list of leagues in the United States, and within that list - Major League Soccer. I then did another call for MLS specifically and exported the resulting JSON to a file so that I wouldn't need to make either of those particular calls again."
   ]
  },
  {
   "cell_type": "markdown",
   "metadata": {},
   "source": [
    "### Requesting all Leagues in the United States to find MLS League ID"
   ]
  },
  {
   "cell_type": "code",
   "execution_count": 3,
   "metadata": {
    "ExecuteTime": {
     "end_time": "2021-06-11T03:13:16.274514Z",
     "start_time": "2021-06-11T03:13:13.751411Z"
    }
   },
   "outputs": [],
   "source": [
    "url = \"https://api-football-v1.p.rapidapi.com/v3/leagues\"\n",
    "\n",
    "querystring = {\"country\":\"USA\"}\n",
    "\n",
    "headers = {\n",
    "    'x-rapidapi-key': secrets['rapid_api_key'],\n",
    "    'x-rapidapi-host': \"api-football-v1.p.rapidapi.com\"\n",
    "    }\n",
    "\n",
    "leagues_response = requests.request(\"GET\", url, headers=headers, params=querystring)"
   ]
  },
  {
   "cell_type": "code",
   "execution_count": 4,
   "metadata": {
    "ExecuteTime": {
     "end_time": "2021-06-11T03:13:17.544656Z",
     "start_time": "2021-06-11T03:13:17.540135Z"
    },
    "scrolled": false
   },
   "outputs": [
    {
     "name": "stdout",
     "output_type": "stream",
     "text": [
      "ID      League\n",
      "---     ---------------\n",
      "253  -  Major League Soccer\n",
      "257  -  US Open Cup\n",
      "255  -  USL Championship\n",
      "256  -  USL League Two\n",
      "489  -  USL League One\n",
      "523  -  NISA\n",
      "254  -  NWSL Women\n",
      "641  -  NWSL Women - Challenge Cup\n"
     ]
    }
   ],
   "source": [
    "print('ID ', '   ', 'League' )\n",
    "print('---', '   ','---------------')\n",
    "for league in leagues_response.json()['response']:\n",
    "    print(league['league']['id'],' - ' , league['league']['name'])"
   ]
  },
  {
   "cell_type": "markdown",
   "metadata": {},
   "source": [
    "### Requesting League info for Major League Soccer"
   ]
  },
  {
   "cell_type": "code",
   "execution_count": 5,
   "metadata": {
    "ExecuteTime": {
     "end_time": "2021-06-11T03:13:20.397701Z",
     "start_time": "2021-06-11T03:13:19.667311Z"
    }
   },
   "outputs": [],
   "source": [
    "url = \"https://api-football-v1.p.rapidapi.com/v3/leagues\"\n",
    "\n",
    "querystring = {\"id\":\"253\"}\n",
    "\n",
    "headers = {\n",
    "    'x-rapidapi-key': secrets['rapid_api_key'],\n",
    "    'x-rapidapi-host': \"api-football-v1.p.rapidapi.com\"\n",
    "    }\n",
    "\n",
    "mls_response = requests.request(\"GET\", url, headers=headers, params=querystring)"
   ]
  },
  {
   "cell_type": "code",
   "execution_count": 6,
   "metadata": {
    "ExecuteTime": {
     "end_time": "2021-06-11T03:13:25.774108Z",
     "start_time": "2021-06-11T03:13:25.771843Z"
    }
   },
   "outputs": [],
   "source": [
    "mls_json = mls_response.json()['response'][0]"
   ]
  },
  {
   "cell_type": "code",
   "execution_count": 7,
   "metadata": {
    "ExecuteTime": {
     "end_time": "2021-06-11T03:13:27.455247Z",
     "start_time": "2021-06-11T03:13:27.451814Z"
    },
    "scrolled": false
   },
   "outputs": [
    {
     "name": "stdout",
     "output_type": "stream",
     "text": [
      "League: 253  -  Major League Soccer\n",
      "Seasons: \n",
      "2012\n",
      "2013\n",
      "2014\n",
      "2015\n",
      "2016\n",
      "2017\n",
      "2018\n",
      "2019\n",
      "2020\n",
      "2021\n"
     ]
    }
   ],
   "source": [
    "print('League:', mls_json['league']['id'],' - ' ,mls_json['league']['name'])\n",
    "print('Seasons: ')\n",
    "for season in mls_json['seasons']:\n",
    "    print(season['year'])"
   ]
  },
  {
   "cell_type": "markdown",
   "metadata": {},
   "source": [
    "Next, I exported the JSON to a file to save what I had pulled."
   ]
  },
  {
   "cell_type": "code",
   "execution_count": 8,
   "metadata": {
    "ExecuteTime": {
     "end_time": "2021-06-11T03:13:30.095659Z",
     "start_time": "2021-06-11T03:13:30.091203Z"
    },
    "scrolled": true
   },
   "outputs": [],
   "source": [
    "with open('../data/api_football_data/00_league_endpoint/rapi-league_mls.json', 'w') as outfile:\n",
    "    json.dump(obj=mls_json, fp=outfile , ensure_ascii=False, indent=1)"
   ]
  },
  {
   "cell_type": "markdown",
   "metadata": {},
   "source": [
    "The output from the JSON gives a rundown of what kinds of data are available data for each season in MLS. The first year in which statistics are available for each game (fixture/match) are available is 2015. So I will likely be using 2015-2019 (or possibly 2020*) as the range from which I will examine data.\n",
    "\n",
    "**2020 being a tumultuous year with even more variables contributing to match outcomes, I expect to exclude it from my data.*"
   ]
  },
  {
   "cell_type": "markdown",
   "metadata": {},
   "source": [
    "###  Requesting info for every MLS Season"
   ]
  },
  {
   "cell_type": "markdown",
   "metadata": {},
   "source": [
    "The API request for MLS' seasons returned a JSON with data for every MLS season since 2012. It provided an overview of what kind of data was available for each season (coverage). I dug into the json and brought all the information into one dataframe. I put that info in a markdown table below for reference."
   ]
  },
  {
   "cell_type": "markdown",
   "metadata": {},
   "source": [
    "**Sample Output:** \n",
    "\n",
    "```\n",
    "[{'year': 2012,\n",
    "  'start': '2012-03-10',\n",
    "  'end': '2012-12-01',\n",
    "  'current': False,\n",
    "  'coverage': {'fixtures': {'events': True,\n",
    "                            'lineups': True,\n",
    "                            'statistics_fixtures': False,\n",
    "                            'statistics_players': False},\n",
    "               'standings': False,\n",
    "               'players': True,\n",
    "               'top_scorers': True,\n",
    "               'top_assists': True,\n",
    "               'top_cards': True,\n",
    "               'injuries': False,\n",
    "               'predictions': True,\n",
    "               'odds': False}}]\n",
    "   ```"
   ]
  },
  {
   "cell_type": "markdown",
   "metadata": {},
   "source": [
    "### Seasons Coverage"
   ]
  },
  {
   "cell_type": "markdown",
   "metadata": {},
   "source": [
    "Next step is to dig into the JSON. To make it more readable, I converted it into several Pandas Dataframes. \n",
    "1. The first Dataframe would contain the coverage info for each season\n",
    "2. The second would be made up of the coverage info for individual fixtures in each season\n",
    "\n",
    "Then I joined those two tables together so I could see all coverage information at a glance."
   ]
  },
  {
   "cell_type": "markdown",
   "metadata": {},
   "source": [
    "**Creating the First DataFrame - Season Coverage**"
   ]
  },
  {
   "cell_type": "code",
   "execution_count": 9,
   "metadata": {
    "ExecuteTime": {
     "end_time": "2021-06-11T03:13:38.862087Z",
     "start_time": "2021-06-11T03:13:38.859276Z"
    },
    "scrolled": true
   },
   "outputs": [],
   "source": [
    "with open('../data/api_football_data/00_league_endpoint/rapi-league_mls.json') as f:\n",
    "    league_mls = json.load(f)"
   ]
  },
  {
   "cell_type": "code",
   "execution_count": 10,
   "metadata": {
    "ExecuteTime": {
     "end_time": "2021-06-11T03:13:39.646163Z",
     "start_time": "2021-06-11T03:13:39.643922Z"
    },
    "code_folding": [],
    "scrolled": true
   },
   "outputs": [],
   "source": [
    "coverage_list = []\n",
    "\n",
    "for year in league_mls['seasons']:\n",
    "    coverage_list.append(year['coverage'])"
   ]
  },
  {
   "cell_type": "code",
   "execution_count": 11,
   "metadata": {
    "ExecuteTime": {
     "end_time": "2021-06-11T03:13:40.127296Z",
     "start_time": "2021-06-11T03:13:40.121153Z"
    }
   },
   "outputs": [],
   "source": [
    "stats_seasons_coverage = pd.DataFrame(coverage_list).drop(columns=['fixtures']) \n",
    "\n",
    "years = list(range(2012,2022,1))\n",
    "stats_seasons_coverage['year'] = years\n",
    "\n",
    "stats_seasons_coverage.set_index('year', inplace=True)"
   ]
  },
  {
   "cell_type": "code",
   "execution_count": 12,
   "metadata": {
    "ExecuteTime": {
     "end_time": "2021-06-11T03:13:40.642487Z",
     "start_time": "2021-06-11T03:13:40.638043Z"
    },
    "scrolled": true
   },
   "outputs": [],
   "source": [
    "stats_seasons_coverage.rename(axis=1, \n",
    "                              mapper={'predictions':'preds'}, \n",
    "                              inplace=True)"
   ]
  },
  {
   "cell_type": "markdown",
   "metadata": {},
   "source": [
    "#### Creating the Second DataFrame - Season Fixtures Coverage"
   ]
  },
  {
   "cell_type": "code",
   "execution_count": 13,
   "metadata": {
    "ExecuteTime": {
     "end_time": "2021-06-11T03:13:41.639977Z",
     "start_time": "2021-06-11T03:13:41.635334Z"
    },
    "scrolled": true
   },
   "outputs": [],
   "source": [
    "stats_fixture_coverage = pd.DataFrame(list(pd.DataFrame(coverage_list)['fixtures']))\n",
    "\n",
    "years = list(range(2012,2022,1))\n",
    "stats_fixture_coverage['year'] = years\n",
    "\n",
    "stats_fixture_coverage.set_index('year', inplace=True)"
   ]
  },
  {
   "cell_type": "code",
   "execution_count": 14,
   "metadata": {
    "ExecuteTime": {
     "end_time": "2021-06-11T03:13:42.310603Z",
     "start_time": "2021-06-11T03:13:42.308016Z"
    },
    "scrolled": true
   },
   "outputs": [],
   "source": [
    "stats_fixture_coverage.rename(axis=1, \n",
    "                              mapper={'statistics_fixtures':'match_stats', \n",
    "                                      'statistics_players':'player_stats'}, \n",
    "                              inplace=True)"
   ]
  },
  {
   "cell_type": "markdown",
   "metadata": {},
   "source": [
    "#### Merging the two DataFrames"
   ]
  },
  {
   "cell_type": "markdown",
   "metadata": {},
   "source": [
    "So that I would be able to distinguish between the columns from the two merged DataFrames, I added a prefix to every column name."
   ]
  },
  {
   "cell_type": "code",
   "execution_count": 15,
   "metadata": {
    "ExecuteTime": {
     "end_time": "2021-06-11T03:13:43.511388Z",
     "start_time": "2021-06-11T03:13:43.507291Z"
    },
    "scrolled": false
   },
   "outputs": [],
   "source": [
    "stats_seasons_coverage = stats_seasons_coverage.add_prefix('tm_')\n",
    "stats_fixture_coverage = stats_fixture_coverage.add_prefix('fx_')\n",
    "mls_data_coverage = pd.concat([stats_seasons_coverage, stats_fixture_coverage], axis=1)"
   ]
  },
  {
   "cell_type": "code",
   "execution_count": 18,
   "metadata": {
    "ExecuteTime": {
     "end_time": "2021-06-11T03:13:57.890168Z",
     "start_time": "2021-06-11T03:13:57.887988Z"
    },
    "scrolled": false
   },
   "outputs": [],
   "source": [
    "# mls_data_coverage"
   ]
  },
  {
   "cell_type": "markdown",
   "metadata": {},
   "source": [
    "I converted the new DataFrame to markdown and quickly ran a find-replace for all   \n",
    "of the \"False\" values - replacing them with red/bolded \"False\" values for readability."
   ]
  },
  {
   "cell_type": "markdown",
   "metadata": {},
   "source": [
    "### MLS Data Coverage"
   ]
  },
  {
   "cell_type": "markdown",
   "metadata": {},
   "source": [
    "| year | tm_stndgs | tm_plrs | tm_top_g | tm_top_a | tm_top_cards | tm_injuries | tm_preds | tm_odds | fx_events | fx_lineups | fx_match_stats | fx_player_stats |\n",
    "|------|--------------|------------|----------------|----------------|--------------|-------------|----------|---------|-----------|------------|----------------|-----------------|\n",
    "| 2012 | <span style='color:red;font-weight:bold'>False</span>        | True       | True           | True           | True         | <span style='color:red;font-weight:bold'>False</span>       | True     | <span style='color:red;font-weight:bold'>False</span>   | True      | True       | <span style='color:red;font-weight:bold'>False</span>          | <span style='color:red;font-weight:bold'>False</span>           |\n",
    "| 2013 | <span style='color:red;font-weight:bold'>False</span>        | True       | True           | True           | True         | <span style='color:red;font-weight:bold'>False</span>       | True     | <span style='color:red;font-weight:bold'>False</span>   | True      | True       | <span style='color:red;font-weight:bold'>False</span>          | <span style='color:red;font-weight:bold'>False</span>           |\n",
    "| 2014 | <span style='color:red;font-weight:bold'>False</span>        | True       | True           | True           | True         | <span style='color:red;font-weight:bold'>False</span>       | True     | <span style='color:red;font-weight:bold'>False</span>   | True      | True       | <span style='color:red;font-weight:bold'>False</span>          | <span style='color:red;font-weight:bold'>False</span>           |\n",
    "| 2015 | <span style='color:red;font-weight:bold'>False</span>        | True       | True           | True           | True         | <span style='color:red;font-weight:bold'>False</span>       | True     | <span style='color:red;font-weight:bold'>False</span>   | True      | True       | True           | True            |\n",
    "| 2016 | True         | True       | True           | True           | True         | <span style='color:red;font-weight:bold'>False</span>       | True     | <span style='color:red;font-weight:bold'>False</span>   | True      | True       | True           | True            |\n",
    "| 2017 | True         | True       | True           | True           | True         | <span style='color:red;font-weight:bold'>False</span>       | True     | <span style='color:red;font-weight:bold'>False</span>   | True      | True       | True           | True            |\n",
    "| 2018 | True         | True       | True           | True           | True         | <span style='color:red;font-weight:bold'>False</span>       | True     | <span style='color:red;font-weight:bold'>False</span>   | True      | True       | True           | True            |\n",
    "| 2019 | True         | True       | True           | True           | True         | <span style='color:red;font-weight:bold'>False</span>       | True     | <span style='color:red;font-weight:bold'>False</span>   | True      | True       | True           | True            |\n",
    "| 2020 | True         | True       | True           | True           | True         | <span style='color:red;font-weight:bold'>False</span>       | True     | <span style='color:red;font-weight:bold'>False</span>   | True      | True       | True           | True            |\n",
    "| 2021 | True         | True       | True           | True           | True         | True        | True     | True    | True      | True       | True           | True            |"
   ]
  },
  {
   "cell_type": "markdown",
   "metadata": {},
   "source": [
    "Now that I have this for reference, It's pretty clear that I won't be able to use 2012-2014 because the match (fixture) statistics and individual player statistics are unavailable. I could work with 2015 and on, but 2015 doesn't have team standings, which I'm hoping to use as a feature for any given match-up. This means I'll be limited to the data from 2016-2019 if I also exclude 2020 as an outlier year."
   ]
  },
  {
   "cell_type": "markdown",
   "metadata": {},
   "source": [
    "# <span style=\"color:steelblue\">FIXTURES ENDPOINT - INFO\n",
    "\n",
    "<table width=100%>\n",
    "<tr>\n",
    "<td style=\"text-align:left\" bgcolor=\"lightsteelblue\">\n",
    "</td>    \n",
    "</tr>"
   ]
  },
  {
   "cell_type": "markdown",
   "metadata": {},
   "source": [
    "### <span style=\"color:steelblue\">Testing - 2019 Fixtures\n",
    "\n",
    "<table width=100%>\n",
    "<tr>\n",
    "<td style=\"text-align:left\" bgcolor=\"lightsteelblue\">\n",
    "</td>    \n",
    "</tr>"
   ]
  },
  {
   "cell_type": "code",
   "execution_count": 19,
   "metadata": {
    "ExecuteTime": {
     "end_time": "2021-06-11T03:14:04.398652Z",
     "start_time": "2021-06-11T03:14:03.381775Z"
    }
   },
   "outputs": [],
   "source": [
    "url = \"https://api-football-v1.p.rapidapi.com/v3/fixtures\"\n",
    "querystring = {\"league\":\"253\",\"season\":\"2019\"}\n",
    "headers = {\n",
    "    'x-rapidapi-key': secrets['rapid_api_key'],\n",
    "    'x-rapidapi-host': secrets['rapid_api_host']\n",
    "    }\n",
    "\n",
    "mls19_response = requests.request(\"GET\", url, headers=headers, params=querystring)\n",
    "mls_2019 = mls19_response.json()"
   ]
  },
  {
   "cell_type": "code",
   "execution_count": 20,
   "metadata": {
    "ExecuteTime": {
     "end_time": "2021-06-11T03:14:05.223678Z",
     "start_time": "2021-06-11T03:14:05.180412Z"
    },
    "scrolled": true
   },
   "outputs": [],
   "source": [
    "with open('../data/api_football_data/01_fixtures_info/rapi-fixtures-mls_2019.json', 'w') as outfile:\n",
    "    json.dump(obj=mls_2019, fp=outfile , ensure_ascii=False, indent=1)"
   ]
  },
  {
   "cell_type": "code",
   "execution_count": 22,
   "metadata": {
    "ExecuteTime": {
     "end_time": "2021-06-11T03:15:12.410550Z",
     "start_time": "2021-06-11T03:15:12.407958Z"
    }
   },
   "outputs": [],
   "source": [
    "# mls_2019['response'][-1]"
   ]
  },
  {
   "cell_type": "markdown",
   "metadata": {
    "ExecuteTime": {
     "end_time": "2021-05-19T03:02:55.529830Z",
     "start_time": "2021-05-19T03:02:55.527711Z"
    }
   },
   "source": [
    "\n",
    "```\n",
    "{'fixture': {'id': 250199,\n",
    "             'referee': 'Allen Chapman, USA',\n",
    "             'timezone': 'UTC',\n",
    "             'date': '2019-11-10T20:00:00+00:00',\n",
    "             'timestamp': 1573416000,\n",
    "             'periods': {'first': 1573416000, 'second': 1573419600},\n",
    "             'venue': {'id': None, 'name': 'CenturyLink Field', 'city': 'Seattle'},\n",
    "             'status': {'long': 'Match Finished', 'short': 'FT', 'elapsed': 90}\n",
    "            },\n",
    "            \n",
    " 'league': {'id': 253,\n",
    "            'name': 'Major League Soccer',\n",
    "            'country': 'USA',\n",
    "            'logo': 'https://media.api-sports.io/football/leagues/253.png',\n",
    "            'flag': 'https://media.api-sports.io/flags/us.svg',\n",
    "            'season': 2019,\n",
    "            'round': 'MLS Cup - Final'},\n",
    "            \n",
    " 'teams': {'home': {'id': 1595,\n",
    "                   'name': 'Seattle Sounders',\n",
    "                   'logo': 'https://media.api-sports.io/football/teams/1595.png',\n",
    "                   'winner': True\n",
    "                   },\n",
    "                   \n",
    "          'away': {'id': 1601,\n",
    "                   'name': 'Toronto FC',\n",
    "                   'logo': 'https://media.api-sports.io/football/teams/1601.png',\n",
    "                   'winner': False\n",
    "                   }\n",
    "           },\n",
    "           \n",
    " 'goals': {'home': 3, 'away': 1},\n",
    " \n",
    " 'score': {'halftime': {'home': 0, 'away': 0},\n",
    "           'fulltime': {'home': 3, 'away': 1},\n",
    "           'extratime': {'home': None, 'away': None},\n",
    "           'penalty': {'home': None, 'away': None}\n",
    "          \n",
    "           }\n",
    "  }\n",
    "```\n",
    "\n"
   ]
  },
  {
   "cell_type": "markdown",
   "metadata": {},
   "source": [
    "### <span style=\"color:steelblue\">Requesting and Saving all MLS Fixtures by Season\n",
    "\n",
    "<table width=100%>\n",
    "<tr>\n",
    "<td style=\"text-align:left\" bgcolor=\"lightsteelblue\">\n",
    "</td>    \n",
    "</tr>"
   ]
  },
  {
   "cell_type": "markdown",
   "metadata": {},
   "source": [
    "Requesting Fixture Info for all MLS fixtures by season and going through them to extract a full list of team IDs"
   ]
  },
  {
   "cell_type": "code",
   "execution_count": 24,
   "metadata": {
    "ExecuteTime": {
     "end_time": "2021-06-11T03:15:44.987580Z",
     "start_time": "2021-06-11T03:15:29.660997Z"
    }
   },
   "outputs": [],
   "source": [
    "url = \"https://api-football-v1.p.rapidapi.com/v3/fixtures\"\n",
    "\n",
    "for year in list(range(2012,2022,1)):\n",
    "   \n",
    "    # requesting season info\n",
    "    querystring = {\"league\":\"253\",\"season\":year}\n",
    "    headers = {\n",
    "        'x-rapidapi-key': secrets['rapid_api_key'],\n",
    "        'x-rapidapi-host': secrets['rapid_api_host']\n",
    "        }\n",
    "    response = requests.request(\"GET\", url, headers=headers, params=querystring)\n",
    "    season_json = response.json()\n",
    "    time.sleep(.5)\n",
    "    \n",
    "    # saving season info\n",
    "    with open(f'../data/api_football_data/01_fixtures_info/rapi-fixtures-mls_{year}.json', 'w') as outfile:\n",
    "        json.dump(obj=season_json, fp=outfile , ensure_ascii=False, indent=1)\n",
    "    "
   ]
  },
  {
   "cell_type": "markdown",
   "metadata": {},
   "source": [
    "### <span style=\"color:steelblue\">Extracting list of all team IDs from Fixtures Info\n",
    "\n",
    "<table width=100%>\n",
    "<tr>\n",
    "<td style=\"text-align:left\" bgcolor=\"lightsteelblue\">\n",
    "</td>    \n",
    "</tr>"
   ]
  },
  {
   "cell_type": "code",
   "execution_count": 25,
   "metadata": {
    "ExecuteTime": {
     "end_time": "2021-06-11T03:18:02.810419Z",
     "start_time": "2021-06-11T03:18:02.747919Z"
    }
   },
   "outputs": [],
   "source": [
    "mls_team_ids = {}\n",
    "\n",
    "for year in list(range(2012,2022,1)):\n",
    "   \n",
    "    with open(f'../data/api_football_data/01_fixtures_info/rapi-fixtures-mls_{year}.json') as f:\n",
    "        loaded_json = json.load(f)\n",
    "    \n",
    "    # extracting and saving team IDs\n",
    "    for fixture in season_json['response']:\n",
    "        team_id = fixture['teams']['home']['id']\n",
    "        team_name = fixture['teams']['home']['name']\n",
    "\n",
    "        mls_team_ids[team_id] = {'name': team_name}"
   ]
  },
  {
   "cell_type": "code",
   "execution_count": 26,
   "metadata": {
    "ExecuteTime": {
     "end_time": "2021-06-11T03:18:13.181387Z",
     "start_time": "2021-06-11T03:18:13.171769Z"
    },
    "scrolled": false
   },
   "outputs": [
    {
     "data": {
      "text/html": [
       "<div>\n",
       "<style scoped>\n",
       "    .dataframe tbody tr th:only-of-type {\n",
       "        vertical-align: middle;\n",
       "    }\n",
       "\n",
       "    .dataframe tbody tr th {\n",
       "        vertical-align: top;\n",
       "    }\n",
       "\n",
       "    .dataframe thead th {\n",
       "        text-align: right;\n",
       "    }\n",
       "</style>\n",
       "<table border=\"1\" class=\"dataframe\">\n",
       "  <thead>\n",
       "    <tr style=\"text-align: right;\">\n",
       "      <th></th>\n",
       "      <th>name</th>\n",
       "    </tr>\n",
       "  </thead>\n",
       "  <tbody>\n",
       "    <tr>\n",
       "      <th>1608</th>\n",
       "      <td>Atlanta United FC</td>\n",
       "    </tr>\n",
       "    <tr>\n",
       "      <th>16489</th>\n",
       "      <td>Austin</td>\n",
       "    </tr>\n",
       "    <tr>\n",
       "      <th>1607</th>\n",
       "      <td>Chicago Fire</td>\n",
       "    </tr>\n",
       "    <tr>\n",
       "      <th>1610</th>\n",
       "      <td>Colorado Rapids</td>\n",
       "    </tr>\n",
       "    <tr>\n",
       "      <th>1613</th>\n",
       "      <td>Columbus Crew</td>\n",
       "    </tr>\n",
       "    <tr>\n",
       "      <th>1615</th>\n",
       "      <td>DC United</td>\n",
       "    </tr>\n",
       "    <tr>\n",
       "      <th>2242</th>\n",
       "      <td>FC Cincinnati</td>\n",
       "    </tr>\n",
       "    <tr>\n",
       "      <th>1597</th>\n",
       "      <td>FC Dallas</td>\n",
       "    </tr>\n",
       "    <tr>\n",
       "      <th>1600</th>\n",
       "      <td>Houston Dynamo</td>\n",
       "    </tr>\n",
       "    <tr>\n",
       "      <th>9568</th>\n",
       "      <td>Inter Miami</td>\n",
       "    </tr>\n",
       "    <tr>\n",
       "      <th>1616</th>\n",
       "      <td>Los Angeles FC</td>\n",
       "    </tr>\n",
       "    <tr>\n",
       "      <th>1605</th>\n",
       "      <td>Los Angeles Galaxy</td>\n",
       "    </tr>\n",
       "    <tr>\n",
       "      <th>1612</th>\n",
       "      <td>Minnesota United FC</td>\n",
       "    </tr>\n",
       "    <tr>\n",
       "      <th>1614</th>\n",
       "      <td>Montreal Impact</td>\n",
       "    </tr>\n",
       "    <tr>\n",
       "      <th>9569</th>\n",
       "      <td>Nashville SC</td>\n",
       "    </tr>\n",
       "    <tr>\n",
       "      <th>1609</th>\n",
       "      <td>New England Revolution</td>\n",
       "    </tr>\n",
       "    <tr>\n",
       "      <th>1604</th>\n",
       "      <td>New York City FC</td>\n",
       "    </tr>\n",
       "    <tr>\n",
       "      <th>1602</th>\n",
       "      <td>New York Red Bulls</td>\n",
       "    </tr>\n",
       "    <tr>\n",
       "      <th>1598</th>\n",
       "      <td>Orlando City SC</td>\n",
       "    </tr>\n",
       "    <tr>\n",
       "      <th>1599</th>\n",
       "      <td>Philadelphia Union</td>\n",
       "    </tr>\n",
       "    <tr>\n",
       "      <th>1617</th>\n",
       "      <td>Portland Timbers</td>\n",
       "    </tr>\n",
       "    <tr>\n",
       "      <th>1606</th>\n",
       "      <td>Real Salt Lake</td>\n",
       "    </tr>\n",
       "    <tr>\n",
       "      <th>1596</th>\n",
       "      <td>San Jose Earthquakes</td>\n",
       "    </tr>\n",
       "    <tr>\n",
       "      <th>1595</th>\n",
       "      <td>Seattle Sounders</td>\n",
       "    </tr>\n",
       "    <tr>\n",
       "      <th>1611</th>\n",
       "      <td>Sporting Kansas City</td>\n",
       "    </tr>\n",
       "    <tr>\n",
       "      <th>1601</th>\n",
       "      <td>Toronto FC</td>\n",
       "    </tr>\n",
       "    <tr>\n",
       "      <th>1603</th>\n",
       "      <td>Vancouver Whitecaps</td>\n",
       "    </tr>\n",
       "  </tbody>\n",
       "</table>\n",
       "</div>"
      ],
      "text/plain": [
       "                         name\n",
       "1608        Atlanta United FC\n",
       "16489                  Austin\n",
       "1607             Chicago Fire\n",
       "1610          Colorado Rapids\n",
       "1613            Columbus Crew\n",
       "1615                DC United\n",
       "2242            FC Cincinnati\n",
       "1597                FC Dallas\n",
       "1600           Houston Dynamo\n",
       "9568              Inter Miami\n",
       "1616           Los Angeles FC\n",
       "1605       Los Angeles Galaxy\n",
       "1612      Minnesota United FC\n",
       "1614          Montreal Impact\n",
       "9569             Nashville SC\n",
       "1609   New England Revolution\n",
       "1604         New York City FC\n",
       "1602       New York Red Bulls\n",
       "1598          Orlando City SC\n",
       "1599       Philadelphia Union\n",
       "1617         Portland Timbers\n",
       "1606           Real Salt Lake\n",
       "1596     San Jose Earthquakes\n",
       "1595         Seattle Sounders\n",
       "1611     Sporting Kansas City\n",
       "1601               Toronto FC\n",
       "1603      Vancouver Whitecaps"
      ]
     },
     "execution_count": 26,
     "metadata": {},
     "output_type": "execute_result"
    }
   ],
   "source": [
    "mls_team_ids_df = pd.DataFrame(mls_team_ids).T   \n",
    "mls_team_ids_df.sort_values(by='name')    "
   ]
  },
  {
   "cell_type": "markdown",
   "metadata": {},
   "source": [
    "## <span style=\"color:steelblue\">Extracting and Aggregating Fixture Info\n",
    "\n",
    "<table width=100%>\n",
    "<tr>\n",
    "<td style=\"text-align:left\" bgcolor=\"lightsteelblue\">\n",
    "</td>    \n",
    "</tr>"
   ]
  },
  {
   "cell_type": "markdown",
   "metadata": {},
   "source": [
    "### <span style=\"color:steelblue\">Testing - 2019 Fixtures\n",
    "\n",
    "<table width=100%>\n",
    "<tr>\n",
    "<td style=\"text-align:left\" bgcolor=\"lightsteelblue\">\n",
    "</td>    \n",
    "</tr>"
   ]
  },
  {
   "cell_type": "code",
   "execution_count": 30,
   "metadata": {
    "ExecuteTime": {
     "end_time": "2021-06-11T03:39:40.494993Z",
     "start_time": "2021-06-11T03:39:40.466500Z"
    }
   },
   "outputs": [],
   "source": [
    "with open('../data/api_football_data/01_fixtures_info/rapi-fixtures-mls_2019.json') as f:\n",
    "    fixtures_2019 = json.load(f)"
   ]
  },
  {
   "cell_type": "markdown",
   "metadata": {},
   "source": [
    "In order to determine how to process these data, I'm going to work with a single match JSON and make decisions about what columns I'm going to keep, how I'll name them, sort them, etc. Once I have that built, I can scale up and run all fixtures through it to create a fixtures Dataframe for each year and then ultimately for all years (2016-2019)."
   ]
  },
  {
   "cell_type": "code",
   "execution_count": 35,
   "metadata": {
    "ExecuteTime": {
     "end_time": "2021-06-11T04:07:31.354695Z",
     "start_time": "2021-06-11T04:07:31.336801Z"
    },
    "scrolled": false
   },
   "outputs": [
    {
     "data": {
      "text/html": [
       "<div>\n",
       "<style scoped>\n",
       "    .dataframe tbody tr th:only-of-type {\n",
       "        vertical-align: middle;\n",
       "    }\n",
       "\n",
       "    .dataframe tbody tr th {\n",
       "        vertical-align: top;\n",
       "    }\n",
       "\n",
       "    .dataframe thead th {\n",
       "        text-align: right;\n",
       "    }\n",
       "</style>\n",
       "<table border=\"1\" class=\"dataframe\">\n",
       "  <thead>\n",
       "    <tr style=\"text-align: right;\">\n",
       "      <th></th>\n",
       "      <th>fixture.id</th>\n",
       "      <th>fixture.referee</th>\n",
       "      <th>fixture.timezone</th>\n",
       "      <th>fixture.date</th>\n",
       "      <th>fixture.timestamp</th>\n",
       "      <th>fixture.periods.first</th>\n",
       "      <th>fixture.periods.second</th>\n",
       "      <th>fixture.venue.id</th>\n",
       "      <th>fixture.venue.name</th>\n",
       "      <th>fixture.venue.city</th>\n",
       "      <th>...</th>\n",
       "      <th>goals.home</th>\n",
       "      <th>goals.away</th>\n",
       "      <th>score.halftime.home</th>\n",
       "      <th>score.halftime.away</th>\n",
       "      <th>score.fulltime.home</th>\n",
       "      <th>score.fulltime.away</th>\n",
       "      <th>score.extratime.home</th>\n",
       "      <th>score.extratime.away</th>\n",
       "      <th>score.penalty.home</th>\n",
       "      <th>score.penalty.away</th>\n",
       "    </tr>\n",
       "  </thead>\n",
       "  <tbody>\n",
       "    <tr>\n",
       "      <th>0</th>\n",
       "      <td>128168</td>\n",
       "      <td>Nima Saghafi, USA</td>\n",
       "      <td>UTC</td>\n",
       "      <td>2019-03-02T18:00:00+00:00</td>\n",
       "      <td>1551549600</td>\n",
       "      <td>1551549600</td>\n",
       "      <td>1551553200</td>\n",
       "      <td>None</td>\n",
       "      <td>Talen Energy Stadium</td>\n",
       "      <td>Chester</td>\n",
       "      <td>...</td>\n",
       "      <td>1</td>\n",
       "      <td>3</td>\n",
       "      <td>0</td>\n",
       "      <td>1</td>\n",
       "      <td>1</td>\n",
       "      <td>3</td>\n",
       "      <td>None</td>\n",
       "      <td>None</td>\n",
       "      <td>None</td>\n",
       "      <td>None</td>\n",
       "    </tr>\n",
       "  </tbody>\n",
       "</table>\n",
       "<p>1 rows × 38 columns</p>\n",
       "</div>"
      ],
      "text/plain": [
       "   fixture.id    fixture.referee fixture.timezone               fixture.date  \\\n",
       "0      128168  Nima Saghafi, USA              UTC  2019-03-02T18:00:00+00:00   \n",
       "\n",
       "   fixture.timestamp  fixture.periods.first  fixture.periods.second  \\\n",
       "0         1551549600             1551549600              1551553200   \n",
       "\n",
       "  fixture.venue.id    fixture.venue.name fixture.venue.city  ... goals.home  \\\n",
       "0             None  Talen Energy Stadium            Chester  ...          1   \n",
       "\n",
       "  goals.away  score.halftime.home  score.halftime.away score.fulltime.home  \\\n",
       "0          3                    0                    1                   1   \n",
       "\n",
       "  score.fulltime.away score.extratime.home score.extratime.away  \\\n",
       "0                   3                 None                 None   \n",
       "\n",
       "   score.penalty.home score.penalty.away  \n",
       "0                None               None  \n",
       "\n",
       "[1 rows x 38 columns]"
      ]
     },
     "execution_count": 35,
     "metadata": {},
     "output_type": "execute_result"
    }
   ],
   "source": [
    "fixture_test = fixtures_2019['response'][0]\n",
    "test = pd.json_normalize(fixture_test)\n",
    "test"
   ]
  },
  {
   "cell_type": "code",
   "execution_count": 33,
   "metadata": {
    "ExecuteTime": {
     "end_time": "2021-06-11T03:39:46.382367Z",
     "start_time": "2021-06-11T03:39:46.376946Z"
    },
    "scrolled": true
   },
   "outputs": [
    {
     "data": {
      "text/plain": [
       "Index(['fixture.id', 'fixture.referee', 'fixture.timezone', 'fixture.date',\n",
       "       'fixture.timestamp', 'fixture.periods.first', 'fixture.periods.second',\n",
       "       'fixture.venue.id', 'fixture.venue.name', 'fixture.venue.city',\n",
       "       'fixture.status.long', 'fixture.status.short', 'fixture.status.elapsed',\n",
       "       'league.id', 'league.name', 'league.country', 'league.logo',\n",
       "       'league.flag', 'league.season', 'league.round', 'teams.home.id',\n",
       "       'teams.home.name', 'teams.home.logo', 'teams.home.winner',\n",
       "       'teams.away.id', 'teams.away.name', 'teams.away.logo',\n",
       "       'teams.away.winner', 'goals.home', 'goals.away', 'score.halftime.home',\n",
       "       'score.halftime.away', 'score.fulltime.home', 'score.fulltime.away',\n",
       "       'score.extratime.home', 'score.extratime.away', 'score.penalty.home',\n",
       "       'score.penalty.away'],\n",
       "      dtype='object')"
      ]
     },
     "execution_count": 33,
     "metadata": {},
     "output_type": "execute_result"
    }
   ],
   "source": [
    "fx_columns = test.columns\n",
    "fx_columns"
   ]
  },
  {
   "cell_type": "markdown",
   "metadata": {},
   "source": [
    "#### Translation table"
   ]
  },
  {
   "cell_type": "markdown",
   "metadata": {},
   "source": [
    "<table>\n",
    "     <colgroup>\n",
    "    <col span=\"10\" >\n",
    "    <col>\n",
    "  </colgroup> \n",
    "    \n",
    "<tr> \n",
    "\n",
    "</tr>\n",
    "<tr>\n",
    "    \n",
    "<td>\n",
    "\n",
    "\n",
    "| Name      | Abbreviation |\n",
    "|:----------|:-------------|\n",
    "| fixture   | fx           |\n",
    "| league    | lg           |\n",
    "| teams     | tm           |\n",
    "| goals     | gl           |\n",
    "| score     | sc           |\n",
    "| periods   | per          |\n",
    "| venue     | ven          |\n",
    "| status    | sts          |\n",
    "    \n",
    "    \n",
    "</td>\n",
    "<td>\n",
    "    \n",
    "\n",
    "| Name      | Abbreviation |\n",
    "|:----------|:-------------|    \n",
    "| home      | h            |\n",
    "| away      | a            |\n",
    "| halftime  | ht           |\n",
    "| fulltime  | ft           |\n",
    "| extratime | et           |\n",
    "| penalty   | pen          |\n",
    "| id        | id           |\n",
    "| referee   | ref          |\n",
    "    \n",
    "</td>\n",
    "<td>\n",
    "    \n",
    "    \n",
    "| Name       | Abbreviation |\n",
    "|:-----------|:-------------|\n",
    "| timezone   | tz           |\n",
    "| date       | dt           |\n",
    "| timestamp  | ts           |\n",
    "| first      | fst          |\n",
    "| second     | sec          |\n",
    "| name       | nm           |\n",
    "| city       | city         |\n",
    "| long       | long         |\n",
    "    \n",
    "    \n",
    "</td>\n",
    "<td>\n",
    "    \n",
    "    \n",
    "| Name       | Abbreviation |\n",
    "|:-----------|:-------------|    \n",
    "| short      | shrt         |\n",
    "| elapsed    | elps         |\n",
    "| country    | ctry         |\n",
    "| logo       | logo         |\n",
    "| flag       | flag         |\n",
    "| season     | seas         |\n",
    "| round      | rnd          |\n",
    "| winner     | win          |\n",
    "    \n",
    "    \n",
    "</td></tr> \n",
    "\n",
    "</table>\n",
    "\n",
    "\n",
    "\n",
    "\n",
    "\n",
    "\n",
    "<!---\n",
    "\n",
    "<table>\n",
    "<tr> \n",
    "<th>  </th> <th>  </th>\n",
    "</tr>\n",
    "<tr>\n",
    "    \n",
    "<td>\n",
    "    \n",
    "    \n",
    "|  full                  |     |  tier 1 |     |  tier 2 |     |  end       |\n",
    "|:-----------------------|:---:|:--------|:---:|:--------|:---:|:-----------|\n",
    "| fixture.id             | -> | fixture | -> |         | -> | id         |\n",
    "| fixture.referee        | -> | fixture | -> |         | -> | referee    |\n",
    "| fixture.timezone       | -> | fixture | -> |         | -> | timezone   |\n",
    "| fixture.date           | -> | fixture | -> |         | -> | date       |\n",
    "| fixture.timestamp      | -> | fixture | -> |         | -> | timestamp  |\n",
    "| fixture.periods.first  | -> | fixture | -> | periods | -> | first      |\n",
    "| fixture.periods.second | -> | fixture | -> | periods | -> | second     |\n",
    "| fixture.venue.id       | -> | fixture | -> | venue   | -> | id         |\n",
    "| fixture.venue.name     | -> | fixture | -> | venue   | -> | name       |\n",
    "| fixture.venue.city     | -> | fixture | -> | venue   | -> | city       |\n",
    "| fixture.status.long    | -> | fixture | -> | status  | -> | long       |\n",
    "| fixture.status.short   | -> | fixture | -> | status  | -> | short      |\n",
    "| fixture.status.elapsed | -> | fixture | -> | status  | -> | elapsed    |\n",
    "\n",
    "    \n",
    "|  full           |     |  tier 1 |     |  tier 2 |     |  end     |\n",
    "|:----------------|:---:|:--------|:---:|:--------|:---:|:---------|   \n",
    "| league.id       | -> | league  | -> |         | -> | id       |\n",
    "| league.name     | -> | league  | -> |         | -> | name     |\n",
    "| league.country  | -> | league  | -> |         | -> | country  |\n",
    "| league.logo     | -> | league  | -> |         | -> | logo     |\n",
    "| league.flag     | -> | league  | -> |         | -> | flag     |\n",
    "| league.season   | -> | league  | -> |         | -> | season   |\n",
    "| league.round    | -> | league  | -> |         | -> | round    |\n",
    "    \n",
    "    \n",
    "</td>\n",
    "    \n",
    "<td>\n",
    "    \n",
    "|  full              |     |  tier 1 |     |  tier 2 |     |  end    |\n",
    "|:-------------------|:---:|:--------|:---:|:--------|:---:|:--------|\n",
    "| teams.home.id      | -> | teams   | -> | home    | -> | id      |\n",
    "| teams.home.name    | -> | teams   | -> | home    | -> | name    |\n",
    "| teams.home.logo    | -> | teams   | -> | home    | -> | logo    |\n",
    "| teams.home.winner  | -> | teams   | -> | home    | -> | winner  |\n",
    "| teams.away.id      | -> | teams   | -> | away    | -> | id      |\n",
    "| teams.away.name    | -> | teams   | -> | away    | -> | name    |\n",
    "| teams.away.logo    | -> | teams   | -> | away    | -> | logo    |\n",
    "| teams.away.winner  | -> | teams   | -> | away    | -> | winner  |\n",
    "    \n",
    "\n",
    "|  full       |     |  tier 1 |     |  tier 2 |     |  end  |\n",
    "|:------------|:---:|:--------|:---:|:--------|:---:|:------|\n",
    "| goals.home  | -> | goals   | -> |         | -> | home  |\n",
    "| goals.away  | -> | goals   | -> |         | -> | away  |\n",
    "    \n",
    "    \n",
    "|  full                 |     |  tier 1 |     |  tier 2    |     |  end  |\n",
    "|:----------------------|:---:|:--------|:---:|:-----------|:---:|:------|\n",
    "| score.halftime.home   | -> | score   | -> | halftime   | -> | home  |\n",
    "| score.halftime.away   | -> | score   | -> | halftime   | -> | away  |\n",
    "| score.fulltime.home   | -> | score   | -> | fulltime   | -> | home  |\n",
    "| score.fulltime.away   | -> | score   | -> | fulltime   | -> | away  |\n",
    "| score.extratime.home  | -> | score   | -> | extratime  | -> | home  |\n",
    "| score.extratime.away  | -> | score   | -> | extratime  | -> | away  |\n",
    "| score.penalty.home    | -> | score   | -> | penalty    | -> | home  |\n",
    "| score.penalty.away    | -> | score   | -> | penalty    | -> | away  |\n",
    "\n",
    "</td></tr> \n",
    "\n",
    "</table>\n",
    "\n",
    "-->"
   ]
  },
  {
   "cell_type": "code",
   "execution_count": 37,
   "metadata": {
    "ExecuteTime": {
     "end_time": "2021-06-11T04:09:25.715754Z",
     "start_time": "2021-06-11T04:09:25.711891Z"
    }
   },
   "outputs": [],
   "source": [
    "fx_col_names = {\n",
    "'fixture.id': 'fx_id', \n",
    "'fixture.referee': 'fx_ref', \n",
    "'fixture.timezone': 'fx_tz',\n",
    "'fixture.date': 'fx_date',\n",
    "'fixture.timestamp': 'fx_time',\n",
    "'fixture.periods.first': 'fx_per_fst', \n",
    "'fixture.periods.second': 'fx_per_sec',\n",
    "'fixture.venue.id': 'fx_ven_id', \n",
    "'fixture.venue.name': 'fx_ven_name', \n",
    "'fixture.venue.city': 'fx_ven_city',\n",
    "'fixture.status.long': 'fx_sts_long', \n",
    "'fixture.status.short': 'fx_sts_shrt', \n",
    "'fixture.status.elapsed': 'fx_sts_elps',\n",
    "\n",
    "'league.id': 'lg_id', \n",
    "'league.name': 'lg_name', \n",
    "'league.country': 'lg_ctry', \n",
    "'league.logo': 'lg_logo',\n",
    "'league.flag': 'lg_flag', \n",
    "'league.season': 'lg_seas', \n",
    "'league.round': 'lg_rnd',\n",
    "\n",
    "'teams.home.id': 'tm_h_id',\n",
    "'teams.home.name': 'tm_h_name', \n",
    "'teams.home.logo': 'tm_h_logo', \n",
    "'teams.home.winner': 'tm_h_win',\n",
    "'teams.away.id': 'tm_a_id', \n",
    "'teams.away.name': 'tm_a_name', \n",
    "'teams.away.logo': 'tm_a_logo',\n",
    "'teams.away.winner': 'tm_a_win', \n",
    "\n",
    "'goals.home': 'gl_h',\n",
    "'goals.away': 'gl_a',\n",
    "\n",
    "'score.halftime.home': 'sc_ht_h',\n",
    "'score.halftime.away': 'sc_ht_a', \n",
    "'score.fulltime.home': 'sc_ft_h', \n",
    "'score.fulltime.away': 'sc_ft_a',\n",
    "'score.extratime.home': 'sc_et_h', \n",
    "'score.extratime.away': 'sc_et_a', \n",
    "'score.penalty.home': 'sc_pen_h',\n",
    "'score.penalty.away': 'sc_pen_a'\n",
    "}"
   ]
  },
  {
   "cell_type": "markdown",
   "metadata": {},
   "source": [
    "## <span style=\"color:steelblue\">Code\n",
    "\n",
    "<table width=100%>\n",
    "<tr>\n",
    "<td style=\"text-align:left\" bgcolor=\"lightsteelblue\">\n",
    "</td>    \n",
    "</tr>"
   ]
  },
  {
   "cell_type": "code",
   "execution_count": 38,
   "metadata": {
    "ExecuteTime": {
     "end_time": "2021-06-11T04:09:40.552479Z",
     "start_time": "2021-06-11T04:09:29.315996Z"
    },
    "scrolled": false
   },
   "outputs": [
    {
     "name": "stdout",
     "output_type": "stream",
     "text": [
      "Processing fixtures for 2016...\n",
      "Processing fixtures for 2017...\n",
      "Processing fixtures for 2018...\n",
      "Processing fixtures for 2019...\n"
     ]
    },
    {
     "data": {
      "text/html": [
       "<div>\n",
       "<style scoped>\n",
       "    .dataframe tbody tr th:only-of-type {\n",
       "        vertical-align: middle;\n",
       "    }\n",
       "\n",
       "    .dataframe tbody tr th {\n",
       "        vertical-align: top;\n",
       "    }\n",
       "\n",
       "    .dataframe thead th {\n",
       "        text-align: right;\n",
       "    }\n",
       "</style>\n",
       "<table border=\"1\" class=\"dataframe\">\n",
       "  <thead>\n",
       "    <tr style=\"text-align: right;\">\n",
       "      <th></th>\n",
       "      <th>fx_id</th>\n",
       "      <th>fx_ref</th>\n",
       "      <th>fx_tz</th>\n",
       "      <th>fx_date</th>\n",
       "      <th>fx_time</th>\n",
       "      <th>fx_per_fst</th>\n",
       "      <th>fx_per_sec</th>\n",
       "      <th>fx_ven_id</th>\n",
       "      <th>fx_ven_name</th>\n",
       "      <th>fx_ven_city</th>\n",
       "      <th>...</th>\n",
       "      <th>gl_h</th>\n",
       "      <th>gl_a</th>\n",
       "      <th>sc_ht_h</th>\n",
       "      <th>sc_ht_a</th>\n",
       "      <th>sc_ft_h</th>\n",
       "      <th>sc_ft_a</th>\n",
       "      <th>sc_et_h</th>\n",
       "      <th>sc_et_a</th>\n",
       "      <th>sc_pen_h</th>\n",
       "      <th>sc_pen_a</th>\n",
       "    </tr>\n",
       "  </thead>\n",
       "  <tbody>\n",
       "    <tr>\n",
       "      <th>0</th>\n",
       "      <td>148290</td>\n",
       "      <td>Alan Kelly, Ireland</td>\n",
       "      <td>UTC</td>\n",
       "      <td>2016-12-11T01:00:00+00:00</td>\n",
       "      <td>1481418000</td>\n",
       "      <td>1481418000</td>\n",
       "      <td>1481421600</td>\n",
       "      <td>None</td>\n",
       "      <td>BMO Field</td>\n",
       "      <td>Toronto</td>\n",
       "      <td>...</td>\n",
       "      <td>0</td>\n",
       "      <td>0</td>\n",
       "      <td>0</td>\n",
       "      <td>0</td>\n",
       "      <td>0</td>\n",
       "      <td>0</td>\n",
       "      <td>0</td>\n",
       "      <td>0</td>\n",
       "      <td>4</td>\n",
       "      <td>5</td>\n",
       "    </tr>\n",
       "    <tr>\n",
       "      <th>1</th>\n",
       "      <td>148291</td>\n",
       "      <td>Juan Guzman, USA</td>\n",
       "      <td>UTC</td>\n",
       "      <td>2016-11-23T01:00:00+00:00</td>\n",
       "      <td>1479862800</td>\n",
       "      <td>1479862800</td>\n",
       "      <td>1479866400</td>\n",
       "      <td>None</td>\n",
       "      <td>Olympic Stadium</td>\n",
       "      <td>Montreal</td>\n",
       "      <td>...</td>\n",
       "      <td>3</td>\n",
       "      <td>2</td>\n",
       "      <td>2</td>\n",
       "      <td>0</td>\n",
       "      <td>3</td>\n",
       "      <td>2</td>\n",
       "      <td>None</td>\n",
       "      <td>None</td>\n",
       "      <td>None</td>\n",
       "      <td>None</td>\n",
       "    </tr>\n",
       "    <tr>\n",
       "      <th>2</th>\n",
       "      <td>148292</td>\n",
       "      <td>Jair Marrufo, USA</td>\n",
       "      <td>UTC</td>\n",
       "      <td>2016-12-01T00:00:00+00:00</td>\n",
       "      <td>1480550400</td>\n",
       "      <td>1480550400</td>\n",
       "      <td>1480554000</td>\n",
       "      <td>None</td>\n",
       "      <td>BMO Field</td>\n",
       "      <td>Toronto</td>\n",
       "      <td>...</td>\n",
       "      <td>5</td>\n",
       "      <td>2</td>\n",
       "      <td>2</td>\n",
       "      <td>1</td>\n",
       "      <td>3</td>\n",
       "      <td>2</td>\n",
       "      <td>5</td>\n",
       "      <td>2</td>\n",
       "      <td>None</td>\n",
       "      <td>None</td>\n",
       "    </tr>\n",
       "    <tr>\n",
       "      <th>3</th>\n",
       "      <td>148293</td>\n",
       "      <td>Chris Penso, USA</td>\n",
       "      <td>UTC</td>\n",
       "      <td>2016-11-23T03:00:00+00:00</td>\n",
       "      <td>1479870000</td>\n",
       "      <td>1479870000</td>\n",
       "      <td>1479873600</td>\n",
       "      <td>None</td>\n",
       "      <td>CenturyLink Field</td>\n",
       "      <td>Seattle</td>\n",
       "      <td>...</td>\n",
       "      <td>2</td>\n",
       "      <td>1</td>\n",
       "      <td>1</td>\n",
       "      <td>1</td>\n",
       "      <td>2</td>\n",
       "      <td>1</td>\n",
       "      <td>None</td>\n",
       "      <td>None</td>\n",
       "      <td>None</td>\n",
       "      <td>None</td>\n",
       "    </tr>\n",
       "    <tr>\n",
       "      <th>4</th>\n",
       "      <td>148294</td>\n",
       "      <td>Ricardo Salazar, USA</td>\n",
       "      <td>UTC</td>\n",
       "      <td>2016-11-27T21:00:00+00:00</td>\n",
       "      <td>1480280400</td>\n",
       "      <td>1480280400</td>\n",
       "      <td>1480284000</td>\n",
       "      <td>None</td>\n",
       "      <td>Dick's Sporting Goods Park</td>\n",
       "      <td>Commerce City</td>\n",
       "      <td>...</td>\n",
       "      <td>0</td>\n",
       "      <td>1</td>\n",
       "      <td>0</td>\n",
       "      <td>0</td>\n",
       "      <td>0</td>\n",
       "      <td>1</td>\n",
       "      <td>None</td>\n",
       "      <td>None</td>\n",
       "      <td>None</td>\n",
       "      <td>None</td>\n",
       "    </tr>\n",
       "    <tr>\n",
       "      <th>...</th>\n",
       "      <td>...</td>\n",
       "      <td>...</td>\n",
       "      <td>...</td>\n",
       "      <td>...</td>\n",
       "      <td>...</td>\n",
       "      <td>...</td>\n",
       "      <td>...</td>\n",
       "      <td>...</td>\n",
       "      <td>...</td>\n",
       "      <td>...</td>\n",
       "      <td>...</td>\n",
       "      <td>...</td>\n",
       "      <td>...</td>\n",
       "      <td>...</td>\n",
       "      <td>...</td>\n",
       "      <td>...</td>\n",
       "      <td>...</td>\n",
       "      <td>...</td>\n",
       "      <td>...</td>\n",
       "      <td>...</td>\n",
       "      <td>...</td>\n",
       "    </tr>\n",
       "    <tr>\n",
       "      <th>416</th>\n",
       "      <td>250195</td>\n",
       "      <td>Ismail Elfath, USA</td>\n",
       "      <td>UTC</td>\n",
       "      <td>2019-10-25T00:00:00+00:00</td>\n",
       "      <td>1571961600</td>\n",
       "      <td>1571961600</td>\n",
       "      <td>1571965200</td>\n",
       "      <td>None</td>\n",
       "      <td>Mercedes-Benz Stadium</td>\n",
       "      <td>Atlanta</td>\n",
       "      <td>...</td>\n",
       "      <td>2</td>\n",
       "      <td>0</td>\n",
       "      <td>1</td>\n",
       "      <td>0</td>\n",
       "      <td>2</td>\n",
       "      <td>0</td>\n",
       "      <td>None</td>\n",
       "      <td>None</td>\n",
       "      <td>None</td>\n",
       "      <td>None</td>\n",
       "    </tr>\n",
       "    <tr>\n",
       "      <th>417</th>\n",
       "      <td>250196</td>\n",
       "      <td>Kevin Stott, USA</td>\n",
       "      <td>UTC</td>\n",
       "      <td>2019-10-25T02:30:00+00:00</td>\n",
       "      <td>1571970600</td>\n",
       "      <td>1571970600</td>\n",
       "      <td>1571974200</td>\n",
       "      <td>None</td>\n",
       "      <td>Banc of California Stadium</td>\n",
       "      <td>Los Angeles</td>\n",
       "      <td>...</td>\n",
       "      <td>5</td>\n",
       "      <td>3</td>\n",
       "      <td>2</td>\n",
       "      <td>1</td>\n",
       "      <td>5</td>\n",
       "      <td>3</td>\n",
       "      <td>None</td>\n",
       "      <td>None</td>\n",
       "      <td>None</td>\n",
       "      <td>None</td>\n",
       "    </tr>\n",
       "    <tr>\n",
       "      <th>418</th>\n",
       "      <td>250197</td>\n",
       "      <td>Jair Antonio Maruffo, USA</td>\n",
       "      <td>UTC</td>\n",
       "      <td>2019-10-30T02:00:00+00:00</td>\n",
       "      <td>1572400800</td>\n",
       "      <td>1572400800</td>\n",
       "      <td>1572404400</td>\n",
       "      <td>None</td>\n",
       "      <td>Banc of California Stadium</td>\n",
       "      <td>Los Angeles</td>\n",
       "      <td>...</td>\n",
       "      <td>1</td>\n",
       "      <td>3</td>\n",
       "      <td>1</td>\n",
       "      <td>2</td>\n",
       "      <td>1</td>\n",
       "      <td>3</td>\n",
       "      <td>None</td>\n",
       "      <td>None</td>\n",
       "      <td>None</td>\n",
       "      <td>None</td>\n",
       "    </tr>\n",
       "    <tr>\n",
       "      <th>419</th>\n",
       "      <td>250198</td>\n",
       "      <td>Alan Kelly, Ireland</td>\n",
       "      <td>UTC</td>\n",
       "      <td>2019-10-31T00:00:00+00:00</td>\n",
       "      <td>1572480000</td>\n",
       "      <td>1572480000</td>\n",
       "      <td>1572483600</td>\n",
       "      <td>None</td>\n",
       "      <td>Mercedes-Benz Stadium</td>\n",
       "      <td>Atlanta</td>\n",
       "      <td>...</td>\n",
       "      <td>1</td>\n",
       "      <td>2</td>\n",
       "      <td>1</td>\n",
       "      <td>1</td>\n",
       "      <td>1</td>\n",
       "      <td>2</td>\n",
       "      <td>None</td>\n",
       "      <td>None</td>\n",
       "      <td>None</td>\n",
       "      <td>None</td>\n",
       "    </tr>\n",
       "    <tr>\n",
       "      <th>420</th>\n",
       "      <td>250199</td>\n",
       "      <td>Allen Chapman, USA</td>\n",
       "      <td>UTC</td>\n",
       "      <td>2019-11-10T20:00:00+00:00</td>\n",
       "      <td>1573416000</td>\n",
       "      <td>1573416000</td>\n",
       "      <td>1573419600</td>\n",
       "      <td>None</td>\n",
       "      <td>CenturyLink Field</td>\n",
       "      <td>Seattle</td>\n",
       "      <td>...</td>\n",
       "      <td>3</td>\n",
       "      <td>1</td>\n",
       "      <td>0</td>\n",
       "      <td>0</td>\n",
       "      <td>3</td>\n",
       "      <td>1</td>\n",
       "      <td>None</td>\n",
       "      <td>None</td>\n",
       "      <td>None</td>\n",
       "      <td>None</td>\n",
       "    </tr>\n",
       "  </tbody>\n",
       "</table>\n",
       "<p>1576 rows × 38 columns</p>\n",
       "</div>"
      ],
      "text/plain": [
       "      fx_id                     fx_ref fx_tz                    fx_date  \\\n",
       "0    148290        Alan Kelly, Ireland   UTC  2016-12-11T01:00:00+00:00   \n",
       "1    148291           Juan Guzman, USA   UTC  2016-11-23T01:00:00+00:00   \n",
       "2    148292          Jair Marrufo, USA   UTC  2016-12-01T00:00:00+00:00   \n",
       "3    148293           Chris Penso, USA   UTC  2016-11-23T03:00:00+00:00   \n",
       "4    148294       Ricardo Salazar, USA   UTC  2016-11-27T21:00:00+00:00   \n",
       "..      ...                        ...   ...                        ...   \n",
       "416  250195         Ismail Elfath, USA   UTC  2019-10-25T00:00:00+00:00   \n",
       "417  250196           Kevin Stott, USA   UTC  2019-10-25T02:30:00+00:00   \n",
       "418  250197  Jair Antonio Maruffo, USA   UTC  2019-10-30T02:00:00+00:00   \n",
       "419  250198        Alan Kelly, Ireland   UTC  2019-10-31T00:00:00+00:00   \n",
       "420  250199         Allen Chapman, USA   UTC  2019-11-10T20:00:00+00:00   \n",
       "\n",
       "        fx_time  fx_per_fst  fx_per_sec fx_ven_id                 fx_ven_name  \\\n",
       "0    1481418000  1481418000  1481421600      None                   BMO Field   \n",
       "1    1479862800  1479862800  1479866400      None             Olympic Stadium   \n",
       "2    1480550400  1480550400  1480554000      None                   BMO Field   \n",
       "3    1479870000  1479870000  1479873600      None           CenturyLink Field   \n",
       "4    1480280400  1480280400  1480284000      None  Dick's Sporting Goods Park   \n",
       "..          ...         ...         ...       ...                         ...   \n",
       "416  1571961600  1571961600  1571965200      None       Mercedes-Benz Stadium   \n",
       "417  1571970600  1571970600  1571974200      None  Banc of California Stadium   \n",
       "418  1572400800  1572400800  1572404400      None  Banc of California Stadium   \n",
       "419  1572480000  1572480000  1572483600      None       Mercedes-Benz Stadium   \n",
       "420  1573416000  1573416000  1573419600      None           CenturyLink Field   \n",
       "\n",
       "       fx_ven_city  ... gl_h gl_a sc_ht_h sc_ht_a sc_ft_h sc_ft_a sc_et_h  \\\n",
       "0          Toronto  ...    0    0       0       0       0       0       0   \n",
       "1         Montreal  ...    3    2       2       0       3       2    None   \n",
       "2          Toronto  ...    5    2       2       1       3       2       5   \n",
       "3          Seattle  ...    2    1       1       1       2       1    None   \n",
       "4    Commerce City  ...    0    1       0       0       0       1    None   \n",
       "..             ...  ...  ...  ...     ...     ...     ...     ...     ...   \n",
       "416        Atlanta  ...    2    0       1       0       2       0    None   \n",
       "417    Los Angeles  ...    5    3       2       1       5       3    None   \n",
       "418    Los Angeles  ...    1    3       1       2       1       3    None   \n",
       "419        Atlanta  ...    1    2       1       1       1       2    None   \n",
       "420        Seattle  ...    3    1       0       0       3       1    None   \n",
       "\n",
       "    sc_et_a sc_pen_h sc_pen_a  \n",
       "0         0        4        5  \n",
       "1      None     None     None  \n",
       "2         2     None     None  \n",
       "3      None     None     None  \n",
       "4      None     None     None  \n",
       "..      ...      ...      ...  \n",
       "416    None     None     None  \n",
       "417    None     None     None  \n",
       "418    None     None     None  \n",
       "419    None     None     None  \n",
       "420    None     None     None  \n",
       "\n",
       "[1576 rows x 38 columns]"
      ]
     },
     "execution_count": 38,
     "metadata": {},
     "output_type": "execute_result"
    }
   ],
   "source": [
    "import json\n",
    "import pandas as pd\n",
    "\n",
    "all_fixtures = pd.DataFrame()\n",
    "\n",
    "for year in list(range(2016,2020,1)):\n",
    "    \n",
    "    with open(f'../data/api_football_data/01_fixtures_info/rapi-fixtures-mls_{year}.json') as f:\n",
    "        season = json.load(f)    \n",
    "    print(f'Processing fixtures for {year}...')\n",
    "    \n",
    "    # create dataframe to which all other fixtures can be appended\n",
    "    template = pd.json_normalize(season['response'][0]) \n",
    "    renamed = template.rename(mapper = fx_col_names, axis = 1)\n",
    "    fixture_base = pd.DataFrame(columns = renamed.columns)\n",
    "\n",
    "    # process each fixture, renaming column names and appending to base\n",
    "    for fix in season['response']:\n",
    "        new_row = pd.json_normalize(fix)\n",
    "        renamed_row = new_row.rename(mapper = fx_col_names, axis = 1)\n",
    "        fixture_base = fixture_base.append(renamed_row, ignore_index=True)\n",
    "\n",
    "    all_fixtures = all_fixtures.append(fixture_base)\n",
    "\n",
    "    \n",
    "all_fixtures.to_csv('../data/api_football_data/02_aggregated_info/rapi_fixtures_2016_2019.csv', index=False)\n",
    "all_fixtures"
   ]
  },
  {
   "cell_type": "markdown",
   "metadata": {},
   "source": [
    "# <span style=\"color:steelblue\">FIXTURES ENDPOINT - BASIC STATS\n",
    "\n",
    "<table width=100%>\n",
    "<tr>\n",
    "<td style=\"text-align:left\" bgcolor=\"lightsteelblue\">\n",
    "</td>    \n",
    "</tr>"
   ]
  },
  {
   "cell_type": "markdown",
   "metadata": {},
   "source": [
    "After aggregating the all of the basic info for the 2016-019 seasons, I used the resulting CSV to request basic stats for the fixtures."
   ]
  },
  {
   "cell_type": "code",
   "execution_count": 39,
   "metadata": {
    "ExecuteTime": {
     "end_time": "2021-06-11T04:12:18.497489Z",
     "start_time": "2021-06-11T04:12:18.479645Z"
    }
   },
   "outputs": [],
   "source": [
    "all_fixtures = pd.read_csv('../data/api_football_data/02_aggregated_info \\\n",
    "                           /rapi_fixtures_2016_2019.csv')\n",
    "all_fixture_ids = all_fixtures['fx_id']"
   ]
  },
  {
   "cell_type": "code",
   "execution_count": 40,
   "metadata": {
    "ExecuteTime": {
     "end_time": "2021-06-11T04:12:19.490738Z",
     "start_time": "2021-06-11T04:12:19.487539Z"
    }
   },
   "outputs": [
    {
     "data": {
      "text/plain": [
       "1576"
      ]
     },
     "execution_count": 40,
     "metadata": {},
     "output_type": "execute_result"
    }
   ],
   "source": [
    "len(all_fixture_ids)"
   ]
  },
  {
   "cell_type": "markdown",
   "metadata": {},
   "source": [
    "### <span style=\"color:steelblue\">Requesting Fixture Basic Stats \n",
    "\n",
    "<table width=100%>\n",
    "<tr>\n",
    "<td style=\"text-align:left\" bgcolor=\"lightsteelblue\">\n",
    "</td>    \n",
    "</tr>"
   ]
  },
  {
   "cell_type": "code",
   "execution_count": 45,
   "metadata": {
    "ExecuteTime": {
     "end_time": "2021-06-11T05:24:04.838758Z",
     "start_time": "2021-06-11T04:51:49.317801Z"
    }
   },
   "outputs": [],
   "source": [
    "fixture_statistics = []\n",
    "report = []\n",
    "\n",
    "url = \"https://api-football-v1.p.rapidapi.com/v3/fixtures/statistics\"\n",
    "\n",
    "headers = {\n",
    "    'x-rapidapi-key': secrets['rapid_api_key'],\n",
    "    'x-rapidapi-host': secrets['rapid_api_host']\n",
    "    }\n",
    "\n",
    "for fix in all_fixture_ids:\n",
    "    \n",
    "    querystring = {\"fixture\":fix}\n",
    "    \n",
    "    try:\n",
    "        response = requests.request(\"GET\", url, headers=headers, params=querystring)\n",
    "        \n",
    "    except Exception as e:                                              \n",
    "        cur_datetime = dt.datetime.now().strftime('%Y-%m-%d %H:%M:%S')\n",
    "        report.append({'event': f'request failed',\n",
    "                       'datetime': f'{cur_datetime}',\n",
    "                       'fixture id': f'{fix}',\n",
    "                       'exception': f'{e}'\n",
    "                       })\n",
    "        time.sleep(.25)\n",
    "        continue\n",
    "    \n",
    "    fix_json = response.json()\n",
    "    fixture_statistics.append(fix_json)\n",
    "        \n",
    "    cur_datetime = dt.datetime.now().strftime('%Y-%m-%d %H:%M:%S')\n",
    "    report.append({'event': f'request succeeded',\n",
    "                   'datetime': f'{cur_datetime}',\n",
    "                   'fixture id': f'{fix}',\n",
    "                   'exception': ''\n",
    "                   })    \n",
    "\n",
    "    df_report = pd.DataFrame(report)\n",
    "    df_report.to_csv(f'../data/api_football_data/03_fixtures_basic_stats/rapi_fixtures_basic_stats_2016_2019_report.csv', index=False)\n",
    "\n",
    "    with open(f'../data/api_football_data/03_fixtures_basic_stats/rapi_fixtures_basic_stats_2016_2019.json', 'w') as outfile:\n",
    "        json.dump(obj=fixture_statistics, fp=outfile , ensure_ascii=False, indent=1)\n",
    "    \n",
    "    # subscription allows 300 request per minute (5 per second)\n",
    "    time.sleep(.25)      \n"
   ]
  },
  {
   "cell_type": "markdown",
   "metadata": {},
   "source": [
    "# <span style=\"color:darkcyan\">TEAMS ENDPOINT"
   ]
  },
  {
   "cell_type": "markdown",
   "metadata": {},
   "source": [
    "### <span style=\"color:darkcyan\">Sounders Statistics by Season \n",
    "\n",
    "<table width=100%>\n",
    "<tr>\n",
    "<td style=\"text-align:left\" bgcolor=\"darkcyan\">\n",
    "</td>    \n",
    "</tr>"
   ]
  },
  {
   "cell_type": "code",
   "execution_count": null,
   "metadata": {
    "scrolled": false
   },
   "outputs": [],
   "source": [
    "team_stats_ssfc = []\n",
    "\n",
    "for year in list(range(2012,2022,1)):\n",
    "    url = \"https://api-football-v1.p.rapidapi.com/v3/teams/statistics\"\n",
    "    querystring = {\"league\":\"253\",\"season\":year,\"team\":\"1595\"}\n",
    "    headers = {\n",
    "        'x-rapidapi-key': secrets['rapid_api_key'],\n",
    "        'x-rapidapi-host': \"api-football-v1.p.rapidapi.com\"\n",
    "        }\n",
    "    response = requests.request(\"GET\", url, headers=headers, params=querystring)\n",
    "    \n",
    "    team_stats_ssfc.append(response.json()['response'])"
   ]
  },
  {
   "cell_type": "code",
   "execution_count": null,
   "metadata": {
    "code_folding": [],
    "scrolled": false
   },
   "outputs": [],
   "source": [
    "with open('../data/api_football_data/rapi-team_stats_ssfc_2012_2021.json', 'w') as outfile:\n",
    "    json.dump(obj=team_stats_ssfc, fp=outfile , ensure_ascii=False, indent=1)"
   ]
  },
  {
   "cell_type": "code",
   "execution_count": null,
   "metadata": {},
   "outputs": [],
   "source": [
    "with open('../data/api_football_data/rapi-team_stats_ssfc_2012_2021.json') as f:\n",
    "    team_stats_ssfc = json.load(f)"
   ]
  },
  {
   "cell_type": "markdown",
   "metadata": {},
   "source": [
    "### <span style=\"color:darkcyan\">All Teams Statistics by Season \n",
    "\n",
    "<table width=100%>\n",
    "<tr>\n",
    "<td style=\"text-align:left\" bgcolor=\"darkcyan\">\n",
    "</td>    \n",
    "</tr>"
   ]
  },
  {
   "cell_type": "code",
   "execution_count": null,
   "metadata": {},
   "outputs": [],
   "source": [
    "all_team_ids"
   ]
  },
  {
   "cell_type": "code",
   "execution_count": null,
   "metadata": {
    "scrolled": true
   },
   "outputs": [],
   "source": [
    "for team in all_team_ids:\n",
    "    team_stats = []\n",
    "    print(f'Starting {team} at', datetime.now().strftime(\"%H:%M:%S\"))\n",
    "    for year in list(range(2012,2022,1)):\n",
    "        url = \"https://api-football-v1.p.rapidapi.com/v3/teams/statistics\"\n",
    "        querystring = {\"league\":\"253\",\"season\":year,\"team\":f\"{team}\"}\n",
    "        headers = {\n",
    "            'x-rapidapi-key': secrets['rapid_api_key'],\n",
    "            'x-rapidapi-host': \"api-football-v1.p.rapidapi.com\"\n",
    "            }\n",
    "\n",
    "        response = requests.request(\"GET\", url, headers=headers, params=querystring)\n",
    "        team_stats.append(response.json())\n",
    "        print(year)\n",
    "#         time.sleep(1)\n",
    "    with open(f'../data/api_football_data/teams-statistics/rapi-team_stats_{team}.json', 'w') as outfile:\n",
    "        json.dump(obj=team_stats, fp=outfile , ensure_ascii=False, indent=1)\n",
    "    print(f'Completed {team} at', datetime.now().strftime(\"%H:%M:%S\"))\n",
    "    print('')\n",
    "#     time.sleep(1)"
   ]
  },
  {
   "cell_type": "markdown",
   "metadata": {},
   "source": [
    " "
   ]
  },
  {
   "cell_type": "markdown",
   "metadata": {},
   "source": [
    " "
   ]
  },
  {
   "cell_type": "markdown",
   "metadata": {},
   "source": [
    "# <span style=\"color:firebrick\">STANDINGS ENDPOINT"
   ]
  },
  {
   "cell_type": "markdown",
   "metadata": {},
   "source": [
    "The standings endpoint has end-of-season standings only. Though, it doesn't have information for standings throughout the season, I can use the standings as weights for start-of-season ratings. "
   ]
  },
  {
   "cell_type": "code",
   "execution_count": null,
   "metadata": {},
   "outputs": [],
   "source": [
    " import requests\n",
    "\n",
    "url = \"https://api-football-v1.p.rapidapi.com/v3/standings\"\n",
    "\n",
    "querystring = {\"season\":\"2019\",\"team\":\"1595\"}\n",
    "\n",
    "headers = {\n",
    "    'x-rapidapi-key': secrets['rapid_api_key'],\n",
    "    'x-rapidapi-host': \"api-football-v1.p.rapidapi.com\"\n",
    "    }\n",
    "\n",
    "response = requests.request(\"GET\", url, headers=headers, params=querystring)"
   ]
  },
  {
   "cell_type": "code",
   "execution_count": null,
   "metadata": {
    "scrolled": false
   },
   "outputs": [],
   "source": [
    "response.json()"
   ]
  },
  {
   "cell_type": "code",
   "execution_count": null,
   "metadata": {},
   "outputs": [],
   "source": [
    "import requests\n",
    "\n",
    "url = \"https://api-football-v1.p.rapidapi.com/v3/standings\"\n",
    "\n",
    "querystring = {\"season\":\"2019\",\"league\":\"253\"}\n",
    "\n",
    "headers = {\n",
    "    'x-rapidapi-key': secrets['rapid_api_key'],\n",
    "    'x-rapidapi-host': \"api-football-v1.p.rapidapi.com\"\n",
    "    }\n",
    "\n",
    "response = requests.request(\"GET\", url, headers=headers, params=querystring)"
   ]
  },
  {
   "cell_type": "code",
   "execution_count": null,
   "metadata": {
    "scrolled": false
   },
   "outputs": [],
   "source": [
    "# response.json()"
   ]
  },
  {
   "cell_type": "code",
   "execution_count": 99,
   "metadata": {
    "ExecuteTime": {
     "end_time": "2021-06-11T07:15:44.570219Z",
     "start_time": "2021-06-11T07:15:26.911741Z"
    },
    "scrolled": true
   },
   "outputs": [
    {
     "name": "stdout",
     "output_type": "stream",
     "text": [
      "2012\n",
      "2013\n",
      "2014\n",
      "2015\n",
      "2016\n",
      "2017\n",
      "2018\n",
      "2019\n",
      "2020\n",
      "2021\n"
     ]
    }
   ],
   "source": [
    "standings = []\n",
    "\n",
    "for year in list(range(2012,2022,1)):\n",
    "    url = \"https://api-football-v1.p.rapidapi.com/v3/standings\"\n",
    "    querystring = {\"league\":\"253\",\"season\":year,}\n",
    "    headers = {\n",
    "        'x-rapidapi-key': secrets['rapid_api_key'],\n",
    "        'x-rapidapi-host': \"api-football-v1.p.rapidapi.com\"\n",
    "        }\n",
    "\n",
    "    response = requests.request(\"GET\", url, headers=headers, params=querystring)\n",
    "    time.sleep(1)\n",
    "    standings.append(response.json())\n",
    "    print(year)\n",
    "    \n",
    "with open(f'../data/api_football_data/00_season_standings/rapi-team_standings.json', 'w') as outfile:\n",
    "    json.dump(obj=standings, fp=outfile , ensure_ascii=False, indent=1)"
   ]
  },
  {
   "cell_type": "code",
   "execution_count": 105,
   "metadata": {
    "ExecuteTime": {
     "end_time": "2021-06-11T07:18:13.637567Z",
     "start_time": "2021-06-11T07:18:13.633321Z"
    }
   },
   "outputs": [],
   "source": [
    "with open('../data/api_football_data/00_season_standings/rapi-team_standings.json') as f:\n",
    "    standings = json.load(f)"
   ]
  },
  {
   "cell_type": "code",
   "execution_count": 127,
   "metadata": {
    "ExecuteTime": {
     "end_time": "2021-06-11T07:34:10.523734Z",
     "start_time": "2021-06-11T07:34:10.521291Z"
    }
   },
   "outputs": [],
   "source": [
    "#                 i              \n",
    "table = standings[0]['response'][0]['league']['standings'][0]"
   ]
  },
  {
   "cell_type": "code",
   "execution_count": 163,
   "metadata": {
    "ExecuteTime": {
     "end_time": "2021-06-11T09:12:45.931557Z",
     "start_time": "2021-06-11T09:12:45.926795Z"
    },
    "scrolled": false
   },
   "outputs": [
    {
     "data": {
      "text/plain": [
       "{'rank': 1,\n",
       " 'team': {'id': 1609,\n",
       "  'name': 'New England Revolution',\n",
       "  'logo': 'https://media.api-sports.io/football/teams/1609.png'},\n",
       " 'points': 17,\n",
       " 'goalsDiff': 4,\n",
       " 'group': 'MLS - Eastern Conference',\n",
       " 'form': 'WWWDL',\n",
       " 'status': 'same',\n",
       " 'description': 'Final Series',\n",
       " 'all': {'played': 8,\n",
       "  'win': 5,\n",
       "  'draw': 2,\n",
       "  'lose': 1,\n",
       "  'goals': {'for': 11, 'against': 7}},\n",
       " 'home': {'played': 4,\n",
       "  'win': 4,\n",
       "  'draw': 0,\n",
       "  'lose': 0,\n",
       "  'goals': {'for': 7, 'against': 2}},\n",
       " 'away': {'played': 4,\n",
       "  'win': 1,\n",
       "  'draw': 2,\n",
       "  'lose': 1,\n",
       "  'goals': {'for': 4, 'against': 5}},\n",
       " 'update': '2021-05-31T00:00:00+00:00'}"
      ]
     },
     "execution_count": 163,
     "metadata": {},
     "output_type": "execute_result"
    }
   ],
   "source": [
    "table[0]"
   ]
  },
  {
   "cell_type": "code",
   "execution_count": 100,
   "metadata": {
    "ExecuteTime": {
     "end_time": "2021-06-11T07:15:45.310580Z",
     "start_time": "2021-06-11T07:15:45.302902Z"
    }
   },
   "outputs": [],
   "source": [
    "standings_df = pd.read_json('../data/api_football_data/00_season_standings/rapi-team_standings.json')"
   ]
  },
  {
   "cell_type": "code",
   "execution_count": 162,
   "metadata": {
    "ExecuteTime": {
     "end_time": "2021-06-11T09:12:00.172687Z",
     "start_time": "2021-06-11T09:12:00.158763Z"
    },
    "scrolled": false
   },
   "outputs": [
    {
     "data": {
      "text/html": [
       "<div>\n",
       "<style scoped>\n",
       "    .dataframe tbody tr th:only-of-type {\n",
       "        vertical-align: middle;\n",
       "    }\n",
       "\n",
       "    .dataframe tbody tr th {\n",
       "        vertical-align: top;\n",
       "    }\n",
       "\n",
       "    .dataframe thead th {\n",
       "        text-align: right;\n",
       "    }\n",
       "</style>\n",
       "<table border=\"1\" class=\"dataframe\">\n",
       "  <thead>\n",
       "    <tr style=\"text-align: right;\">\n",
       "      <th></th>\n",
       "      <th>get</th>\n",
       "      <th>parameters</th>\n",
       "      <th>errors</th>\n",
       "      <th>results</th>\n",
       "      <th>paging</th>\n",
       "      <th>response</th>\n",
       "    </tr>\n",
       "  </thead>\n",
       "  <tbody>\n",
       "    <tr>\n",
       "      <th>4</th>\n",
       "      <td>standings</td>\n",
       "      <td>{'league': '253', 'season': '2016'}</td>\n",
       "      <td>[]</td>\n",
       "      <td>1</td>\n",
       "      <td>{'current': 1, 'total': 1}</td>\n",
       "      <td>[{'league': {'id': 253, 'name': 'Major League ...</td>\n",
       "    </tr>\n",
       "    <tr>\n",
       "      <th>5</th>\n",
       "      <td>standings</td>\n",
       "      <td>{'league': '253', 'season': '2017'}</td>\n",
       "      <td>[]</td>\n",
       "      <td>1</td>\n",
       "      <td>{'current': 1, 'total': 1}</td>\n",
       "      <td>[{'league': {'id': 253, 'name': 'Major League ...</td>\n",
       "    </tr>\n",
       "    <tr>\n",
       "      <th>6</th>\n",
       "      <td>standings</td>\n",
       "      <td>{'league': '253', 'season': '2018'}</td>\n",
       "      <td>[]</td>\n",
       "      <td>1</td>\n",
       "      <td>{'current': 1, 'total': 1}</td>\n",
       "      <td>[{'league': {'id': 253, 'name': 'Major League ...</td>\n",
       "    </tr>\n",
       "    <tr>\n",
       "      <th>7</th>\n",
       "      <td>standings</td>\n",
       "      <td>{'league': '253', 'season': '2019'}</td>\n",
       "      <td>[]</td>\n",
       "      <td>1</td>\n",
       "      <td>{'current': 1, 'total': 1}</td>\n",
       "      <td>[{'league': {'id': 253, 'name': 'Major League ...</td>\n",
       "    </tr>\n",
       "  </tbody>\n",
       "</table>\n",
       "</div>"
      ],
      "text/plain": [
       "         get                           parameters errors  results  \\\n",
       "4  standings  {'league': '253', 'season': '2016'}     []        1   \n",
       "5  standings  {'league': '253', 'season': '2017'}     []        1   \n",
       "6  standings  {'league': '253', 'season': '2018'}     []        1   \n",
       "7  standings  {'league': '253', 'season': '2019'}     []        1   \n",
       "\n",
       "                       paging  \\\n",
       "4  {'current': 1, 'total': 1}   \n",
       "5  {'current': 1, 'total': 1}   \n",
       "6  {'current': 1, 'total': 1}   \n",
       "7  {'current': 1, 'total': 1}   \n",
       "\n",
       "                                            response  \n",
       "4  [{'league': {'id': 253, 'name': 'Major League ...  \n",
       "5  [{'league': {'id': 253, 'name': 'Major League ...  \n",
       "6  [{'league': {'id': 253, 'name': 'Major League ...  \n",
       "7  [{'league': {'id': 253, 'name': 'Major League ...  "
      ]
     },
     "execution_count": 162,
     "metadata": {},
     "output_type": "execute_result"
    }
   ],
   "source": [
    "standings_df[4:-2]"
   ]
  },
  {
   "cell_type": "markdown",
   "metadata": {},
   "source": [
    "Pulling out the information from this endpoint was taking more time than it was worth to code it all out. So I went to https://www.mlssoccer.com/standings and spent 20 minutes copying/pasting the tables I needed into google sheets and downloading them as CSVs."
   ]
  },
  {
   "cell_type": "markdown",
   "metadata": {},
   "source": [
    "# Form Guide"
   ]
  },
  {
   "cell_type": "code",
   "execution_count": 47,
   "metadata": {
    "ExecuteTime": {
     "end_time": "2021-06-11T06:11:10.054198Z",
     "start_time": "2021-06-11T06:11:09.576080Z"
    }
   },
   "outputs": [],
   "source": [
    "ssfc_stats = pd.read_json('../data/api_football_data/rapi-team_stats_ssfc_2012_2021.json')"
   ]
  },
  {
   "cell_type": "code",
   "execution_count": 54,
   "metadata": {
    "ExecuteTime": {
     "end_time": "2021-06-11T06:14:50.724591Z",
     "start_time": "2021-06-11T06:14:50.614267Z"
    }
   },
   "outputs": [
    {
     "data": {
      "text/html": [
       "<div>\n",
       "<style scoped>\n",
       "    .dataframe tbody tr th:only-of-type {\n",
       "        vertical-align: middle;\n",
       "    }\n",
       "\n",
       "    .dataframe tbody tr th {\n",
       "        vertical-align: top;\n",
       "    }\n",
       "\n",
       "    .dataframe thead th {\n",
       "        text-align: right;\n",
       "    }\n",
       "</style>\n",
       "<table border=\"1\" class=\"dataframe\">\n",
       "  <thead>\n",
       "    <tr style=\"text-align: right;\">\n",
       "      <th></th>\n",
       "      <th>league</th>\n",
       "      <th>team</th>\n",
       "      <th>form</th>\n",
       "      <th>fixtures</th>\n",
       "      <th>goals</th>\n",
       "      <th>biggest</th>\n",
       "      <th>clean_sheet</th>\n",
       "      <th>failed_to_score</th>\n",
       "      <th>penalty</th>\n",
       "      <th>lineups</th>\n",
       "      <th>cards</th>\n",
       "    </tr>\n",
       "  </thead>\n",
       "  <tbody>\n",
       "    <tr>\n",
       "      <th>0</th>\n",
       "      <td>{'id': 253, 'name': 'Major League Soccer', 'co...</td>\n",
       "      <td>{'id': 1595, 'name': 'Seattle Sounders', 'logo...</td>\n",
       "      <td>WWLDWWWWWLDLDLDLDDWDWWLWWDWDLDWDWLDWLW</td>\n",
       "      <td>{'played': {'home': 19, 'away': 19, 'total': 3...</td>\n",
       "      <td>{'for': {'total': {'home': 29, 'away': 25, 'to...</td>\n",
       "      <td>{'streak': {'wins': 5, 'draws': 2, 'loses': 1}...</td>\n",
       "      <td>{'home': 9, 'away': 5, 'total': 14}</td>\n",
       "      <td>{'home': 5, 'away': 5, 'total': 10}</td>\n",
       "      <td>{'scored': {'total': 1, 'percentage': '100.00%...</td>\n",
       "      <td>[]</td>\n",
       "      <td>{'yellow': {'0-15': {'total': None, 'percentag...</td>\n",
       "    </tr>\n",
       "    <tr>\n",
       "      <th>1</th>\n",
       "      <td>{'id': 253, 'name': 'Major League Soccer', 'co...</td>\n",
       "      <td>{'id': 1595, 'name': 'Seattle Sounders', 'logo...</td>\n",
       "      <td>LDLLDWDWWWLWWLWLLDWWWLWWWWWDDLLLLDWLL</td>\n",
       "      <td>{'played': {'home': 19, 'away': 18, 'total': 3...</td>\n",
       "      <td>{'for': {'total': {'home': 32, 'away': 15, 'to...</td>\n",
       "      <td>{'streak': {'wins': 5, 'draws': 2, 'loses': 4}...</td>\n",
       "      <td>{'home': 8, 'away': 4, 'total': 12}</td>\n",
       "      <td>{'home': 2, 'away': 7, 'total': 9}</td>\n",
       "      <td>{'scored': {'total': 3, 'percentage': '100.00%...</td>\n",
       "      <td>[]</td>\n",
       "      <td>{'yellow': {'0-15': {'total': None, 'percentag...</td>\n",
       "    </tr>\n",
       "    <tr>\n",
       "      <th>2</th>\n",
       "      <td>{'id': 253, 'name': 'Major League Soccer', 'co...</td>\n",
       "      <td>{'id': 1595, 'name': 'Seattle Sounders', 'logo...</td>\n",
       "      <td>WLWLDWWWWWLWDWWWLWLLWLDWWWWLLWWLDWDDLW</td>\n",
       "      <td>{'played': {'home': 19, 'away': 19, 'total': 3...</td>\n",
       "      <td>{'for': {'total': {'home': 33, 'away': 35, 'to...</td>\n",
       "      <td>{'streak': {'wins': 5, 'draws': 2, 'loses': 2}...</td>\n",
       "      <td>{'home': 8, 'away': 2, 'total': 10}</td>\n",
       "      <td>{'home': 3, 'away': 4, 'total': 7}</td>\n",
       "      <td>{'scored': {'total': 6, 'percentage': '100.00%...</td>\n",
       "      <td>[]</td>\n",
       "      <td>{'yellow': {'0-15': {'total': None, 'percentag...</td>\n",
       "    </tr>\n",
       "    <tr>\n",
       "      <th>3</th>\n",
       "      <td>{'id': 253, 'name': 'Major League Soccer', 'co...</td>\n",
       "      <td>{'id': 1595, 'name': 'Seattle Sounders', 'logo...</td>\n",
       "      <td>WLDWLWWWLWDWWLWLLLWLLLLLWLWWDWDDDWWWL</td>\n",
       "      <td>{'played': {'home': 19, 'away': 18, 'total': 3...</td>\n",
       "      <td>{'for': {'total': {'home': 31, 'away': 19, 'to...</td>\n",
       "      <td>{'streak': {'wins': 3, 'draws': 3, 'loses': 5}...</td>\n",
       "      <td>{'home': 8, 'away': 3, 'total': 11}</td>\n",
       "      <td>{'home': 4, 'away': 7, 'total': 11}</td>\n",
       "      <td>{'scored': {'total': 2, 'percentage': '100.00%...</td>\n",
       "      <td>[]</td>\n",
       "      <td>{'yellow': {'0-15': {'total': 2, 'percentage':...</td>\n",
       "    </tr>\n",
       "    <tr>\n",
       "      <th>4</th>\n",
       "      <td>{'id': 253, 'name': 'Major League Soccer', 'co...</td>\n",
       "      <td>{'id': 1595, 'name': 'Seattle Sounders', 'logo...</td>\n",
       "      <td>LLLWDWLWWLLLWLLDLWLLDWWWDLDWWWWDLWWWLWWD</td>\n",
       "      <td>{'played': {'home': 20, 'away': 20, 'total': 4...</td>\n",
       "      <td>{'for': {'total': {'home': 28, 'away': 24, 'to...</td>\n",
       "      <td>{'streak': {'wins': 4, 'draws': 1, 'loses': 3}...</td>\n",
       "      <td>{'home': 9, 'away': 3, 'total': 12}</td>\n",
       "      <td>{'home': 5, 'away': 4, 'total': 9}</td>\n",
       "      <td>{'scored': {'total': 4, 'percentage': '100.00%...</td>\n",
       "      <td>[{'formation': '4-2-3-1', 'played': 25}, {'for...</td>\n",
       "      <td>{'yellow': {'0-15': {'total': 3, 'percentage':...</td>\n",
       "    </tr>\n",
       "    <tr>\n",
       "      <th>5</th>\n",
       "      <td>{'id': 253, 'name': 'Major League Soccer', 'co...</td>\n",
       "      <td>{'id': 1595, 'name': 'Seattle Sounders', 'logo...</td>\n",
       "      <td>LDWDDLWDLLLWWLWLDDWWWDWWWDDDDLWLWWDWWWL</td>\n",
       "      <td>{'played': {'home': 19, 'away': 20, 'total': 3...</td>\n",
       "      <td>{'for': {'total': {'home': 37, 'away': 22, 'to...</td>\n",
       "      <td>{'streak': {'wins': 3, 'draws': 4, 'loses': 3}...</td>\n",
       "      <td>{'home': 11, 'away': 6, 'total': 17}</td>\n",
       "      <td>{'home': 2, 'away': 8, 'total': 10}</td>\n",
       "      <td>{'scored': {'total': 5, 'percentage': '100.00%...</td>\n",
       "      <td>[{'formation': '4-2-3-1', 'played': 27}, {'for...</td>\n",
       "      <td>{'yellow': {'0-15': {'total': 4, 'percentage':...</td>\n",
       "    </tr>\n",
       "    <tr>\n",
       "      <th>6</th>\n",
       "      <td>{'id': 253, 'name': 'Major League Soccer', 'co...</td>\n",
       "      <td>{'id': 1595, 'name': 'Seattle Sounders', 'logo...</td>\n",
       "      <td>LLLDWLDWLLLWLDLWDDWWWWWWWWWLLWWWWWLW</td>\n",
       "      <td>{'played': {'home': 18, 'away': 18, 'total': 3...</td>\n",
       "      <td>{'for': {'total': {'home': 36, 'away': 20, 'to...</td>\n",
       "      <td>{'streak': {'wins': 9, 'draws': 2, 'loses': 3}...</td>\n",
       "      <td>{'home': 4, 'away': 3, 'total': 7}</td>\n",
       "      <td>{'home': 5, 'away': 6, 'total': 11}</td>\n",
       "      <td>{'scored': {'total': 6, 'percentage': '100.00%...</td>\n",
       "      <td>[{'formation': '4-2-3-1', 'played': 31}, {'for...</td>\n",
       "      <td>{'yellow': {'0-15': {'total': 2, 'percentage':...</td>\n",
       "    </tr>\n",
       "    <tr>\n",
       "      <th>7</th>\n",
       "      <td>{'id': 253, 'name': 'Major League Soccer', 'co...</td>\n",
       "      <td>{'id': 1595, 'name': 'Seattle Sounders', 'logo...</td>\n",
       "      <td>WWWDWWLDDDWWDLLLWLWWLWLDLDWWLWDLWWWWWW</td>\n",
       "      <td>{'played': {'home': 20, 'away': 18, 'total': 3...</td>\n",
       "      <td>{'for': {'total': {'home': 43, 'away': 21, 'to...</td>\n",
       "      <td>{'streak': {'wins': 3, 'draws': 3, 'loses': 3}...</td>\n",
       "      <td>{'home': 7, 'away': 4, 'total': 11}</td>\n",
       "      <td>{'home': 1, 'away': 6, 'total': 7}</td>\n",
       "      <td>{'scored': {'total': 3, 'percentage': '100.00%...</td>\n",
       "      <td>[{'formation': '4-2-3-1', 'played': 34}, {'for...</td>\n",
       "      <td>{'yellow': {'0-15': {'total': 3, 'percentage':...</td>\n",
       "    </tr>\n",
       "    <tr>\n",
       "      <th>8</th>\n",
       "      <td>{'id': 253, 'name': 'Major League Soccer', 'co...</td>\n",
       "      <td>{'id': 1595, 'name': 'Seattle Sounders', 'logo...</td>\n",
       "      <td>WDDLWLWWDLWWLWWWLDDWLDWWWWL</td>\n",
       "      <td>{'played': {'home': 16, 'away': 11, 'total': 2...</td>\n",
       "      <td>{'for': {'total': {'home': 38, 'away': 14, 'to...</td>\n",
       "      <td>{'streak': {'wins': 4, 'draws': 2, 'loses': 1}...</td>\n",
       "      <td>{'home': 4, 'away': 3, 'total': 7}</td>\n",
       "      <td>{'home': 1, 'away': 3, 'total': 4}</td>\n",
       "      <td>{'scored': {'total': 5, 'percentage': '100.00%...</td>\n",
       "      <td>[{'formation': '4-2-3-1', 'played': 26}, {'for...</td>\n",
       "      <td>{'yellow': {'0-15': {'total': 1, 'percentage':...</td>\n",
       "    </tr>\n",
       "    <tr>\n",
       "      <th>9</th>\n",
       "      <td>{'id': 253, 'name': 'Major League Soccer', 'co...</td>\n",
       "      <td>{'id': 1595, 'name': 'Seattle Sounders', 'logo...</td>\n",
       "      <td>WDWWWWDD</td>\n",
       "      <td>{'played': {'home': 5, 'away': 3, 'total': 8},...</td>\n",
       "      <td>{'for': {'total': {'home': 10, 'away': 4, 'tot...</td>\n",
       "      <td>{'streak': {'wins': 4, 'draws': 1, 'loses': 0}...</td>\n",
       "      <td>{'home': 4, 'away': 1, 'total': 5}</td>\n",
       "      <td>{'home': 1, 'away': 0, 'total': 1}</td>\n",
       "      <td>{'scored': {'total': 1, 'percentage': '100.00%...</td>\n",
       "      <td>[{'formation': '5-3-2', 'played': 4}, {'format...</td>\n",
       "      <td>{'yellow': {'0-15': {'total': 1, 'percentage':...</td>\n",
       "    </tr>\n",
       "  </tbody>\n",
       "</table>\n",
       "</div>"
      ],
      "text/plain": [
       "                                              league  \\\n",
       "0  {'id': 253, 'name': 'Major League Soccer', 'co...   \n",
       "1  {'id': 253, 'name': 'Major League Soccer', 'co...   \n",
       "2  {'id': 253, 'name': 'Major League Soccer', 'co...   \n",
       "3  {'id': 253, 'name': 'Major League Soccer', 'co...   \n",
       "4  {'id': 253, 'name': 'Major League Soccer', 'co...   \n",
       "5  {'id': 253, 'name': 'Major League Soccer', 'co...   \n",
       "6  {'id': 253, 'name': 'Major League Soccer', 'co...   \n",
       "7  {'id': 253, 'name': 'Major League Soccer', 'co...   \n",
       "8  {'id': 253, 'name': 'Major League Soccer', 'co...   \n",
       "9  {'id': 253, 'name': 'Major League Soccer', 'co...   \n",
       "\n",
       "                                                team  \\\n",
       "0  {'id': 1595, 'name': 'Seattle Sounders', 'logo...   \n",
       "1  {'id': 1595, 'name': 'Seattle Sounders', 'logo...   \n",
       "2  {'id': 1595, 'name': 'Seattle Sounders', 'logo...   \n",
       "3  {'id': 1595, 'name': 'Seattle Sounders', 'logo...   \n",
       "4  {'id': 1595, 'name': 'Seattle Sounders', 'logo...   \n",
       "5  {'id': 1595, 'name': 'Seattle Sounders', 'logo...   \n",
       "6  {'id': 1595, 'name': 'Seattle Sounders', 'logo...   \n",
       "7  {'id': 1595, 'name': 'Seattle Sounders', 'logo...   \n",
       "8  {'id': 1595, 'name': 'Seattle Sounders', 'logo...   \n",
       "9  {'id': 1595, 'name': 'Seattle Sounders', 'logo...   \n",
       "\n",
       "                                       form  \\\n",
       "0    WWLDWWWWWLDLDLDLDDWDWWLWWDWDLDWDWLDWLW   \n",
       "1     LDLLDWDWWWLWWLWLLDWWWLWWWWWDDLLLLDWLL   \n",
       "2    WLWLDWWWWWLWDWWWLWLLWLDWWWWLLWWLDWDDLW   \n",
       "3     WLDWLWWWLWDWWLWLLLWLLLLLWLWWDWDDDWWWL   \n",
       "4  LLLWDWLWWLLLWLLDLWLLDWWWDLDWWWWDLWWWLWWD   \n",
       "5   LDWDDLWDLLLWWLWLDDWWWDWWWDDDDLWLWWDWWWL   \n",
       "6      LLLDWLDWLLLWLDLWDDWWWWWWWWWLLWWWWWLW   \n",
       "7    WWWDWWLDDDWWDLLLWLWWLWLDLDWWLWDLWWWWWW   \n",
       "8               WDDLWLWWDLWWLWWWLDDWLDWWWWL   \n",
       "9                                  WDWWWWDD   \n",
       "\n",
       "                                            fixtures  \\\n",
       "0  {'played': {'home': 19, 'away': 19, 'total': 3...   \n",
       "1  {'played': {'home': 19, 'away': 18, 'total': 3...   \n",
       "2  {'played': {'home': 19, 'away': 19, 'total': 3...   \n",
       "3  {'played': {'home': 19, 'away': 18, 'total': 3...   \n",
       "4  {'played': {'home': 20, 'away': 20, 'total': 4...   \n",
       "5  {'played': {'home': 19, 'away': 20, 'total': 3...   \n",
       "6  {'played': {'home': 18, 'away': 18, 'total': 3...   \n",
       "7  {'played': {'home': 20, 'away': 18, 'total': 3...   \n",
       "8  {'played': {'home': 16, 'away': 11, 'total': 2...   \n",
       "9  {'played': {'home': 5, 'away': 3, 'total': 8},...   \n",
       "\n",
       "                                               goals  \\\n",
       "0  {'for': {'total': {'home': 29, 'away': 25, 'to...   \n",
       "1  {'for': {'total': {'home': 32, 'away': 15, 'to...   \n",
       "2  {'for': {'total': {'home': 33, 'away': 35, 'to...   \n",
       "3  {'for': {'total': {'home': 31, 'away': 19, 'to...   \n",
       "4  {'for': {'total': {'home': 28, 'away': 24, 'to...   \n",
       "5  {'for': {'total': {'home': 37, 'away': 22, 'to...   \n",
       "6  {'for': {'total': {'home': 36, 'away': 20, 'to...   \n",
       "7  {'for': {'total': {'home': 43, 'away': 21, 'to...   \n",
       "8  {'for': {'total': {'home': 38, 'away': 14, 'to...   \n",
       "9  {'for': {'total': {'home': 10, 'away': 4, 'tot...   \n",
       "\n",
       "                                             biggest  \\\n",
       "0  {'streak': {'wins': 5, 'draws': 2, 'loses': 1}...   \n",
       "1  {'streak': {'wins': 5, 'draws': 2, 'loses': 4}...   \n",
       "2  {'streak': {'wins': 5, 'draws': 2, 'loses': 2}...   \n",
       "3  {'streak': {'wins': 3, 'draws': 3, 'loses': 5}...   \n",
       "4  {'streak': {'wins': 4, 'draws': 1, 'loses': 3}...   \n",
       "5  {'streak': {'wins': 3, 'draws': 4, 'loses': 3}...   \n",
       "6  {'streak': {'wins': 9, 'draws': 2, 'loses': 3}...   \n",
       "7  {'streak': {'wins': 3, 'draws': 3, 'loses': 3}...   \n",
       "8  {'streak': {'wins': 4, 'draws': 2, 'loses': 1}...   \n",
       "9  {'streak': {'wins': 4, 'draws': 1, 'loses': 0}...   \n",
       "\n",
       "                            clean_sheet                      failed_to_score  \\\n",
       "0   {'home': 9, 'away': 5, 'total': 14}  {'home': 5, 'away': 5, 'total': 10}   \n",
       "1   {'home': 8, 'away': 4, 'total': 12}   {'home': 2, 'away': 7, 'total': 9}   \n",
       "2   {'home': 8, 'away': 2, 'total': 10}   {'home': 3, 'away': 4, 'total': 7}   \n",
       "3   {'home': 8, 'away': 3, 'total': 11}  {'home': 4, 'away': 7, 'total': 11}   \n",
       "4   {'home': 9, 'away': 3, 'total': 12}   {'home': 5, 'away': 4, 'total': 9}   \n",
       "5  {'home': 11, 'away': 6, 'total': 17}  {'home': 2, 'away': 8, 'total': 10}   \n",
       "6    {'home': 4, 'away': 3, 'total': 7}  {'home': 5, 'away': 6, 'total': 11}   \n",
       "7   {'home': 7, 'away': 4, 'total': 11}   {'home': 1, 'away': 6, 'total': 7}   \n",
       "8    {'home': 4, 'away': 3, 'total': 7}   {'home': 1, 'away': 3, 'total': 4}   \n",
       "9    {'home': 4, 'away': 1, 'total': 5}   {'home': 1, 'away': 0, 'total': 1}   \n",
       "\n",
       "                                             penalty  \\\n",
       "0  {'scored': {'total': 1, 'percentage': '100.00%...   \n",
       "1  {'scored': {'total': 3, 'percentage': '100.00%...   \n",
       "2  {'scored': {'total': 6, 'percentage': '100.00%...   \n",
       "3  {'scored': {'total': 2, 'percentage': '100.00%...   \n",
       "4  {'scored': {'total': 4, 'percentage': '100.00%...   \n",
       "5  {'scored': {'total': 5, 'percentage': '100.00%...   \n",
       "6  {'scored': {'total': 6, 'percentage': '100.00%...   \n",
       "7  {'scored': {'total': 3, 'percentage': '100.00%...   \n",
       "8  {'scored': {'total': 5, 'percentage': '100.00%...   \n",
       "9  {'scored': {'total': 1, 'percentage': '100.00%...   \n",
       "\n",
       "                                             lineups  \\\n",
       "0                                                 []   \n",
       "1                                                 []   \n",
       "2                                                 []   \n",
       "3                                                 []   \n",
       "4  [{'formation': '4-2-3-1', 'played': 25}, {'for...   \n",
       "5  [{'formation': '4-2-3-1', 'played': 27}, {'for...   \n",
       "6  [{'formation': '4-2-3-1', 'played': 31}, {'for...   \n",
       "7  [{'formation': '4-2-3-1', 'played': 34}, {'for...   \n",
       "8  [{'formation': '4-2-3-1', 'played': 26}, {'for...   \n",
       "9  [{'formation': '5-3-2', 'played': 4}, {'format...   \n",
       "\n",
       "                                               cards  \n",
       "0  {'yellow': {'0-15': {'total': None, 'percentag...  \n",
       "1  {'yellow': {'0-15': {'total': None, 'percentag...  \n",
       "2  {'yellow': {'0-15': {'total': None, 'percentag...  \n",
       "3  {'yellow': {'0-15': {'total': 2, 'percentage':...  \n",
       "4  {'yellow': {'0-15': {'total': 3, 'percentage':...  \n",
       "5  {'yellow': {'0-15': {'total': 4, 'percentage':...  \n",
       "6  {'yellow': {'0-15': {'total': 2, 'percentage':...  \n",
       "7  {'yellow': {'0-15': {'total': 3, 'percentage':...  \n",
       "8  {'yellow': {'0-15': {'total': 1, 'percentage':...  \n",
       "9  {'yellow': {'0-15': {'total': 1, 'percentage':...  "
      ]
     },
     "execution_count": 54,
     "metadata": {},
     "output_type": "execute_result"
    }
   ],
   "source": [
    "ssfc_stats"
   ]
  },
  {
   "cell_type": "code",
   "execution_count": 73,
   "metadata": {
    "ExecuteTime": {
     "end_time": "2021-06-11T06:48:24.099101Z",
     "start_time": "2021-06-11T06:48:24.093822Z"
    },
    "code_folding": []
   },
   "outputs": [],
   "source": [
    "form_dicts = []\n",
    "\n",
    "for row in ssfc_stats.iterrows():\n",
    "#     print(row[1]['team']['name'])\n",
    "#     print(row[1]['league']['season'])\n",
    "#     print(len(row[1]['form']))\n",
    "#     print(row[1]['form'])\n",
    "    \n",
    "    season_form = {'season':row[1]['league']['season']} \n",
    "    \n",
    "    for i in range(40):\n",
    "        try:\n",
    "            season_form[i+1] = row[1]['form'][i]\n",
    "        except:\n",
    "            season_form[i+1] = ''\n",
    "        \n",
    "    form_dicts.append(season_form)"
   ]
  },
  {
   "cell_type": "code",
   "execution_count": 164,
   "metadata": {
    "ExecuteTime": {
     "end_time": "2021-06-11T09:16:05.453112Z",
     "start_time": "2021-06-11T09:16:05.431452Z"
    }
   },
   "outputs": [
    {
     "data": {
      "text/html": [
       "<div>\n",
       "<style scoped>\n",
       "    .dataframe tbody tr th:only-of-type {\n",
       "        vertical-align: middle;\n",
       "    }\n",
       "\n",
       "    .dataframe tbody tr th {\n",
       "        vertical-align: top;\n",
       "    }\n",
       "\n",
       "    .dataframe thead th {\n",
       "        text-align: right;\n",
       "    }\n",
       "</style>\n",
       "<table border=\"1\" class=\"dataframe\">\n",
       "  <thead>\n",
       "    <tr style=\"text-align: right;\">\n",
       "      <th></th>\n",
       "      <th>1</th>\n",
       "      <th>2</th>\n",
       "      <th>3</th>\n",
       "      <th>4</th>\n",
       "      <th>5</th>\n",
       "      <th>6</th>\n",
       "      <th>7</th>\n",
       "      <th>8</th>\n",
       "      <th>9</th>\n",
       "      <th>10</th>\n",
       "      <th>...</th>\n",
       "      <th>31</th>\n",
       "      <th>32</th>\n",
       "      <th>33</th>\n",
       "      <th>34</th>\n",
       "      <th>35</th>\n",
       "      <th>36</th>\n",
       "      <th>37</th>\n",
       "      <th>38</th>\n",
       "      <th>39</th>\n",
       "      <th>40</th>\n",
       "    </tr>\n",
       "    <tr>\n",
       "      <th>season</th>\n",
       "      <th></th>\n",
       "      <th></th>\n",
       "      <th></th>\n",
       "      <th></th>\n",
       "      <th></th>\n",
       "      <th></th>\n",
       "      <th></th>\n",
       "      <th></th>\n",
       "      <th></th>\n",
       "      <th></th>\n",
       "      <th></th>\n",
       "      <th></th>\n",
       "      <th></th>\n",
       "      <th></th>\n",
       "      <th></th>\n",
       "      <th></th>\n",
       "      <th></th>\n",
       "      <th></th>\n",
       "      <th></th>\n",
       "      <th></th>\n",
       "      <th></th>\n",
       "    </tr>\n",
       "  </thead>\n",
       "  <tbody>\n",
       "    <tr>\n",
       "      <th>2012</th>\n",
       "      <td>W</td>\n",
       "      <td>W</td>\n",
       "      <td>L</td>\n",
       "      <td>D</td>\n",
       "      <td>W</td>\n",
       "      <td>W</td>\n",
       "      <td>W</td>\n",
       "      <td>W</td>\n",
       "      <td>W</td>\n",
       "      <td>L</td>\n",
       "      <td>...</td>\n",
       "      <td>W</td>\n",
       "      <td>D</td>\n",
       "      <td>W</td>\n",
       "      <td>L</td>\n",
       "      <td>D</td>\n",
       "      <td>W</td>\n",
       "      <td>L</td>\n",
       "      <td>W</td>\n",
       "      <td></td>\n",
       "      <td></td>\n",
       "    </tr>\n",
       "    <tr>\n",
       "      <th>2013</th>\n",
       "      <td>L</td>\n",
       "      <td>D</td>\n",
       "      <td>L</td>\n",
       "      <td>L</td>\n",
       "      <td>D</td>\n",
       "      <td>W</td>\n",
       "      <td>D</td>\n",
       "      <td>W</td>\n",
       "      <td>W</td>\n",
       "      <td>W</td>\n",
       "      <td>...</td>\n",
       "      <td>L</td>\n",
       "      <td>L</td>\n",
       "      <td>L</td>\n",
       "      <td>D</td>\n",
       "      <td>W</td>\n",
       "      <td>L</td>\n",
       "      <td>L</td>\n",
       "      <td></td>\n",
       "      <td></td>\n",
       "      <td></td>\n",
       "    </tr>\n",
       "    <tr>\n",
       "      <th>2014</th>\n",
       "      <td>W</td>\n",
       "      <td>L</td>\n",
       "      <td>W</td>\n",
       "      <td>L</td>\n",
       "      <td>D</td>\n",
       "      <td>W</td>\n",
       "      <td>W</td>\n",
       "      <td>W</td>\n",
       "      <td>W</td>\n",
       "      <td>W</td>\n",
       "      <td>...</td>\n",
       "      <td>W</td>\n",
       "      <td>L</td>\n",
       "      <td>D</td>\n",
       "      <td>W</td>\n",
       "      <td>D</td>\n",
       "      <td>D</td>\n",
       "      <td>L</td>\n",
       "      <td>W</td>\n",
       "      <td></td>\n",
       "      <td></td>\n",
       "    </tr>\n",
       "    <tr>\n",
       "      <th>2015</th>\n",
       "      <td>W</td>\n",
       "      <td>L</td>\n",
       "      <td>D</td>\n",
       "      <td>W</td>\n",
       "      <td>L</td>\n",
       "      <td>W</td>\n",
       "      <td>W</td>\n",
       "      <td>W</td>\n",
       "      <td>L</td>\n",
       "      <td>W</td>\n",
       "      <td>...</td>\n",
       "      <td>D</td>\n",
       "      <td>D</td>\n",
       "      <td>D</td>\n",
       "      <td>W</td>\n",
       "      <td>W</td>\n",
       "      <td>W</td>\n",
       "      <td>L</td>\n",
       "      <td></td>\n",
       "      <td></td>\n",
       "      <td></td>\n",
       "    </tr>\n",
       "    <tr>\n",
       "      <th>2016</th>\n",
       "      <td>L</td>\n",
       "      <td>L</td>\n",
       "      <td>L</td>\n",
       "      <td>W</td>\n",
       "      <td>D</td>\n",
       "      <td>W</td>\n",
       "      <td>L</td>\n",
       "      <td>W</td>\n",
       "      <td>W</td>\n",
       "      <td>L</td>\n",
       "      <td>...</td>\n",
       "      <td>W</td>\n",
       "      <td>D</td>\n",
       "      <td>L</td>\n",
       "      <td>W</td>\n",
       "      <td>W</td>\n",
       "      <td>W</td>\n",
       "      <td>L</td>\n",
       "      <td>W</td>\n",
       "      <td>W</td>\n",
       "      <td>D</td>\n",
       "    </tr>\n",
       "    <tr>\n",
       "      <th>2017</th>\n",
       "      <td>L</td>\n",
       "      <td>D</td>\n",
       "      <td>W</td>\n",
       "      <td>D</td>\n",
       "      <td>D</td>\n",
       "      <td>L</td>\n",
       "      <td>W</td>\n",
       "      <td>D</td>\n",
       "      <td>L</td>\n",
       "      <td>L</td>\n",
       "      <td>...</td>\n",
       "      <td>W</td>\n",
       "      <td>L</td>\n",
       "      <td>W</td>\n",
       "      <td>W</td>\n",
       "      <td>D</td>\n",
       "      <td>W</td>\n",
       "      <td>W</td>\n",
       "      <td>W</td>\n",
       "      <td>L</td>\n",
       "      <td></td>\n",
       "    </tr>\n",
       "    <tr>\n",
       "      <th>2018</th>\n",
       "      <td>L</td>\n",
       "      <td>L</td>\n",
       "      <td>L</td>\n",
       "      <td>D</td>\n",
       "      <td>W</td>\n",
       "      <td>L</td>\n",
       "      <td>D</td>\n",
       "      <td>W</td>\n",
       "      <td>L</td>\n",
       "      <td>L</td>\n",
       "      <td>...</td>\n",
       "      <td>W</td>\n",
       "      <td>W</td>\n",
       "      <td>W</td>\n",
       "      <td>W</td>\n",
       "      <td>L</td>\n",
       "      <td>W</td>\n",
       "      <td></td>\n",
       "      <td></td>\n",
       "      <td></td>\n",
       "      <td></td>\n",
       "    </tr>\n",
       "    <tr>\n",
       "      <th>2019</th>\n",
       "      <td>W</td>\n",
       "      <td>W</td>\n",
       "      <td>W</td>\n",
       "      <td>D</td>\n",
       "      <td>W</td>\n",
       "      <td>W</td>\n",
       "      <td>L</td>\n",
       "      <td>D</td>\n",
       "      <td>D</td>\n",
       "      <td>D</td>\n",
       "      <td>...</td>\n",
       "      <td>D</td>\n",
       "      <td>L</td>\n",
       "      <td>W</td>\n",
       "      <td>W</td>\n",
       "      <td>W</td>\n",
       "      <td>W</td>\n",
       "      <td>W</td>\n",
       "      <td>W</td>\n",
       "      <td></td>\n",
       "      <td></td>\n",
       "    </tr>\n",
       "    <tr>\n",
       "      <th>2020</th>\n",
       "      <td>W</td>\n",
       "      <td>D</td>\n",
       "      <td>D</td>\n",
       "      <td>L</td>\n",
       "      <td>W</td>\n",
       "      <td>L</td>\n",
       "      <td>W</td>\n",
       "      <td>W</td>\n",
       "      <td>D</td>\n",
       "      <td>L</td>\n",
       "      <td>...</td>\n",
       "      <td></td>\n",
       "      <td></td>\n",
       "      <td></td>\n",
       "      <td></td>\n",
       "      <td></td>\n",
       "      <td></td>\n",
       "      <td></td>\n",
       "      <td></td>\n",
       "      <td></td>\n",
       "      <td></td>\n",
       "    </tr>\n",
       "    <tr>\n",
       "      <th>2021</th>\n",
       "      <td>W</td>\n",
       "      <td>D</td>\n",
       "      <td>W</td>\n",
       "      <td>W</td>\n",
       "      <td>W</td>\n",
       "      <td>W</td>\n",
       "      <td>D</td>\n",
       "      <td>D</td>\n",
       "      <td></td>\n",
       "      <td></td>\n",
       "      <td>...</td>\n",
       "      <td></td>\n",
       "      <td></td>\n",
       "      <td></td>\n",
       "      <td></td>\n",
       "      <td></td>\n",
       "      <td></td>\n",
       "      <td></td>\n",
       "      <td></td>\n",
       "      <td></td>\n",
       "      <td></td>\n",
       "    </tr>\n",
       "  </tbody>\n",
       "</table>\n",
       "<p>10 rows × 40 columns</p>\n",
       "</div>"
      ],
      "text/plain": [
       "       1  2  3  4  5  6  7  8  9  10  ... 31 32 33 34 35 36 37 38 39 40\n",
       "season                                ...                              \n",
       "2012    W  W  L  D  W  W  W  W  W  L  ...  W  D  W  L  D  W  L  W      \n",
       "2013    L  D  L  L  D  W  D  W  W  W  ...  L  L  L  D  W  L  L         \n",
       "2014    W  L  W  L  D  W  W  W  W  W  ...  W  L  D  W  D  D  L  W      \n",
       "2015    W  L  D  W  L  W  W  W  L  W  ...  D  D  D  W  W  W  L         \n",
       "2016    L  L  L  W  D  W  L  W  W  L  ...  W  D  L  W  W  W  L  W  W  D\n",
       "2017    L  D  W  D  D  L  W  D  L  L  ...  W  L  W  W  D  W  W  W  L   \n",
       "2018    L  L  L  D  W  L  D  W  L  L  ...  W  W  W  W  L  W            \n",
       "2019    W  W  W  D  W  W  L  D  D  D  ...  D  L  W  W  W  W  W  W      \n",
       "2020    W  D  D  L  W  L  W  W  D  L  ...                              \n",
       "2021    W  D  W  W  W  W  D  D        ...                              \n",
       "\n",
       "[10 rows x 40 columns]"
      ]
     },
     "execution_count": 164,
     "metadata": {},
     "output_type": "execute_result"
    }
   ],
   "source": [
    "pd.DataFrame(form_dicts).set_index('season')"
   ]
  },
  {
   "cell_type": "code",
   "execution_count": null,
   "metadata": {},
   "outputs": [],
   "source": []
  }
 ],
 "metadata": {
  "kernelspec": {
   "display_name": "Python 3",
   "language": "python",
   "name": "python3"
  },
  "language_info": {
   "codemirror_mode": {
    "name": "ipython",
    "version": 3
   },
   "file_extension": ".py",
   "mimetype": "text/x-python",
   "name": "python",
   "nbconvert_exporter": "python",
   "pygments_lexer": "ipython3",
   "version": "3.8.5"
  },
  "toc": {
   "base_numbering": 1,
   "nav_menu": {},
   "number_sections": false,
   "sideBar": true,
   "skip_h1_title": false,
   "title_cell": "Table of Contents",
   "title_sidebar": "Contents",
   "toc_cell": false,
   "toc_position": {
    "height": "calc(100% - 180px)",
    "left": "10px",
    "top": "150px",
    "width": "310.796875px"
   },
   "toc_section_display": true,
   "toc_window_display": true
  },
  "varInspector": {
   "cols": {
    "lenName": 16,
    "lenType": 16,
    "lenVar": 40
   },
   "kernels_config": {
    "python": {
     "delete_cmd_postfix": "",
     "delete_cmd_prefix": "del ",
     "library": "var_list.py",
     "varRefreshCmd": "print(var_dic_list())"
    },
    "r": {
     "delete_cmd_postfix": ") ",
     "delete_cmd_prefix": "rm(",
     "library": "var_list.r",
     "varRefreshCmd": "cat(var_dic_list()) "
    }
   },
   "oldHeight": 735,
   "position": {
    "height": "40px",
    "left": "1818px",
    "right": "20px",
    "top": "120px",
    "width": "599px"
   },
   "types_to_exclude": [
    "module",
    "function",
    "builtin_function_or_method",
    "instance",
    "_Feature"
   ],
   "varInspector_section_display": "none",
   "window_display": true
  }
 },
 "nbformat": 4,
 "nbformat_minor": 4
}

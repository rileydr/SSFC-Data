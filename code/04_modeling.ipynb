{
 "cells": [
  {
   "cell_type": "markdown",
   "metadata": {},
   "source": [
    "# Imports"
   ]
  },
  {
   "cell_type": "code",
   "execution_count": 1,
   "metadata": {
    "ExecuteTime": {
     "end_time": "2021-06-09T23:48:23.261068Z",
     "start_time": "2021-06-09T23:48:21.457275Z"
    }
   },
   "outputs": [],
   "source": [
    "import pandas as pd\n",
    "import time\n",
    "import datetime as dt\n",
    "import seaborn as sns\n",
    "import matplotlib.pyplot as plt\n",
    "\n",
    "import utilities.densmore_v3 as dns"
   ]
  },
  {
   "cell_type": "code",
   "execution_count": 2,
   "metadata": {
    "ExecuteTime": {
     "end_time": "2021-06-09T23:48:24.512207Z",
     "start_time": "2021-06-09T23:48:23.262901Z"
    }
   },
   "outputs": [],
   "source": [
    "import pycaret.classification as pyc"
   ]
  },
  {
   "cell_type": "markdown",
   "metadata": {},
   "source": [
    "# Data Setup"
   ]
  },
  {
   "cell_type": "markdown",
   "metadata": {},
   "source": [
    "**Reading in CSVs**"
   ]
  },
  {
   "cell_type": "code",
   "execution_count": 3,
   "metadata": {
    "ExecuteTime": {
     "end_time": "2021-06-09T23:48:24.549767Z",
     "start_time": "2021-06-09T23:48:24.515563Z"
    }
   },
   "outputs": [],
   "source": [
    "df_stats = pd.read_csv('../data/output_aggragated/basic_stats2.csv')\n",
    "df_info = pd.read_csv('../data/output_aggragated/mls_fixtures_2015_2020.csv')"
   ]
  },
  {
   "cell_type": "markdown",
   "metadata": {},
   "source": [
    "**Filtering out non-regular-season  Fixtures**"
   ]
  },
  {
   "cell_type": "code",
   "execution_count": 4,
   "metadata": {
    "ExecuteTime": {
     "end_time": "2021-06-09T23:48:24.560336Z",
     "start_time": "2021-06-09T23:48:24.552817Z"
    }
   },
   "outputs": [],
   "source": [
    "df_info = df_info[df_info['lg_rnd'].str.contains('Regular Season')]"
   ]
  },
  {
   "cell_type": "markdown",
   "metadata": {},
   "source": [
    "**Filtering out unnecessary columns from `df_info`**"
   ]
  },
  {
   "cell_type": "code",
   "execution_count": 5,
   "metadata": {
    "ExecuteTime": {
     "end_time": "2021-06-09T23:48:24.575142Z",
     "start_time": "2021-06-09T23:48:24.562529Z"
    },
    "scrolled": false
   },
   "outputs": [
    {
     "data": {
      "text/plain": [
       "Index(['fx_id', 'fx_ref', 'fx_tz', 'fx_date', 'fx_time', 'fx_per_fst',\n",
       "       'fx_per_sec', 'fx_ven_id', 'fx_ven_name', 'fx_ven_city', 'fx_sts_long',\n",
       "       'fx_sts_shrt', 'fx_sts_elps', 'lg_id', 'lg_name', 'lg_ctry', 'lg_logo',\n",
       "       'lg_flag', 'lg_seas', 'lg_rnd', 'tm_h_id', 'tm_h_name', 'tm_h_logo',\n",
       "       'tm_h_win', 'tm_a_id', 'tm_a_name', 'tm_a_logo', 'tm_a_win', 'gl_h',\n",
       "       'gl_a', 'sc_ht_h', 'sc_ht_a', 'sc_ft_h', 'sc_ft_a', 'sc_et_h',\n",
       "       'sc_et_a', 'sc_pen_h', 'sc_pen_a'],\n",
       "      dtype='object')"
      ]
     },
     "execution_count": 5,
     "metadata": {},
     "output_type": "execute_result"
    }
   ],
   "source": [
    "df_info.columns"
   ]
  },
  {
   "cell_type": "code",
   "execution_count": 6,
   "metadata": {
    "ExecuteTime": {
     "end_time": "2021-06-09T23:48:24.580833Z",
     "start_time": "2021-06-09T23:48:24.576752Z"
    }
   },
   "outputs": [],
   "source": [
    "df_info = df_info[['fx_id', 'fx_ref', 'fx_time', 'fx_ven_name', 'fx_ven_city', 'fx_sts_elps', \n",
    " 'tm_h_id', 'tm_h_win', 'tm_a_id', 'tm_a_win']]"
   ]
  },
  {
   "cell_type": "code",
   "execution_count": 7,
   "metadata": {
    "ExecuteTime": {
     "end_time": "2021-06-09T23:48:24.591799Z",
     "start_time": "2021-06-09T23:48:24.582674Z"
    },
    "scrolled": false
   },
   "outputs": [],
   "source": [
    "# df_info.head()\n",
    "# df_info.info()"
   ]
  },
  {
   "cell_type": "markdown",
   "metadata": {},
   "source": [
    "**Renaming Time Column and Unpacking it into separate Date and Time Columns**"
   ]
  },
  {
   "cell_type": "code",
   "execution_count": 8,
   "metadata": {
    "ExecuteTime": {
     "end_time": "2021-06-09T23:48:24.601878Z",
     "start_time": "2021-06-09T23:48:24.597250Z"
    }
   },
   "outputs": [],
   "source": [
    "df_info.rename(columns={'fx_time':'fx_utc'}, inplace=True)"
   ]
  },
  {
   "cell_type": "code",
   "execution_count": 9,
   "metadata": {
    "ExecuteTime": {
     "end_time": "2021-06-09T23:48:24.647133Z",
     "start_time": "2021-06-09T23:48:24.611419Z"
    }
   },
   "outputs": [],
   "source": [
    "df_info['fx_date'] = df_info['fx_utc'].map(lambda x: dt.datetime.fromtimestamp(x).strftime('%Y-%m-%d'))\n",
    "df_info['fx_time'] = df_info['fx_utc'].map(lambda x: dt.datetime.fromtimestamp(x).strftime('%H:%M:%S'))"
   ]
  },
  {
   "cell_type": "code",
   "execution_count": 10,
   "metadata": {
    "ExecuteTime": {
     "end_time": "2021-06-09T23:48:24.656170Z",
     "start_time": "2021-06-09T23:48:24.649082Z"
    },
    "scrolled": false
   },
   "outputs": [],
   "source": [
    "df_info.drop(axis=1, columns=['fx_utc'], inplace=True)"
   ]
  },
  {
   "cell_type": "markdown",
   "metadata": {},
   "source": [
    "**Removing Nulls**"
   ]
  },
  {
   "cell_type": "markdown",
   "metadata": {},
   "source": [
    "The target columns: 'tm_h_win' and 'tm_a_win' each have nulls in them whenever the game ends in a draw. So I'll remove those columns to simplify classification."
   ]
  },
  {
   "cell_type": "code",
   "execution_count": 11,
   "metadata": {
    "ExecuteTime": {
     "end_time": "2021-06-09T23:48:24.670194Z",
     "start_time": "2021-06-09T23:48:24.659861Z"
    }
   },
   "outputs": [],
   "source": [
    "df_info.dropna(axis=0, subset=['tm_h_win', 'tm_a_win'], inplace=True)"
   ]
  },
  {
   "cell_type": "code",
   "execution_count": 12,
   "metadata": {
    "ExecuteTime": {
     "end_time": "2021-06-09T23:48:24.683497Z",
     "start_time": "2021-06-09T23:48:24.673424Z"
    }
   },
   "outputs": [],
   "source": [
    "df_info.fillna('unknown', inplace=True)"
   ]
  },
  {
   "cell_type": "code",
   "execution_count": 13,
   "metadata": {
    "ExecuteTime": {
     "end_time": "2021-06-09T23:48:24.692908Z",
     "start_time": "2021-06-09T23:48:24.686027Z"
    },
    "scrolled": true
   },
   "outputs": [],
   "source": [
    "# df_info.info()"
   ]
  },
  {
   "cell_type": "markdown",
   "metadata": {},
   "source": [
    "**Filtering out unnecessary columns from `df_stats`**"
   ]
  },
  {
   "cell_type": "code",
   "execution_count": 14,
   "metadata": {
    "ExecuteTime": {
     "end_time": "2021-06-09T23:48:24.700995Z",
     "start_time": "2021-06-09T23:48:24.695760Z"
    }
   },
   "outputs": [
    {
     "data": {
      "text/plain": [
       "Index(['fx_id', 'tm_h_id', 'tm_h_name', 'tm_a_id', 'tm_a_name',\n",
       "       'h_shots_on_goal', 'h_shots_off_goal', 'h_total_shots',\n",
       "       'h_blocked_shots', 'h_shots_insidebox', 'h_shots_outsidebox', 'h_fouls',\n",
       "       'h_corner_kicks', 'h_offsides', 'h_ball_possession', 'h_yellow_cards',\n",
       "       'h_red_cards', 'h_goalkeeper_saves', 'h_total_passes',\n",
       "       'h_passes_accurate', 'h_passes_%', 'a_shots_on_goal',\n",
       "       'a_shots_off_goal', 'a_total_shots', 'a_blocked_shots',\n",
       "       'a_shots_insidebox', 'a_shots_outsidebox', 'a_fouls', 'a_corner_kicks',\n",
       "       'a_offsides', 'a_ball_possession', 'a_yellow_cards', 'a_red_cards',\n",
       "       'a_goalkeeper_saves', 'a_total_passes', 'a_passes_accurate',\n",
       "       'a_passes_%'],\n",
       "      dtype='object')"
      ]
     },
     "execution_count": 14,
     "metadata": {},
     "output_type": "execute_result"
    }
   ],
   "source": [
    "df_stats.columns"
   ]
  },
  {
   "cell_type": "markdown",
   "metadata": {},
   "source": [
    "There aren't any columns that I want to remove from the stats dataframe. So I'll leave them all in for now."
   ]
  },
  {
   "cell_type": "markdown",
   "metadata": {},
   "source": [
    "**Merging the two dataframes on the fixture ID column**"
   ]
  },
  {
   "cell_type": "code",
   "execution_count": 15,
   "metadata": {
    "ExecuteTime": {
     "end_time": "2021-06-09T23:48:24.726170Z",
     "start_time": "2021-06-09T23:48:24.702823Z"
    }
   },
   "outputs": [],
   "source": [
    "df = pd.merge(left=df_info, right=df_stats, how='left', on='fx_id')"
   ]
  },
  {
   "cell_type": "code",
   "execution_count": 16,
   "metadata": {
    "ExecuteTime": {
     "end_time": "2021-06-09T23:48:24.738985Z",
     "start_time": "2021-06-09T23:48:24.729405Z"
    },
    "scrolled": false
   },
   "outputs": [
    {
     "data": {
      "text/plain": [
       "Index(['fx_id', 'fx_ref', 'fx_ven_name', 'fx_ven_city', 'fx_sts_elps',\n",
       "       'tm_h_id_x', 'tm_h_win', 'tm_a_id_x', 'tm_a_win', 'fx_date', 'fx_time',\n",
       "       'tm_h_id_y', 'tm_h_name', 'tm_a_id_y', 'tm_a_name', 'h_shots_on_goal',\n",
       "       'h_shots_off_goal', 'h_total_shots', 'h_blocked_shots',\n",
       "       'h_shots_insidebox', 'h_shots_outsidebox', 'h_fouls', 'h_corner_kicks',\n",
       "       'h_offsides', 'h_ball_possession', 'h_yellow_cards', 'h_red_cards',\n",
       "       'h_goalkeeper_saves', 'h_total_passes', 'h_passes_accurate',\n",
       "       'h_passes_%', 'a_shots_on_goal', 'a_shots_off_goal', 'a_total_shots',\n",
       "       'a_blocked_shots', 'a_shots_insidebox', 'a_shots_outsidebox', 'a_fouls',\n",
       "       'a_corner_kicks', 'a_offsides', 'a_ball_possession', 'a_yellow_cards',\n",
       "       'a_red_cards', 'a_goalkeeper_saves', 'a_total_passes',\n",
       "       'a_passes_accurate', 'a_passes_%'],\n",
       "      dtype='object')"
      ]
     },
     "execution_count": 16,
     "metadata": {},
     "output_type": "execute_result"
    }
   ],
   "source": [
    "df.columns"
   ]
  },
  {
   "cell_type": "markdown",
   "metadata": {},
   "source": [
    "**Re-ordering Columns**"
   ]
  },
  {
   "cell_type": "code",
   "execution_count": 17,
   "metadata": {
    "ExecuteTime": {
     "end_time": "2021-06-09T23:48:24.750246Z",
     "start_time": "2021-06-09T23:48:24.741574Z"
    }
   },
   "outputs": [],
   "source": [
    "df = df[['fx_id', 'fx_date', 'fx_time', 'fx_ref', 'fx_ven_name', 'fx_ven_city', 'fx_sts_elps', \n",
    "         'tm_h_id_x', 'tm_a_id_x', 'tm_h_name', 'tm_a_name', 'tm_h_win', 'tm_a_win', \n",
    "         'h_shots_on_goal', 'h_shots_off_goal', 'h_total_shots',\n",
    "         'h_blocked_shots', 'h_shots_insidebox', 'h_shots_outsidebox', 'h_fouls',\n",
    "         'h_corner_kicks', 'h_offsides', 'h_ball_possession', 'h_yellow_cards',\n",
    "         'h_red_cards', 'h_goalkeeper_saves', 'h_total_passes',\n",
    "         'h_passes_accurate', 'h_passes_%', 'a_shots_on_goal',\n",
    "         'a_shots_off_goal', 'a_total_shots', 'a_blocked_shots',\n",
    "         'a_shots_insidebox', 'a_shots_outsidebox', 'a_fouls', 'a_corner_kicks',\n",
    "         'a_offsides', 'a_ball_possession', 'a_yellow_cards', 'a_red_cards',\n",
    "         'a_goalkeeper_saves', 'a_total_passes', 'a_passes_accurate',\n",
    "         'a_passes_%']]"
   ]
  },
  {
   "cell_type": "markdown",
   "metadata": {},
   "source": [
    "**Converting Strings with % Symbol to Floats**"
   ]
  },
  {
   "cell_type": "code",
   "execution_count": 18,
   "metadata": {
    "ExecuteTime": {
     "end_time": "2021-06-09T23:48:24.766087Z",
     "start_time": "2021-06-09T23:48:24.754857Z"
    },
    "scrolled": true
   },
   "outputs": [],
   "source": [
    "df['h_passes_%'] = df['h_passes_%'].map(lambda x: float(str(x).strip('%'))/100)\n",
    "df['a_passes_%'] = df['a_passes_%'].map(lambda x: float(str(x).strip('%'))/100)\n",
    "df['h_ball_possession'] = df['h_ball_possession'].map(lambda x: float(str(x).strip('%'))/100)\n",
    "df['a_ball_possession'] = df['a_ball_possession'].map(lambda x: float(str(x).strip('%'))/100)"
   ]
  },
  {
   "cell_type": "code",
   "execution_count": 19,
   "metadata": {
    "ExecuteTime": {
     "end_time": "2021-06-09T23:48:24.778493Z",
     "start_time": "2021-06-09T23:48:24.768671Z"
    }
   },
   "outputs": [],
   "source": [
    "df.rename(columns={'tm_h_id_x':'tm_h_id', 'tm_a_id_x':'tm_a_id'}, inplace=True)"
   ]
  },
  {
   "cell_type": "code",
   "execution_count": 20,
   "metadata": {
    "ExecuteTime": {
     "end_time": "2021-06-09T23:48:24.806073Z",
     "start_time": "2021-06-09T23:48:24.781961Z"
    },
    "scrolled": false
   },
   "outputs": [
    {
     "name": "stdout",
     "output_type": "stream",
     "text": [
      "<class 'pandas.core.frame.DataFrame'>\n",
      "Int64Index: 1605 entries, 0 to 1604\n",
      "Data columns (total 45 columns):\n",
      " #   Column              Non-Null Count  Dtype  \n",
      "---  ------              --------------  -----  \n",
      " 0   fx_id               1605 non-null   int64  \n",
      " 1   fx_date             1605 non-null   object \n",
      " 2   fx_time             1605 non-null   object \n",
      " 3   fx_ref              1605 non-null   object \n",
      " 4   fx_ven_name         1605 non-null   object \n",
      " 5   fx_ven_city         1605 non-null   object \n",
      " 6   fx_sts_elps         1605 non-null   float64\n",
      " 7   tm_h_id             1605 non-null   int64  \n",
      " 8   tm_a_id             1605 non-null   int64  \n",
      " 9   tm_h_name           1605 non-null   object \n",
      " 10  tm_a_name           1605 non-null   object \n",
      " 11  tm_h_win            1605 non-null   bool   \n",
      " 12  tm_a_win            1605 non-null   bool   \n",
      " 13  h_shots_on_goal     1581 non-null   float64\n",
      " 14  h_shots_off_goal    1589 non-null   float64\n",
      " 15  h_total_shots       1587 non-null   float64\n",
      " 16  h_blocked_shots     1464 non-null   float64\n",
      " 17  h_shots_insidebox   1569 non-null   float64\n",
      " 18  h_shots_outsidebox  1553 non-null   float64\n",
      " 19  h_fouls             1437 non-null   float64\n",
      " 20  h_corner_kicks      1581 non-null   float64\n",
      " 21  h_offsides          1319 non-null   float64\n",
      " 22  h_ball_possession   1597 non-null   float64\n",
      " 23  h_yellow_cards      1310 non-null   float64\n",
      " 24  h_red_cards         128 non-null    float64\n",
      " 25  h_goalkeeper_saves  1489 non-null   float64\n",
      " 26  h_total_passes      1571 non-null   float64\n",
      " 27  h_passes_accurate   1571 non-null   float64\n",
      " 28  h_passes_%          1571 non-null   float64\n",
      " 29  a_shots_on_goal     1559 non-null   float64\n",
      " 30  a_shots_off_goal    1575 non-null   float64\n",
      " 31  a_total_shots       1587 non-null   float64\n",
      " 32  a_blocked_shots     1398 non-null   float64\n",
      " 33  a_shots_insidebox   1562 non-null   float64\n",
      " 34  a_shots_outsidebox  1539 non-null   float64\n",
      " 35  a_fouls             1437 non-null   float64\n",
      " 36  a_corner_kicks      1567 non-null   float64\n",
      " 37  a_offsides          1251 non-null   float64\n",
      " 38  a_ball_possession   1597 non-null   float64\n",
      " 39  a_yellow_cards      1417 non-null   float64\n",
      " 40  a_red_cards         200 non-null    float64\n",
      " 41  a_goalkeeper_saves  1525 non-null   float64\n",
      " 42  a_total_passes      1564 non-null   float64\n",
      " 43  a_passes_accurate   1564 non-null   float64\n",
      " 44  a_passes_%          1564 non-null   float64\n",
      "dtypes: bool(2), float64(33), int64(3), object(7)\n",
      "memory usage: 554.9+ KB\n"
     ]
    }
   ],
   "source": [
    "df.info()"
   ]
  },
  {
   "cell_type": "markdown",
   "metadata": {},
   "source": [
    "# \n",
    "---\n",
    "# "
   ]
  },
  {
   "cell_type": "markdown",
   "metadata": {},
   "source": [
    "# Modeling"
   ]
  },
  {
   "cell_type": "code",
   "execution_count": 21,
   "metadata": {
    "ExecuteTime": {
     "end_time": "2021-06-09T23:48:24.817298Z",
     "start_time": "2021-06-09T23:48:24.808885Z"
    },
    "scrolled": true
   },
   "outputs": [
    {
     "data": {
      "text/plain": [
       "Index(['fx_id', 'fx_date', 'fx_time', 'fx_ref', 'fx_ven_name', 'fx_ven_city',\n",
       "       'fx_sts_elps', 'tm_h_id', 'tm_a_id', 'tm_h_name', 'tm_a_name',\n",
       "       'tm_h_win', 'tm_a_win', 'h_shots_on_goal', 'h_shots_off_goal',\n",
       "       'h_total_shots', 'h_blocked_shots', 'h_shots_insidebox',\n",
       "       'h_shots_outsidebox', 'h_fouls', 'h_corner_kicks', 'h_offsides',\n",
       "       'h_ball_possession', 'h_yellow_cards', 'h_red_cards',\n",
       "       'h_goalkeeper_saves', 'h_total_passes', 'h_passes_accurate',\n",
       "       'h_passes_%', 'a_shots_on_goal', 'a_shots_off_goal', 'a_total_shots',\n",
       "       'a_blocked_shots', 'a_shots_insidebox', 'a_shots_outsidebox', 'a_fouls',\n",
       "       'a_corner_kicks', 'a_offsides', 'a_ball_possession', 'a_yellow_cards',\n",
       "       'a_red_cards', 'a_goalkeeper_saves', 'a_total_passes',\n",
       "       'a_passes_accurate', 'a_passes_%'],\n",
       "      dtype='object')"
      ]
     },
     "execution_count": 21,
     "metadata": {},
     "output_type": "execute_result"
    }
   ],
   "source": [
    "df.columns"
   ]
  },
  {
   "cell_type": "code",
   "execution_count": 22,
   "metadata": {
    "ExecuteTime": {
     "end_time": "2021-06-09T23:48:24.838774Z",
     "start_time": "2021-06-09T23:48:24.823806Z"
    }
   },
   "outputs": [],
   "source": [
    "df.fillna(0, inplace=True)"
   ]
  },
  {
   "cell_type": "code",
   "execution_count": 23,
   "metadata": {
    "ExecuteTime": {
     "end_time": "2021-06-09T23:48:24.858814Z",
     "start_time": "2021-06-09T23:48:24.850526Z"
    }
   },
   "outputs": [],
   "source": [
    "df_h = df.drop(columns=['fx_id', 'tm_a_win'])"
   ]
  },
  {
   "cell_type": "code",
   "execution_count": 24,
   "metadata": {
    "ExecuteTime": {
     "end_time": "2021-06-09T23:48:24.876352Z",
     "start_time": "2021-06-09T23:48:24.869947Z"
    }
   },
   "outputs": [],
   "source": [
    "df_a = df.drop(columns=['fx_id', 'tm_h_win'])"
   ]
  },
  {
   "cell_type": "markdown",
   "metadata": {},
   "source": [
    "**Setting up PyCaret Modeling**"
   ]
  },
  {
   "cell_type": "code",
   "execution_count": 25,
   "metadata": {
    "ExecuteTime": {
     "end_time": "2021-06-09T23:48:24.891295Z",
     "start_time": "2021-06-09T23:48:24.880721Z"
    }
   },
   "outputs": [],
   "source": [
    "df['tm_h_id'] = df['tm_h_id'].map(lambda x: str(x))\n",
    "df['tm_a_id'] = df['tm_a_id'].map(lambda x: str(x))"
   ]
  },
  {
   "cell_type": "code",
   "execution_count": 26,
   "metadata": {
    "ExecuteTime": {
     "end_time": "2021-06-09T23:48:24.920592Z",
     "start_time": "2021-06-09T23:48:24.895045Z"
    },
    "scrolled": false
   },
   "outputs": [
    {
     "name": "stdout",
     "output_type": "stream",
     "text": [
      "<class 'pandas.core.frame.DataFrame'>\n",
      "Int64Index: 1605 entries, 0 to 1604\n",
      "Data columns (total 43 columns):\n",
      " #   Column              Non-Null Count  Dtype  \n",
      "---  ------              --------------  -----  \n",
      " 0   fx_date             1605 non-null   object \n",
      " 1   fx_time             1605 non-null   object \n",
      " 2   fx_ref              1605 non-null   object \n",
      " 3   fx_ven_name         1605 non-null   object \n",
      " 4   fx_ven_city         1605 non-null   object \n",
      " 5   fx_sts_elps         1605 non-null   float64\n",
      " 6   tm_h_id             1605 non-null   int64  \n",
      " 7   tm_a_id             1605 non-null   int64  \n",
      " 8   tm_h_name           1605 non-null   object \n",
      " 9   tm_a_name           1605 non-null   object \n",
      " 10  tm_h_win            1605 non-null   bool   \n",
      " 11  h_shots_on_goal     1605 non-null   float64\n",
      " 12  h_shots_off_goal    1605 non-null   float64\n",
      " 13  h_total_shots       1605 non-null   float64\n",
      " 14  h_blocked_shots     1605 non-null   float64\n",
      " 15  h_shots_insidebox   1605 non-null   float64\n",
      " 16  h_shots_outsidebox  1605 non-null   float64\n",
      " 17  h_fouls             1605 non-null   float64\n",
      " 18  h_corner_kicks      1605 non-null   float64\n",
      " 19  h_offsides          1605 non-null   float64\n",
      " 20  h_ball_possession   1605 non-null   float64\n",
      " 21  h_yellow_cards      1605 non-null   float64\n",
      " 22  h_red_cards         1605 non-null   float64\n",
      " 23  h_goalkeeper_saves  1605 non-null   float64\n",
      " 24  h_total_passes      1605 non-null   float64\n",
      " 25  h_passes_accurate   1605 non-null   float64\n",
      " 26  h_passes_%          1605 non-null   float64\n",
      " 27  a_shots_on_goal     1605 non-null   float64\n",
      " 28  a_shots_off_goal    1605 non-null   float64\n",
      " 29  a_total_shots       1605 non-null   float64\n",
      " 30  a_blocked_shots     1605 non-null   float64\n",
      " 31  a_shots_insidebox   1605 non-null   float64\n",
      " 32  a_shots_outsidebox  1605 non-null   float64\n",
      " 33  a_fouls             1605 non-null   float64\n",
      " 34  a_corner_kicks      1605 non-null   float64\n",
      " 35  a_offsides          1605 non-null   float64\n",
      " 36  a_ball_possession   1605 non-null   float64\n",
      " 37  a_yellow_cards      1605 non-null   float64\n",
      " 38  a_red_cards         1605 non-null   float64\n",
      " 39  a_goalkeeper_saves  1605 non-null   float64\n",
      " 40  a_total_passes      1605 non-null   float64\n",
      " 41  a_passes_accurate   1605 non-null   float64\n",
      " 42  a_passes_%          1605 non-null   float64\n",
      "dtypes: bool(1), float64(33), int64(2), object(7)\n",
      "memory usage: 540.7+ KB\n"
     ]
    }
   ],
   "source": [
    "df_h.info()"
   ]
  },
  {
   "cell_type": "code",
   "execution_count": 27,
   "metadata": {
    "ExecuteTime": {
     "end_time": "2021-06-09T23:48:25.014876Z",
     "start_time": "2021-06-09T23:48:24.923857Z"
    }
   },
   "outputs": [
    {
     "data": {
      "text/html": [
       "<div>\n",
       "<style scoped>\n",
       "    .dataframe tbody tr th:only-of-type {\n",
       "        vertical-align: middle;\n",
       "    }\n",
       "\n",
       "    .dataframe tbody tr th {\n",
       "        vertical-align: top;\n",
       "    }\n",
       "\n",
       "    .dataframe thead th {\n",
       "        text-align: right;\n",
       "    }\n",
       "</style>\n",
       "<table border=\"1\" class=\"dataframe\">\n",
       "  <thead>\n",
       "    <tr style=\"text-align: right;\">\n",
       "      <th></th>\n",
       "      <th>fx_date</th>\n",
       "      <th>fx_time</th>\n",
       "      <th>fx_ref</th>\n",
       "      <th>fx_ven_name</th>\n",
       "      <th>fx_ven_city</th>\n",
       "      <th>fx_sts_elps</th>\n",
       "      <th>tm_h_id</th>\n",
       "      <th>tm_a_id</th>\n",
       "      <th>tm_h_name</th>\n",
       "      <th>tm_a_name</th>\n",
       "      <th>tm_h_win</th>\n",
       "      <th>h_shots_on_goal</th>\n",
       "      <th>h_shots_off_goal</th>\n",
       "      <th>h_total_shots</th>\n",
       "      <th>h_blocked_shots</th>\n",
       "      <th>h_shots_insidebox</th>\n",
       "      <th>h_shots_outsidebox</th>\n",
       "      <th>h_fouls</th>\n",
       "      <th>h_corner_kicks</th>\n",
       "      <th>h_offsides</th>\n",
       "      <th>h_ball_possession</th>\n",
       "      <th>h_yellow_cards</th>\n",
       "      <th>h_red_cards</th>\n",
       "      <th>h_goalkeeper_saves</th>\n",
       "      <th>h_total_passes</th>\n",
       "      <th>h_passes_accurate</th>\n",
       "      <th>h_passes_%</th>\n",
       "      <th>a_shots_on_goal</th>\n",
       "      <th>a_shots_off_goal</th>\n",
       "      <th>a_total_shots</th>\n",
       "      <th>a_blocked_shots</th>\n",
       "      <th>a_shots_insidebox</th>\n",
       "      <th>a_shots_outsidebox</th>\n",
       "      <th>a_fouls</th>\n",
       "      <th>a_corner_kicks</th>\n",
       "      <th>a_offsides</th>\n",
       "      <th>a_ball_possession</th>\n",
       "      <th>a_yellow_cards</th>\n",
       "      <th>a_red_cards</th>\n",
       "      <th>a_goalkeeper_saves</th>\n",
       "      <th>a_total_passes</th>\n",
       "      <th>a_passes_accurate</th>\n",
       "      <th>a_passes_%</th>\n",
       "    </tr>\n",
       "  </thead>\n",
       "  <tbody>\n",
       "    <tr>\n",
       "      <th>0</th>\n",
       "      <td>2015-03-06</td>\n",
       "      <td>19:00:00</td>\n",
       "      <td>Jair Marrufo, USA</td>\n",
       "      <td>StubHub Center</td>\n",
       "      <td>Los Angeles</td>\n",
       "      <td>90.0</td>\n",
       "      <td>1605</td>\n",
       "      <td>1607</td>\n",
       "      <td>Los Angeles Galaxy</td>\n",
       "      <td>Chicago Fire</td>\n",
       "      <td>True</td>\n",
       "      <td>5.0</td>\n",
       "      <td>7.0</td>\n",
       "      <td>13.0</td>\n",
       "      <td>1.0</td>\n",
       "      <td>8.0</td>\n",
       "      <td>5.0</td>\n",
       "      <td>14.0</td>\n",
       "      <td>4.0</td>\n",
       "      <td>2.0</td>\n",
       "      <td>0.53</td>\n",
       "      <td>1.0</td>\n",
       "      <td>0.0</td>\n",
       "      <td>1.0</td>\n",
       "      <td>465.0</td>\n",
       "      <td>381.0</td>\n",
       "      <td>0.82</td>\n",
       "      <td>1.0</td>\n",
       "      <td>3.0</td>\n",
       "      <td>8.0</td>\n",
       "      <td>4.0</td>\n",
       "      <td>2.0</td>\n",
       "      <td>6.0</td>\n",
       "      <td>15.0</td>\n",
       "      <td>2.0</td>\n",
       "      <td>2.0</td>\n",
       "      <td>0.47</td>\n",
       "      <td>2.0</td>\n",
       "      <td>0.0</td>\n",
       "      <td>3.0</td>\n",
       "      <td>427.0</td>\n",
       "      <td>332.0</td>\n",
       "      <td>0.78</td>\n",
       "    </tr>\n",
       "    <tr>\n",
       "      <th>1</th>\n",
       "      <td>2015-03-07</td>\n",
       "      <td>12:00:00</td>\n",
       "      <td>Mark Geiger, USA</td>\n",
       "      <td>RFK Stadium</td>\n",
       "      <td>Washington</td>\n",
       "      <td>90.0</td>\n",
       "      <td>1615</td>\n",
       "      <td>1614</td>\n",
       "      <td>DC United</td>\n",
       "      <td>Montreal Impact</td>\n",
       "      <td>True</td>\n",
       "      <td>4.0</td>\n",
       "      <td>5.0</td>\n",
       "      <td>0.0</td>\n",
       "      <td>0.0</td>\n",
       "      <td>0.0</td>\n",
       "      <td>0.0</td>\n",
       "      <td>6.0</td>\n",
       "      <td>4.0</td>\n",
       "      <td>3.0</td>\n",
       "      <td>0.52</td>\n",
       "      <td>0.0</td>\n",
       "      <td>0.0</td>\n",
       "      <td>3.0</td>\n",
       "      <td>0.0</td>\n",
       "      <td>0.0</td>\n",
       "      <td>0.00</td>\n",
       "      <td>3.0</td>\n",
       "      <td>6.0</td>\n",
       "      <td>0.0</td>\n",
       "      <td>0.0</td>\n",
       "      <td>0.0</td>\n",
       "      <td>0.0</td>\n",
       "      <td>13.0</td>\n",
       "      <td>4.0</td>\n",
       "      <td>3.0</td>\n",
       "      <td>0.48</td>\n",
       "      <td>0.0</td>\n",
       "      <td>0.0</td>\n",
       "      <td>2.0</td>\n",
       "      <td>0.0</td>\n",
       "      <td>0.0</td>\n",
       "      <td>0.00</td>\n",
       "    </tr>\n",
       "    <tr>\n",
       "      <th>2</th>\n",
       "      <td>2015-03-07</td>\n",
       "      <td>15:00:00</td>\n",
       "      <td>Kevin Stott, USA</td>\n",
       "      <td>BC Place Stadium</td>\n",
       "      <td>Vancouver</td>\n",
       "      <td>90.0</td>\n",
       "      <td>8007</td>\n",
       "      <td>1601</td>\n",
       "      <td>Whitecaps</td>\n",
       "      <td>Toronto FC</td>\n",
       "      <td>False</td>\n",
       "      <td>7.0</td>\n",
       "      <td>6.0</td>\n",
       "      <td>13.0</td>\n",
       "      <td>0.0</td>\n",
       "      <td>8.0</td>\n",
       "      <td>5.0</td>\n",
       "      <td>18.0</td>\n",
       "      <td>8.0</td>\n",
       "      <td>2.0</td>\n",
       "      <td>0.51</td>\n",
       "      <td>2.0</td>\n",
       "      <td>0.0</td>\n",
       "      <td>2.0</td>\n",
       "      <td>397.0</td>\n",
       "      <td>294.0</td>\n",
       "      <td>0.74</td>\n",
       "      <td>5.0</td>\n",
       "      <td>4.0</td>\n",
       "      <td>15.0</td>\n",
       "      <td>6.0</td>\n",
       "      <td>6.0</td>\n",
       "      <td>9.0</td>\n",
       "      <td>12.0</td>\n",
       "      <td>2.0</td>\n",
       "      <td>0.0</td>\n",
       "      <td>0.49</td>\n",
       "      <td>1.0</td>\n",
       "      <td>0.0</td>\n",
       "      <td>6.0</td>\n",
       "      <td>397.0</td>\n",
       "      <td>307.0</td>\n",
       "      <td>0.77</td>\n",
       "    </tr>\n",
       "    <tr>\n",
       "      <th>3</th>\n",
       "      <td>2015-03-07</td>\n",
       "      <td>17:30:00</td>\n",
       "      <td>Ted Unkel, USA</td>\n",
       "      <td>Toyota Stadium</td>\n",
       "      <td>Frisco</td>\n",
       "      <td>90.0</td>\n",
       "      <td>1597</td>\n",
       "      <td>1596</td>\n",
       "      <td>FC Dallas</td>\n",
       "      <td>San Jose Earthquakes</td>\n",
       "      <td>True</td>\n",
       "      <td>5.0</td>\n",
       "      <td>6.0</td>\n",
       "      <td>11.0</td>\n",
       "      <td>0.0</td>\n",
       "      <td>7.0</td>\n",
       "      <td>4.0</td>\n",
       "      <td>16.0</td>\n",
       "      <td>5.0</td>\n",
       "      <td>3.0</td>\n",
       "      <td>0.52</td>\n",
       "      <td>1.0</td>\n",
       "      <td>0.0</td>\n",
       "      <td>2.0</td>\n",
       "      <td>369.0</td>\n",
       "      <td>275.0</td>\n",
       "      <td>0.75</td>\n",
       "      <td>2.0</td>\n",
       "      <td>4.0</td>\n",
       "      <td>9.0</td>\n",
       "      <td>3.0</td>\n",
       "      <td>4.0</td>\n",
       "      <td>5.0</td>\n",
       "      <td>15.0</td>\n",
       "      <td>3.0</td>\n",
       "      <td>2.0</td>\n",
       "      <td>0.48</td>\n",
       "      <td>4.0</td>\n",
       "      <td>0.0</td>\n",
       "      <td>3.0</td>\n",
       "      <td>349.0</td>\n",
       "      <td>253.0</td>\n",
       "      <td>0.72</td>\n",
       "    </tr>\n",
       "    <tr>\n",
       "      <th>4</th>\n",
       "      <td>2015-03-07</td>\n",
       "      <td>17:30:00</td>\n",
       "      <td>Allen Chapman, USA</td>\n",
       "      <td>BBVA Compass Stadium</td>\n",
       "      <td>Houston</td>\n",
       "      <td>90.0</td>\n",
       "      <td>1600</td>\n",
       "      <td>1613</td>\n",
       "      <td>Houston Dynamo</td>\n",
       "      <td>Columbus Crew</td>\n",
       "      <td>True</td>\n",
       "      <td>3.0</td>\n",
       "      <td>4.0</td>\n",
       "      <td>0.0</td>\n",
       "      <td>0.0</td>\n",
       "      <td>0.0</td>\n",
       "      <td>0.0</td>\n",
       "      <td>11.0</td>\n",
       "      <td>1.0</td>\n",
       "      <td>1.0</td>\n",
       "      <td>0.41</td>\n",
       "      <td>0.0</td>\n",
       "      <td>0.0</td>\n",
       "      <td>7.0</td>\n",
       "      <td>0.0</td>\n",
       "      <td>0.0</td>\n",
       "      <td>0.00</td>\n",
       "      <td>8.0</td>\n",
       "      <td>7.0</td>\n",
       "      <td>0.0</td>\n",
       "      <td>0.0</td>\n",
       "      <td>0.0</td>\n",
       "      <td>0.0</td>\n",
       "      <td>12.0</td>\n",
       "      <td>6.0</td>\n",
       "      <td>1.0</td>\n",
       "      <td>0.59</td>\n",
       "      <td>2.0</td>\n",
       "      <td>0.0</td>\n",
       "      <td>2.0</td>\n",
       "      <td>0.0</td>\n",
       "      <td>0.0</td>\n",
       "      <td>0.00</td>\n",
       "    </tr>\n",
       "  </tbody>\n",
       "</table>\n",
       "</div>"
      ],
      "text/plain": [
       "      fx_date   fx_time              fx_ref           fx_ven_name  \\\n",
       "0  2015-03-06  19:00:00   Jair Marrufo, USA        StubHub Center   \n",
       "1  2015-03-07  12:00:00    Mark Geiger, USA           RFK Stadium   \n",
       "2  2015-03-07  15:00:00    Kevin Stott, USA      BC Place Stadium   \n",
       "3  2015-03-07  17:30:00      Ted Unkel, USA        Toyota Stadium   \n",
       "4  2015-03-07  17:30:00  Allen Chapman, USA  BBVA Compass Stadium   \n",
       "\n",
       "   fx_ven_city  fx_sts_elps  tm_h_id  tm_a_id           tm_h_name  \\\n",
       "0  Los Angeles         90.0     1605     1607  Los Angeles Galaxy   \n",
       "1   Washington         90.0     1615     1614           DC United   \n",
       "2    Vancouver         90.0     8007     1601           Whitecaps   \n",
       "3       Frisco         90.0     1597     1596           FC Dallas   \n",
       "4      Houston         90.0     1600     1613      Houston Dynamo   \n",
       "\n",
       "              tm_a_name  tm_h_win  h_shots_on_goal  h_shots_off_goal  \\\n",
       "0          Chicago Fire      True              5.0               7.0   \n",
       "1       Montreal Impact      True              4.0               5.0   \n",
       "2            Toronto FC     False              7.0               6.0   \n",
       "3  San Jose Earthquakes      True              5.0               6.0   \n",
       "4         Columbus Crew      True              3.0               4.0   \n",
       "\n",
       "   h_total_shots  h_blocked_shots  h_shots_insidebox  h_shots_outsidebox  \\\n",
       "0           13.0              1.0                8.0                 5.0   \n",
       "1            0.0              0.0                0.0                 0.0   \n",
       "2           13.0              0.0                8.0                 5.0   \n",
       "3           11.0              0.0                7.0                 4.0   \n",
       "4            0.0              0.0                0.0                 0.0   \n",
       "\n",
       "   h_fouls  h_corner_kicks  h_offsides  h_ball_possession  h_yellow_cards  \\\n",
       "0     14.0             4.0         2.0               0.53             1.0   \n",
       "1      6.0             4.0         3.0               0.52             0.0   \n",
       "2     18.0             8.0         2.0               0.51             2.0   \n",
       "3     16.0             5.0         3.0               0.52             1.0   \n",
       "4     11.0             1.0         1.0               0.41             0.0   \n",
       "\n",
       "   h_red_cards  h_goalkeeper_saves  h_total_passes  h_passes_accurate  \\\n",
       "0          0.0                 1.0           465.0              381.0   \n",
       "1          0.0                 3.0             0.0                0.0   \n",
       "2          0.0                 2.0           397.0              294.0   \n",
       "3          0.0                 2.0           369.0              275.0   \n",
       "4          0.0                 7.0             0.0                0.0   \n",
       "\n",
       "   h_passes_%  a_shots_on_goal  a_shots_off_goal  a_total_shots  \\\n",
       "0        0.82              1.0               3.0            8.0   \n",
       "1        0.00              3.0               6.0            0.0   \n",
       "2        0.74              5.0               4.0           15.0   \n",
       "3        0.75              2.0               4.0            9.0   \n",
       "4        0.00              8.0               7.0            0.0   \n",
       "\n",
       "   a_blocked_shots  a_shots_insidebox  a_shots_outsidebox  a_fouls  \\\n",
       "0              4.0                2.0                 6.0     15.0   \n",
       "1              0.0                0.0                 0.0     13.0   \n",
       "2              6.0                6.0                 9.0     12.0   \n",
       "3              3.0                4.0                 5.0     15.0   \n",
       "4              0.0                0.0                 0.0     12.0   \n",
       "\n",
       "   a_corner_kicks  a_offsides  a_ball_possession  a_yellow_cards  a_red_cards  \\\n",
       "0             2.0         2.0               0.47             2.0          0.0   \n",
       "1             4.0         3.0               0.48             0.0          0.0   \n",
       "2             2.0         0.0               0.49             1.0          0.0   \n",
       "3             3.0         2.0               0.48             4.0          0.0   \n",
       "4             6.0         1.0               0.59             2.0          0.0   \n",
       "\n",
       "   a_goalkeeper_saves  a_total_passes  a_passes_accurate  a_passes_%  \n",
       "0                 3.0           427.0              332.0        0.78  \n",
       "1                 2.0             0.0                0.0        0.00  \n",
       "2                 6.0           397.0              307.0        0.77  \n",
       "3                 3.0           349.0              253.0        0.72  \n",
       "4                 2.0             0.0                0.0        0.00  "
      ]
     },
     "execution_count": 27,
     "metadata": {},
     "output_type": "execute_result"
    }
   ],
   "source": [
    "df_h.head()"
   ]
  },
  {
   "cell_type": "code",
   "execution_count": 28,
   "metadata": {
    "ExecuteTime": {
     "end_time": "2021-06-09T23:48:25.385296Z",
     "start_time": "2021-06-09T23:48:25.019074Z"
    },
    "scrolled": true
   },
   "outputs": [
    {
     "ename": "NameError",
     "evalue": "name 'np' is not defined",
     "output_type": "error",
     "traceback": [
      "\u001b[0;31m---------------------------------------------------------------------------\u001b[0m",
      "\u001b[0;31mNameError\u001b[0m                                 Traceback (most recent call last)",
      "\u001b[0;32m<ipython-input-28-67245bae5f80>\u001b[0m in \u001b[0;36m<module>\u001b[0;34m\u001b[0m\n\u001b[1;32m      1\u001b[0m \u001b[0mplt\u001b[0m\u001b[0;34m.\u001b[0m\u001b[0mfigure\u001b[0m\u001b[0;34m(\u001b[0m\u001b[0mfigsize\u001b[0m\u001b[0;34m=\u001b[0m\u001b[0;34m(\u001b[0m\u001b[0;36m5\u001b[0m\u001b[0;34m,\u001b[0m\u001b[0;36m10\u001b[0m\u001b[0;34m)\u001b[0m\u001b[0;34m)\u001b[0m\u001b[0;34m\u001b[0m\u001b[0;34m\u001b[0m\u001b[0m\n\u001b[0;32m----> 2\u001b[0;31m \u001b[0msns\u001b[0m\u001b[0;34m.\u001b[0m\u001b[0mheatmap\u001b[0m\u001b[0;34m(\u001b[0m\u001b[0mdf_h\u001b[0m\u001b[0;34m.\u001b[0m\u001b[0mcorr\u001b[0m\u001b[0;34m(\u001b[0m\u001b[0;34m)\u001b[0m\u001b[0;34m[\u001b[0m\u001b[0;34m[\u001b[0m\u001b[0;34m'tm_h_win'\u001b[0m\u001b[0;34m]\u001b[0m\u001b[0;34m]\u001b[0m\u001b[0;34m.\u001b[0m\u001b[0msort_values\u001b[0m\u001b[0;34m(\u001b[0m\u001b[0mby\u001b[0m \u001b[0;34m=\u001b[0m \u001b[0;34m'tm_h_win'\u001b[0m\u001b[0;34m,\u001b[0m \u001b[0mascending\u001b[0m\u001b[0;34m=\u001b[0m\u001b[0;32mFalse\u001b[0m\u001b[0;34m,\u001b[0m \u001b[0mkey\u001b[0m \u001b[0;34m=\u001b[0m \u001b[0mnp\u001b[0m\u001b[0;34m.\u001b[0m\u001b[0mabs\u001b[0m\u001b[0;34m)\u001b[0m\u001b[0;34m,\u001b[0m \u001b[0mcmap\u001b[0m \u001b[0;34m=\u001b[0m \u001b[0;34m'coolwarm'\u001b[0m\u001b[0;34m,\u001b[0m \u001b[0mvmin\u001b[0m \u001b[0;34m=\u001b[0m \u001b[0;34m-\u001b[0m\u001b[0;36m1\u001b[0m\u001b[0;34m,\u001b[0m \u001b[0mvmax\u001b[0m \u001b[0;34m=\u001b[0m \u001b[0;36m1\u001b[0m\u001b[0;34m,\u001b[0m \u001b[0mannot\u001b[0m \u001b[0;34m=\u001b[0m \u001b[0;32mTrue\u001b[0m\u001b[0;34m)\u001b[0m\u001b[0;34m\u001b[0m\u001b[0;34m\u001b[0m\u001b[0m\n\u001b[0m",
      "\u001b[0;31mNameError\u001b[0m: name 'np' is not defined"
     ]
    },
    {
     "data": {
      "text/plain": [
       "<Figure size 360x720 with 0 Axes>"
      ]
     },
     "metadata": {},
     "output_type": "display_data"
    }
   ],
   "source": [
    "plt.figure(figsize=(5,10))\n",
    "sns.heatmap(df_h.corr()[['tm_h_win']].sort_values(by = 'tm_h_win', ascending=False, key = np.abs), cmap = 'coolwarm', vmin = -1, vmax = 1, annot = True)\n"
   ]
  },
  {
   "cell_type": "code",
   "execution_count": null,
   "metadata": {
    "ExecuteTime": {
     "end_time": "2021-06-09T23:48:25.400652Z",
     "start_time": "2021-06-09T23:48:21.983Z"
    },
    "scrolled": false
   },
   "outputs": [],
   "source": [
    "model_setup_a = pyc.setup(data=df_h, target='tm_h_win', normalize=True, \n",
    "                        remove_multicollinearity=True, multicollinearity_threshold=.75,\n",
    "                          session_id=74)"
   ]
  },
  {
   "cell_type": "code",
   "execution_count": null,
   "metadata": {
    "ExecuteTime": {
     "end_time": "2021-06-09T23:48:25.402263Z",
     "start_time": "2021-06-09T23:48:21.986Z"
    },
    "scrolled": false
   },
   "outputs": [],
   "source": [
    "best_model = pyc.compare_models()"
   ]
  },
  {
   "cell_type": "code",
   "execution_count": null,
   "metadata": {
    "ExecuteTime": {
     "end_time": "2021-06-09T23:48:25.403704Z",
     "start_time": "2021-06-09T23:48:21.988Z"
    }
   },
   "outputs": [],
   "source": [
    "model_lr = pyc.create_model('lr')"
   ]
  },
  {
   "cell_type": "code",
   "execution_count": null,
   "metadata": {},
   "outputs": [],
   "source": []
  },
  {
   "cell_type": "markdown",
   "metadata": {},
   "source": [
    "```\n",
    "[{'day' = 1, teams = {'Sounders':1400,'Red Bulls':1500},\n",
    " {'day' = 2, teams = {'Sounders':1305,'Red Bulls':1605}]\n",
    "\n",
    "{'season':[1,1,1,1,1],\n",
    " 'week':[1,1,1,1,1],\n",
    "'day':[1,2,3,4,5],\n",
    "'sounders':[(1400,played),(1400,played),(1400,didn't play)],\n",
    "'red bulls':[1503,1502,1504,1506,1506]}\n",
    "\n",
    "```"
   ]
  },
  {
   "cell_type": "markdown",
   "metadata": {},
   "source": [
    "  "
   ]
  },
  {
   "cell_type": "markdown",
   "metadata": {},
   "source": [
    "  "
   ]
  },
  {
   "cell_type": "markdown",
   "metadata": {},
   "source": [
    "  "
   ]
  },
  {
   "cell_type": "markdown",
   "metadata": {},
   "source": [
    "  "
   ]
  },
  {
   "cell_type": "markdown",
   "metadata": {},
   "source": [
    "  "
   ]
  }
 ],
 "metadata": {
  "kernelspec": {
   "display_name": "Python 3",
   "language": "python",
   "name": "python3"
  },
  "language_info": {
   "codemirror_mode": {
    "name": "ipython",
    "version": 3
   },
   "file_extension": ".py",
   "mimetype": "text/x-python",
   "name": "python",
   "nbconvert_exporter": "python",
   "pygments_lexer": "ipython3",
   "version": "3.8.5"
  },
  "toc": {
   "base_numbering": 1,
   "nav_menu": {},
   "number_sections": false,
   "sideBar": true,
   "skip_h1_title": false,
   "title_cell": "Table of Contents",
   "title_sidebar": "Contents",
   "toc_cell": false,
   "toc_position": {},
   "toc_section_display": true,
   "toc_window_display": false
  },
  "varInspector": {
   "cols": {
    "lenName": 16,
    "lenType": 16,
    "lenVar": 40
   },
   "kernels_config": {
    "python": {
     "delete_cmd_postfix": "",
     "delete_cmd_prefix": "del ",
     "library": "var_list.py",
     "varRefreshCmd": "print(var_dic_list())"
    },
    "r": {
     "delete_cmd_postfix": ") ",
     "delete_cmd_prefix": "rm(",
     "library": "var_list.r",
     "varRefreshCmd": "cat(var_dic_list()) "
    }
   },
   "types_to_exclude": [
    "module",
    "function",
    "builtin_function_or_method",
    "instance",
    "_Feature"
   ],
   "window_display": false
  }
 },
 "nbformat": 4,
 "nbformat_minor": 4
}
